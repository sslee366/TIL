{
 "cells": [
  {
   "cell_type": "markdown",
   "id": "b3d2923a",
   "metadata": {},
   "source": [
    "## Part 1"
   ]
  },
  {
   "cell_type": "markdown",
   "id": "aee27de5",
   "metadata": {},
   "source": [
    "### 0.절대값 구하기"
   ]
  },
  {
   "cell_type": "code",
   "execution_count": 1,
   "id": "5eceaf79",
   "metadata": {},
   "outputs": [],
   "source": [
    "import math"
   ]
  },
  {
   "cell_type": "code",
   "execution_count": 2,
   "id": "3d2e4a99",
   "metadata": {},
   "outputs": [],
   "source": [
    "def abs_sign(a):\n",
    "    if a >= 0:\n",
    "        return a\n",
    "    else:\n",
    "        return -a"
   ]
  },
  {
   "cell_type": "code",
   "execution_count": 3,
   "id": "debc40ca",
   "metadata": {},
   "outputs": [
    {
     "data": {
      "text/plain": [
       "3"
      ]
     },
     "execution_count": 3,
     "metadata": {},
     "output_type": "execute_result"
    }
   ],
   "source": [
    "abs_sign(-3)"
   ]
  },
  {
   "cell_type": "code",
   "execution_count": 4,
   "id": "5ee0e367",
   "metadata": {},
   "outputs": [
    {
     "data": {
      "text/plain": [
       "10"
      ]
     },
     "execution_count": 4,
     "metadata": {},
     "output_type": "execute_result"
    }
   ],
   "source": [
    "abs_sign(10)"
   ]
  },
  {
   "cell_type": "code",
   "execution_count": 5,
   "id": "11db6ace",
   "metadata": {},
   "outputs": [],
   "source": [
    "def abs_square(a):\n",
    "    a2 = a*a\n",
    "    return math.sqrt(a2)"
   ]
  },
  {
   "cell_type": "code",
   "execution_count": 6,
   "id": "de8047fc",
   "metadata": {},
   "outputs": [
    {
     "data": {
      "text/plain": [
       "4.0"
      ]
     },
     "execution_count": 6,
     "metadata": {},
     "output_type": "execute_result"
    }
   ],
   "source": [
    "abs_square(4)"
   ]
  },
  {
   "cell_type": "code",
   "execution_count": 7,
   "id": "f9d9f345",
   "metadata": {},
   "outputs": [
    {
     "data": {
      "text/plain": [
       "3.0"
      ]
     },
     "execution_count": 7,
     "metadata": {},
     "output_type": "execute_result"
    }
   ],
   "source": [
    "abs_square(-3)"
   ]
  },
  {
   "cell_type": "markdown",
   "id": "45f54f2b",
   "metadata": {},
   "source": [
    "###  문제01. 1부터 n 까지의 합구하기"
   ]
  },
  {
   "cell_type": "code",
   "execution_count": 8,
   "id": "f2134d86",
   "metadata": {},
   "outputs": [],
   "source": [
    "def tot(a):\n",
    "    t = 0\n",
    "    for i in range(1,a+1):\n",
    "        t += i\n",
    "       # print(t,i)\n",
    "    return i"
   ]
  },
  {
   "cell_type": "code",
   "execution_count": 9,
   "id": "8aafa98e",
   "metadata": {},
   "outputs": [
    {
     "data": {
      "text/plain": [
       "10"
      ]
     },
     "execution_count": 9,
     "metadata": {},
     "output_type": "execute_result"
    }
   ],
   "source": [
    "tot(10)"
   ]
  },
  {
   "cell_type": "code",
   "execution_count": 10,
   "id": "f56f202c",
   "metadata": {},
   "outputs": [],
   "source": [
    "def tot2(a):\n",
    "    return a*(a+1)//2"
   ]
  },
  {
   "cell_type": "code",
   "execution_count": 11,
   "id": "e1e688c8",
   "metadata": {},
   "outputs": [
    {
     "data": {
      "text/plain": [
       "55"
      ]
     },
     "execution_count": 11,
     "metadata": {},
     "output_type": "execute_result"
    }
   ],
   "source": [
    "tot2(10)"
   ]
  },
  {
   "cell_type": "markdown",
   "id": "4649096f",
   "metadata": {},
   "source": [
    "#### 1-1 1부터 n 까지 제곱의 합 구하기"
   ]
  },
  {
   "cell_type": "code",
   "execution_count": 12,
   "id": "1555f905",
   "metadata": {},
   "outputs": [],
   "source": [
    "def sqrt(n):\n",
    "    sum = 0\n",
    "    \n",
    "    for i in range(1,n+1):\n",
    "        sum = sum+ (i*i)\n",
    "        print(i, sum)\n",
    "    \n",
    "    return sum "
   ]
  },
  {
   "cell_type": "code",
   "execution_count": 13,
   "id": "7062d048",
   "metadata": {},
   "outputs": [
    {
     "name": "stdout",
     "output_type": "stream",
     "text": [
      "1 1\n",
      "2 5\n",
      "3 14\n",
      "4 30\n",
      "5 55\n",
      "6 91\n",
      "7 140\n",
      "8 204\n",
      "9 285\n",
      "10 385\n"
     ]
    },
    {
     "data": {
      "text/plain": [
       "385"
      ]
     },
     "execution_count": 13,
     "metadata": {},
     "output_type": "execute_result"
    }
   ],
   "source": [
    "sqrt(10)"
   ]
  },
  {
   "cell_type": "code",
   "execution_count": 14,
   "id": "87d58eec",
   "metadata": {},
   "outputs": [],
   "source": [
    "# 1-2 계산복잡도 : n 만큼의 반복 계산이 되므로 O(n)"
   ]
  },
  {
   "cell_type": "code",
   "execution_count": 15,
   "id": "9c9108c2",
   "metadata": {},
   "outputs": [],
   "source": [
    "# 1-3  n(n+1)(2n+1)/6 의 계산 복잡도 : 한번만 수식에 대입하여 구하면 되므로 O(1)"
   ]
  },
  {
   "cell_type": "markdown",
   "id": "cbdf47f6",
   "metadata": {},
   "source": [
    "### 문제02 최댓값 찾기"
   ]
  },
  {
   "cell_type": "code",
   "execution_count": 16,
   "id": "950b59fd",
   "metadata": {},
   "outputs": [],
   "source": [
    "def max(a):\n",
    "    max_v = 0\n",
    "    #print(type(a))\n",
    "    \n",
    "    if isinstance(a, int) | isinstance(a, float) == True:\n",
    "        max_v = a   \n",
    "        return max_v\n",
    "    \n",
    "    elif len(a) == 1:\n",
    "        max_v = a[0]\n",
    "    \n",
    "    else:\n",
    "        for i in range(0, len(a)):\n",
    "            if max_v < a[i]:\n",
    "                max_v = a[i]\n",
    "                \n",
    "    return max_v"
   ]
  },
  {
   "cell_type": "code",
   "execution_count": 17,
   "id": "f5115708",
   "metadata": {},
   "outputs": [
    {
     "data": {
      "text/plain": [
       "5"
      ]
     },
     "execution_count": 17,
     "metadata": {},
     "output_type": "execute_result"
    }
   ],
   "source": [
    "a=[3,4,5]\n",
    "max(a)"
   ]
  },
  {
   "cell_type": "code",
   "execution_count": 18,
   "id": "a374d58a",
   "metadata": {},
   "outputs": [
    {
     "data": {
      "text/plain": [
       "3"
      ]
     },
     "execution_count": 18,
     "metadata": {},
     "output_type": "execute_result"
    }
   ],
   "source": [
    "a=[3]\n",
    "max(a)"
   ]
  },
  {
   "cell_type": "code",
   "execution_count": 19,
   "id": "f2db9de5",
   "metadata": {},
   "outputs": [
    {
     "data": {
      "text/plain": [
       "5"
      ]
     },
     "execution_count": 19,
     "metadata": {},
     "output_type": "execute_result"
    }
   ],
   "source": [
    "a= (3,4,5)\n",
    "max(a)"
   ]
  },
  {
   "cell_type": "code",
   "execution_count": 20,
   "id": "21800349",
   "metadata": {},
   "outputs": [
    {
     "data": {
      "text/plain": [
       "2"
      ]
     },
     "execution_count": 20,
     "metadata": {},
     "output_type": "execute_result"
    }
   ],
   "source": [
    "a=2\n",
    "max(a)"
   ]
  },
  {
   "cell_type": "code",
   "execution_count": 21,
   "id": "f88b2541",
   "metadata": {},
   "outputs": [
    {
     "data": {
      "text/plain": [
       "3.5"
      ]
     },
     "execution_count": 21,
     "metadata": {},
     "output_type": "execute_result"
    }
   ],
   "source": [
    "a=3.5\n",
    "max(a)"
   ]
  },
  {
   "cell_type": "code",
   "execution_count": 22,
   "id": "10912bc4",
   "metadata": {},
   "outputs": [
    {
     "data": {
      "text/plain": [
       "86"
      ]
     },
     "execution_count": 22,
     "metadata": {},
     "output_type": "execute_result"
    }
   ],
   "source": [
    "a=(2,4.8,8,8,8,86)\n",
    "max(a)"
   ]
  },
  {
   "cell_type": "code",
   "execution_count": 23,
   "id": "9c413455",
   "metadata": {},
   "outputs": [
    {
     "name": "stdout",
     "output_type": "stream",
     "text": [
      "92\n"
     ]
    }
   ],
   "source": [
    "v=[17,92,18,33,59,7,33,42]\n",
    "print(max(v))"
   ]
  },
  {
   "cell_type": "code",
   "execution_count": 24,
   "id": "6e6a3c1c",
   "metadata": {},
   "outputs": [],
   "source": [
    "# 최댓값과 최댓값 위치 출력\n",
    "def find_maxid(a):\n",
    "    max_v = 0\n",
    "    max_id = 0\n",
    "    #print(type(a))\n",
    "    \n",
    "    if isinstance(a, int) | isinstance(a, float) == True:\n",
    "        max_v = a   \n",
    "        return max_v, max_id\n",
    "    \n",
    "    elif len(a) == 1:\n",
    "        max_v = a[0]       \n",
    "    \n",
    "    else:\n",
    "        max_v = a[0]    \n",
    "        for i in range(0, len(a)):\n",
    "            if max_v < a[i]:\n",
    "                max_v = a[i]\n",
    "                max_id = i\n",
    "                \n",
    "    return max_v, max_id"
   ]
  },
  {
   "cell_type": "code",
   "execution_count": 25,
   "id": "9cb0f10f",
   "metadata": {},
   "outputs": [
    {
     "name": "stdout",
     "output_type": "stream",
     "text": [
      "(92, 1)\n"
     ]
    }
   ],
   "source": [
    "v=[17,92,18,33,59,7,33,42]\n",
    "print(find_maxid(v))"
   ]
  },
  {
   "cell_type": "code",
   "execution_count": 26,
   "id": "41d26602",
   "metadata": {},
   "outputs": [
    {
     "name": "stdout",
     "output_type": "stream",
     "text": [
      "(59, 4)\n"
     ]
    }
   ],
   "source": [
    "v=[17,-92,18,33,59,-7,33,-42]\n",
    "print(find_maxid(v))"
   ]
  },
  {
   "cell_type": "code",
   "execution_count": 27,
   "id": "e75ffb2a",
   "metadata": {},
   "outputs": [],
   "source": [
    "## 2-1 숫자 n 개를 리스트로 입력박아 최솟값을 구하는 프로그램"
   ]
  },
  {
   "cell_type": "code",
   "execution_count": 28,
   "id": "4e96b848",
   "metadata": {},
   "outputs": [],
   "source": [
    "def min():\n",
    "    min_v = 0\n",
    "    a=[]\n",
    "    #print(type(a))\n",
    "    \n",
    "    a = list(map(int,input('최솟값 찾기를 위한 숫자를 연속해서 입력하시오.(각 숫자간에는 공란)').split()))\n",
    "   # print(a)\n",
    "    \n",
    "    if isinstance(a, int) | isinstance(a, float) == True:\n",
    "        min_v = a   \n",
    "        return min_v\n",
    "    \n",
    "    elif len(a) == 1:\n",
    "        min_v = a[0]\n",
    "    \n",
    "    else:\n",
    "        min_v = a[0]\n",
    "        for i in range(0, len(a)):\n",
    "            if min_v > a[i]:\n",
    "                min_v = a[i]\n",
    "                \n",
    "    return min_v"
   ]
  },
  {
   "cell_type": "code",
   "execution_count": 29,
   "id": "433f315f",
   "metadata": {},
   "outputs": [
    {
     "name": "stdout",
     "output_type": "stream",
     "text": [
      "최솟값 찾기를 위한 숫자를 연속해서 입력하시오.(각 숫자간에는 공란)6 7 4 0 -3\n",
      "-3\n"
     ]
    }
   ],
   "source": [
    "print(min())"
   ]
  },
  {
   "cell_type": "markdown",
   "id": "1d10d003",
   "metadata": {},
   "source": [
    "### 문제03 동명이인 찾기"
   ]
  },
  {
   "cell_type": "code",
   "execution_count": 30,
   "id": "7647f448",
   "metadata": {},
   "outputs": [],
   "source": [
    "import pandas as pd\n",
    "import numpy as np"
   ]
  },
  {
   "cell_type": "code",
   "execution_count": 52,
   "id": "ec871a07",
   "metadata": {},
   "outputs": [],
   "source": [
    "def find_repeat_name(name):\n",
    "    result=[]\n",
    "    s_name=pd.Series(name)\n",
    "    #print(s_name)\n",
    "    \n",
    "    df = pd.DataFrame(s_name.value_counts().sort_values(ascending=False),columns = ['freq']).reset_index()\n",
    "    df.rename(columns = {'index': 'name'}, inplace = True)\n",
    "    \n",
    "    #df[df['freq'] > 1].name\n",
    "    \n",
    "    result= list(df[df['freq'] > 1].name)\n",
    "    return set(result)\n",
    "    "
   ]
  },
  {
   "cell_type": "code",
   "execution_count": 53,
   "id": "ac890d91",
   "metadata": {},
   "outputs": [],
   "source": [
    "name = ['Tom', 'Jerry', 'Mike', 'Tom']"
   ]
  },
  {
   "cell_type": "code",
   "execution_count": 54,
   "id": "972917a9",
   "metadata": {},
   "outputs": [
    {
     "data": {
      "text/plain": [
       "{'Tom'}"
      ]
     },
     "execution_count": 54,
     "metadata": {},
     "output_type": "execute_result"
    }
   ],
   "source": [
    "find_repeat_name(name)"
   ]
  },
  {
   "cell_type": "code",
   "execution_count": 55,
   "id": "d569a600",
   "metadata": {},
   "outputs": [
    {
     "data": {
      "text/plain": [
       "{'Jerry', 'Mike', 'Tom'}"
      ]
     },
     "execution_count": 55,
     "metadata": {},
     "output_type": "execute_result"
    }
   ],
   "source": [
    "name = ['Tom', 'Jerry', 'Mike', 'Tom','Tom','Jerry','Mike','DrWill']\n",
    "find_repeat_name(name)"
   ]
  },
  {
   "cell_type": "code",
   "execution_count": 56,
   "id": "1af78577",
   "metadata": {},
   "outputs": [],
   "source": [
    "## 3-1 두명을 뽑아 짝짓기"
   ]
  },
  {
   "cell_type": "code",
   "execution_count": 59,
   "id": "c54f1e5b",
   "metadata": {},
   "outputs": [],
   "source": [
    "def find_repeat_name(name):\n",
    "    result=[]\n",
    "    s_name=pd.Series(name)\n",
    "    #print(s_name)\n",
    "    \n",
    "    df = pd.DataFrame(s_name.value_counts().sort_values(ascending=False),columns = ['freq']).reset_index()\n",
    "    df.rename(columns = {'index': 'name'}, inplace = True)\n",
    "    \n",
    "    result= list(df['name'])\n",
    "    \n",
    "    return result  # 1개 이상의 이름만을 추출\n",
    "\n",
    "def pair(result):\n",
    "    n=len(result)\n",
    "    for i in range(0, n-1):\n",
    "        for j in range(i+1,n):\n",
    "            print(result[i], \"-\", result[j])\n",
    "        "
   ]
  },
  {
   "cell_type": "code",
   "execution_count": 60,
   "id": "17b09750",
   "metadata": {},
   "outputs": [
    {
     "name": "stdout",
     "output_type": "stream",
     "text": [
      "Tom - Jerry\n",
      "Tom - Mike\n",
      "Tom - DrWill\n",
      "Jerry - Mike\n",
      "Jerry - DrWill\n",
      "Mike - DrWill\n"
     ]
    }
   ],
   "source": [
    "pair(find_repeat_name(name))   "
   ]
  },
  {
   "cell_type": "code",
   "execution_count": null,
   "id": "62d8f17d",
   "metadata": {},
   "outputs": [],
   "source": []
  }
 ],
 "metadata": {
  "kernelspec": {
   "display_name": "Python 3 (ipykernel)",
   "language": "python",
   "name": "python3"
  },
  "language_info": {
   "codemirror_mode": {
    "name": "ipython",
    "version": 3
   },
   "file_extension": ".py",
   "mimetype": "text/x-python",
   "name": "python",
   "nbconvert_exporter": "python",
   "pygments_lexer": "ipython3",
   "version": "3.9.12"
  }
 },
 "nbformat": 4,
 "nbformat_minor": 5
}
