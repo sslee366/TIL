{
 "cells": [
  {
   "cell_type": "markdown",
   "id": "f70634f5",
   "metadata": {},
   "source": [
    "### 문제04 팩토리얼 구하기"
   ]
  },
  {
   "cell_type": "code",
   "execution_count": 1,
   "id": "fbe75d54",
   "metadata": {},
   "outputs": [],
   "source": [
    "import pandas as pd\n",
    "import numpy as np"
   ]
  },
  {
   "cell_type": "code",
   "execution_count": 21,
   "id": "c2aab5df",
   "metadata": {},
   "outputs": [],
   "source": [
    "def fact(n):\n",
    "    f = 1\n",
    "\n",
    "    if n <= 1: \n",
    "        return f\n",
    "    else:\n",
    "        for i in range(1,n+1):\n",
    "            f = f*i\n",
    "    return f"
   ]
  },
  {
   "cell_type": "code",
   "execution_count": 22,
   "id": "b1006d98",
   "metadata": {},
   "outputs": [
    {
     "data": {
      "text/plain": [
       "1"
      ]
     },
     "execution_count": 22,
     "metadata": {},
     "output_type": "execute_result"
    }
   ],
   "source": [
    "fact(1)"
   ]
  },
  {
   "cell_type": "code",
   "execution_count": 23,
   "id": "8ee71d90",
   "metadata": {},
   "outputs": [
    {
     "data": {
      "text/plain": [
       "24"
      ]
     },
     "execution_count": 23,
     "metadata": {},
     "output_type": "execute_result"
    }
   ],
   "source": [
    "fact(4)"
   ]
  },
  {
   "cell_type": "code",
   "execution_count": 24,
   "id": "3cf712d0",
   "metadata": {},
   "outputs": [],
   "source": [
    "def fact2(n):\n",
    "    \n",
    "    if n <= 1:\n",
    "        return 1\n",
    "        \n",
    "    return n*fact2(n-1)"
   ]
  },
  {
   "cell_type": "code",
   "execution_count": 25,
   "id": "863b9f7f",
   "metadata": {},
   "outputs": [
    {
     "data": {
      "text/plain": [
       "1"
      ]
     },
     "execution_count": 25,
     "metadata": {},
     "output_type": "execute_result"
    }
   ],
   "source": [
    "fact2(1)"
   ]
  },
  {
   "cell_type": "code",
   "execution_count": 26,
   "id": "70a6d3a1",
   "metadata": {},
   "outputs": [
    {
     "data": {
      "text/plain": [
       "24"
      ]
     },
     "execution_count": 26,
     "metadata": {},
     "output_type": "execute_result"
    }
   ],
   "source": [
    "fact2(4)"
   ]
  },
  {
   "cell_type": "code",
   "execution_count": 27,
   "id": "41098c20",
   "metadata": {},
   "outputs": [
    {
     "data": {
      "text/plain": [
       "3628800"
      ]
     },
     "execution_count": 27,
     "metadata": {},
     "output_type": "execute_result"
    }
   ],
   "source": [
    "fact(10)"
   ]
  },
  {
   "cell_type": "code",
   "execution_count": null,
   "id": "b838d41f",
   "metadata": {},
   "outputs": [],
   "source": [
    "## 4-1 재귀호출을 이용해 1~n까지 합 구하기"
   ]
  },
  {
   "cell_type": "code",
   "execution_count": 28,
   "id": "bbfeb7d0",
   "metadata": {},
   "outputs": [],
   "source": [
    "def sum(n):\n",
    "    \n",
    "    if n < 1:\n",
    "        return 0\n",
    "        \n",
    "    return n+sum(n-1)"
   ]
  },
  {
   "cell_type": "code",
   "execution_count": 29,
   "id": "77be8cf5",
   "metadata": {},
   "outputs": [
    {
     "data": {
      "text/plain": [
       "1"
      ]
     },
     "execution_count": 29,
     "metadata": {},
     "output_type": "execute_result"
    }
   ],
   "source": [
    "sum(1)"
   ]
  },
  {
   "cell_type": "code",
   "execution_count": 30,
   "id": "3c69c245",
   "metadata": {},
   "outputs": [
    {
     "data": {
      "text/plain": [
       "0"
      ]
     },
     "execution_count": 30,
     "metadata": {},
     "output_type": "execute_result"
    }
   ],
   "source": [
    "sum(0)"
   ]
  },
  {
   "cell_type": "code",
   "execution_count": 32,
   "id": "40c274e6",
   "metadata": {},
   "outputs": [
    {
     "data": {
      "text/plain": [
       "55"
      ]
     },
     "execution_count": 32,
     "metadata": {},
     "output_type": "execute_result"
    }
   ],
   "source": [
    "sum(10)"
   ]
  },
  {
   "cell_type": "code",
   "execution_count": 33,
   "id": "f1bfb94a",
   "metadata": {},
   "outputs": [
    {
     "data": {
      "text/plain": [
       "5050"
      ]
     },
     "execution_count": 33,
     "metadata": {},
     "output_type": "execute_result"
    }
   ],
   "source": [
    "sum(100)"
   ]
  },
  {
   "cell_type": "code",
   "execution_count": null,
   "id": "9309f37f",
   "metadata": {},
   "outputs": [],
   "source": [
    "## 4-2 재귀호출을 이용해 최댓값 구하기"
   ]
  },
  {
   "cell_type": "code",
   "execution_count": 75,
   "id": "a439e853",
   "metadata": {},
   "outputs": [],
   "source": [
    "def find_max(a,n):\n",
    "    \n",
    "    if n <= 1:\n",
    "        return a[0]\n",
    "        \n",
    "    max_n_1 = find_max(a, n-1) # 재귀문을 처리하면서, a[0] 과 a[1] 을 비교하고, n이 증가하면서 재귀루틴이 풀림\n",
    "    \n",
    "    if max_n_1 > a[n-1]:\n",
    "        return max_n_1\n",
    "    else:\n",
    "        return a[n-1]\n"
   ]
  },
  {
   "cell_type": "code",
   "execution_count": 76,
   "id": "8c8fedd8",
   "metadata": {},
   "outputs": [
    {
     "data": {
      "text/plain": [
       "6"
      ]
     },
     "execution_count": 76,
     "metadata": {},
     "output_type": "execute_result"
    }
   ],
   "source": [
    "a=[5,6,7,2,4,7]\n",
    "len(a)"
   ]
  },
  {
   "cell_type": "code",
   "execution_count": 77,
   "id": "ef27fe42",
   "metadata": {},
   "outputs": [
    {
     "data": {
      "text/plain": [
       "7"
      ]
     },
     "execution_count": 77,
     "metadata": {},
     "output_type": "execute_result"
    }
   ],
   "source": [
    "find_max(a, len(a))"
   ]
  },
  {
   "cell_type": "code",
   "execution_count": 79,
   "id": "7eddaf64",
   "metadata": {},
   "outputs": [
    {
     "data": {
      "text/plain": [
       "92"
      ]
     },
     "execution_count": 79,
     "metadata": {},
     "output_type": "execute_result"
    }
   ],
   "source": [
    "v=[17,92,33,58,7,33,42]\n",
    "find_max(v, len(v))"
   ]
  },
  {
   "cell_type": "markdown",
   "id": "033b8253",
   "metadata": {},
   "source": [
    "### 문자05 최대공약수 구하기"
   ]
  },
  {
   "cell_type": "code",
   "execution_count": 82,
   "id": "8db691f4",
   "metadata": {},
   "outputs": [],
   "source": [
    "def gcd(a,b):\n",
    "    i=min(a,b)\n",
    "    while True:\n",
    "        if a% i == 0 and b % i == 0: #몫이 0일 경우\n",
    "            return i\n",
    "        i = i - 1 "
   ]
  },
  {
   "cell_type": "code",
   "execution_count": 87,
   "id": "1a0a256e",
   "metadata": {},
   "outputs": [
    {
     "name": "stdout",
     "output_type": "stream",
     "text": [
      "1\n",
      "1\n",
      "13\n",
      "27\n"
     ]
    }
   ],
   "source": [
    "print(gcd(1,5))\n",
    "print(gcd(13, 2))\n",
    "print(gcd(13, 26))\n",
    "print(gcd(81,27))"
   ]
  },
  {
   "cell_type": "code",
   "execution_count": 113,
   "id": "4d526952",
   "metadata": {},
   "outputs": [],
   "source": [
    "# 0 이 입력되었을 때를 고려\n",
    "def gcd(a,b):\n",
    "    i=min(a,b)\n",
    "    if i==0 and a == 0:\n",
    "        return b\n",
    "    \n",
    "    if i==0 and b== 0:\n",
    "        return a    \n",
    "    \n",
    "    while True:\n",
    "        if a% i == 0 and b % i == 0: #몫이 0일 경우\n",
    "            return i\n",
    "        i = i - 1 "
   ]
  },
  {
   "cell_type": "code",
   "execution_count": 115,
   "id": "a51808a6",
   "metadata": {},
   "outputs": [
    {
     "name": "stdout",
     "output_type": "stream",
     "text": [
      "1\n",
      "1\n",
      "13\n",
      "27\n"
     ]
    }
   ],
   "source": [
    "print(gcd(5,1%5))\n",
    "print(gcd(2, 13%2))\n",
    "print(gcd(26, 13%26))\n",
    "print(gcd(27, 81%27))"
   ]
  },
  {
   "cell_type": "code",
   "execution_count": 116,
   "id": "a63692b9",
   "metadata": {},
   "outputs": [],
   "source": [
    "# 유클리드 방식으로 풀기\n",
    "def gcd2(a,b):\n",
    "   \n",
    "    if b == 0:\n",
    "        return a     \n",
    "    return gcd2(b, a%b)"
   ]
  },
  {
   "cell_type": "code",
   "execution_count": 118,
   "id": "3b32ae73",
   "metadata": {},
   "outputs": [
    {
     "name": "stdout",
     "output_type": "stream",
     "text": [
      "1\n",
      "1\n",
      "13\n",
      "27\n"
     ]
    }
   ],
   "source": [
    "print(gcd2(1,5))\n",
    "print(gcd2(13, 2))\n",
    "print(gcd2(13, 26))\n",
    "print(gcd2(81,27))"
   ]
  },
  {
   "cell_type": "code",
   "execution_count": 119,
   "id": "3fb26d8f",
   "metadata": {},
   "outputs": [],
   "source": [
    "## 05 피보나치 수열 구하기"
   ]
  },
  {
   "cell_type": "code",
   "execution_count": 122,
   "id": "d1be6dd2",
   "metadata": {},
   "outputs": [],
   "source": [
    "def fibo(n):\n",
    "    \n",
    "    if n <= 1:\n",
    "        return n\n",
    "    \n",
    "    return fibo(n-2) + fibo(n-1)"
   ]
  },
  {
   "cell_type": "code",
   "execution_count": 123,
   "id": "c1b2d6ad",
   "metadata": {},
   "outputs": [
    {
     "name": "stdout",
     "output_type": "stream",
     "text": [
      "13\n",
      "55\n"
     ]
    }
   ],
   "source": [
    "print(fibo(7))\n",
    "print(fibo(10))"
   ]
  },
  {
   "cell_type": "markdown",
   "id": "3747d435",
   "metadata": {},
   "source": [
    "### 문제06 하노이의 탑 옮기기"
   ]
  },
  {
   "cell_type": "code",
   "execution_count": 133,
   "id": "d6711d4d",
   "metadata": {},
   "outputs": [],
   "source": [
    "def hano(n, from_pos, to_pos, aux_pos):\n",
    "    if n == 1:\n",
    "        print(from_pos, \"->\", to_pos)\n",
    "        return\n",
    "    \n",
    "    hano(n-1, from_pos, aux_pos, to_pos)\n",
    "    \n",
    "    print(from_pos, \"->\", to_pos)\n",
    "    \n",
    "    hano(n-1, aux_pos, to_pos, from_pos)"
   ]
  },
  {
   "cell_type": "code",
   "execution_count": 134,
   "id": "d6b52cf8",
   "metadata": {},
   "outputs": [
    {
     "name": "stdout",
     "output_type": "stream",
     "text": [
      "1 -> 3\n"
     ]
    }
   ],
   "source": [
    "hano(1,1,3,2)"
   ]
  },
  {
   "cell_type": "code",
   "execution_count": 135,
   "id": "f17caac2",
   "metadata": {},
   "outputs": [
    {
     "name": "stdout",
     "output_type": "stream",
     "text": [
      "1 -> 2\n",
      "1 -> 3\n",
      "2 -> 3\n"
     ]
    }
   ],
   "source": [
    "hano(2,1,3,2)"
   ]
  },
  {
   "cell_type": "code",
   "execution_count": 136,
   "id": "f780f97a",
   "metadata": {},
   "outputs": [
    {
     "name": "stdout",
     "output_type": "stream",
     "text": [
      "1 -> 3\n",
      "1 -> 2\n",
      "3 -> 2\n",
      "1 -> 3\n",
      "2 -> 1\n",
      "2 -> 3\n",
      "1 -> 3\n"
     ]
    }
   ],
   "source": [
    "hano(3,1,3,2)"
   ]
  },
  {
   "cell_type": "code",
   "execution_count": 137,
   "id": "ff80ddc9",
   "metadata": {},
   "outputs": [
    {
     "name": "stdout",
     "output_type": "stream",
     "text": [
      "1 -> 2\n",
      "1 -> 3\n",
      "2 -> 3\n",
      "1 -> 2\n",
      "3 -> 1\n",
      "3 -> 2\n",
      "1 -> 2\n",
      "1 -> 3\n",
      "2 -> 3\n",
      "2 -> 1\n",
      "3 -> 1\n",
      "2 -> 3\n",
      "1 -> 2\n",
      "1 -> 3\n",
      "2 -> 3\n"
     ]
    }
   ],
   "source": [
    "hano(4,1,3,2)"
   ]
  },
  {
   "cell_type": "code",
   "execution_count": null,
   "id": "e81080e2",
   "metadata": {},
   "outputs": [],
   "source": []
  }
 ],
 "metadata": {
  "kernelspec": {
   "display_name": "Python 3 (ipykernel)",
   "language": "python",
   "name": "python3"
  },
  "language_info": {
   "codemirror_mode": {
    "name": "ipython",
    "version": 3
   },
   "file_extension": ".py",
   "mimetype": "text/x-python",
   "name": "python",
   "nbconvert_exporter": "python",
   "pygments_lexer": "ipython3",
   "version": "3.9.12"
  }
 },
 "nbformat": 4,
 "nbformat_minor": 5
}
