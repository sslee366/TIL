{
 "cells": [
  {
   "cell_type": "markdown",
   "id": "e6e88525",
   "metadata": {},
   "source": [
    "### 문제07 순차탐색"
   ]
  },
  {
   "cell_type": "code",
   "execution_count": 2,
   "id": "f4ec1691",
   "metadata": {},
   "outputs": [],
   "source": [
    "def search_list(a,x):\n",
    "    n=len(a)\n",
    "    for i in range(0,n):\n",
    "        if x == a[i]:\n",
    "            return i\n",
    "    return -1"
   ]
  },
  {
   "cell_type": "code",
   "execution_count": 3,
   "id": "de2e7fb1",
   "metadata": {},
   "outputs": [],
   "source": [
    "v=[17,92,18,33,58,7,33,42]"
   ]
  },
  {
   "cell_type": "code",
   "execution_count": 4,
   "id": "7b595208",
   "metadata": {},
   "outputs": [
    {
     "name": "stdout",
     "output_type": "stream",
     "text": [
      "2\n"
     ]
    }
   ],
   "source": [
    "print(search_list(v,18))"
   ]
  },
  {
   "cell_type": "code",
   "execution_count": 5,
   "id": "19c4a648",
   "metadata": {},
   "outputs": [
    {
     "name": "stdout",
     "output_type": "stream",
     "text": [
      "3\n",
      "-1\n"
     ]
    }
   ],
   "source": [
    "print(search_list(v,33))\n",
    "print(search_list(v,900))"
   ]
  },
  {
   "cell_type": "code",
   "execution_count": null,
   "id": "e7fdfbec",
   "metadata": {},
   "outputs": [],
   "source": [
    "# 7-1 첫번째 위치만 결과로 돌려주는 탐색 알고리즘"
   ]
  },
  {
   "cell_type": "code",
   "execution_count": 8,
   "id": "67f96efe",
   "metadata": {},
   "outputs": [],
   "source": [
    "def search_list2(a,x):\n",
    "    n=len(a)\n",
    "    result=[]\n",
    "    for i in range(0,n):\n",
    "        if x == a[i]:\n",
    "            result.append(i)\n",
    "    return result"
   ]
  },
  {
   "cell_type": "code",
   "execution_count": 9,
   "id": "4092bf35",
   "metadata": {},
   "outputs": [
    {
     "name": "stdout",
     "output_type": "stream",
     "text": [
      "[2]\n",
      "[3, 6]\n",
      "[]\n"
     ]
    }
   ],
   "source": [
    "v=[17,92,18,33,58,7,33,42]\n",
    "\n",
    "print(search_list2(v,18))\n",
    "print(search_list2(v,33))\n",
    "print(search_list2(v,900))"
   ]
  },
  {
   "cell_type": "code",
   "execution_count": null,
   "id": "07c5449e",
   "metadata": {},
   "outputs": [],
   "source": [
    "# 7-2 : O(n)"
   ]
  },
  {
   "cell_type": "code",
   "execution_count": null,
   "id": "5d03013a",
   "metadata": {},
   "outputs": [],
   "source": [
    "# 7-3 학생 번호와 이름을 매치시키는 탐색 알고리즘"
   ]
  },
  {
   "cell_type": "code",
   "execution_count": 27,
   "id": "c57a4fc8",
   "metadata": {},
   "outputs": [],
   "source": [
    "def find_name(n, stu_no, stu_name):\n",
    "\n",
    "    for i in range(0, len(stu_no)):\n",
    "        if n == stu_no[i]:\n",
    "            return stu_name[i]\n",
    "    return '해당 학생이 없습니다.'"
   ]
  },
  {
   "cell_type": "code",
   "execution_count": 28,
   "id": "d5d94366",
   "metadata": {},
   "outputs": [],
   "source": [
    "stu_no=[39,14,67,105]\n",
    "stu_name=['Justin','John','Mike','Summer']"
   ]
  },
  {
   "cell_type": "code",
   "execution_count": 29,
   "id": "824f85ff",
   "metadata": {},
   "outputs": [
    {
     "data": {
      "text/plain": [
       "'Justin'"
      ]
     },
     "execution_count": 29,
     "metadata": {},
     "output_type": "execute_result"
    }
   ],
   "source": [
    "find_name(n,stu_no, stu_name)"
   ]
  },
  {
   "cell_type": "code",
   "execution_count": 30,
   "id": "42905efc",
   "metadata": {},
   "outputs": [],
   "source": [
    "def  in_n( ):\n",
    "    n=0\n",
    "    while True:\n",
    "        n= int(input('찾고자 하는 학생번호를 입력하여 주세요(종료:0)'))\n",
    "        \n",
    "        if n == 0:\n",
    "            return '탐색을 마칩니다.'\n",
    "        \n",
    "        print(find_name(n,stu_no, stu_name))\n",
    "        "
   ]
  },
  {
   "cell_type": "code",
   "execution_count": 31,
   "id": "6d0cf457",
   "metadata": {},
   "outputs": [
    {
     "name": "stdout",
     "output_type": "stream",
     "text": [
      "찾고자 하는 학생번호를 입력하여 주세요(종료:0)39\n",
      "Justin\n",
      "찾고자 하는 학생번호를 입력하여 주세요(종료:0)67\n",
      "Mike\n",
      "찾고자 하는 학생번호를 입력하여 주세요(종료:0)105\n",
      "Summer\n",
      "찾고자 하는 학생번호를 입력하여 주세요(종료:0)67\n",
      "Mike\n",
      "찾고자 하는 학생번호를 입력하여 주세요(종료:0)99\n",
      "해당 학생이 없습니다.\n",
      "찾고자 하는 학생번호를 입력하여 주세요(종료:0)0\n"
     ]
    },
    {
     "data": {
      "text/plain": [
       "'탐색을 마칩니다.'"
      ]
     },
     "execution_count": 31,
     "metadata": {},
     "output_type": "execute_result"
    }
   ],
   "source": [
    "in_n()"
   ]
  },
  {
   "cell_type": "markdown",
   "id": "19e8aa05",
   "metadata": {},
   "source": [
    "### 문제08 선택 정렬"
   ]
  },
  {
   "cell_type": "code",
   "execution_count": 32,
   "id": "2d5407a6",
   "metadata": {},
   "outputs": [],
   "source": [
    "import numpy as np"
   ]
  },
  {
   "cell_type": "code",
   "execution_count": 39,
   "id": "d7431d40",
   "metadata": {},
   "outputs": [],
   "source": [
    "# 오름차순\n",
    "\n",
    "def sort_n(a):\n",
    "    s_n = np.array(a)\n",
    "    return list(np.sort(s_n))"
   ]
  },
  {
   "cell_type": "code",
   "execution_count": 42,
   "id": "f10d35f8",
   "metadata": {},
   "outputs": [
    {
     "name": "stdout",
     "output_type": "stream",
     "text": [
      "원하는 숫자를 입력하세요. 숫자간은 공란으로 구분하세요\n",
      "5 6 7 8 10 33 99 66 44 22\n"
     ]
    },
    {
     "data": {
      "text/plain": [
       "[5, 6, 7, 8, 10, 22, 33, 44, 66, 99]"
      ]
     },
     "execution_count": 42,
     "metadata": {},
     "output_type": "execute_result"
    }
   ],
   "source": [
    "sort_n(list(map(int,input('원하는 숫자를 입력하세요. 숫자간은 공란으로 구분하세요\\n').split())))"
   ]
  },
  {
   "cell_type": "code",
   "execution_count": 45,
   "id": "5f9e3473",
   "metadata": {},
   "outputs": [],
   "source": [
    "# 내림차순\n",
    "\n",
    "def sort_d_n(a):\n",
    "    s_n = np.array(a)\n",
    "    return list(np.sort(s_n)[::-1])"
   ]
  },
  {
   "cell_type": "code",
   "execution_count": 47,
   "id": "adfcc0eb",
   "metadata": {},
   "outputs": [
    {
     "name": "stdout",
     "output_type": "stream",
     "text": [
      "원하는 숫자를 입력하세요. 숫자간은 공란으로 구분하세요\n",
      "5 6 7 8 10 33 99 66 44 22\n"
     ]
    },
    {
     "data": {
      "text/plain": [
       "[99, 66, 44, 33, 22, 10, 8, 7, 6, 5]"
      ]
     },
     "execution_count": 47,
     "metadata": {},
     "output_type": "execute_result"
    }
   ],
   "source": [
    "sort_d_n(list(map(int,input('원하는 숫자를 입력하세요. 숫자간은 공란으로 구분하세요\\n').split())))"
   ]
  },
  {
   "cell_type": "code",
   "execution_count": 3,
   "id": "03bc1607",
   "metadata": {},
   "outputs": [
    {
     "data": {
      "text/plain": [
       "[1, 5, 6, 7, 7, 10, 22, 33]"
      ]
     },
     "execution_count": 3,
     "metadata": {},
     "output_type": "execute_result"
    }
   ],
   "source": [
    "a=[5,6,7,10,22,33,1,7]\n",
    "a.sort()\n",
    "a"
   ]
  },
  {
   "cell_type": "code",
   "execution_count": 4,
   "id": "fd12705c",
   "metadata": {},
   "outputs": [
    {
     "data": {
      "text/plain": [
       "[1, 5, 6, 7, 7, 10, 22, 33]"
      ]
     },
     "execution_count": 4,
     "metadata": {},
     "output_type": "execute_result"
    }
   ],
   "source": [
    "sorted(a)"
   ]
  },
  {
   "cell_type": "code",
   "execution_count": null,
   "id": "b3ea6b7c",
   "metadata": {},
   "outputs": [],
   "source": []
  }
 ],
 "metadata": {
  "kernelspec": {
   "display_name": "Python 3 (ipykernel)",
   "language": "python",
   "name": "python3"
  },
  "language_info": {
   "codemirror_mode": {
    "name": "ipython",
    "version": 3
   },
   "file_extension": ".py",
   "mimetype": "text/x-python",
   "name": "python",
   "nbconvert_exporter": "python",
   "pygments_lexer": "ipython3",
   "version": "3.9.12"
  }
 },
 "nbformat": 4,
 "nbformat_minor": 5
}
