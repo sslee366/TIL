{
  "nbformat": 4,
  "nbformat_minor": 0,
  "metadata": {
    "colab": {
      "name": "02-4_딕셔너리.ipynb",
      "provenance": [],
      "collapsed_sections": []
    },
    "kernelspec": {
      "name": "python3",
      "display_name": "Python 3"
    },
    "language_info": {
      "name": "python"
    }
  },
  "cells": [
    {
      "cell_type": "code",
      "execution_count": null,
      "metadata": {
        "id": "nhnG-sGAWgKU"
      },
      "outputs": [],
      "source": [
        "#dictionary\n",
        "# {key1:value1,key2:value2,key3:value3,...}\n",
        "\n",
        "# dict(zip(keys,values))를  사용할 때, keys와 values 는 tuple, list 모두 가능\n",
        "# 동일한 key값과 value 의 쌍 ('a':1) 이 있을 경우, 하나는 없어짐 \n",
        "# 동일한 key값에 다른 value 값이  정의되면 마지막 값만 남음"
      ]
    },
    {
      "cell_type": "code",
      "source": [
        "dic = {'name':'pey','phone':'01199993323','birth':'1118'}\n",
        "dic"
      ],
      "metadata": {
        "colab": {
          "base_uri": "https://localhost:8080/"
        },
        "id": "hWJlwoPvW-HB",
        "outputId": "2e82f3f6-057f-4627-e575-19dbd126d834"
      },
      "execution_count": null,
      "outputs": [
        {
          "output_type": "execute_result",
          "data": {
            "text/plain": [
              "{'birth': '1118', 'name': 'pey', 'phone': '01199993323'}"
            ]
          },
          "metadata": {},
          "execution_count": 1
        }
      ]
    },
    {
      "cell_type": "code",
      "source": [
        "a={1:'hi'}\n"
      ],
      "metadata": {
        "colab": {
          "base_uri": "https://localhost:8080/"
        },
        "id": "N1S9-2IYXjyy",
        "outputId": "74a9bf59-04b9-4fa7-8b05-b1699696c3ef"
      },
      "execution_count": null,
      "outputs": [
        {
          "output_type": "execute_result",
          "data": {
            "text/plain": [
              "{1: 'hi'}"
            ]
          },
          "metadata": {},
          "execution_count": 3
        }
      ]
    },
    {
      "cell_type": "code",
      "source": [
        "#값(value)에 리스트형태로 입력 가능\n",
        "a={'a':[1,2,3]}\n",
        "a"
      ],
      "metadata": {
        "colab": {
          "base_uri": "https://localhost:8080/"
        },
        "id": "HJ4ION5gXp45",
        "outputId": "1ec9d382-9baf-42da-c10e-e9884cd4cfb1"
      },
      "execution_count": null,
      "outputs": [
        {
          "output_type": "execute_result",
          "data": {
            "text/plain": [
              "{'a': [1, 2, 3]}"
            ]
          },
          "metadata": {},
          "execution_count": 4
        }
      ]
    },
    {
      "cell_type": "code",
      "source": [
        "#추가\n",
        "#key 값의 오름차순으로 추가된다.\n",
        "# 예를 들어, 아래 문장처럼, 문자('a')는 숫자(2)보다 크다. 따라서 앞쪽에 새로 추가하는 '2' 가 들어간다. \n",
        "a[2]='b'\n",
        "a"
      ],
      "metadata": {
        "colab": {
          "base_uri": "https://localhost:8080/"
        },
        "id": "Bg9cKa9tX398",
        "outputId": "433fb49c-726e-4cf7-cc6e-c40336f2e798"
      },
      "execution_count": null,
      "outputs": [
        {
          "output_type": "execute_result",
          "data": {
            "text/plain": [
              "{2: 'b', 'a': [1, 2, 3]}"
            ]
          },
          "metadata": {},
          "execution_count": 5
        }
      ]
    },
    {
      "cell_type": "code",
      "source": [
        "x={1:'a'}\n",
        "x"
      ],
      "metadata": {
        "colab": {
          "base_uri": "https://localhost:8080/"
        },
        "id": "dRT9Po8bYZWN",
        "outputId": "b9fc16ae-c87d-4685-e335-42d0ecc77274"
      },
      "execution_count": null,
      "outputs": [
        {
          "output_type": "execute_result",
          "data": {
            "text/plain": [
              "{1: 'a'}"
            ]
          },
          "metadata": {},
          "execution_count": 6
        }
      ]
    },
    {
      "cell_type": "code",
      "source": [
        "# 아래의 예에서는 숫자(2)는 숫자(1) 보다 크므로 뒷부분에 추가되고 숫자(0)은 앞쪽에 추가된다.\n",
        "[2]='b' \n",
        "x"
      ],
      "metadata": {
        "colab": {
          "base_uri": "https://localhost:8080/"
        },
        "id": "t8idOhHTYdTP",
        "outputId": "a26468b1-35c7-4356-8bb2-27f74ec71ba0"
      },
      "execution_count": null,
      "outputs": [
        {
          "output_type": "execute_result",
          "data": {
            "text/plain": [
              "{1: 'a', 2: 'b'}"
            ]
          },
          "metadata": {},
          "execution_count": 8
        }
      ]
    },
    {
      "cell_type": "code",
      "source": [
        "x[0]='z'\n",
        "x"
      ],
      "metadata": {
        "colab": {
          "base_uri": "https://localhost:8080/"
        },
        "id": "1rAFl7XbYqLW",
        "outputId": "8af7afd7-b0d5-4df7-860f-2f03dae3d8ea"
      },
      "execution_count": null,
      "outputs": [
        {
          "output_type": "execute_result",
          "data": {
            "text/plain": [
              "{0: 'z', 1: 'a', 2: 'b'}"
            ]
          },
          "metadata": {},
          "execution_count": 10
        }
      ]
    },
    {
      "cell_type": "code",
      "source": [
        "#삭제\n",
        "x"
      ],
      "metadata": {
        "colab": {
          "base_uri": "https://localhost:8080/"
        },
        "id": "Y78GXvyoZzpS",
        "outputId": "39288ce9-d197-410c-fc21-60671832ec2a"
      },
      "execution_count": null,
      "outputs": [
        {
          "output_type": "execute_result",
          "data": {
            "text/plain": [
              "{0: 'z', 1: 'a', 2: 'b'}"
            ]
          },
          "metadata": {},
          "execution_count": 11
        }
      ]
    },
    {
      "cell_type": "code",
      "source": [
        "del x[1]"
      ],
      "metadata": {
        "id": "viP5mXz-Z5Mx"
      },
      "execution_count": null,
      "outputs": []
    },
    {
      "cell_type": "code",
      "source": [
        "x"
      ],
      "metadata": {
        "colab": {
          "base_uri": "https://localhost:8080/"
        },
        "id": "iYhL4Ai1Z84q",
        "outputId": "2dc94925-bc3f-42bf-864a-bc9d909ec1cc"
      },
      "execution_count": null,
      "outputs": [
        {
          "output_type": "execute_result",
          "data": {
            "text/plain": [
              "{0: 'z', 2: 'b'}"
            ]
          },
          "metadata": {},
          "execution_count": 13
        }
      ]
    },
    {
      "cell_type": "code",
      "source": [
        "# key 사용해서 value얻기"
      ],
      "metadata": {
        "id": "TnTPrKUoaFKI"
      },
      "execution_count": null,
      "outputs": []
    },
    {
      "cell_type": "code",
      "source": [
        "grade = {'alice':80,'liz':90, 'julliet':99}\n",
        "grade"
      ],
      "metadata": {
        "colab": {
          "base_uri": "https://localhost:8080/"
        },
        "id": "kOJhbim4aJO3",
        "outputId": "8bb3361c-c2f0-4cae-a022-96f38e62dc89"
      },
      "execution_count": null,
      "outputs": [
        {
          "output_type": "execute_result",
          "data": {
            "text/plain": [
              "{'alice': 80, 'julliet': 99, 'liz': 90}"
            ]
          },
          "metadata": {},
          "execution_count": 14
        }
      ]
    },
    {
      "cell_type": "code",
      "source": [
        "grade['alice']   # dictionary 형태에서는 index 값은 'key'값이다"
      ],
      "metadata": {
        "colab": {
          "base_uri": "https://localhost:8080/"
        },
        "id": "01lf8iIFacSF",
        "outputId": "51df78e9-23c2-40eb-852f-4a620137b00d"
      },
      "execution_count": null,
      "outputs": [
        {
          "output_type": "execute_result",
          "data": {
            "text/plain": [
              "80"
            ]
          },
          "metadata": {},
          "execution_count": 15
        }
      ]
    },
    {
      "cell_type": "code",
      "source": [
        "#dictionay 내 동일한 key 값이 있을 경우 최종 값만 유지된다. 에러가 발생하지 않음\n",
        "grade['alice']=82\n",
        "grade"
      ],
      "metadata": {
        "colab": {
          "base_uri": "https://localhost:8080/"
        },
        "id": "9VACW-0_a0rh",
        "outputId": "84f283b5-77ca-427a-e850-72ed11734e85"
      },
      "execution_count": null,
      "outputs": [
        {
          "output_type": "execute_result",
          "data": {
            "text/plain": [
              "{'alice': 82, 'julliet': 99, 'liz': 90}"
            ]
          },
          "metadata": {},
          "execution_count": 16
        }
      ]
    },
    {
      "cell_type": "code",
      "source": [
        "grade = {'alice':80,'liz':90, 'julliet':99, 'alice':82}\n",
        "grade"
      ],
      "metadata": {
        "colab": {
          "base_uri": "https://localhost:8080/"
        },
        "id": "-GjygNnjbLLS",
        "outputId": "62993cd7-319e-4ab6-e4f6-1ab5033a4d40"
      },
      "execution_count": null,
      "outputs": [
        {
          "output_type": "execute_result",
          "data": {
            "text/plain": [
              "{'alice': 82, 'julliet': 99, 'liz': 90}"
            ]
          },
          "metadata": {},
          "execution_count": 17
        }
      ]
    },
    {
      "cell_type": "code",
      "source": [
        "#dictionary 에서 key 값은 리스트를 쓸 수 없다. 단, 튜플은 가능하다\n",
        "a={[1,2]: 'hi'}"
      ],
      "metadata": {
        "colab": {
          "base_uri": "https://localhost:8080/",
          "height": 193
        },
        "id": "N1ofOeAabTRv",
        "outputId": "9262a47c-776a-42c7-8e88-a830c442882c"
      },
      "execution_count": null,
      "outputs": [
        {
          "output_type": "error",
          "ename": "TypeError",
          "evalue": "ignored",
          "traceback": [
            "\u001b[0;31m---------------------------------------------------------------------------\u001b[0m",
            "\u001b[0;31mTypeError\u001b[0m                                 Traceback (most recent call last)",
            "\u001b[0;32m<ipython-input-18-cb8c821bdef5>\u001b[0m in \u001b[0;36m<module>\u001b[0;34m()\u001b[0m\n\u001b[1;32m      1\u001b[0m \u001b[0;31m#dictionary 에서 key 값은 리스트를 쓸 수 없다. 단, 튜플은 가능하다\u001b[0m\u001b[0;34m\u001b[0m\u001b[0;34m\u001b[0m\u001b[0;34m\u001b[0m\u001b[0m\n\u001b[0;32m----> 2\u001b[0;31m \u001b[0ma\u001b[0m\u001b[0;34m=\u001b[0m\u001b[0;34m{\u001b[0m\u001b[0;34m[\u001b[0m\u001b[0;36m1\u001b[0m\u001b[0;34m,\u001b[0m\u001b[0;36m2\u001b[0m\u001b[0;34m]\u001b[0m\u001b[0;34m:\u001b[0m \u001b[0;34m'hi'\u001b[0m\u001b[0;34m}\u001b[0m\u001b[0;34m\u001b[0m\u001b[0;34m\u001b[0m\u001b[0m\n\u001b[0m",
            "\u001b[0;31mTypeError\u001b[0m: unhashable type: 'list'"
          ]
        }
      ]
    },
    {
      "cell_type": "code",
      "source": [
        "a={(1,2):'hi'}\n",
        "a"
      ],
      "metadata": {
        "colab": {
          "base_uri": "https://localhost:8080/"
        },
        "id": "Qki7oZ0OblWR",
        "outputId": "2610ec76-0eb4-4844-97a1-76504d909384"
      },
      "execution_count": null,
      "outputs": [
        {
          "output_type": "execute_result",
          "data": {
            "text/plain": [
              "{(1, 2): 'hi'}"
            ]
          },
          "metadata": {},
          "execution_count": 20
        }
      ]
    },
    {
      "cell_type": "code",
      "source": [
        "a[(1,2)] = 'difficult'\n",
        "a"
      ],
      "metadata": {
        "colab": {
          "base_uri": "https://localhost:8080/"
        },
        "id": "RhHlT2SdbuMK",
        "outputId": "cfb281e1-aa46-45c0-9f00-76eec7ebb184"
      },
      "execution_count": null,
      "outputs": [
        {
          "output_type": "execute_result",
          "data": {
            "text/plain": [
              "{(1, 2): 'difficult'}"
            ]
          },
          "metadata": {},
          "execution_count": 21
        }
      ]
    },
    {
      "cell_type": "code",
      "source": [
        "dic"
      ],
      "metadata": {
        "colab": {
          "base_uri": "https://localhost:8080/"
        },
        "id": "6IR7mNU8cY5u",
        "outputId": "65464480-0bfb-4554-bd6c-272ac6212238"
      },
      "execution_count": null,
      "outputs": [
        {
          "output_type": "execute_result",
          "data": {
            "text/plain": [
              "{'birth': '1118', 'name': 'pey', 'phone': '01199993323'}"
            ]
          },
          "metadata": {},
          "execution_count": 22
        }
      ]
    },
    {
      "cell_type": "code",
      "source": [
        "# key 리스트만들기\n",
        "dic.keys()"
      ],
      "metadata": {
        "colab": {
          "base_uri": "https://localhost:8080/"
        },
        "id": "IFLnTbm4cidg",
        "outputId": "12b323b2-2bf3-46e3-8f29-cf5e85119b21"
      },
      "execution_count": null,
      "outputs": [
        {
          "output_type": "execute_result",
          "data": {
            "text/plain": [
              "dict_keys(['name', 'phone', 'birth'])"
            ]
          },
          "metadata": {},
          "execution_count": 23
        }
      ]
    },
    {
      "cell_type": "code",
      "source": [
        "type(dic.keys())"
      ],
      "metadata": {
        "colab": {
          "base_uri": "https://localhost:8080/"
        },
        "id": "5nSPvdcUcrma",
        "outputId": "c0873b85-495b-4fd3-a01a-b098536d3553"
      },
      "execution_count": null,
      "outputs": [
        {
          "output_type": "execute_result",
          "data": {
            "text/plain": [
              "dict_keys"
            ]
          },
          "metadata": {},
          "execution_count": 24
        }
      ]
    },
    {
      "cell_type": "code",
      "source": [
        "# key 만 추출한 것을 list 로 전환\n",
        "key_list=list(dic.keys())\n",
        "print(key_list)"
      ],
      "metadata": {
        "colab": {
          "base_uri": "https://localhost:8080/"
        },
        "id": "vb9QMFw8c1Nt",
        "outputId": "c0d5f250-cee5-4919-f5be-13867d9a6ecd"
      },
      "execution_count": null,
      "outputs": [
        {
          "output_type": "stream",
          "name": "stdout",
          "text": [
            "['name', 'phone', 'birth']\n"
          ]
        }
      ]
    },
    {
      "cell_type": "code",
      "source": [
        "# value 리스트 만들기\n",
        "value_list = list(dic.values())\n",
        "print(value_list)"
      ],
      "metadata": {
        "colab": {
          "base_uri": "https://localhost:8080/"
        },
        "id": "6W205szCdQcf",
        "outputId": "b98c7fd4-ba09-4c88-bd8c-3ea8e483a93b"
      },
      "execution_count": null,
      "outputs": [
        {
          "output_type": "stream",
          "name": "stdout",
          "text": [
            "['pey', '01199993323', '1118']\n"
          ]
        }
      ]
    },
    {
      "cell_type": "code",
      "source": [
        "#쌍(items)얻기\n",
        "dic.items()"
      ],
      "metadata": {
        "colab": {
          "base_uri": "https://localhost:8080/"
        },
        "id": "uJlb2Os2eABJ",
        "outputId": "7856b5cb-f75a-4d47-c0dc-f1b4b2ebc1b8"
      },
      "execution_count": null,
      "outputs": [
        {
          "output_type": "execute_result",
          "data": {
            "text/plain": [
              "dict_items([('name', 'pey'), ('phone', '01199993323'), ('birth', '1118')])"
            ]
          },
          "metadata": {},
          "execution_count": 28
        }
      ]
    },
    {
      "cell_type": "code",
      "source": [
        "#쌍 지우기 clear () 안에 argument 넣을 수 없음\n",
        "print(dic)\n",
        "#dic.clear('name')\n",
        "dic.clear()\n",
        "print(dic)"
      ],
      "metadata": {
        "colab": {
          "base_uri": "https://localhost:8080/"
        },
        "id": "xjp43mBMePKP",
        "outputId": "674359ac-a105-4686-e79f-7a6fa6ed8f6b"
      },
      "execution_count": null,
      "outputs": [
        {
          "output_type": "stream",
          "name": "stdout",
          "text": [
            "{'name': 'pey', 'phone': '01199993323', 'birth': '1118'}\n",
            "{}\n"
          ]
        }
      ]
    },
    {
      "cell_type": "code",
      "source": [
        "#key값으로 value 얻기 2 : get\n",
        "# a.get(key) 와 a(key) 와 동일하다\n",
        "# 단. 없는 key 값을 넣었을 경우, a.get(key) 는 없다는 의미의 'None' 이 나오나, a(key)는 에러발생\n",
        "print(dic.get('age'))\n",
        "print(dic('age'))"
      ],
      "metadata": {
        "colab": {
          "base_uri": "https://localhost:8080/",
          "height": 229
        },
        "id": "stvMpWDyfGHJ",
        "outputId": "d0fa05e8-7304-40ee-9ed7-8535addf103e"
      },
      "execution_count": null,
      "outputs": [
        {
          "output_type": "stream",
          "name": "stdout",
          "text": [
            "None\n"
          ]
        },
        {
          "output_type": "error",
          "ename": "TypeError",
          "evalue": "ignored",
          "traceback": [
            "\u001b[0;31m---------------------------------------------------------------------------\u001b[0m",
            "\u001b[0;31mTypeError\u001b[0m                                 Traceback (most recent call last)",
            "\u001b[0;32m<ipython-input-32-d117a297899f>\u001b[0m in \u001b[0;36m<module>\u001b[0;34m()\u001b[0m\n\u001b[1;32m      3\u001b[0m \u001b[0;31m# 단. 없는 key 값을 넣었을 경우, a.get(key) 는 없다는 의미의 'None' 이 나오나, a(key)는 에러발생\u001b[0m\u001b[0;34m\u001b[0m\u001b[0;34m\u001b[0m\u001b[0;34m\u001b[0m\u001b[0m\n\u001b[1;32m      4\u001b[0m \u001b[0mprint\u001b[0m\u001b[0;34m(\u001b[0m\u001b[0mdic\u001b[0m\u001b[0;34m.\u001b[0m\u001b[0mget\u001b[0m\u001b[0;34m(\u001b[0m\u001b[0;34m'age'\u001b[0m\u001b[0;34m)\u001b[0m\u001b[0;34m)\u001b[0m\u001b[0;34m\u001b[0m\u001b[0;34m\u001b[0m\u001b[0m\n\u001b[0;32m----> 5\u001b[0;31m \u001b[0mprint\u001b[0m\u001b[0;34m(\u001b[0m\u001b[0mdic\u001b[0m\u001b[0;34m(\u001b[0m\u001b[0;34m'age'\u001b[0m\u001b[0;34m)\u001b[0m\u001b[0;34m)\u001b[0m\u001b[0;34m\u001b[0m\u001b[0;34m\u001b[0m\u001b[0m\n\u001b[0m",
            "\u001b[0;31mTypeError\u001b[0m: 'dict' object is not callable"
          ]
        }
      ]
    },
    {
      "cell_type": "code",
      "source": [
        "# 값이 없을 경우 추가로 값을 넣어 두면 해당값이 출력될 뿐, dic 안에 추가되진 않.는.다.\n",
        "dic.get('age', 30)   # 이떄 형식이 dictionary 형태(:)가 아니라  (')이다\n",
        "print(dic.get('age', 30))\n"
      ],
      "metadata": {
        "colab": {
          "base_uri": "https://localhost:8080/"
        },
        "id": "rfhOXDBZf0jE",
        "outputId": "618b9167-789a-4815-be0f-cb6c53401aa8"
      },
      "execution_count": null,
      "outputs": [
        {
          "output_type": "execute_result",
          "data": {
            "text/plain": [
              "30"
            ]
          },
          "metadata": {},
          "execution_count": 34
        }
      ]
    },
    {
      "cell_type": "code",
      "source": [
        "# in: 해당 key 가 dictionary에 있는지 조사\n",
        "dic={'birth': '1118', 'name': 'pey', 'phone': '01199993323'}"
      ],
      "metadata": {
        "id": "mNGC8Ld0jF2Y"
      },
      "execution_count": null,
      "outputs": []
    },
    {
      "cell_type": "code",
      "source": [
        "'name' in dic"
      ],
      "metadata": {
        "colab": {
          "base_uri": "https://localhost:8080/"
        },
        "id": "tubprm9qjQwZ",
        "outputId": "3cf4efd2-06ca-4017-a0ca-886cc20f7b8b"
      },
      "execution_count": null,
      "outputs": [
        {
          "output_type": "execute_result",
          "data": {
            "text/plain": [
              "True"
            ]
          },
          "metadata": {},
          "execution_count": 36
        }
      ]
    },
    {
      "cell_type": "code",
      "source": [
        "'age' in dic"
      ],
      "metadata": {
        "colab": {
          "base_uri": "https://localhost:8080/"
        },
        "id": "yXmBuZzejUNv",
        "outputId": "106d7bf8-9f70-411f-9aa8-23890a56477c"
      },
      "execution_count": null,
      "outputs": [
        {
          "output_type": "execute_result",
          "data": {
            "text/plain": [
              "False"
            ]
          },
          "metadata": {},
          "execution_count": 37
        }
      ]
    },
    {
      "cell_type": "code",
      "source": [
        "# dict(zip(keys,values))를  사용할 때, keys와 values 는 tuple, list 모두 가능\n",
        "# 동일한 key값과 value 의 쌍 ('a':1) 이 있을 경우, 하나는 없어짐 \n",
        "# 동일한 key값에 다른 value 값이  정의되면 마지막 값만 남음"
      ],
      "metadata": {
        "id": "b4dkQW4r6jb8"
      },
      "execution_count": null,
      "outputs": []
    },
    {
      "cell_type": "code",
      "source": [
        "dic = dict()   # dic= {} 와 동일함 dictionary\n",
        "key_list = ['a','b','c']\n",
        "value_list = [1,\"python\",[1,2,3]]\n",
        "dic = dict(zip(key_list,value_list))\n",
        "dic"
      ],
      "metadata": {
        "colab": {
          "base_uri": "https://localhost:8080/"
        },
        "id": "hV8qyHCV7BjY",
        "outputId": "392db2fc-43d8-4338-ca28-477c36b82af8"
      },
      "execution_count": 40,
      "outputs": [
        {
          "output_type": "execute_result",
          "data": {
            "text/plain": [
              "{'a': 1, 'b': 'python', 'c': [1, 2, 3]}"
            ]
          },
          "metadata": {},
          "execution_count": 40
        }
      ]
    },
    {
      "cell_type": "code",
      "source": [
        "dic22 = {}  \n",
        "key2_tuple = ('a','b','c','a')   # 동일한 key값과 value 의 쌍 ('a':1) 이 있을 경우, 하나는 없어짐 \n",
        "value2_tuple = (1,\"python\",[1,2,3],1)\n",
        "dic22 = dict(zip(key2_tuple,value2_tuple))\n",
        "dic22"
      ],
      "metadata": {
        "colab": {
          "base_uri": "https://localhost:8080/"
        },
        "id": "4d0XO-eh6w5p",
        "outputId": "3c35851e-efd5-41f9-ee95-2d57465e8e0a"
      },
      "execution_count": 38,
      "outputs": [
        {
          "output_type": "execute_result",
          "data": {
            "text/plain": [
              "{'a': 1, 'b': 'python', 'c': [1, 2, 3]}"
            ]
          },
          "metadata": {},
          "execution_count": 38
        }
      ]
    },
    {
      "cell_type": "code",
      "source": [
        "dic23 = {}  \n",
        "key3_tuple = ('a','b','c','a')   # 동일한 key값에 다른 value 값이  정의되면 마지막 값만 남음\n",
        "value3_tuple = (1,\"python\",[1,2,3],5)\n",
        "dic23 = dict(zip(key3_tuple,value3_tuple))\n",
        "dic23"
      ],
      "metadata": {
        "colab": {
          "base_uri": "https://localhost:8080/"
        },
        "id": "eiEWD-SM657o",
        "outputId": "dc8ba586-80bb-417e-f515-2a04452fe95b"
      },
      "execution_count": 39,
      "outputs": [
        {
          "output_type": "execute_result",
          "data": {
            "text/plain": [
              "{'a': 5, 'b': 'python', 'c': [1, 2, 3]}"
            ]
          },
          "metadata": {},
          "execution_count": 39
        }
      ]
    }
  ]
}