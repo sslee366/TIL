{
 "cells": [
  {
   "cell_type": "code",
   "execution_count": 1,
   "metadata": {
    "id": "Cx9dO4ePrBNF"
   },
   "outputs": [],
   "source": [
    "# for 문"
   ]
  },
  {
   "cell_type": "code",
   "execution_count": 2,
   "metadata": {
    "colab": {
     "base_uri": "https://localhost:8080/"
    },
    "id": "zY82xok6rbb5",
    "outputId": "4bad3b92-9cb6-4add-bc80-02464cafe181"
   },
   "outputs": [
    {
     "name": "stdout",
     "output_type": "stream",
     "text": [
      "one\n",
      "two\n",
      "three\n"
     ]
    }
   ],
   "source": [
    "test_list = ['one','two',\"three\"]\n",
    "for i in test_list:\n",
    "    print(i)"
   ]
  },
  {
   "cell_type": "code",
   "execution_count": 3,
   "metadata": {
    "colab": {
     "base_uri": "https://localhost:8080/"
    },
    "id": "Nq4Qw6yQsMez",
    "outputId": "1312d15d-3c99-4630-96b9-0866c6f1a85b"
   },
   "outputs": [
    {
     "name": "stdout",
     "output_type": "stream",
     "text": [
      "3\n",
      "7\n",
      "11\n"
     ]
    }
   ],
   "source": [
    "a=([1,2],[3,4],[5,6])   #튜플 안에 리스트로 구성된 a\n",
    "for [first,last] in a:\n",
    "    print(first+last)"
   ]
  },
  {
   "cell_type": "code",
   "execution_count": 5,
   "metadata": {
    "colab": {
     "base_uri": "https://localhost:8080/"
    },
    "id": "ZyVeWltMssL_",
    "outputId": "ea746cc6-b9a8-44b8-bc92-d91e1dbf921d"
   },
   "outputs": [
    {
     "name": "stdout",
     "output_type": "stream",
     "text": [
      "15\n",
      "19\n",
      "23\n"
     ]
    }
   ],
   "source": [
    "a=[(7,8),(9,10),(11,12)]   # 리스트 안이 튜플로 구성된 a\n",
    "for (first,last) in a:\n",
    "    print(first+last)"
   ]
  },
  {
   "cell_type": "code",
   "execution_count": 8,
   "metadata": {
    "colab": {
     "base_uri": "https://localhost:8080/"
    },
    "id": "clu9-F5QtG5A",
    "outputId": "17352b76-7853-4be4-816a-fe69bf5d9933"
   },
   "outputs": [
    {
     "name": "stdout",
     "output_type": "stream",
     "text": [
      "ab\n",
      "a b\n",
      "cd\n",
      "c d\n",
      "ef\n",
      "e f\n"
     ]
    }
   ],
   "source": [
    "a=(['a','b'],['c','d'],['e','f'])   #튜플 안에 리스트로 구성된 a\n",
    "for [first,last] in a:\n",
    "    print(first+last)\n",
    "    print(first+\" \"+last)"
   ]
  },
  {
   "cell_type": "code",
   "execution_count": 7,
   "metadata": {
    "colab": {
     "base_uri": "https://localhost:8080/"
    },
    "id": "VoKGytmotecN",
    "outputId": "38980f01-a3e1-4c71-c659-426633805203"
   },
   "outputs": [
    {
     "name": "stdout",
     "output_type": "stream",
     "text": [
      "Life is\n",
      "too short\n",
      "Enjoy Life\n"
     ]
    }
   ],
   "source": [
    "a=[('Life', 'is'),('too', 'short'),('Enjoy', 'Life')]   # 리스트 안이 튜플로 구성된 a\n",
    "for (first,last) in a:\n",
    "    print(first+ \" \" +last)"
   ]
  },
  {
   "cell_type": "code",
   "execution_count": 9,
   "metadata": {
    "colab": {
     "base_uri": "https://localhost:8080/"
    },
    "id": "FA7Q4am-v6eP",
    "outputId": "63e0da53-b91d-411b-dd41-fa602f95ce2d"
   },
   "outputs": [
    {
     "name": "stdout",
     "output_type": "stream",
     "text": [
      "1번째 학생의 점수는 90 이므로 합격입니다.\n",
      "2번째 학생의 점수는 25 이므로 불합격입니다.\n",
      "3번째 학생의 점수는 67 이므로 합격입니다.\n",
      "4번째 학생의 점수는 45 이므로 불합격입니다.\n",
      "5번째 학생의 점수는 80 이므로 합격입니다.\n"
     ]
    }
   ],
   "source": [
    "test_score = [90,25,67,45,80]\n",
    "no = 0\n",
    "for mark in test_score:   # for xx in y 에서 xx 초기 값은 y[0] \n",
    "    no +=1\n",
    "    if mark >=60:\n",
    "        print(\"%d번째 학생의 점수는 %d 이므로 합격입니다.\" % (no, mark))\n",
    "    else:\n",
    "        print(\"%d번째 학생의 점수는 %d 이므로 불합격입니다.\" % (no, mark))    \n"
   ]
  },
  {
   "cell_type": "code",
   "execution_count": 10,
   "metadata": {
    "colab": {
     "base_uri": "https://localhost:8080/"
    },
    "id": "16EzXoENxhSL",
    "outputId": "5d96c62f-d23a-4092-dd73-6f8c191ba6bd"
   },
   "outputs": [
    {
     "name": "stdout",
     "output_type": "stream",
     "text": [
      "축하드립니다. 1번째 학생의 점수는 90 이므로 합격입니다.\n",
      "축하드립니다. 3번째 학생의 점수는 67 이므로 합격입니다.\n",
      "축하드립니다. 5번째 학생의 점수는 80 이므로 합격입니다.\n"
     ]
    }
   ],
   "source": [
    "test_score = [90,25,67,45,80]\n",
    "no = 0\n",
    "for mark in test_score:   # for xx in y 에서 xx 초기 값은 y[0] \n",
    "    no +=1\n",
    "    if mark >=60:\n",
    "        print(\"축하드립니다. %d번째 학생의 점수는 %d 이므로 합격입니다.\" % (no, mark))\n",
    "    else:\n",
    "        continue  "
   ]
  },
  {
   "cell_type": "code",
   "execution_count": 11,
   "metadata": {
    "id": "GDQ8yD0mx8iG"
   },
   "outputs": [],
   "source": [
    "# for & range 함수"
   ]
  },
  {
   "cell_type": "code",
   "execution_count": 12,
   "metadata": {
    "id": "rGn8_oBcyAcn"
   },
   "outputs": [],
   "source": [
    "# range() 함수는 숫자 리스트를 자동으로 만들어 줌"
   ]
  },
  {
   "cell_type": "code",
   "execution_count": 13,
   "metadata": {
    "colab": {
     "base_uri": "https://localhost:8080/"
    },
    "id": "OpqwyA0Qybi1",
    "outputId": "64d1c974-82c4-4945-95ef-ba468f37c5d7"
   },
   "outputs": [
    {
     "data": {
      "text/plain": [
       "range(0, 10)"
      ]
     },
     "execution_count": 13,
     "metadata": {},
     "output_type": "execute_result"
    }
   ],
   "source": [
    "a= range(10)\n",
    "a"
   ]
  },
  {
   "cell_type": "code",
   "execution_count": 14,
   "metadata": {
    "id": "yspZOF_Wyeml"
   },
   "outputs": [],
   "source": [
    "a=range(1,11)"
   ]
  },
  {
   "cell_type": "code",
   "execution_count": 15,
   "metadata": {
    "colab": {
     "base_uri": "https://localhost:8080/"
    },
    "id": "kjaBMSmnygdv",
    "outputId": "ed28b572-a7eb-471b-f1ca-4fb789bc52e2"
   },
   "outputs": [
    {
     "data": {
      "text/plain": [
       "range(1, 11)"
      ]
     },
     "execution_count": 15,
     "metadata": {},
     "output_type": "execute_result"
    }
   ],
   "source": [
    "a"
   ]
  },
  {
   "cell_type": "code",
   "execution_count": 17,
   "metadata": {
    "colab": {
     "base_uri": "https://localhost:8080/"
    },
    "id": "AkrD9FHdyhCT",
    "outputId": "41a44c78-f791-4765-b1d2-267eb9e6cfc2"
   },
   "outputs": [
    {
     "name": "stdout",
     "output_type": "stream",
     "text": [
      "1\n",
      "2\n",
      "3\n",
      "4\n",
      "5\n",
      "6\n",
      "7\n",
      "8\n",
      "9\n",
      "10\n",
      "add =  55\n"
     ]
    }
   ],
   "source": [
    "add = 0\n",
    "for i in range(1,11):  #  i = 11 이면 빠져 나오므로 for 문 안에는 실행되지 않음\n",
    "    add += i\n",
    "    print(i)\n",
    "\n",
    "print(\"add = \", add)"
   ]
  },
  {
   "cell_type": "code",
   "execution_count": 31,
   "metadata": {
    "colab": {
     "base_uri": "https://localhost:8080/"
    },
    "id": "rz8f5auB2733",
    "outputId": "d457d10e-dbe3-4f64-ac72-4f79a80bb7f6"
   },
   "outputs": [
    {
     "name": "stdout",
     "output_type": "stream",
     "text": [
      "2 4 6 8 10 12 14 16 18 \n",
      "3 6 9 12 15 18 21 24 27 \n",
      "4 8 12 16 20 24 28 32 36 \n",
      "5 10 15 20 25 30 35 40 45 \n",
      "6 12 18 24 30 36 42 48 54 \n",
      "7 14 21 28 35 42 49 56 63 \n",
      "8 16 24 32 40 48 56 64 72 \n",
      "9 18 27 36 45 54 63 72 81 \n"
     ]
    }
   ],
   "source": [
    "answer = 0\n",
    "for i in range(2,10):\n",
    "    for j in range(1,10):\n",
    "        #answer = i*j\n",
    "        #print(i*j)     \n",
    "        print(i*j, end = \" \")   # end 옵션을 쓰면 자동으로 \\n 되지 않음\n",
    "    #print(\"\\n\")\n",
    "    print()"
   ]
  },
  {
   "cell_type": "code",
   "execution_count": 28,
   "metadata": {
    "colab": {
     "base_uri": "https://localhost:8080/"
    },
    "id": "hW7MKxuq2rEx",
    "outputId": "913ec286-a8c2-4bbf-c7a9-39e72ff4dabc"
   },
   "outputs": [
    {
     "name": "stdout",
     "output_type": "stream",
     "text": [
      "2\n",
      "4\n",
      "6\n",
      "8\n",
      "10\n",
      "12\n",
      "14\n",
      "16\n",
      "18\n",
      "3\n",
      "6\n",
      "9\n",
      "12\n",
      "15\n",
      "18\n",
      "21\n",
      "24\n",
      "27\n",
      "4\n",
      "8\n",
      "12\n",
      "16\n",
      "20\n",
      "24\n",
      "28\n",
      "32\n",
      "36\n",
      "5\n",
      "10\n",
      "15\n",
      "20\n",
      "25\n",
      "30\n",
      "35\n",
      "40\n",
      "45\n",
      "6\n",
      "12\n",
      "18\n",
      "24\n",
      "30\n",
      "36\n",
      "42\n",
      "48\n",
      "54\n",
      "7\n",
      "14\n",
      "21\n",
      "28\n",
      "35\n",
      "42\n",
      "49\n",
      "56\n",
      "63\n",
      "8\n",
      "16\n",
      "24\n",
      "32\n",
      "40\n",
      "48\n",
      "56\n",
      "64\n",
      "72\n",
      "9\n",
      "18\n",
      "27\n",
      "36\n",
      "45\n",
      "54\n",
      "63\n",
      "72\n",
      "81\n"
     ]
    }
   ],
   "source": [
    "answer = 0\n",
    "for i in range(2,10):\n",
    "    for j in range(1,10):\n",
    "        answer = i*j\n",
    "        print(answer)\n",
    "    #print(\"\\n\")\n",
    "    #print()"
   ]
  },
  {
   "cell_type": "code",
   "execution_count": 41,
   "metadata": {
    "colab": {
     "base_uri": "https://localhost:8080/"
    },
    "id": "5nstrEeDzBmI",
    "outputId": "9c5300cf-1fde-4263-c8aa-a109d9dc78a9"
   },
   "outputs": [
    {
     "name": "stdout",
     "output_type": "stream",
     "text": [
      " 2 *  1 =     2\n",
      " 2 *  2 =     4\n",
      " 2 *  3 =     6\n",
      " 2 *  4 =     8\n",
      " 2 *  5 =    10\n",
      " 2 *  6 =    12\n",
      " 2 *  7 =    14\n",
      " 2 *  8 =    16\n",
      " 2 *  9 =    18\n",
      "\n",
      " 3 *  1 =     3\n",
      " 3 *  2 =     6\n",
      " 3 *  3 =     9\n",
      " 3 *  4 =    12\n",
      " 3 *  5 =    15\n",
      " 3 *  6 =    18\n",
      " 3 *  7 =    21\n",
      " 3 *  8 =    24\n",
      " 3 *  9 =    27\n",
      "\n",
      " 4 *  1 =     4\n",
      " 4 *  2 =     8\n",
      " 4 *  3 =    12\n",
      " 4 *  4 =    16\n",
      " 4 *  5 =    20\n",
      " 4 *  6 =    24\n",
      " 4 *  7 =    28\n",
      " 4 *  8 =    32\n",
      " 4 *  9 =    36\n",
      "\n",
      " 5 *  1 =     5\n",
      " 5 *  2 =    10\n",
      " 5 *  3 =    15\n",
      " 5 *  4 =    20\n",
      " 5 *  5 =    25\n",
      " 5 *  6 =    30\n",
      " 5 *  7 =    35\n",
      " 5 *  8 =    40\n",
      " 5 *  9 =    45\n",
      "\n",
      " 6 *  1 =     6\n",
      " 6 *  2 =    12\n",
      " 6 *  3 =    18\n",
      " 6 *  4 =    24\n",
      " 6 *  5 =    30\n",
      " 6 *  6 =    36\n",
      " 6 *  7 =    42\n",
      " 6 *  8 =    48\n",
      " 6 *  9 =    54\n",
      "\n",
      " 7 *  1 =     7\n",
      " 7 *  2 =    14\n",
      " 7 *  3 =    21\n",
      " 7 *  4 =    28\n",
      " 7 *  5 =    35\n",
      " 7 *  6 =    42\n",
      " 7 *  7 =    49\n",
      " 7 *  8 =    56\n",
      " 7 *  9 =    63\n",
      "\n",
      " 8 *  1 =     8\n",
      " 8 *  2 =    16\n",
      " 8 *  3 =    24\n",
      " 8 *  4 =    32\n",
      " 8 *  5 =    40\n",
      " 8 *  6 =    48\n",
      " 8 *  7 =    56\n",
      " 8 *  8 =    64\n",
      " 8 *  9 =    72\n",
      "\n",
      " 9 *  1 =     9\n",
      " 9 *  2 =    18\n",
      " 9 *  3 =    27\n",
      " 9 *  4 =    36\n",
      " 9 *  5 =    45\n",
      " 9 *  6 =    54\n",
      " 9 *  7 =    63\n",
      " 9 *  8 =    72\n",
      " 9 *  9 =    81\n",
      "\n"
     ]
    }
   ],
   "source": [
    "answer = 0\n",
    "for i in range(2,10):\n",
    "    for j in range(1,10):\n",
    "        answer = i*j\n",
    "        print(\"%2d * %2d = %5d\" % (i,j,answer))\n",
    "    #print(\"\\n\")\n",
    "    print()\n"
   ]
  },
  {
   "cell_type": "code",
   "execution_count": 26,
   "metadata": {
    "colab": {
     "base_uri": "https://localhost:8080/"
    },
    "id": "Qnqy8fE20vxx",
    "outputId": "3e47f5db-de76-45f8-853a-7b344457c421"
   },
   "outputs": [
    {
     "name": "stdout",
     "output_type": "stream",
     "text": [
      "0\n",
      "1\n",
      "2\n",
      "3\n"
     ]
    }
   ],
   "source": [
    "for i in range(4):   # true , false 상관없이 작동함\n",
    "    print(i)"
   ]
  },
  {
   "cell_type": "code",
   "execution_count": 33,
   "metadata": {
    "colab": {
     "base_uri": "https://localhost:8080/"
    },
    "id": "R-rgGM7r31Tu",
    "outputId": "954adfe7-5ce1-4237-be44-5d24e97d494e"
   },
   "outputs": [
    {
     "name": "stdout",
     "output_type": "stream",
     "text": [
      "[3, 6, 9, 12]\n"
     ]
    }
   ],
   "source": [
    "# 리스트 내포 사용하기\n",
    "a=[1,2,3,4]\n",
    "result = []\n",
    "for num in a:\n",
    "    result.append(num*3)\n",
    "print(result)"
   ]
  },
  {
   "cell_type": "code",
   "execution_count": 34,
   "metadata": {
    "colab": {
     "base_uri": "https://localhost:8080/"
    },
    "id": "jIPPSU_O4CvN",
    "outputId": "a72711e1-2533-4d76-da1f-d8707f7f2179"
   },
   "outputs": [
    {
     "name": "stdout",
     "output_type": "stream",
     "text": [
      "[3, 6, 9, 12]\n"
     ]
    }
   ],
   "source": [
    "a=[1,2,3,4]\n",
    "result = []\n",
    "result = [num*3 for num in a]\n",
    "print(result)"
   ]
  },
  {
   "cell_type": "code",
   "execution_count": 35,
   "metadata": {
    "colab": {
     "base_uri": "https://localhost:8080/"
    },
    "id": "ZWzzl2cV4jqc",
    "outputId": "14a53632-ee03-45a3-f3b4-d6d40743c173"
   },
   "outputs": [
    {
     "name": "stdout",
     "output_type": "stream",
     "text": [
      "[6, 12]\n"
     ]
    }
   ],
   "source": [
    "a=[1,2,3,4]\n",
    "result = []\n",
    "result = [num*3 for num in a if num % 2 ==0]\n",
    "print(result)"
   ]
  },
  {
   "cell_type": "code",
   "execution_count": 38,
   "metadata": {
    "colab": {
     "base_uri": "https://localhost:8080/"
    },
    "id": "Ov6fPx175Id7",
    "outputId": "a3f7a258-3a13-4c49-f59c-fa551522822e"
   },
   "outputs": [
    {
     "name": "stdout",
     "output_type": "stream",
     "text": [
      "[6, 12]\n"
     ]
    }
   ],
   "source": [
    "a=[1,2,3,4]\n",
    "result = []\n",
    "for num in a:\n",
    "    if num % 2 == 0:\n",
    "        result.append(num*3)\n",
    "    else:          #else 이후는 생략 가능. but 인지적으로 모두 포함하는 방식으로 작성해 볼 것\n",
    "        continue\n",
    "print(result)"
   ]
  },
  {
   "cell_type": "code",
   "execution_count": 39,
   "metadata": {
    "colab": {
     "base_uri": "https://localhost:8080/"
    },
    "id": "u61c9GzF54FJ",
    "outputId": "9f1c87bb-2f01-4f6d-91f1-129c31080908"
   },
   "outputs": [
    {
     "name": "stdout",
     "output_type": "stream",
     "text": [
      "[2, 4, 6, 8, 10, 12, 14, 16, 18, 3, 6, 9, 12, 15, 18, 21, 24, 27, 4, 8, 12, 16, 20, 24, 28, 32, 36, 5, 10, 15, 20, 25, 30, 35, 40, 45, 6, 12, 18, 24, 30, 36, 42, 48, 54, 7, 14, 21, 28, 35, 42, 49, 56, 63, 8, 16, 24, 32, 40, 48, 56, 64, 72, 9, 18, 27, 36, 45, 54, 63, 72, 81]\n"
     ]
    }
   ],
   "source": [
    "result = [x*y for x in range(2,10)\n",
    "              for y in range(1,10)]\n",
    "print(result)"
   ]
  },
  {
   "cell_type": "code",
   "execution_count": 66,
   "metadata": {
    "colab": {
     "base_uri": "https://localhost:8080/"
    },
    "id": "B0gLgk4pEkKk",
    "outputId": "d98c625f-bbf6-4a64-99cd-9aa221279af3"
   },
   "outputs": [
    {
     "name": "stdout",
     "output_type": "stream",
     "text": [
      "[2]\n"
     ]
    },
    {
     "data": {
      "text/plain": [
       "list"
      ]
     },
     "execution_count": 66,
     "metadata": {},
     "output_type": "execute_result"
    }
   ],
   "source": [
    "answer = 0\n",
    "alist = []\n",
    "#answer_list2 = []\n",
    "\n",
    "j = 1\n",
    "answer = 2\n",
    "alist.append(answer)\n",
    "print(alist)\n",
    "type(alist)"
   ]
  },
  {
   "cell_type": "code",
   "execution_count": 67,
   "metadata": {
    "colab": {
     "base_uri": "https://localhost:8080/"
    },
    "id": "eI64G4DtEnzp",
    "outputId": "3f74664e-a927-48b3-ed52-746ee643597b"
   },
   "outputs": [
    {
     "name": "stdout",
     "output_type": "stream",
     "text": [
      "[[2, 4, 6, 8, 10, 12, 14, 16, 18]]\n",
      "[[2, 4, 6, 8, 10, 12, 14, 16, 18], [3, 6, 9, 12, 15, 18, 21, 24, 27]]\n",
      "[[2, 4, 6, 8, 10, 12, 14, 16, 18], [3, 6, 9, 12, 15, 18, 21, 24, 27], [4, 8, 12, 16, 20, 24, 28, 32, 36]]\n",
      "[[2, 4, 6, 8, 10, 12, 14, 16, 18], [3, 6, 9, 12, 15, 18, 21, 24, 27], [4, 8, 12, 16, 20, 24, 28, 32, 36], [5, 10, 15, 20, 25, 30, 35, 40, 45]]\n",
      "[[2, 4, 6, 8, 10, 12, 14, 16, 18], [3, 6, 9, 12, 15, 18, 21, 24, 27], [4, 8, 12, 16, 20, 24, 28, 32, 36], [5, 10, 15, 20, 25, 30, 35, 40, 45], [6, 12, 18, 24, 30, 36, 42, 48, 54]]\n",
      "[[2, 4, 6, 8, 10, 12, 14, 16, 18], [3, 6, 9, 12, 15, 18, 21, 24, 27], [4, 8, 12, 16, 20, 24, 28, 32, 36], [5, 10, 15, 20, 25, 30, 35, 40, 45], [6, 12, 18, 24, 30, 36, 42, 48, 54], [7, 14, 21, 28, 35, 42, 49, 56, 63]]\n",
      "[[2, 4, 6, 8, 10, 12, 14, 16, 18], [3, 6, 9, 12, 15, 18, 21, 24, 27], [4, 8, 12, 16, 20, 24, 28, 32, 36], [5, 10, 15, 20, 25, 30, 35, 40, 45], [6, 12, 18, 24, 30, 36, 42, 48, 54], [7, 14, 21, 28, 35, 42, 49, 56, 63], [8, 16, 24, 32, 40, 48, 56, 64, 72]]\n",
      "[[2, 4, 6, 8, 10, 12, 14, 16, 18], [3, 6, 9, 12, 15, 18, 21, 24, 27], [4, 8, 12, 16, 20, 24, 28, 32, 36], [5, 10, 15, 20, 25, 30, 35, 40, 45], [6, 12, 18, 24, 30, 36, 42, 48, 54], [7, 14, 21, 28, 35, 42, 49, 56, 63], [8, 16, 24, 32, 40, 48, 56, 64, 72], [9, 18, 27, 36, 45, 54, 63, 72, 81]]\n"
     ]
    }
   ],
   "source": [
    "answer = 0\n",
    "alist = []\n",
    "a2list = []\n",
    "\n",
    "for i in range(2,10):\n",
    "    for j in range(1,10):\n",
    "        answer = i*j\n",
    "        # alist = alist.append(answer) 는 에러남. 자기 자신에게 이미 들어가 있으므로.\n",
    "        alist.append(answer)\n",
    "    #print('alist = ', alist)\n",
    "    a2list.append(alist)\n",
    "    print(a2list)\n",
    "    alist=[]  # 구구단 단위별로 clear 해야 함"
   ]
  }
 ],
 "metadata": {
  "colab": {
   "collapsed_sections": [],
   "name": "03_3_for문.ipynb",
   "provenance": []
  },
  "kernelspec": {
   "display_name": "Python 3 (ipykernel)",
   "language": "python",
   "name": "python3"
  },
  "language_info": {
   "codemirror_mode": {
    "name": "ipython",
    "version": 3
   },
   "file_extension": ".py",
   "mimetype": "text/x-python",
   "name": "python",
   "nbconvert_exporter": "python",
   "pygments_lexer": "ipython3",
   "version": "3.9.12"
  }
 },
 "nbformat": 4,
 "nbformat_minor": 1
}
