{
  "nbformat": 4,
  "nbformat_minor": 0,
  "metadata": {
    "colab": {
      "name": "02.연습문제_이수진.ipynb",
      "provenance": [],
      "collapsed_sections": []
    },
    "kernelspec": {
      "name": "python3",
      "display_name": "Python 3"
    },
    "language_info": {
      "name": "python"
    }
  },
  "cells": [
    {
      "cell_type": "code",
      "execution_count": null,
      "metadata": {
        "colab": {
          "base_uri": "https://localhost:8080/"
        },
        "id": "9PxiGcNMhHnx",
        "outputId": "8426230b-6dda-47ed-be3b-f58747c5fac9"
      },
      "outputs": [
        {
          "output_type": "execute_result",
          "data": {
            "text/plain": [
              "[80, 75, 55]"
            ]
          },
          "metadata": {},
          "execution_count": 3
        }
      ],
      "source": [
        "#Q1\n",
        "kor = 80\n",
        "eng = 75\n",
        "math = 55\n",
        "hong = [kor, eng, math]\n",
        "hong"
      ]
    },
    {
      "cell_type": "code",
      "source": [
        "h_mean = sum(hong) / len(hong)\n",
        "h_mean"
      ],
      "metadata": {
        "colab": {
          "base_uri": "https://localhost:8080/"
        },
        "id": "SoZbhn36hqor",
        "outputId": "1d124a24-189c-41f7-caad-d84020913168"
      },
      "execution_count": null,
      "outputs": [
        {
          "output_type": "execute_result",
          "data": {
            "text/plain": [
              "70.0"
            ]
          },
          "metadata": {},
          "execution_count": 4
        }
      ]
    },
    {
      "cell_type": "code",
      "source": [
        "#Q2\n",
        "data = 13\n",
        "if(data % 2 == 0):\n",
        "    print('짝수')\n",
        "else:\n",
        "    print('홀수')\n"
      ],
      "metadata": {
        "colab": {
          "base_uri": "https://localhost:8080/"
        },
        "id": "ok2HQDszh9Ag",
        "outputId": "8637a3de-06e6-4598-eb0d-90cdfa961c10"
      },
      "execution_count": null,
      "outputs": [
        {
          "output_type": "stream",
          "name": "stdout",
          "text": [
            "홀수\n"
          ]
        }
      ]
    },
    {
      "cell_type": "code",
      "source": [
        "#Q3\n",
        "no = '881120-1057234'\n",
        "date = '19' + no[:6]\n",
        "uni2 = no[7:]\n",
        "print('연월일 = ', date)\n",
        "print('주민번호 뒷번호 = ', uni2)"
      ],
      "metadata": {
        "id": "UoR3dtpzid5v",
        "colab": {
          "base_uri": "https://localhost:8080/"
        },
        "outputId": "820bfb29-e5d6-404d-8929-6f9677d09218"
      },
      "execution_count": null,
      "outputs": [
        {
          "output_type": "stream",
          "name": "stdout",
          "text": [
            "연월일 =  19881120\n",
            "주민번호 뒷번호 =  1057234\n"
          ]
        }
      ]
    },
    {
      "cell_type": "code",
      "source": [
        "#4.\n",
        "pin = '881120-1057234'\n",
        "print(pin[7])\n",
        "if pin[7] == 1 or 3:\n",
        "    print('남성')\n",
        "else:\n",
        "    print('여성')"
      ],
      "metadata": {
        "id": "gSxFZ9sZJZSx",
        "colab": {
          "base_uri": "https://localhost:8080/"
        },
        "outputId": "bddca0a5-5f2e-499e-95e0-2b6a8aac9bcf"
      },
      "execution_count": null,
      "outputs": [
        {
          "output_type": "stream",
          "name": "stdout",
          "text": [
            "1\n",
            "남성\n"
          ]
        }
      ]
    },
    {
      "cell_type": "code",
      "source": [
        "#Q5\n",
        "a=\"a:b:c:d\"\n",
        "a = a.replace(\":\",\"#\")\n",
        "print(a)"
      ],
      "metadata": {
        "colab": {
          "base_uri": "https://localhost:8080/"
        },
        "id": "prmo1dpICFvt",
        "outputId": "781635c6-2505-45fd-e6fd-7f815864a4fd"
      },
      "execution_count": null,
      "outputs": [
        {
          "output_type": "stream",
          "name": "stdout",
          "text": [
            "a#b#c#d\n"
          ]
        }
      ]
    },
    {
      "cell_type": "code",
      "source": [
        "#Q6\n",
        "a = [1,3,5,4,2]\n",
        "a.sort()\n",
        "a.reverse()\n",
        "print(a)"
      ],
      "metadata": {
        "colab": {
          "base_uri": "https://localhost:8080/"
        },
        "id": "I_2u3Y4FD0n6",
        "outputId": "ffd03e5d-cd2b-40e7-9363-f91e67fc00fd"
      },
      "execution_count": null,
      "outputs": [
        {
          "output_type": "stream",
          "name": "stdout",
          "text": [
            "[5, 4, 3, 2, 1]\n"
          ]
        }
      ]
    },
    {
      "cell_type": "code",
      "source": [
        "#Q7\n",
        "a = ['Life', 'is','too','short']\n",
        "a_str = \" \".join(a)\n",
        "print(a_str)"
      ],
      "metadata": {
        "colab": {
          "base_uri": "https://localhost:8080/"
        },
        "id": "_yp6cRU6EjrS",
        "outputId": "72e27b8e-7a52-40fd-cbd3-057f499226ba"
      },
      "execution_count": null,
      "outputs": [
        {
          "output_type": "stream",
          "name": "stdout",
          "text": [
            "Life is too short\n"
          ]
        }
      ]
    },
    {
      "cell_type": "code",
      "source": [
        "#Q8\n",
        "a=(1,2,3)\n",
        "b=(4,)   # tuple 을 하나의 값만 넣을 경우 b=(4) 가 아니고 b=(4,) 형태로 넣어야 int와 구별됨\n",
        "print(a+b)"
      ],
      "metadata": {
        "colab": {
          "base_uri": "https://localhost:8080/"
        },
        "id": "kqRsgoR6JD8_",
        "outputId": "7fea9351-50a0-4b8e-a818-525910285f57"
      },
      "execution_count": null,
      "outputs": [
        {
          "output_type": "stream",
          "name": "stdout",
          "text": [
            "(1, 2, 3, 4)\n"
          ]
        }
      ]
    },
    {
      "cell_type": "code",
      "source": [
        "#Q9\n",
        "a = dict()\n",
        "a"
      ],
      "metadata": {
        "colab": {
          "base_uri": "https://localhost:8080/"
        },
        "id": "ofA8vjmEKIwu",
        "outputId": "41553b5b-2232-4a1c-d9d9-5d23ab4b1959"
      },
      "execution_count": null,
      "outputs": [
        {
          "output_type": "execute_result",
          "data": {
            "text/plain": [
              "{}"
            ]
          },
          "metadata": {},
          "execution_count": 27
        }
      ]
    },
    {
      "cell_type": "code",
      "source": [
        "a['name'] = 'python'   # 정상\n",
        "a"
      ],
      "metadata": {
        "colab": {
          "base_uri": "https://localhost:8080/"
        },
        "id": "eawr0LLQK42I",
        "outputId": "64975bf5-0d21-4c80-ff6e-1dc115a25492"
      },
      "execution_count": null,
      "outputs": [
        {
          "output_type": "execute_result",
          "data": {
            "text/plain": [
              "{'name': 'python'}"
            ]
          },
          "metadata": {},
          "execution_count": 28
        }
      ]
    },
    {
      "cell_type": "code",
      "source": [
        "a[('a',)] = 'python'  # 정상\n",
        "a"
      ],
      "metadata": {
        "colab": {
          "base_uri": "https://localhost:8080/"
        },
        "id": "81KBSOF7LE_c",
        "outputId": "cf86f7bf-1233-4ecc-f48e-cd1c0a5fc99a"
      },
      "execution_count": null,
      "outputs": [
        {
          "output_type": "execute_result",
          "data": {
            "text/plain": [
              "{('a',): 'python', 'name': 'python'}"
            ]
          },
          "metadata": {},
          "execution_count": 29
        }
      ]
    },
    {
      "cell_type": "code",
      "source": [
        "a[[1]] = \"python\"   # dictionary의 key 값은 변하지 않는 값이어야 하므로, 상수,무자, tuple 등이 가능하나, 리스트는 안됨.\n",
        "                    # 따라서 에러 발생\n",
        "a"
      ],
      "metadata": {
        "colab": {
          "base_uri": "https://localhost:8080/",
          "height": 193
        },
        "id": "_xBmuM1FLes9",
        "outputId": "77686381-5f5f-4724-cf6a-0412c10f60b7"
      },
      "execution_count": null,
      "outputs": [
        {
          "output_type": "error",
          "ename": "TypeError",
          "evalue": "ignored",
          "traceback": [
            "\u001b[0;31m---------------------------------------------------------------------------\u001b[0m",
            "\u001b[0;31mTypeError\u001b[0m                                 Traceback (most recent call last)",
            "\u001b[0;32m<ipython-input-30-d9d9a8c9e17a>\u001b[0m in \u001b[0;36m<module>\u001b[0;34m()\u001b[0m\n\u001b[0;32m----> 1\u001b[0;31m \u001b[0ma\u001b[0m\u001b[0;34m[\u001b[0m\u001b[0;34m[\u001b[0m\u001b[0;36m1\u001b[0m\u001b[0;34m]\u001b[0m\u001b[0;34m]\u001b[0m \u001b[0;34m=\u001b[0m \u001b[0;34m\"python\"\u001b[0m\u001b[0;34m\u001b[0m\u001b[0;34m\u001b[0m\u001b[0m\n\u001b[0m\u001b[1;32m      2\u001b[0m \u001b[0ma\u001b[0m\u001b[0;34m\u001b[0m\u001b[0;34m\u001b[0m\u001b[0m\n",
            "\u001b[0;31mTypeError\u001b[0m: unhashable type: 'list'"
          ]
        }
      ]
    },
    {
      "cell_type": "code",
      "source": [
        "a[250]='python'"
      ],
      "metadata": {
        "id": "ZW9NbfklLkfX"
      },
      "execution_count": 31,
      "outputs": []
    },
    {
      "cell_type": "code",
      "source": [
        "a"
      ],
      "metadata": {
        "colab": {
          "base_uri": "https://localhost:8080/"
        },
        "id": "IrMnNB_DXh1w",
        "outputId": "bcca530c-03ce-4a7b-d910-044f0d9c454d"
      },
      "execution_count": 32,
      "outputs": [
        {
          "output_type": "execute_result",
          "data": {
            "text/plain": [
              "{('a',): 'python', 250: 'python', 'name': 'python'}"
            ]
          },
          "metadata": {},
          "execution_count": 32
        }
      ]
    },
    {
      "cell_type": "code",
      "source": [
        "#Q10\n",
        "a = {'A':90,'B':80,'C':70}\n",
        "b_pop = a.pop('B')   # key 값을 쓰면 해당 값이 추출됨"
      ],
      "metadata": {
        "colab": {
          "base_uri": "https://localhost:8080/"
        },
        "id": "Q7UCWN9KXjHN",
        "outputId": "3f8fba72-705c-4b75-d9a1-4c58144c132a"
      },
      "execution_count": 33,
      "outputs": [
        {
          "output_type": "stream",
          "name": "stdout",
          "text": [
            "b_pop = \n",
            "{'A': 90, 'C': 70}\n"
          ]
        }
      ]
    },
    {
      "cell_type": "code",
      "source": [
        "print(\"b_pop = \", b_pop)\n",
        "print(\"a=\", a)"
      ],
      "metadata": {
        "colab": {
          "base_uri": "https://localhost:8080/"
        },
        "id": "SBj-cXnNZS29",
        "outputId": "015f48c7-e361-4021-ea34-2a618ee96c0a"
      },
      "execution_count": 34,
      "outputs": [
        {
          "output_type": "stream",
          "name": "stdout",
          "text": [
            "b_pop =  80\n",
            "a= {'A': 90, 'C': 70}\n"
          ]
        }
      ]
    },
    {
      "cell_type": "code",
      "source": [
        "#Q11\n",
        "a=[1,1,1,2,2,3,3,3,4,4,5]\n",
        "a_set = list(set(a))   # set(a) type을 list 로 전환\n",
        "print(a_set)"
      ],
      "metadata": {
        "colab": {
          "base_uri": "https://localhost:8080/"
        },
        "id": "V4GDXphQaOZg",
        "outputId": "ff1a9132-3071-4c1b-889e-6eac692db101"
      },
      "execution_count": 37,
      "outputs": [
        {
          "output_type": "stream",
          "name": "stdout",
          "text": [
            "[1, 2, 3, 4, 5]\n"
          ]
        }
      ]
    },
    {
      "cell_type": "code",
      "source": [
        "#Q12\n",
        "a = b = [1,2,3]\n",
        "a[1]=4\n",
        "print(b)"
      ],
      "metadata": {
        "colab": {
          "base_uri": "https://localhost:8080/"
        },
        "id": "_rNzKTSUbNZa",
        "outputId": "816aec24-60b4-4380-8a0e-af80eeff9f93"
      },
      "execution_count": 39,
      "outputs": [
        {
          "output_type": "stream",
          "name": "stdout",
          "text": [
            "[1, 4, 3]\n"
          ]
        }
      ]
    },
    {
      "cell_type": "code",
      "source": [
        "# a 와  b 가 동일한 주소를 가리키고 있으므로, a 값을 바꾸면 해당 주소에 할당된 값도 바뀌므로 b 값도 바뀜"
      ],
      "metadata": {
        "id": "SLzdNfFtby8I"
      },
      "execution_count": null,
      "outputs": []
    }
  ]
}