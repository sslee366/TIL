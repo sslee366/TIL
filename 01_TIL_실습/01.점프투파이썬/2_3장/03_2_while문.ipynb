{
  "nbformat": 4,
  "nbformat_minor": 0,
  "metadata": {
    "colab": {
      "name": "03_2_while문.ipynb",
      "provenance": [],
      "collapsed_sections": []
    },
    "kernelspec": {
      "name": "python3",
      "display_name": "Python 3"
    },
    "language_info": {
      "name": "python"
    }
  },
  "cells": [
    {
      "cell_type": "code",
      "execution_count": 1,
      "metadata": {
        "id": "hGLeSAMliEo3"
      },
      "outputs": [],
      "source": [
        "#while문"
      ]
    },
    {
      "cell_type": "code",
      "source": [
        "treeHit = 0\n",
        "while treeHit < 10:\n",
        "    treeHit += 1\n",
        "    print(\"나무를 %d번 찍었습니다.\" % treeHit)\n",
        "    if treeHit == 10:\n",
        "        print(\"나무 넘어갑니다.\")"
      ],
      "metadata": {
        "colab": {
          "base_uri": "https://localhost:8080/"
        },
        "id": "FK6eIHrWiQT0",
        "outputId": "ca2ad4d7-c592-42f1-fc23-806b0c7ac294"
      },
      "execution_count": 2,
      "outputs": [
        {
          "output_type": "stream",
          "name": "stdout",
          "text": [
            "나무를 1번 찍었습니다.\n",
            "나무를 2번 찍었습니다.\n",
            "나무를 3번 찍었습니다.\n",
            "나무를 4번 찍었습니다.\n",
            "나무를 5번 찍었습니다.\n",
            "나무를 6번 찍었습니다.\n",
            "나무를 7번 찍었습니다.\n",
            "나무를 8번 찍었습니다.\n",
            "나무를 9번 찍었습니다.\n",
            "나무를 10번 찍었습니다.\n",
            "나무 넘어갑니다.\n"
          ]
        }
      ]
    },
    {
      "cell_type": "code",
      "source": [
        "treeHit = 0\n",
        "while treeHit < 10:\n",
        "    treeHit += 1\n",
        "    print(\"나무를 %d번 찍었습니다.\" % treeHit)\n",
        "    if treeHit == 10:\n",
        "        pass"
      ],
      "metadata": {
        "colab": {
          "base_uri": "https://localhost:8080/"
        },
        "id": "jFReBkazi1XV",
        "outputId": "6329c858-3cc1-40c4-ac15-562792099216"
      },
      "execution_count": 3,
      "outputs": [
        {
          "output_type": "stream",
          "name": "stdout",
          "text": [
            "나무를 1번 찍었습니다.\n",
            "나무를 2번 찍었습니다.\n",
            "나무를 3번 찍었습니다.\n",
            "나무를 4번 찍었습니다.\n",
            "나무를 5번 찍었습니다.\n",
            "나무를 6번 찍었습니다.\n",
            "나무를 7번 찍었습니다.\n",
            "나무를 8번 찍었습니다.\n",
            "나무를 9번 찍었습니다.\n",
            "나무를 10번 찍었습니다.\n"
          ]
        }
      ]
    },
    {
      "cell_type": "code",
      "source": [
        "prompt = \"\"\"\n",
        "    1. Add\n",
        "    2. Del\n",
        "    3. List\n",
        "    4. Quit\n",
        "\n",
        "    Enter number: \"\"\"\n",
        "prompt"
      ],
      "metadata": {
        "colab": {
          "base_uri": "https://localhost:8080/",
          "height": 35
        },
        "id": "6NLN6PJEjCm4",
        "outputId": "6ba2fb98-5980-484b-bf91-c89b91c07321"
      },
      "execution_count": 4,
      "outputs": [
        {
          "output_type": "execute_result",
          "data": {
            "text/plain": [
              "'\\n    1. Add\\n    2. Del\\n    3. List\\n    4. Quit\\n\\n    Enter number: '"
            ],
            "application/vnd.google.colaboratory.intrinsic+json": {
              "type": "string"
            }
          },
          "metadata": {},
          "execution_count": 4
        }
      ]
    },
    {
      "cell_type": "code",
      "source": [
        "number = 0\n",
        "while number != 4:\n",
        "    print(prompt)\n",
        "    number = int(input())"
      ],
      "metadata": {
        "colab": {
          "base_uri": "https://localhost:8080/"
        },
        "id": "Yr6fI_HFky3o",
        "outputId": "533c5880-6d17-4486-8f1b-02bbfbecc79c"
      },
      "execution_count": 5,
      "outputs": [
        {
          "name": "stdout",
          "output_type": "stream",
          "text": [
            "\n",
            "    1. Add\n",
            "    2. Del\n",
            "    3. List\n",
            "    4. Quit\n",
            "\n",
            "    Enter number: \n",
            "2\n",
            "\n",
            "    1. Add\n",
            "    2. Del\n",
            "    3. List\n",
            "    4. Quit\n",
            "\n",
            "    Enter number: \n",
            "3\n",
            "\n",
            "    1. Add\n",
            "    2. Del\n",
            "    3. List\n",
            "    4. Quit\n",
            "\n",
            "    Enter number: \n",
            "4\n"
          ]
        }
      ]
    },
    {
      "cell_type": "code",
      "source": [
        "coffee = 10\n",
        "money = 300\n",
        "while money:\n",
        "    print(\"커피를 곧 준비하겠습니다\")\n",
        "    coffee = coffee - 1\n",
        "    print(\"잔여 커피는 %d 잔 입니다.\" % coffee)\n",
        "    if coffee == 0:\n",
        "        print(\"커피가 없어 판매중지합니다\")\n",
        "        break   # 무한 반복의 우려가 없어짐"
      ],
      "metadata": {
        "colab": {
          "base_uri": "https://localhost:8080/"
        },
        "id": "d7qhD-f6lFLK",
        "outputId": "ffbc9dab-5c01-46fe-b3bc-d4ab87e8e0a9"
      },
      "execution_count": 6,
      "outputs": [
        {
          "output_type": "stream",
          "name": "stdout",
          "text": [
            "커피를 곧 준비하겠습니다\n",
            "잔여 커피는 9 잔 입니다.\n",
            "커피를 곧 준비하겠습니다\n",
            "잔여 커피는 8 잔 입니다.\n",
            "커피를 곧 준비하겠습니다\n",
            "잔여 커피는 7 잔 입니다.\n",
            "커피를 곧 준비하겠습니다\n",
            "잔여 커피는 6 잔 입니다.\n",
            "커피를 곧 준비하겠습니다\n",
            "잔여 커피는 5 잔 입니다.\n",
            "커피를 곧 준비하겠습니다\n",
            "잔여 커피는 4 잔 입니다.\n",
            "커피를 곧 준비하겠습니다\n",
            "잔여 커피는 3 잔 입니다.\n",
            "커피를 곧 준비하겠습니다\n",
            "잔여 커피는 2 잔 입니다.\n",
            "커피를 곧 준비하겠습니다\n",
            "잔여 커피는 1 잔 입니다.\n",
            "커피를 곧 준비하겠습니다\n",
            "잔여 커피는 0 잔 입니다.\n",
            "커피가 없어 판매중지합니다\n"
          ]
        }
      ]
    },
    {
      "cell_type": "code",
      "source": [
        "coffee = 3\n",
        "\n",
        "while True:\n",
        "    money = int(input(\"돈을 넣어 주세요:\"))\n",
        "    if money == 300:\n",
        "        print(\"커피를 곧 준비하겠습니다\")\n",
        "        coffee = coffee - 1\n",
        "    elif money > 300:\n",
        "        print(\"잔돈 %d를 돌려드리고 커피를 드립니다.\" % (money - 300))\n",
        "        coffee = coffee - 1\n",
        "    else:\n",
        "        print(\"커피값은 300원입니다. 돈이 부족합니다.\")\n",
        "        print(\"잔여 커피는 %d 잔 입니다.\" % coffee)\n",
        "    if coffee == 0:\n",
        "        print(\"커피가 없어 판매중지합니다\")\n",
        "        break   # 무한 반복의 우려가 없어짐"
      ],
      "metadata": {
        "colab": {
          "base_uri": "https://localhost:8080/"
        },
        "id": "r-Y7dONImy-u",
        "outputId": "11f55862-ccd6-4077-c347-eac795609bc0"
      },
      "execution_count": 9,
      "outputs": [
        {
          "output_type": "stream",
          "name": "stdout",
          "text": [
            "돈을 넣어 주세요:300\n",
            "커피를 곧 준비하겠습니다\n",
            "돈을 넣어 주세요:200\n",
            "커피값은 300원입니다. 돈이 부족합니다.\n",
            "잔여 커피는 2 잔 입니다.\n",
            "돈을 넣어 주세요:300\n",
            "커피를 곧 준비하겠습니다\n",
            "돈을 넣어 주세요:400\n",
            "잔돈 100를 돌려드리고 커피를 드립니다.\n",
            "커피가 없어 판매중지합니다\n"
          ]
        }
      ]
    },
    {
      "cell_type": "code",
      "source": [
        "a = 0\n",
        "while a<10:\n",
        "    a +=1\n",
        "    if a % 2 == 0:\n",
        "        continue # while 문장으로 바로 감. 따라서 print (a)를 실행하지 않음\n",
        "    print(a)"
      ],
      "metadata": {
        "colab": {
          "base_uri": "https://localhost:8080/"
        },
        "id": "Ajo4ypEXoWtO",
        "outputId": "378f05c9-d136-4be4-86b2-09f4d43466dd"
      },
      "execution_count": 10,
      "outputs": [
        {
          "output_type": "stream",
          "name": "stdout",
          "text": [
            "1\n",
            "3\n",
            "5\n",
            "7\n",
            "9\n"
          ]
        }
      ]
    },
    {
      "cell_type": "code",
      "source": [
        "a = 0\n",
        "while a<10:\n",
        "    a +=1\n",
        "    if a % 2 == 0:\n",
        "        pass   # pass 는 바로 아래 문장을 확인하므로 위의 문장대로 일 경우 모든 숫자 1~10 모두 출력됨\n",
        "               # 따라서 else 로 해당문장과 구분되어야 함\n",
        "    else:\n",
        "        print(a)"
      ],
      "metadata": {
        "colab": {
          "base_uri": "https://localhost:8080/"
        },
        "id": "jAnNAcPWpgru",
        "outputId": "3eb4c3dd-aae0-4fbe-eab4-4e8a011d9e7e"
      },
      "execution_count": 12,
      "outputs": [
        {
          "output_type": "stream",
          "name": "stdout",
          "text": [
            "1\n",
            "3\n",
            "5\n",
            "7\n",
            "9\n"
          ]
        }
      ]
    }
  ]
}