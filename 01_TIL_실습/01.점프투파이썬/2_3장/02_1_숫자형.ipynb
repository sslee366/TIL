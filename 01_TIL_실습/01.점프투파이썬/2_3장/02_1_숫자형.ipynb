{
  "nbformat": 4,
  "nbformat_minor": 0,
  "metadata": {
    "colab": {
      "name": "02-1.파이썬기초_숫자형_이수진.ipynb",
      "provenance": [],
      "collapsed_sections": [],
      "toc_visible": true
    },
    "kernelspec": {
      "name": "python3",
      "display_name": "Python 3"
    },
    "language_info": {
      "name": "python"
    }
  },
  "cells": [
    {
      "cell_type": "markdown",
      "source": [
        "**정수형**"
      ],
      "metadata": {
        "id": "aYwvDisXzCE4"
      }
    },
    {
      "cell_type": "code",
      "execution_count": 1,
      "metadata": {
        "colab": {
          "base_uri": "https://localhost:8080/"
        },
        "id": "it3nJA0Cx3b3",
        "outputId": "38a435ea-3e0b-4618-bcbc-4e6307787fe9"
      },
      "outputs": [
        {
          "output_type": "execute_result",
          "data": {
            "text/plain": [
              "123"
            ]
          },
          "metadata": {},
          "execution_count": 1
        }
      ],
      "source": [
        "a = 123\n",
        "a\n"
      ]
    },
    {
      "cell_type": "code",
      "source": [
        "a = -178\n",
        "a"
      ],
      "metadata": {
        "colab": {
          "base_uri": "https://localhost:8080/"
        },
        "id": "hD26M-MdzMeH",
        "outputId": "48b4fe42-a9bf-4e96-f57a-278bbb3dc971"
      },
      "execution_count": 3,
      "outputs": [
        {
          "output_type": "execute_result",
          "data": {
            "text/plain": [
              "-178"
            ]
          },
          "metadata": {},
          "execution_count": 3
        }
      ]
    },
    {
      "cell_type": "code",
      "source": [
        "a = 0\n",
        "a"
      ],
      "metadata": {
        "colab": {
          "base_uri": "https://localhost:8080/"
        },
        "id": "YGfAXuPOzR3d",
        "outputId": "206736f7-161c-4bf2-c100-7f5d8c6a7720"
      },
      "execution_count": 4,
      "outputs": [
        {
          "output_type": "execute_result",
          "data": {
            "text/plain": [
              "0"
            ]
          },
          "metadata": {},
          "execution_count": 4
        }
      ]
    },
    {
      "cell_type": "markdown",
      "source": [
        "**실수형**"
      ],
      "metadata": {
        "id": "U7PZaUIVzYiV"
      }
    },
    {
      "cell_type": "code",
      "source": [
        "a = 1.2\n",
        "a\n"
      ],
      "metadata": {
        "colab": {
          "base_uri": "https://localhost:8080/"
        },
        "id": "pgahp56mzjqH",
        "outputId": "a1b74a3f-b9ec-41fc-9536-68a60c8e88fb"
      },
      "execution_count": 5,
      "outputs": [
        {
          "output_type": "execute_result",
          "data": {
            "text/plain": [
              "1.2"
            ]
          },
          "metadata": {},
          "execution_count": 5
        }
      ]
    },
    {
      "cell_type": "code",
      "source": [
        "a = -3.45\n",
        "a"
      ],
      "metadata": {
        "colab": {
          "base_uri": "https://localhost:8080/"
        },
        "id": "0PTuelmBzr-G",
        "outputId": "3e64fb9a-d1cc-4fea-c0c5-cdd186847fda"
      },
      "execution_count": 6,
      "outputs": [
        {
          "output_type": "execute_result",
          "data": {
            "text/plain": [
              "-3.45"
            ]
          },
          "metadata": {},
          "execution_count": 6
        }
      ]
    },
    {
      "cell_type": "code",
      "source": [
        "a = 4.2E10\n",
        "a"
      ],
      "metadata": {
        "colab": {
          "base_uri": "https://localhost:8080/"
        },
        "id": "2U13yKdozx8D",
        "outputId": "e57bdb9f-f00a-45ce-83a9-c2a188eed975"
      },
      "execution_count": 7,
      "outputs": [
        {
          "output_type": "execute_result",
          "data": {
            "text/plain": [
              "42000000000.0"
            ]
          },
          "metadata": {},
          "execution_count": 7
        }
      ]
    },
    {
      "cell_type": "code",
      "source": [
        "a = 4.24E-10\n",
        "a"
      ],
      "metadata": {
        "colab": {
          "base_uri": "https://localhost:8080/"
        },
        "id": "d7XluBUuz_L8",
        "outputId": "f794f929-107f-4b7a-9a26-f6d3225b6abd"
      },
      "execution_count": 8,
      "outputs": [
        {
          "output_type": "execute_result",
          "data": {
            "text/plain": [
              "4.24e-10"
            ]
          },
          "metadata": {},
          "execution_count": 8
        }
      ]
    },
    {
      "cell_type": "markdown",
      "source": [
        "**8진수와 16진수**"
      ],
      "metadata": {
        "id": "dPiwMKGI0Kk-"
      }
    },
    {
      "cell_type": "code",
      "source": [
        "a = 0o177"
      ],
      "metadata": {
        "id": "ZnBE47VW0TYm"
      },
      "execution_count": 11,
      "outputs": []
    },
    {
      "cell_type": "code",
      "source": [
        "print('8진수 a=', a)"
      ],
      "metadata": {
        "colab": {
          "base_uri": "https://localhost:8080/"
        },
        "id": "L0iQa5HV0v3O",
        "outputId": "4aae49de-adab-41f5-ba76-9dba47eb53a1"
      },
      "execution_count": 12,
      "outputs": [
        {
          "output_type": "stream",
          "name": "stdout",
          "text": [
            "8진수 a= 127\n"
          ]
        }
      ]
    },
    {
      "cell_type": "code",
      "source": [
        "a = 0x8ff       # 16진수 (8 * (16**2)) + (f *16) + f = 2048 + 240 + 15\n",
        "b = 0xABC       # (10 * 16**2)+(11 * 16)+12 = 2560 + 176 + 12\n",
        "\n",
        "print('16진수')\n",
        "print('a=', a)\n",
        "print('b=', b)"
      ],
      "metadata": {
        "colab": {
          "base_uri": "https://localhost:8080/"
        },
        "id": "b2DNqTRz081s",
        "outputId": "7686632e-8753-423e-b920-5708185e7415"
      },
      "execution_count": 13,
      "outputs": [
        {
          "output_type": "stream",
          "name": "stdout",
          "text": [
            "16진수\n",
            "a= 2303\n",
            "b= 2748\n"
          ]
        }
      ]
    },
    {
      "cell_type": "markdown",
      "source": [
        "# **숫자형을 활용하기 위한 연산자**\n",
        "**사칙연산**"
      ],
      "metadata": {
        "id": "5roZx9xx4BpG"
      }
    },
    {
      "cell_type": "code",
      "source": [
        "a = 3\n",
        "b = 4\n",
        "\n",
        "print('a + b =', a+b)\n",
        "print('a * b =', a*b )\n",
        "print('a / b = ', a/b)"
      ],
      "metadata": {
        "colab": {
          "base_uri": "https://localhost:8080/"
        },
        "id": "ke55h-eL1mP7",
        "outputId": "f6e3edb4-17b5-4597-f6e6-cb0f55eb25e0"
      },
      "execution_count": 21,
      "outputs": [
        {
          "output_type": "stream",
          "name": "stdout",
          "text": [
            "a + b = 7\n",
            "a * b = 12\n",
            "a / b =  0.75\n"
          ]
        }
      ]
    },
    {
      "cell_type": "markdown",
      "source": [
        "# 연산자: **, %, //  "
      ],
      "metadata": {
        "id": "O--npukr4w5I"
      }
    },
    {
      "cell_type": "code",
      "source": [
        "print('a**b = ', a**b)\n",
        "print('a % b = ', a%b)      # 나머지\n",
        "print('a // b = ', a//b)    # 몫"
      ],
      "metadata": {
        "colab": {
          "base_uri": "https://localhost:8080/"
        },
        "id": "XSxzKFGr4uN9",
        "outputId": "ae831eee-6fab-4b92-9e2e-89f1cf79b545"
      },
      "execution_count": 24,
      "outputs": [
        {
          "output_type": "stream",
          "name": "stdout",
          "text": [
            "a**b =  81\n",
            "a % b =  3\n",
            "a // b =  0\n"
          ]
        }
      ]
    },
    {
      "cell_type": "code",
      "source": [
        ""
      ],
      "metadata": {
        "id": "qCa6WlmZ6snR"
      },
      "execution_count": null,
      "outputs": []
    }
  ]
}