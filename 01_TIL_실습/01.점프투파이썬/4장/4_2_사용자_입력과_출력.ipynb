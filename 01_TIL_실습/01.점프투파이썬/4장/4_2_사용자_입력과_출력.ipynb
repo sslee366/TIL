{
  "nbformat": 4,
  "nbformat_minor": 0,
  "metadata": {
    "colab": {
      "name": "4_2_사용자 입력과 출력.ipynb",
      "provenance": [],
      "collapsed_sections": []
    },
    "kernelspec": {
      "name": "python3",
      "display_name": "Python 3"
    },
    "language_info": {
      "name": "python"
    }
  },
  "cells": [
    {
      "cell_type": "markdown",
      "source": [
        "### 입력\n",
        "- 입력된 모든 것은 문자열(str)로 취급함"
      ],
      "metadata": {
        "id": "aGS_Q19y3oFa"
      }
    },
    {
      "cell_type": "code",
      "execution_count": 1,
      "metadata": {
        "colab": {
          "base_uri": "https://localhost:8080/"
        },
        "id": "vlNp7Thf3ZKa",
        "outputId": "607a437b-8701-4bd1-d6c5-e5517128be85"
      },
      "outputs": [
        {
          "name": "stdout",
          "output_type": "stream",
          "text": [
            "LIfe is wonderful\n"
          ]
        }
      ],
      "source": [
        "a=input()"
      ]
    },
    {
      "cell_type": "code",
      "source": [
        "a"
      ],
      "metadata": {
        "colab": {
          "base_uri": "https://localhost:8080/",
          "height": 35
        },
        "id": "hnWnnsdq3ubJ",
        "outputId": "7561f4d6-2bd9-432c-87fa-ba896da50131"
      },
      "execution_count": 2,
      "outputs": [
        {
          "output_type": "execute_result",
          "data": {
            "text/plain": [
              "'LIfe is wonderful'"
            ],
            "application/vnd.google.colaboratory.intrinsic+json": {
              "type": "string"
            }
          },
          "metadata": {},
          "execution_count": 2
        }
      ]
    },
    {
      "cell_type": "code",
      "source": [
        "input('숫자를 입력하세요')"
      ],
      "metadata": {
        "colab": {
          "base_uri": "https://localhost:8080/",
          "height": 54
        },
        "id": "Fcikj1x23zi8",
        "outputId": "d7ffb2b4-0198-44c0-e7ec-864901aee420"
      },
      "execution_count": 3,
      "outputs": [
        {
          "name": "stdout",
          "output_type": "stream",
          "text": [
            "숫자를 입력하세요5\n"
          ]
        },
        {
          "output_type": "execute_result",
          "data": {
            "text/plain": [
              "'5'"
            ],
            "application/vnd.google.colaboratory.intrinsic+json": {
              "type": "string"
            }
          },
          "metadata": {},
          "execution_count": 3
        }
      ]
    },
    {
      "cell_type": "code",
      "source": [
        "a=input('숫자를 입력하세요')"
      ],
      "metadata": {
        "colab": {
          "base_uri": "https://localhost:8080/"
        },
        "id": "1aF9_GYN4Fca",
        "outputId": "c854cf5d-e53a-4cb5-85a8-5b8cde33585f"
      },
      "execution_count": 5,
      "outputs": [
        {
          "name": "stdout",
          "output_type": "stream",
          "text": [
            "숫자를 입력하세요3\n"
          ]
        }
      ]
    },
    {
      "cell_type": "code",
      "source": [
        "type(a)"
      ],
      "metadata": {
        "colab": {
          "base_uri": "https://localhost:8080/"
        },
        "id": "FYNJcJAg4TvZ",
        "outputId": "8d5e5990-15da-4bc9-9def-c34aee575006"
      },
      "execution_count": 6,
      "outputs": [
        {
          "output_type": "execute_result",
          "data": {
            "text/plain": [
              "str"
            ]
          },
          "metadata": {},
          "execution_count": 6
        }
      ]
    },
    {
      "cell_type": "markdown",
      "source": [
        "### 출력\n",
        "- 따옴표 간에 콤마(,)를 넣으면 띄어 표시해 주나\n",
        "- 콤마가 없으면 붙여서 나옴\n",
        "- +로 각 문자열을 연결할수 있음"
      ],
      "metadata": {
        "id": "L8PhVHO14flD"
      }
    },
    {
      "cell_type": "code",
      "source": [
        "print(\"life\",\"aa\" \"bb\")"
      ],
      "metadata": {
        "colab": {
          "base_uri": "https://localhost:8080/"
        },
        "id": "4do2fVeh4WrK",
        "outputId": "30937857-e604-44ac-bd24-097e582609cf"
      },
      "execution_count": 7,
      "outputs": [
        {
          "output_type": "stream",
          "name": "stdout",
          "text": [
            "life aabb\n"
          ]
        }
      ]
    },
    {
      "cell_type": "code",
      "source": [
        "print('life'+'aaa')"
      ],
      "metadata": {
        "colab": {
          "base_uri": "https://localhost:8080/"
        },
        "id": "3ZjEijZ64uDq",
        "outputId": "10767ca8-c600-4017-d160-48733cf9befc"
      },
      "execution_count": 8,
      "outputs": [
        {
          "output_type": "stream",
          "name": "stdout",
          "text": [
            "lifeaaa\n"
          ]
        }
      ]
    },
    {
      "cell_type": "code",
      "source": [
        ""
      ],
      "metadata": {
        "id": "4NNex6pi5G4V"
      },
      "execution_count": null,
      "outputs": []
    }
  ]
}