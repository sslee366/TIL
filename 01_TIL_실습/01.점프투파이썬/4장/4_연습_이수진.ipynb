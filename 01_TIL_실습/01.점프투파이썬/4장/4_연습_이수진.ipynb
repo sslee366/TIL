{
  "nbformat": 4,
  "nbformat_minor": 0,
  "metadata": {
    "colab": {
      "name": "4_연습_이수진.ipynb",
      "provenance": [],
      "collapsed_sections": []
    },
    "kernelspec": {
      "name": "python3",
      "display_name": "Python 3"
    },
    "language_info": {
      "name": "python"
    }
  },
  "cells": [
    {
      "cell_type": "code",
      "execution_count": null,
      "metadata": {
        "id": "TkxeBo6paAz7"
      },
      "outputs": [],
      "source": [
        "#Q1\n",
        "def is_odd(no):\n",
        "    if no <= 0:   # 자연수가 아님\n",
        "        return False\n",
        "    if no % 2 == 1:\n",
        "        return True\n",
        "    else:\n",
        "        return False\n"
      ]
    },
    {
      "cell_type": "code",
      "source": [
        "is_odd(3)"
      ],
      "metadata": {
        "colab": {
          "base_uri": "https://localhost:8080/"
        },
        "id": "ZqXCrHllaW3H",
        "outputId": "754fd7b4-be51-4252-e807-936c3f3669fe"
      },
      "execution_count": null,
      "outputs": [
        {
          "output_type": "execute_result",
          "data": {
            "text/plain": [
              "True"
            ]
          },
          "metadata": {},
          "execution_count": 3
        }
      ]
    },
    {
      "cell_type": "code",
      "source": [
        "is_odd(-2)"
      ],
      "metadata": {
        "colab": {
          "base_uri": "https://localhost:8080/"
        },
        "id": "pRazq8Kzac9J",
        "outputId": "0fcd1a7f-aae9-4717-ca6b-a607bddf7983"
      },
      "execution_count": null,
      "outputs": [
        {
          "output_type": "execute_result",
          "data": {
            "text/plain": [
              "False"
            ]
          },
          "metadata": {},
          "execution_count": 4
        }
      ]
    },
    {
      "cell_type": "code",
      "source": [
        "is_odd(-2)"
      ],
      "metadata": {
        "colab": {
          "base_uri": "https://localhost:8080/"
        },
        "id": "YC9dyXsFaeUp",
        "outputId": "d009088a-3eef-4d6b-83b3-166c96643e95"
      },
      "execution_count": null,
      "outputs": [
        {
          "output_type": "execute_result",
          "data": {
            "text/plain": [
              "False"
            ]
          },
          "metadata": {},
          "execution_count": 6
        }
      ]
    },
    {
      "cell_type": "code",
      "source": [
        "is_odd = lambda no: True if (no % 2 == 1) and (no > 0) else False"
      ],
      "metadata": {
        "id": "lUJBdcPba0Yp"
      },
      "execution_count": null,
      "outputs": []
    },
    {
      "cell_type": "code",
      "source": [
        "is_odd(3)"
      ],
      "metadata": {
        "colab": {
          "base_uri": "https://localhost:8080/"
        },
        "id": "Nabh_RoSbVSN",
        "outputId": "1bf115fd-5ea7-48ae-a904-c6eabe83a74b"
      },
      "execution_count": null,
      "outputs": [
        {
          "output_type": "execute_result",
          "data": {
            "text/plain": [
              "True"
            ]
          },
          "metadata": {},
          "execution_count": 8
        }
      ]
    },
    {
      "cell_type": "code",
      "source": [
        "is_odd(-3)"
      ],
      "metadata": {
        "colab": {
          "base_uri": "https://localhost:8080/"
        },
        "id": "LN8CokK7bYgt",
        "outputId": "053d090b-6ecf-4f1d-d527-a48be6a18751"
      },
      "execution_count": null,
      "outputs": [
        {
          "output_type": "execute_result",
          "data": {
            "text/plain": [
              "False"
            ]
          },
          "metadata": {},
          "execution_count": 9
        }
      ]
    },
    {
      "cell_type": "code",
      "source": [
        "#Q2\n",
        "def is_mean(*args):\n",
        "    sum = 0\n",
        "    mean = 0\n",
        "    for i in args:\n",
        "        sum += i\n",
        "    mean = sum / len(args)\n",
        "    return mean\n"
      ],
      "metadata": {
        "id": "3owVufIebaOr"
      },
      "execution_count": null,
      "outputs": []
    },
    {
      "cell_type": "code",
      "source": [
        "is_mean(3,4,5)"
      ],
      "metadata": {
        "colab": {
          "base_uri": "https://localhost:8080/"
        },
        "id": "n9bUDPQ5dTid",
        "outputId": "7780f52e-3e28-4474-b59d-beaccfe9496b"
      },
      "execution_count": null,
      "outputs": [
        {
          "output_type": "execute_result",
          "data": {
            "text/plain": [
              "4.0"
            ]
          },
          "metadata": {},
          "execution_count": 17
        }
      ]
    },
    {
      "cell_type": "code",
      "source": [
        "is_mean(7,8,9)"
      ],
      "metadata": {
        "colab": {
          "base_uri": "https://localhost:8080/"
        },
        "id": "RspzNdF8dVsK",
        "outputId": "1b1241bb-fa56-42e9-9a48-b9cb0b24b6ff"
      },
      "execution_count": null,
      "outputs": [
        {
          "output_type": "execute_result",
          "data": {
            "text/plain": [
              "8.0"
            ]
          },
          "metadata": {},
          "execution_count": 18
        }
      ]
    },
    {
      "cell_type": "code",
      "source": [
        "#Q3  input 은 str 이므로 숫자로 인식할려면 int 를 추가해야 한다.\n",
        "def add():\n",
        "    input1 = int(input(\"첫번째 숫자를 입력하세요: \"))\n",
        "    input2 = int(input(\"두번째 숫자를 입력하세요: \"))\n",
        "\n",
        "    total = input1 + input2\n",
        "    print(\"두 수의 합은 %s 입니다.\" % total)"
      ],
      "metadata": {
        "id": "wvUJfQxyeKwn"
      },
      "execution_count": null,
      "outputs": []
    },
    {
      "cell_type": "code",
      "source": [
        "def add2():\n",
        "    input1 = input(\"첫번째 숫자를 입력하세요: \")\n",
        "    input2 = input(\"두번째 숫자를 입력하세요: \")\n",
        "\n",
        "    total = input1 + input2\n",
        "    print(\"두 수의 합은 %s 입니다.\" % total)"
      ],
      "metadata": {
        "id": "-vN6GmPzgpn6"
      },
      "execution_count": null,
      "outputs": []
    },
    {
      "cell_type": "code",
      "source": [
        "add()"
      ],
      "metadata": {
        "colab": {
          "base_uri": "https://localhost:8080/"
        },
        "id": "jE6KNp9ggWbc",
        "outputId": "5dfe8416-a602-4e88-f78d-e0d7af2bdbcf"
      },
      "execution_count": null,
      "outputs": [
        {
          "output_type": "stream",
          "name": "stdout",
          "text": [
            "첫번째 숫자를 입력하세요: 3\n",
            "두번째 숫자를 입력하세요: 4\n",
            "두 수의 합은 7 입니다.\n"
          ]
        }
      ]
    },
    {
      "cell_type": "code",
      "source": [
        "add2()"
      ],
      "metadata": {
        "colab": {
          "base_uri": "https://localhost:8080/"
        },
        "id": "x9N77FsQgtaa",
        "outputId": "81d68bed-36f5-451e-904f-7a21f3ba0679"
      },
      "execution_count": null,
      "outputs": [
        {
          "output_type": "stream",
          "name": "stdout",
          "text": [
            "첫번째 숫자를 입력하세요: 3\n",
            "두번째 숫자를 입력하세요: 4\n",
            "두 수의 합은 34 입니다.\n"
          ]
        }
      ]
    },
    {
      "cell_type": "code",
      "source": [
        "#Q4\n",
        "print(\"you\" \"need\" \"python\")"
      ],
      "metadata": {
        "colab": {
          "base_uri": "https://localhost:8080/"
        },
        "id": "_hvjUJ-EhQDC",
        "outputId": "bec44d31-d317-49bd-a5f3-9a7e4ccf0b4a"
      },
      "execution_count": null,
      "outputs": [
        {
          "output_type": "stream",
          "name": "stdout",
          "text": [
            "youneedpython\n"
          ]
        }
      ]
    },
    {
      "cell_type": "code",
      "source": [
        "print(\"you\"+\"need\"+\"python\")"
      ],
      "metadata": {
        "colab": {
          "base_uri": "https://localhost:8080/"
        },
        "id": "HhRuocnXhZw9",
        "outputId": "45c7938c-faa6-4646-8824-73e6600eab32"
      },
      "execution_count": null,
      "outputs": [
        {
          "output_type": "stream",
          "name": "stdout",
          "text": [
            "youneedpython\n"
          ]
        }
      ]
    },
    {
      "cell_type": "code",
      "source": [
        "print(\"you\",\"need\",\"python\")"
      ],
      "metadata": {
        "colab": {
          "base_uri": "https://localhost:8080/"
        },
        "id": "Ay4a_YpYhfuZ",
        "outputId": "8caee9c2-889f-4d53-c54d-e08214dbe9b3"
      },
      "execution_count": null,
      "outputs": [
        {
          "output_type": "stream",
          "name": "stdout",
          "text": [
            "you need python\n"
          ]
        }
      ]
    },
    {
      "cell_type": "code",
      "source": [
        "print(\" \".join([\"you\", \"need\", \"python\"]))"
      ],
      "metadata": {
        "colab": {
          "base_uri": "https://localhost:8080/"
        },
        "id": "4u838kXqhjpw",
        "outputId": "9e0e2d3c-298a-40e9-8ffa-505375683853"
      },
      "execution_count": null,
      "outputs": [
        {
          "output_type": "stream",
          "name": "stdout",
          "text": [
            "you need python\n"
          ]
        }
      ]
    },
    {
      "cell_type": "code",
      "source": [
        "#Q5\n",
        "f1 = open(\"Qtest.txt\",'w')\n",
        "f1.write(\"Life is too short\")\n",
        "f1.close()   # file 을 닫아야 다시 열수 있음\n",
        "\n",
        "f2 = open(\"Qtest.txt\",'r')\n",
        "print(f2.read())\n",
        "f2.close()"
      ],
      "metadata": {
        "colab": {
          "base_uri": "https://localhost:8080/"
        },
        "id": "h6iBjf2_hzAQ",
        "outputId": "a481d8ba-2a69-4660-ce51-75c726cac73e"
      },
      "execution_count": null,
      "outputs": [
        {
          "output_type": "stream",
          "name": "stdout",
          "text": [
            "Life is too short\n"
          ]
        }
      ]
    },
    {
      "cell_type": "code",
      "source": [
        "#Q6\n",
        "f6 = open(\"test.txt\",\"a\")\n",
        "\n",
        "check = True\n",
        "flag = True\n",
        "\n",
        "def q6_in(flag):\n",
        "    q6line = input(\"저장할 데이타를 입력하세요: \")\n",
        "\n",
        "    if q6line == \"\":\n",
        "        flag = False\n",
        "    else:\n",
        "        f6.write(\"%s\\n\" %q6line)\n",
        "\n",
        "    return flag\n",
        "\n",
        "while check:\n",
        "    check = q6_in(flag)\n",
        "\n",
        "f6.close()"
      ],
      "metadata": {
        "colab": {
          "base_uri": "https://localhost:8080/"
        },
        "id": "zb3IHcbgnUt9",
        "outputId": "b97df31c-a79e-45cf-a58f-4bcc38e31165"
      },
      "execution_count": 14,
      "outputs": [
        {
          "name": "stdout",
          "output_type": "stream",
          "text": [
            "저장할 데이타를 입력하세요: You need phython.\n",
            "저장할 데이타를 입력하세요: \n"
          ]
        }
      ]
    },
    {
      "cell_type": "code",
      "source": [
        "#Q7\n",
        "f7 = open(\"test.txt\", 'r')\n",
        "q_update = f7.read()\n",
        "f7.close()\n",
        "\n",
        "q_update = q_update.replace('java', 'python')\n",
        "\n",
        "f7 = open(\"test.txt\", \"w\")\n",
        "f7.write(q_update)\n",
        "f7.close()"
      ],
      "metadata": {
        "id": "UIFFa_UPut4N"
      },
      "execution_count": 19,
      "outputs": []
    },
    {
      "cell_type": "code",
      "source": [
        ""
      ],
      "metadata": {
        "id": "QLDljvNIut2k"
      },
      "execution_count": null,
      "outputs": []
    }
  ]
}