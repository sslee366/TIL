{
  "nbformat": 4,
  "nbformat_minor": 0,
  "metadata": {
    "colab": {
      "name": "4_3_파일읽고쓰기.ipynb",
      "provenance": [],
      "collapsed_sections": []
    },
    "kernelspec": {
      "name": "python3",
      "display_name": "Python 3"
    },
    "language_info": {
      "name": "python"
    }
  },
  "cells": [
    {
      "cell_type": "markdown",
      "source": [
        "### 파일 생성"
      ],
      "metadata": {
        "id": "x4b_f__u5hv2"
      }
    },
    {
      "cell_type": "code",
      "execution_count": null,
      "metadata": {
        "id": "g-RscJ3a5b0I"
      },
      "outputs": [],
      "source": [
        "f = open(\"test1.txt\", 'w')\n",
        "f.close()"
      ]
    },
    {
      "cell_type": "code",
      "source": [
        "f= open('test2.txt','w')\n",
        "for i in range(1,11):\n",
        "    data = \"%d번째 줄입니다.\\n\" %i\n",
        "    f.write(data)\n",
        "f.close()"
      ],
      "metadata": {
        "id": "pxY5quqO6YoH"
      },
      "execution_count": 15,
      "outputs": []
    },
    {
      "cell_type": "code",
      "source": [
        "f= open('test1.txt','w')\n",
        "\n",
        "while True:\n",
        "    data = input ()\n",
        "    if not data: break\n",
        "    f.write(\"%s\\n\" %data)\n",
        "f.close()"
      ],
      "metadata": {
        "colab": {
          "base_uri": "https://localhost:8080/"
        },
        "id": "jWt2alH8AIYj",
        "outputId": "79e43b05-d4f7-44fc-8c11-ff1ea122c1ac"
      },
      "execution_count": 19,
      "outputs": [
        {
          "name": "stdout",
          "output_type": "stream",
          "text": [
            "Life\n",
            "is\n",
            "wonderful\n",
            "\n"
          ]
        }
      ]
    },
    {
      "cell_type": "code",
      "source": [
        "f= open('test3.txt','w')\n",
        "\n",
        "while True:\n",
        "    data = input (\"입력데이터를 넣으세요: \")\n",
        "    if not data: break\n",
        "    f.write(\"%s\\n\" %data)\n",
        "f.close()"
      ],
      "metadata": {
        "colab": {
          "base_uri": "https://localhost:8080/"
        },
        "id": "HqEqdvMhB34u",
        "outputId": "a9a62b32-be4d-4b59-a9ea-c7482b538277"
      },
      "execution_count": 20,
      "outputs": [
        {
          "name": "stdout",
          "output_type": "stream",
          "text": [
            "입력데이터를 넣으세요: Happy\n",
            "입력데이터를 넣으세요: Happy\n",
            "입력데이터를 넣으세요: Happy\n",
            "입력데이터를 넣으세요: \n"
          ]
        }
      ]
    },
    {
      "cell_type": "markdown",
      "source": [
        "### 파일 읽기"
      ],
      "metadata": {
        "id": "TtqNWRFi_DZR"
      }
    },
    {
      "cell_type": "code",
      "source": [
        "f=open(\"test1.txt\",'r')\n",
        "\n",
        "while True:\n",
        "    line=f.readline()\n",
        "    if not line:\n",
        "        break\n",
        "    print(line)\n",
        "\n",
        "f.close()"
      ],
      "metadata": {
        "id": "lKDlVL-V9wfP"
      },
      "execution_count": 12,
      "outputs": []
    },
    {
      "cell_type": "code",
      "source": [
        "f=open(\"test2.txt\",'r')\n",
        "\n",
        "while True:\n",
        "    line=f.readline()\n",
        "    if not line:\n",
        "        break\n",
        "    print(line)\n",
        "\n",
        "f.close()"
      ],
      "metadata": {
        "colab": {
          "base_uri": "https://localhost:8080/"
        },
        "id": "gWBYhNM7_QEd",
        "outputId": "648a6ec2-08bb-4c51-d37f-247a9cf1fcf1"
      },
      "execution_count": 13,
      "outputs": [
        {
          "output_type": "stream",
          "name": "stdout",
          "text": [
            "1번째 줄입니다.\n",
            "\n",
            "2번째 줄입니다.\n",
            "\n",
            "3번째 줄입니다.\n",
            "\n",
            "4번째 줄입니다.\n",
            "\n",
            "5번째 줄입니다.\n",
            "\n",
            "6번째 줄입니다.\n",
            "\n",
            "7번째 줄입니다.\n",
            "\n",
            "8번째 줄입니다.\n",
            "\n",
            "9번째 줄입니다.\n",
            "\n",
            "10번째 줄입니다.\n",
            "\n"
          ]
        }
      ]
    },
    {
      "cell_type": "code",
      "source": [
        "f=open(\"test3.txt\", 'r')\n",
        "lines = f.readlines()\n",
        "for line in lines:\n",
        "    print(line)\n",
        "f.close()"
      ],
      "metadata": {
        "colab": {
          "base_uri": "https://localhost:8080/"
        },
        "id": "6E5yy0VwChsc",
        "outputId": "f089df11-0c90-4be2-ee53-d017f9233fca"
      },
      "execution_count": 23,
      "outputs": [
        {
          "output_type": "stream",
          "name": "stdout",
          "text": [
            "Happy\n",
            "\n",
            "Happy\n",
            "\n",
            "Happy\n",
            "\n"
          ]
        }
      ]
    },
    {
      "cell_type": "code",
      "source": [
        "f=open(\"test3.txt\", 'r')\n",
        "lines = f.readlines()\n",
        "for line in lines:\n",
        "    line = line.strip()\n",
        "    print(line)\n",
        "f.close()"
      ],
      "metadata": {
        "colab": {
          "base_uri": "https://localhost:8080/"
        },
        "id": "sidTufE_Cq-k",
        "outputId": "f5fe08bc-d9fb-4f10-d334-60c0988bf3c5"
      },
      "execution_count": 24,
      "outputs": [
        {
          "output_type": "stream",
          "name": "stdout",
          "text": [
            "Happy\n",
            "Happy\n",
            "Happy\n"
          ]
        }
      ]
    },
    {
      "cell_type": "markdown",
      "source": [
        "### 내용추가"
      ],
      "metadata": {
        "id": "TV9kH0vnDvfZ"
      }
    },
    {
      "cell_type": "code",
      "source": [
        "f=open('test3.txt','a')\n",
        "\n",
        "# 화일의 마지막 부분부터 추가됨\n",
        "for i in range(7,11):\n",
        "    data = '%d번째 happy\\n' % i\n",
        "    f.write(data)\n",
        "f.close()"
      ],
      "metadata": {
        "id": "Ujm2q2ZTDyI6"
      },
      "execution_count": 25,
      "outputs": []
    },
    {
      "cell_type": "code",
      "source": [
        "f=open('test3.txt','a')\n",
        "\n",
        "# 화일의 마지막 부분부터 추가됨\n",
        "for i in range(8,10):\n",
        "    data = input('%d번째 단어를 쓰세요: ' % i)\n",
        "    f.write(data+'\\n\\')\n",
        "f.close()"
      ],
      "metadata": {
        "colab": {
          "base_uri": "https://localhost:8080/"
        },
        "id": "YQ-eza3rE0EQ",
        "outputId": "7761da8e-22c6-4d96-ac67-2527b900a775"
      },
      "execution_count": 26,
      "outputs": [
        {
          "name": "stdout",
          "output_type": "stream",
          "text": [
            "8번째 단어를 쓰세요: very\n",
            "9번째 단어를 쓰세요: very\n"
          ]
        }
      ]
    },
    {
      "cell_type": "code",
      "source": [
        "f=open('test3.txt','a')\n",
        "\n",
        "# 화일의 마지막 부분부터 추가됨\n",
        "# 위에서 '\\n\\'을 사용하지 않은 상태이므로 test3.txt의 마지막은 'very'글자 마지막에 위치함\n",
        "# 즉, line이 자동으로 바뀌어 있지 않음\n",
        "for i in range(9,12):\n",
        "    data = input('%d번째 단어를 쓰세요: ' % i)\n",
        "    f.write(data+'\\n')\n",
        "f.close()"
      ],
      "metadata": {
        "colab": {
          "base_uri": "https://localhost:8080/"
        },
        "id": "HL0nng0pF4Dc",
        "outputId": "71456f67-4fe8-4e72-e38e-302b78c36139"
      },
      "execution_count": 31,
      "outputs": [
        {
          "name": "stdout",
          "output_type": "stream",
          "text": [
            "9번째 단어를 쓰세요: careful\n",
            "10번째 단어를 쓰세요: watch\n",
            "11번째 단어를 쓰세요: out\n"
          ]
        }
      ]
    },
    {
      "cell_type": "markdown",
      "source": [
        "- with 문"
      ],
      "metadata": {
        "id": "CvdknQzHHOxL"
      }
    },
    {
      "cell_type": "code",
      "source": [
        "with open('test3.txt','w') as f:\n",
        "    f.write(\"Life is good\\n\")"
      ],
      "metadata": {
        "id": "KFPAEXoKGywT"
      },
      "execution_count": 30,
      "outputs": []
    },
    {
      "cell_type": "markdown",
      "source": [
        "### sys 모듈로 매개변수 주기\n",
        "- prompt 에서 실행하면 정상결과 나옴"
      ],
      "metadata": {
        "id": "Eba1oI65HzCN"
      }
    },
    {
      "cell_type": "code",
      "source": [
        "import sys\n",
        "args = sys.argv[1:]\n",
        "for i in args:\n",
        "    print(i)"
      ],
      "metadata": {
        "colab": {
          "base_uri": "https://localhost:8080/"
        },
        "id": "eOH_R9hjHhe3",
        "outputId": "38516998-1b84-452a-aa52-926377288398"
      },
      "execution_count": 32,
      "outputs": [
        {
          "output_type": "stream",
          "name": "stdout",
          "text": [
            "-f\n",
            "/root/.local/share/jupyter/runtime/kernel-56759212-6cee-4aa0-b5ef-054a2cd35cc3.json\n"
          ]
        }
      ]
    },
    {
      "cell_type": "code",
      "source": [
        "#sys2.py\n",
        "import sys\n",
        "args = sys.argv[1:]\n",
        "for i in args:\n",
        "    print(i.upper(), end=' ')"
      ],
      "metadata": {
        "id": "qwxJFjHuNIEt"
      },
      "execution_count": null,
      "outputs": []
    }
  ]
}