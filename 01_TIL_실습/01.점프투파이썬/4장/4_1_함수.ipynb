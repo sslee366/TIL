{
  "nbformat": 4,
  "nbformat_minor": 0,
  "metadata": {
    "colab": {
      "name": "4_1_함수.ipynb",
      "provenance": [],
      "collapsed_sections": []
    },
    "kernelspec": {
      "name": "python3",
      "display_name": "Python 3"
    },
    "language_info": {
      "name": "python"
    }
  },
  "cells": [
    {
      "cell_type": "markdown",
      "source": [
        "### 함수"
      ],
      "metadata": {
        "id": "nK7RWr5Gftr9"
      }
    },
    {
      "cell_type": "code",
      "execution_count": null,
      "metadata": {
        "id": "-LhPcuB4fOwg"
      },
      "outputs": [],
      "source": [
        "def add(a,b):\n",
        "    return a+b;"
      ]
    },
    {
      "cell_type": "code",
      "source": [
        "add(3,4)"
      ],
      "metadata": {
        "colab": {
          "base_uri": "https://localhost:8080/"
        },
        "id": "KlJ-zqBqf6NX",
        "outputId": "42a5a5b6-9199-4af9-8c0f-817c415eaf70"
      },
      "execution_count": null,
      "outputs": [
        {
          "output_type": "execute_result",
          "data": {
            "text/plain": [
              "7"
            ]
          },
          "metadata": {},
          "execution_count": 2
        }
      ]
    },
    {
      "cell_type": "code",
      "source": [
        "def add(a,b):\n",
        "    result =  a+b;\n",
        "    return result\n",
        "\n",
        "add(3,4)"
      ],
      "metadata": {
        "colab": {
          "base_uri": "https://localhost:8080/"
        },
        "id": "h9wbMNtGf8v9",
        "outputId": "73168acf-f3af-46cd-c8ef-8717669adb32"
      },
      "execution_count": null,
      "outputs": [
        {
          "output_type": "execute_result",
          "data": {
            "text/plain": [
              "7"
            ]
          },
          "metadata": {},
          "execution_count": 3
        }
      ]
    },
    {
      "cell_type": "code",
      "source": [
        "# 함수에서 return 값이 없으면 결과값은 없다. 즉, return 값으로만 결과값이 된다\n",
        "def add(a,b):\n",
        "    print(\"%d + %d 의 합은 %d 입니다\" % (a,b,a+b))"
      ],
      "metadata": {
        "id": "mNZ_Z6lYgpxt"
      },
      "execution_count": null,
      "outputs": []
    },
    {
      "cell_type": "code",
      "source": [
        "add(3,4)"
      ],
      "metadata": {
        "colab": {
          "base_uri": "https://localhost:8080/"
        },
        "id": "h-G6lkPehQBp",
        "outputId": "d97641e5-e12d-4946-ae8e-9eb558521f40"
      },
      "execution_count": null,
      "outputs": [
        {
          "output_type": "stream",
          "name": "stdout",
          "text": [
            "3 + 4 의 합은 7 입니다\n"
          ]
        }
      ]
    },
    {
      "cell_type": "code",
      "source": [
        "print(add(3,4))"
      ],
      "metadata": {
        "colab": {
          "base_uri": "https://localhost:8080/"
        },
        "id": "rWNHZ0cphRxs",
        "outputId": "79d7cb76-1491-4ab1-8028-16780f54cdfb"
      },
      "execution_count": null,
      "outputs": [
        {
          "output_type": "stream",
          "name": "stdout",
          "text": [
            "3 + 4 의 합은 7 입니다\n",
            "None\n"
          ]
        }
      ]
    },
    {
      "cell_type": "code",
      "source": [
        "def add2(a,b):\n",
        "    result =  2*a+b;\n",
        "    return result"
      ],
      "metadata": {
        "id": "_B8Fw7phhZEx"
      },
      "execution_count": null,
      "outputs": []
    },
    {
      "cell_type": "code",
      "source": [
        "# 매개변수를 지정하면 수서와 상관없이 사용할 수 있음\n",
        "\n",
        "add2(b=3,a=2)"
      ],
      "metadata": {
        "colab": {
          "base_uri": "https://localhost:8080/"
        },
        "id": "J5IMyYQzhq60",
        "outputId": "99dfa784-76ad-45c8-ebfc-8295e760b384"
      },
      "execution_count": null,
      "outputs": [
        {
          "output_type": "execute_result",
          "data": {
            "text/plain": [
              "7"
            ]
          },
          "metadata": {},
          "execution_count": 12
        }
      ]
    },
    {
      "cell_type": "markdown",
      "source": [
        "### 여러개의 입력값을 받는 함수 (*arg)"
      ],
      "metadata": {
        "id": "wjW-ODziihBa"
      }
    },
    {
      "cell_type": "code",
      "source": [
        "def add_many(*args):\n",
        "    result = 0\n",
        "    for i in args:\n",
        "        result += i\n",
        "    return result"
      ],
      "metadata": {
        "id": "LXnKuejsiQMA"
      },
      "execution_count": null,
      "outputs": []
    },
    {
      "cell_type": "code",
      "source": [
        "add_many(1,2,3,4,)"
      ],
      "metadata": {
        "colab": {
          "base_uri": "https://localhost:8080/"
        },
        "id": "nA_TPtt-jBTz",
        "outputId": "fdcf3f64-c515-4ef0-c6fb-bf5a81eb840b"
      },
      "execution_count": null,
      "outputs": [
        {
          "output_type": "execute_result",
          "data": {
            "text/plain": [
              "10"
            ]
          },
          "metadata": {},
          "execution_count": 16
        }
      ]
    },
    {
      "cell_type": "code",
      "source": [
        "def add_mul(key, *args):\n",
        "    if key == 'add':\n",
        "        result = 0\n",
        "        for i in args:\n",
        "            result += i\n",
        "    elif key == 'mul':\n",
        "        result = 1\n",
        "        for i in args:\n",
        "            result *= i    \n",
        "    return result\n",
        "  "
      ],
      "metadata": {
        "id": "HyE4hVRMjEJY"
      },
      "execution_count": null,
      "outputs": []
    },
    {
      "cell_type": "code",
      "source": [
        "add_mul('add',3,4,5,6,7)"
      ],
      "metadata": {
        "colab": {
          "base_uri": "https://localhost:8080/"
        },
        "id": "Rg5ky-FFj4D-",
        "outputId": "743b7b13-ec21-4678-8da3-641e27c6502a"
      },
      "execution_count": null,
      "outputs": [
        {
          "output_type": "execute_result",
          "data": {
            "text/plain": [
              "25"
            ]
          },
          "metadata": {},
          "execution_count": 20
        }
      ]
    },
    {
      "cell_type": "code",
      "source": [
        "add_mul('mul',2,2,2,2)"
      ],
      "metadata": {
        "colab": {
          "base_uri": "https://localhost:8080/"
        },
        "id": "qnyHZNAtkI8-",
        "outputId": "cadba67c-7d10-44d9-aedb-190c137defc1"
      },
      "execution_count": null,
      "outputs": [
        {
          "output_type": "execute_result",
          "data": {
            "text/plain": [
              "16"
            ]
          },
          "metadata": {},
          "execution_count": 21
        }
      ]
    },
    {
      "cell_type": "markdown",
      "source": [
        "### 키워드 파라미터 kwargs\n",
        "- 딕셔너리형태로 됨\n",
        "- key=value 형태로 args를 넣음\n",
        "- 여러개의 key=value 는 콤마(,) 로 구분함"
      ],
      "metadata": {
        "id": "XvlANOwPxpRh"
      }
    },
    {
      "cell_type": "code",
      "source": [
        "def print_kwargs(**kwargs):\n",
        "    print(kwargs)"
      ],
      "metadata": {
        "id": "sL7qkBHBkN2j"
      },
      "execution_count": null,
      "outputs": []
    },
    {
      "cell_type": "code",
      "source": [
        "print_kwargs(a=1)"
      ],
      "metadata": {
        "colab": {
          "base_uri": "https://localhost:8080/"
        },
        "id": "zHE5jaTlx5Mf",
        "outputId": "65afe644-10a5-4e73-8fb7-8b9e8f2828f7"
      },
      "execution_count": null,
      "outputs": [
        {
          "output_type": "stream",
          "name": "stdout",
          "text": [
            "{'a': 1}\n"
          ]
        }
      ]
    },
    {
      "cell_type": "code",
      "source": [
        "print_kwargs(name = 'foo', age = 3)"
      ],
      "metadata": {
        "colab": {
          "base_uri": "https://localhost:8080/"
        },
        "id": "1C-92ULsx8jT",
        "outputId": "e8a99e61-62d5-4d41-bc21-0efed1e48586"
      },
      "execution_count": null,
      "outputs": [
        {
          "output_type": "stream",
          "name": "stdout",
          "text": [
            "{'name': 'foo', 'age': 3}\n"
          ]
        }
      ]
    },
    {
      "cell_type": "markdown",
      "source": [
        "### 함수의 결괏값은 하나다.\n",
        "- return 만나면 종료\n",
        "- 함수내 return 을 여러번 쓰더라도 첨만나것만 처리후 종료"
      ],
      "metadata": {
        "id": "P4xlPN6gzXSl"
      }
    },
    {
      "cell_type": "code",
      "source": [
        "def add_and_mul(a,b):\n",
        "    return a+b,a*b\n"
      ],
      "metadata": {
        "id": "c-cB3M6PyUt4"
      },
      "execution_count": null,
      "outputs": []
    },
    {
      "cell_type": "code",
      "source": [
        "add_and_mul(3,4)"
      ],
      "metadata": {
        "colab": {
          "base_uri": "https://localhost:8080/"
        },
        "id": "rf5SI5s2zjr3",
        "outputId": "0c70e8e9-ec6d-42ac-89e9-07b5ae0c1b08"
      },
      "execution_count": null,
      "outputs": [
        {
          "output_type": "execute_result",
          "data": {
            "text/plain": [
              "(7, 12)"
            ]
          },
          "metadata": {},
          "execution_count": 28
        }
      ]
    },
    {
      "cell_type": "markdown",
      "source": [
        "### 매개변수 초깃값 미리 설정하기\n",
        "- 항상 뒤쪽에 넣기: 그렇지 않으면 생략시 에러남"
      ],
      "metadata": {
        "id": "SeKKYtFD0NoF"
      }
    },
    {
      "cell_type": "code",
      "source": [
        "def say_myself(name, old, man = True):\n",
        "    print(\"나의 이름은 %s 입니다.\" %name)\n",
        "    print(\"나의 나이는 %d 입니다.\" %old)\n",
        "    if man:\n",
        "        print(\"남자입니다.\")\n",
        "    else:\n",
        "        print('여자입니다.')\n",
        "        "
      ],
      "metadata": {
        "id": "C4512BQRzn4l"
      },
      "execution_count": null,
      "outputs": []
    },
    {
      "cell_type": "code",
      "source": [
        "say_myself(\"Susan\", 27)"
      ],
      "metadata": {
        "colab": {
          "base_uri": "https://localhost:8080/"
        },
        "id": "TiGNs98R0vTK",
        "outputId": "eb7114a2-7f3e-402a-a923-88a4e15a73ae"
      },
      "execution_count": null,
      "outputs": [
        {
          "output_type": "stream",
          "name": "stdout",
          "text": [
            "나의 이름은 Susan 입니다.\n",
            "나의 나이는 27 입니다.\n",
            "남자입니다.\n"
          ]
        }
      ]
    },
    {
      "cell_type": "code",
      "source": [
        "say_myself(\"Susan\", 27, man=False)"
      ],
      "metadata": {
        "colab": {
          "base_uri": "https://localhost:8080/"
        },
        "id": "fKVdfd1R010G",
        "outputId": "78d4bbeb-bfa8-4a66-fa41-963c16c98714"
      },
      "execution_count": null,
      "outputs": [
        {
          "output_type": "stream",
          "name": "stdout",
          "text": [
            "나의 이름은 Susan 입니다.\n",
            "나의 나이는 27 입니다.\n",
            "여자입니다.\n"
          ]
        }
      ]
    },
    {
      "cell_type": "code",
      "source": [
        "a=1\n",
        "def vartest(a):\n",
        "    a +=1\n",
        "\n",
        "vartest(a)"
      ],
      "metadata": {
        "id": "Tly78MWp066V"
      },
      "execution_count": null,
      "outputs": []
    },
    {
      "cell_type": "code",
      "source": [
        "a"
      ],
      "metadata": {
        "colab": {
          "base_uri": "https://localhost:8080/"
        },
        "id": "-szIdI_K1dU7",
        "outputId": "dcf409b6-9930-42a7-9228-96948e42011d"
      },
      "execution_count": null,
      "outputs": [
        {
          "output_type": "execute_result",
          "data": {
            "text/plain": [
              "1"
            ]
          },
          "metadata": {},
          "execution_count": 33
        }
      ]
    },
    {
      "cell_type": "code",
      "source": [
        "a=vartest(a)"
      ],
      "metadata": {
        "id": "PNuMyxrL1fRd"
      },
      "execution_count": null,
      "outputs": []
    },
    {
      "cell_type": "code",
      "source": [
        "print(a)"
      ],
      "metadata": {
        "colab": {
          "base_uri": "https://localhost:8080/"
        },
        "id": "LH6ZdqfA1zd0",
        "outputId": "5523115a-41b2-450f-edbe-6b7a5b4a1d49"
      },
      "execution_count": null,
      "outputs": [
        {
          "output_type": "stream",
          "name": "stdout",
          "text": [
            "None\n"
          ]
        }
      ]
    },
    {
      "cell_type": "code",
      "source": [
        "a=1\n",
        "def vartest(a):\n",
        "    a +=1\n",
        "    return a"
      ],
      "metadata": {
        "id": "mJbRf32q10Pj"
      },
      "execution_count": null,
      "outputs": []
    },
    {
      "cell_type": "code",
      "source": [
        "vartest(a)"
      ],
      "metadata": {
        "colab": {
          "base_uri": "https://localhost:8080/"
        },
        "id": "2xl0wFDw2IBk",
        "outputId": "e41253a8-f2da-49c1-e7c3-aded3ff72da1"
      },
      "execution_count": null,
      "outputs": [
        {
          "output_type": "execute_result",
          "data": {
            "text/plain": [
              "2"
            ]
          },
          "metadata": {},
          "execution_count": 38
        }
      ]
    },
    {
      "cell_type": "code",
      "source": [
        "a"
      ],
      "metadata": {
        "colab": {
          "base_uri": "https://localhost:8080/"
        },
        "id": "4jprp7Qg2KtW",
        "outputId": "3ce7b668-b0b3-4941-b052-b0d955fa0408"
      },
      "execution_count": null,
      "outputs": [
        {
          "output_type": "execute_result",
          "data": {
            "text/plain": [
              "1"
            ]
          },
          "metadata": {},
          "execution_count": 39
        }
      ]
    },
    {
      "cell_type": "code",
      "source": [
        "a=vartest(a)"
      ],
      "metadata": {
        "id": "nQ0AP8ql2LSs"
      },
      "execution_count": null,
      "outputs": []
    },
    {
      "cell_type": "code",
      "source": [
        "a"
      ],
      "metadata": {
        "colab": {
          "base_uri": "https://localhost:8080/"
        },
        "id": "0CiwDPkI2ZBk",
        "outputId": "7ab93e6c-b002-459c-8afa-f62c533a1426"
      },
      "execution_count": null,
      "outputs": [
        {
          "output_type": "execute_result",
          "data": {
            "text/plain": [
              "2"
            ]
          },
          "metadata": {},
          "execution_count": 41
        }
      ]
    },
    {
      "cell_type": "markdown",
      "source": [
        "### lambda 람다\n",
        "- 예약어\n",
        "- def 와 동일한 역할\n",
        "- def 를 사용할 수 없는 곳에 사용\n",
        "- 한줄에 쓰고\n",
        "- return 명령어 안써도 바로 사용 가능"
      ],
      "metadata": {
        "id": "Gt3RDk1v2dx1"
      }
    },
    {
      "cell_type": "code",
      "source": [
        "add = lambda a,b: a+b\n",
        "add(3,4)"
      ],
      "metadata": {
        "colab": {
          "base_uri": "https://localhost:8080/"
        },
        "id": "sF2E6d2v2Z4D",
        "outputId": "e8675187-7607-443c-897a-e22284f9f544"
      },
      "execution_count": null,
      "outputs": [
        {
          "output_type": "execute_result",
          "data": {
            "text/plain": [
              "7"
            ]
          },
          "metadata": {},
          "execution_count": 42
        }
      ]
    }
  ]
}