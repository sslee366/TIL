{
 "cells": [
  {
   "cell_type": "code",
   "execution_count": 25,
   "id": "bf74e26f",
   "metadata": {},
   "outputs": [],
   "source": [
    "#Q1\n",
    "\n",
    "class Calculator:\n",
    "    def __init__(self):\n",
    "        self.value = 0\n",
    "    def add(self,val):\n",
    "        self.value += val"
   ]
  },
  {
   "cell_type": "code",
   "execution_count": 4,
   "id": "cc8971ba",
   "metadata": {},
   "outputs": [],
   "source": [
    "class UpgradeCalculator(Calculator):\n",
    "    def minus(self,val):\n",
    "        self.value -= val"
   ]
  },
  {
   "cell_type": "code",
   "execution_count": 8,
   "id": "56438aab",
   "metadata": {},
   "outputs": [],
   "source": [
    "cal = UpgradeCalculator()"
   ]
  },
  {
   "cell_type": "code",
   "execution_count": 9,
   "id": "3148b8aa",
   "metadata": {},
   "outputs": [],
   "source": [
    "cal.add(10)\n",
    "cal.minus(7)"
   ]
  },
  {
   "cell_type": "code",
   "execution_count": 10,
   "id": "f376b037",
   "metadata": {},
   "outputs": [
    {
     "name": "stdout",
     "output_type": "stream",
     "text": [
      "3\n"
     ]
    }
   ],
   "source": [
    "print(cal.value)"
   ]
  },
  {
   "cell_type": "code",
   "execution_count": 26,
   "id": "62a116a5",
   "metadata": {},
   "outputs": [],
   "source": [
    "#Q2\n",
    "\n",
    "class MaxLImitCalculator(Calculator):\n",
    "    def add(self,val):\n",
    "        self.value += val\n",
    "        if self.value > 100:\n",
    "            self.value = 100\n",
    "            print(\"100을 초과하였습니다.\")   \n",
    "            \n"
   ]
  },
  {
   "cell_type": "code",
   "execution_count": 27,
   "id": "909bb7e8",
   "metadata": {},
   "outputs": [],
   "source": [
    "cal= MaxLImitCalculator()"
   ]
  },
  {
   "cell_type": "code",
   "execution_count": 28,
   "id": "e36d5682",
   "metadata": {},
   "outputs": [
    {
     "name": "stdout",
     "output_type": "stream",
     "text": [
      "100을 초과하였습니다.\n",
      "100\n"
     ]
    }
   ],
   "source": [
    "cal.add(50)\n",
    "cal.add(60)\n",
    "print(cal.value)"
   ]
  },
  {
   "cell_type": "code",
   "execution_count": 29,
   "id": "7d69f8e8",
   "metadata": {},
   "outputs": [
    {
     "data": {
      "text/plain": [
       "False"
      ]
     },
     "execution_count": 29,
     "metadata": {},
     "output_type": "execute_result"
    }
   ],
   "source": [
    "#Q3\n",
    "all([1,2,abs(-3)-3])"
   ]
  },
  {
   "cell_type": "code",
   "execution_count": 30,
   "id": "15b4caac",
   "metadata": {},
   "outputs": [
    {
     "data": {
      "text/plain": [
       "True"
      ]
     },
     "execution_count": 30,
     "metadata": {},
     "output_type": "execute_result"
    }
   ],
   "source": [
    "chr(ord('a')) == 'a'"
   ]
  },
  {
   "cell_type": "code",
   "execution_count": 32,
   "id": "ada05c32",
   "metadata": {},
   "outputs": [
    {
     "data": {
      "text/plain": [
       "[1, 3, 8]"
      ]
     },
     "execution_count": 32,
     "metadata": {},
     "output_type": "execute_result"
    }
   ],
   "source": [
    "#Q4\n",
    "list(filter(lambda x: x>0, [1,-2,3,-5,8,-3]))"
   ]
  },
  {
   "cell_type": "code",
   "execution_count": 33,
   "id": "1ffeffe3",
   "metadata": {},
   "outputs": [
    {
     "data": {
      "text/plain": [
       "'0xea'"
      ]
     },
     "execution_count": 33,
     "metadata": {},
     "output_type": "execute_result"
    }
   ],
   "source": [
    "#Q5\n",
    "hex(234)"
   ]
  },
  {
   "cell_type": "code",
   "execution_count": 34,
   "id": "aa901d68",
   "metadata": {},
   "outputs": [
    {
     "data": {
      "text/plain": [
       "234"
      ]
     },
     "execution_count": 34,
     "metadata": {},
     "output_type": "execute_result"
    }
   ],
   "source": [
    "int('ea',16)"
   ]
  },
  {
   "cell_type": "code",
   "execution_count": 35,
   "id": "bfaaee2b",
   "metadata": {},
   "outputs": [
    {
     "data": {
      "text/plain": [
       "234"
      ]
     },
     "execution_count": 35,
     "metadata": {},
     "output_type": "execute_result"
    }
   ],
   "source": [
    "int('0xea',16)"
   ]
  },
  {
   "cell_type": "code",
   "execution_count": 36,
   "id": "9e720613",
   "metadata": {},
   "outputs": [
    {
     "data": {
      "text/plain": [
       "[3, 6, 9, 12]"
      ]
     },
     "execution_count": 36,
     "metadata": {},
     "output_type": "execute_result"
    }
   ],
   "source": [
    "#Q6\n",
    "\n",
    "a=[1,2,3,4]\n",
    "list(map(lambda x: x*3,a))"
   ]
  },
  {
   "cell_type": "code",
   "execution_count": 45,
   "id": "55d4fea9",
   "metadata": {},
   "outputs": [
    {
     "data": {
      "text/plain": [
       "-1"
      ]
     },
     "execution_count": 45,
     "metadata": {},
     "output_type": "execute_result"
    }
   ],
   "source": [
    "#Q7\n",
    "\n",
    "a=[-8,2,7,5,-3,5,0,1]\n",
    "max(a)+min(a)"
   ]
  },
  {
   "cell_type": "code",
   "execution_count": 39,
   "id": "8759ca6a",
   "metadata": {},
   "outputs": [
    {
     "data": {
      "text/plain": [
       "5.666666666666667"
      ]
     },
     "execution_count": 39,
     "metadata": {},
     "output_type": "execute_result"
    }
   ],
   "source": [
    "#Q8\n",
    "17/3"
   ]
  },
  {
   "cell_type": "code",
   "execution_count": 46,
   "id": "ad100044",
   "metadata": {},
   "outputs": [
    {
     "data": {
      "text/plain": [
       "5.6667"
      ]
     },
     "execution_count": 46,
     "metadata": {},
     "output_type": "execute_result"
    }
   ],
   "source": [
    "round(17/3,4)"
   ]
  },
  {
   "cell_type": "code",
   "execution_count": 48,
   "id": "28463f86",
   "metadata": {},
   "outputs": [
    {
     "name": "stdout",
     "output_type": "stream",
     "text": [
      "6\n"
     ]
    }
   ],
   "source": [
    "#Q9\n",
    "\n",
    "import sys\n",
    "\n",
    "numbers = sys.argv[1:]\n",
    "\n",
    "result = 0\n",
    "for number in numbers:\n",
    "    result += int(number)\n",
    "print(result)"
   ]
  },
  {
   "cell_type": "code",
   "execution_count": 49,
   "id": "e1d089fa",
   "metadata": {},
   "outputs": [
    {
     "name": "stdout",
     "output_type": "stream",
     "text": [
      " C 드라이브의 볼륨: SerryRed\n",
      " 볼륨 일련 번호: 8AFC-E8F2\n",
      "\n",
      " C:\\Users\\Serry\\Documents\\code 디렉터리\n",
      "\n",
      "2022-05-22  오후 08:20    <DIR>          .\n",
      "2022-05-22  오후 08:20    <DIR>          ..\n",
      "2022-05-22  오후 07:57    <DIR>          .ipynb_checkpoints\n",
      "2022-05-22  오후 07:26                92 argv_test.py\n",
      "2022-05-20  오전 10:20             1,275 call_mod1.ipynb\n",
      "2022-05-20  오전 10:21             1,283 call_mod1_2.ipynb\n",
      "2022-05-20  오전 10:23             1,390 call_mod1_3.ipynb\n",
      "2022-05-21  오후 05:12    <DIR>          game2\n",
      "2022-05-21  오후 05:12    <DIR>          math\n",
      "2022-05-20  오전 11:02               353 mod1.py\n",
      "2022-05-20  오전 11:28                63 modtest.py\n",
      "2022-05-20  오후 04:58            11,617 Multi_python_09_OO.ipynb\n",
      "2022-05-20  오후 04:56            13,146 Multi_python_09_객체지향프로그래밍(상속, 오버라이딩).ipynb\n",
      "2022-05-21  오후 05:12    <DIR>          mymod\n",
      "2022-05-22  오후 07:47               826 path_append.ipynb\n",
      "2022-05-22  오후 07:41               128 path_append.py\n",
      "2022-05-22  오후 08:09             1,227 pickle_test.ipynb\n",
      "2022-05-18  오전 06:58           580,399 seoul.csv\n",
      "2022-05-21  오후 06:05               128 spyder_sample1.py\n",
      "2022-05-19  오후 04:22                61 sys1.py\n",
      "2022-05-19  오후 04:27                88 sys2.py\n",
      "2022-05-21  오후 05:12    <DIR>          temp\n",
      "2022-05-22  오후 08:06                40 test.txt\n",
      "2022-05-22  오후 08:20                40 test2.txt\n",
      "2022-05-21  오후 05:12    <DIR>          __pycache__\n",
      "2022-05-18  오전 07:41            11,615 히스토그램시각화_14_이수진_멀캠AI_11기.ipynb\n",
      "2022-05-18  오전 07:33             2,393 히스토그램시각화_응용.ipynb\n",
      "              19개 파일             626,164 바이트\n",
      "               8개 디렉터리  41,222,250,496 바이트 남음\n",
      "\n"
     ]
    }
   ],
   "source": [
    "#Q10\n",
    "\n",
    "import os\n",
    "\n",
    "os.chdir('C:/Users/Serry//Documents/code')\n",
    "f=os.popen('dir')\n",
    "print(f.read())"
   ]
  },
  {
   "cell_type": "code",
   "execution_count": 51,
   "id": "48cace85",
   "metadata": {},
   "outputs": [
    {
     "data": {
      "text/plain": [
       "['C:/Users/Serry//Documents/code\\\\argv_test.py',\n",
       " 'C:/Users/Serry//Documents/code\\\\mod1.py',\n",
       " 'C:/Users/Serry//Documents/code\\\\modtest.py',\n",
       " 'C:/Users/Serry//Documents/code\\\\path_append.py',\n",
       " 'C:/Users/Serry//Documents/code\\\\spyder_sample1.py',\n",
       " 'C:/Users/Serry//Documents/code\\\\sys1.py',\n",
       " 'C:/Users/Serry//Documents/code\\\\sys2.py']"
      ]
     },
     "execution_count": 51,
     "metadata": {},
     "output_type": "execute_result"
    }
   ],
   "source": [
    "#Q11\n",
    "import glob\n",
    "\n",
    "glob.glob('C:/Users/Serry//Documents/code/*.py')"
   ]
  },
  {
   "cell_type": "code",
   "execution_count": 58,
   "id": "43e6c5d4",
   "metadata": {},
   "outputs": [
    {
     "data": {
      "text/plain": [
       "'2022/05/22 21:50:43'"
      ]
     },
     "execution_count": 58,
     "metadata": {},
     "output_type": "execute_result"
    }
   ],
   "source": [
    "#Q12\n",
    "import time\n",
    "time.strftime('%Y/%m/%d %H:%M:%S')  # %Y(4자리)와 %y(2자리) 출력차이 있음"
   ]
  },
  {
   "cell_type": "code",
   "execution_count": 61,
   "id": "ce1eb856",
   "metadata": {},
   "outputs": [],
   "source": [
    "#Q13\n",
    "import random\n",
    "\n",
    "result = []\n",
    "while len(result)  < 6:\n",
    "    number = random.randint(1,45)\n",
    "    \n",
    "    if number not in result: \n",
    "        result.append(number)"
   ]
  },
  {
   "cell_type": "code",
   "execution_count": 62,
   "id": "3dee6cfb",
   "metadata": {},
   "outputs": [
    {
     "name": "stdout",
     "output_type": "stream",
     "text": [
      "[17, 34, 8, 16, 20, 14]\n"
     ]
    }
   ],
   "source": [
    "print(result)"
   ]
  },
  {
   "cell_type": "code",
   "execution_count": 63,
   "id": "9092f1bb",
   "metadata": {},
   "outputs": [
    {
     "name": "stdout",
     "output_type": "stream",
     "text": [
      "[17, 34, 8, 16, 20, 14]\n"
     ]
    }
   ],
   "source": [
    "print(result)"
   ]
  },
  {
   "cell_type": "code",
   "execution_count": null,
   "id": "54421278",
   "metadata": {},
   "outputs": [],
   "source": []
  }
 ],
 "metadata": {
  "kernelspec": {
   "display_name": "Python 3 (ipykernel)",
   "language": "python",
   "name": "python3"
  },
  "language_info": {
   "codemirror_mode": {
    "name": "ipython",
    "version": 3
   },
   "file_extension": ".py",
   "mimetype": "text/x-python",
   "name": "python",
   "nbconvert_exporter": "python",
   "pygments_lexer": "ipython3",
   "version": "3.9.12"
  }
 },
 "nbformat": 4,
 "nbformat_minor": 5
}
