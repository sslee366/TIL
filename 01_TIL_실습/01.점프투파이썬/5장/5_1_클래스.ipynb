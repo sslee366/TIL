{
  "nbformat": 4,
  "nbformat_minor": 0,
  "metadata": {
    "colab": {
      "name": "05-1.ipynb",
      "provenance": [],
      "collapsed_sections": []
    },
    "kernelspec": {
      "name": "python3",
      "display_name": "Python 3"
    },
    "language_info": {
      "name": "python"
    }
  },
  "cells": [
    {
      "cell_type": "code",
      "execution_count": 1,
      "metadata": {
        "id": "VwyZKFXQsfMK"
      },
      "outputs": [],
      "source": [
        "#클래스"
      ]
    },
    {
      "cell_type": "code",
      "source": [
        "result = 0\n",
        "def add(num):\n",
        "    global result\n",
        "    result += num\n",
        "    return result\n",
        "print(add(3))\n",
        "print(add(4))"
      ],
      "metadata": {
        "colab": {
          "base_uri": "https://localhost:8080/"
        },
        "id": "hRSN6yIbt-c-",
        "outputId": "005e13a2-9bcb-4aa4-cdef-a00f9fdbdb05"
      },
      "execution_count": 2,
      "outputs": [
        {
          "output_type": "stream",
          "name": "stdout",
          "text": [
            "3\n",
            "7\n"
          ]
        }
      ]
    },
    {
      "cell_type": "code",
      "source": [
        "add(5)"
      ],
      "metadata": {
        "colab": {
          "base_uri": "https://localhost:8080/"
        },
        "id": "nRugt4CouMJq",
        "outputId": "d1e7beee-54da-46df-dc29-a80fcf2fa0ff"
      },
      "execution_count": 3,
      "outputs": [
        {
          "output_type": "execute_result",
          "data": {
            "text/plain": [
              "12"
            ]
          },
          "metadata": {},
          "execution_count": 3
        }
      ]
    },
    {
      "cell_type": "code",
      "source": [
        "class Calculator:\n",
        "    def __init__(self):   # 자동 호출 '_2개 붙인 것임\n",
        "        self.result = 0\n",
        "    \n",
        "    def add(self,num):\n",
        "        self.result += num\n",
        "        return self.result\n",
        "\n",
        "cal1 = Calculator()\n",
        "cal2 = Calculator()\n",
        "\n",
        "print(cal1.add(3))\n",
        "print(cal1.add(4))\n",
        "print(cal2.add(3))\n",
        "print(cal2.add(7))"
      ],
      "metadata": {
        "colab": {
          "base_uri": "https://localhost:8080/"
        },
        "id": "IddgPJBy-1sV",
        "outputId": "f69f9e53-3bdf-4ceb-d2fa-06ded6053f55"
      },
      "execution_count": 61,
      "outputs": [
        {
          "output_type": "stream",
          "name": "stdout",
          "text": [
            "3\n",
            "7\n",
            "3\n",
            "10\n"
          ]
        }
      ]
    },
    {
      "cell_type": "code",
      "source": [
        "# FourCal 의 초기값 설정이 없으므로 이때에도 따로 값을 넣지 못함\n",
        "# 단, 초기값 설정할려면 setdata(first, second)를 반드시 실행해야 함\n",
        "# 따라서 다른 연산에서 따로 받을 필요없음\n",
        "class FourCal:\n",
        "    def setdata(self,n1,n2):\n",
        "        self.first = n1\n",
        "        self.second = n2\n",
        "    def add(self):\n",
        "        result = self.first + self.second\n",
        "        return result\n",
        "    def mul(self):\n",
        "        result = self.first * self.second\n",
        "        return result\n",
        "    def sub(self):\n",
        "        result = self.first - self.second\n",
        "        return result\n",
        "    def div(self):\n",
        "        result = self.first / self.second\n",
        "        return result"
      ],
      "metadata": {
        "id": "H7c5YGbIvFp8"
      },
      "execution_count": 99,
      "outputs": []
    },
    {
      "cell_type": "code",
      "source": [
        "a = FourCal()\n",
        "a.setdata(4,2)\n",
        "print(a.first)\n",
        "print(a.second)"
      ],
      "metadata": {
        "colab": {
          "base_uri": "https://localhost:8080/"
        },
        "id": "DfPz51Orx-sl",
        "outputId": "d2cfc1a4-2fbd-421e-8b62-e369bf1700a0"
      },
      "execution_count": 100,
      "outputs": [
        {
          "output_type": "stream",
          "name": "stdout",
          "text": [
            "4\n",
            "2\n"
          ]
        }
      ]
    },
    {
      "cell_type": "code",
      "source": [
        "b=FourCal()\n",
        "b.setdata(3,7)\n",
        "print(b.second)"
      ],
      "metadata": {
        "colab": {
          "base_uri": "https://localhost:8080/"
        },
        "id": "quzv3-tEziLW",
        "outputId": "955dd836-93b6-48b8-9812-6f6e39914bb7"
      },
      "execution_count": 101,
      "outputs": [
        {
          "output_type": "stream",
          "name": "stdout",
          "text": [
            "7\n"
          ]
        }
      ]
    },
    {
      "cell_type": "code",
      "source": [
        "a.setdata(4,2)\n",
        "a."
      ],
      "metadata": {
        "id": "EMszg-Xv0D5d"
      },
      "execution_count": 27,
      "outputs": []
    },
    {
      "cell_type": "code",
      "source": [
        "a.add()"
      ],
      "metadata": {
        "colab": {
          "base_uri": "https://localhost:8080/"
        },
        "id": "MwkVjYuo0bCi",
        "outputId": "f617f2aa-1065-4cb7-d8d5-1fad98251304"
      },
      "execution_count": 44,
      "outputs": [
        {
          "output_type": "execute_result",
          "data": {
            "text/plain": [
              "6"
            ]
          },
          "metadata": {},
          "execution_count": 44
        }
      ]
    },
    {
      "cell_type": "code",
      "source": [
        "a.sub()"
      ],
      "metadata": {
        "colab": {
          "base_uri": "https://localhost:8080/"
        },
        "id": "lCDt5uji0dNJ",
        "outputId": "fb19405f-119c-465a-811b-bf03b8adc22e"
      },
      "execution_count": 45,
      "outputs": [
        {
          "output_type": "execute_result",
          "data": {
            "text/plain": [
              "2"
            ]
          },
          "metadata": {},
          "execution_count": 45
        }
      ]
    },
    {
      "cell_type": "code",
      "source": [
        "b.sub()"
      ],
      "metadata": {
        "colab": {
          "base_uri": "https://localhost:8080/"
        },
        "id": "7eXaZttq6JeY",
        "outputId": "59193098-3295-4662-df28-ede5e504dd31"
      },
      "execution_count": 46,
      "outputs": [
        {
          "output_type": "execute_result",
          "data": {
            "text/plain": [
              "-4"
            ]
          },
          "metadata": {},
          "execution_count": 46
        }
      ]
    },
    {
      "cell_type": "code",
      "source": [
        "print('%08.8f' % b.div())"
      ],
      "metadata": {
        "colab": {
          "base_uri": "https://localhost:8080/"
        },
        "id": "8PVBjx2W6Jau",
        "outputId": "531203db-85b6-4c82-801e-732993d21407"
      },
      "execution_count": 58,
      "outputs": [
        {
          "output_type": "stream",
          "name": "stdout",
          "text": [
            "0.42857143\n"
          ]
        }
      ]
    },
    {
      "cell_type": "code",
      "source": [
        "# FourCal2 의 초기값을 두개(first, second)를 받는 것으로 되어 있음\n",
        "# 따라서 다른 연산에서 따로 받을 필요없음\n",
        "class FourCal2:    \n",
        "    def __init__(self,first,second):\n",
        "        self.first = first\n",
        "        self.second = second\n",
        "    def add(self):  \n",
        "        result = self.first + self.second\n",
        "        return result\n",
        "    def mul(self):\n",
        "        result = self.first * self.second\n",
        "        return result\n",
        "    def sub(self):\n",
        "        result = self.first - self.second\n",
        "        return result\n",
        "    def div(self):     # 단, second = 0 이면 에러남\n",
        "        result = self.first / self.second\n",
        "        return result"
      ],
      "metadata": {
        "id": "CPHtn3Mf1Eg5"
      },
      "execution_count": 84,
      "outputs": []
    },
    {
      "cell_type": "code",
      "source": [
        "a2 = FourCal2(4,2)"
      ],
      "metadata": {
        "id": "oDiAetm22rpL"
      },
      "execution_count": 85,
      "outputs": []
    },
    {
      "cell_type": "code",
      "source": [
        "a2.add()"
      ],
      "metadata": {
        "colab": {
          "base_uri": "https://localhost:8080/"
        },
        "id": "KCckA175At2j",
        "outputId": "ee994992-bdf7-40b8-ae08-dbe3903f2896"
      },
      "execution_count": 86,
      "outputs": [
        {
          "output_type": "execute_result",
          "data": {
            "text/plain": [
              "6"
            ]
          },
          "metadata": {},
          "execution_count": 86
        }
      ]
    },
    {
      "cell_type": "code",
      "source": [
        "# FourCal3 의 초기값은 없음. 즉, call 할 때 FourCal3() 로 해야 함.\n",
        "# 따라서 각 다른 연산에서 따로 값(first,second)을 받아야 함\n",
        "# 단, 초기값(self.result)을 셋하였으므로 해당 result 값은 ......\n",
        "class FourCal3:\n",
        "    def __init__(self):\n",
        "        self.result = 0\n",
        "\n",
        "    def add(self, first, second):\n",
        "        self.result = first + second\n",
        "        return self.result\n",
        "    def mul(self,first,second):\n",
        "        self.result = first * second\n",
        "        return self.result\n",
        "    def sub(self, first, second):\n",
        "        self.result = first - second\n",
        "        return self.result\n",
        "    def div(self, first, second):\n",
        "        self.result = first / second\n",
        "        return self.result"
      ],
      "metadata": {
        "id": "kgumL9zpAp1K"
      },
      "execution_count": 91,
      "outputs": []
    },
    {
      "cell_type": "code",
      "source": [
        "c = FourCal3()"
      ],
      "metadata": {
        "id": "wlxFXLBS2uLW"
      },
      "execution_count": 92,
      "outputs": []
    },
    {
      "cell_type": "code",
      "source": [
        "c.add(3,4)"
      ],
      "metadata": {
        "colab": {
          "base_uri": "https://localhost:8080/"
        },
        "id": "zssWNCEj2w1A",
        "outputId": "6df63df3-1edc-40c6-cb6b-4a9adf6a4b9b"
      },
      "execution_count": 93,
      "outputs": [
        {
          "output_type": "execute_result",
          "data": {
            "text/plain": [
              "7"
            ]
          },
          "metadata": {},
          "execution_count": 93
        }
      ]
    },
    {
      "cell_type": "code",
      "source": [
        "print('%6.5f' % c.div(7,8))"
      ],
      "metadata": {
        "colab": {
          "base_uri": "https://localhost:8080/"
        },
        "id": "wbwpxnlgBlto",
        "outputId": "540253f7-2b9d-4e20-ca46-605878cf40cf"
      },
      "execution_count": 94,
      "outputs": [
        {
          "output_type": "stream",
          "name": "stdout",
          "text": [
            "0.87500\n"
          ]
        }
      ]
    },
    {
      "cell_type": "code",
      "source": [
        "# FourCal4 의 초기값은 없음. 즉, call 할 때 FourCal4() 로 해야 함. (FourCal3 와 동일함)\n",
        "# 따라서 각 다른 연산에서 따로 값(first,second)을 받아야 함\n",
        "# 단, 초기값(self.result)을 셋하였으나, self.result 가 아니라 그냥 result의 새로운 변수를 써도 동일한 값을 return 함\n",
        "# 즉, __init__ 를 처리하지 않아도 결과값은 동일함\n",
        "\n",
        "class FourCal4:\n",
        "#    def __init__(self):\n",
        "#        self.result = 0\n",
        "\n",
        "    def add(self, first, second):\n",
        "        result = first + second\n",
        "        return result\n",
        "    def mul(self,first,second):\n",
        "        result = first * second\n",
        "        return result\n",
        "    def sub(self, first, second):\n",
        "        result = first - second\n",
        "        return self.result\n",
        "    def div(self, first, second):\n",
        "        result = first / second\n",
        "        return result"
      ],
      "metadata": {
        "id": "jJfeTK09LUVn"
      },
      "execution_count": 113,
      "outputs": []
    },
    {
      "cell_type": "code",
      "source": [
        "d = FourCal4()"
      ],
      "metadata": {
        "id": "atP390mzLj6O"
      },
      "execution_count": 114,
      "outputs": []
    },
    {
      "cell_type": "code",
      "source": [
        "d.add(3,4)"
      ],
      "metadata": {
        "colab": {
          "base_uri": "https://localhost:8080/"
        },
        "id": "4EV1ZdpmLoru",
        "outputId": "25d278ad-6a4c-4fc4-8a4e-26ad26dcea75"
      },
      "execution_count": 115,
      "outputs": [
        {
          "output_type": "execute_result",
          "data": {
            "text/plain": [
              "7"
            ]
          },
          "metadata": {},
          "execution_count": 115
        }
      ]
    },
    {
      "cell_type": "code",
      "source": [
        "d.add(1,2)"
      ],
      "metadata": {
        "colab": {
          "base_uri": "https://localhost:8080/"
        },
        "id": "4XsWxtUnLu_O",
        "outputId": "8c736b44-1d99-456c-abf9-9c5f35fd0ecd"
      },
      "execution_count": 116,
      "outputs": [
        {
          "output_type": "execute_result",
          "data": {
            "text/plain": [
              "3"
            ]
          },
          "metadata": {},
          "execution_count": 116
        }
      ]
    },
    {
      "cell_type": "markdown",
      "source": [
        "### 클래스 상속"
      ],
      "metadata": {
        "id": "lHYYNy58ESJz"
      }
    },
    {
      "cell_type": "code",
      "source": [
        "# 새로 생성한 클래스 이름 뒤, 괄호 안에 상속할 틀래스 이름을 넣어야 함\n",
        "# FourCal2 는 두 개의 값을 넣어야 함\n",
        "class MoreFourCal(FourCal2):\n",
        "    pass"
      ],
      "metadata": {
        "id": "EG6KeRA9DGxC"
      },
      "execution_count": 102,
      "outputs": []
    },
    {
      "cell_type": "code",
      "source": [
        "a = MoreFourCal(3,4)"
      ],
      "metadata": {
        "id": "k7_8B0OiEgEP"
      },
      "execution_count": 103,
      "outputs": []
    },
    {
      "cell_type": "code",
      "source": [
        "a.add()"
      ],
      "metadata": {
        "colab": {
          "base_uri": "https://localhost:8080/"
        },
        "id": "R-WQFfL0KadB",
        "outputId": "038d9dd9-4818-49b0-9da8-c937321476db"
      },
      "execution_count": 104,
      "outputs": [
        {
          "output_type": "execute_result",
          "data": {
            "text/plain": [
              "7"
            ]
          },
          "metadata": {},
          "execution_count": 104
        }
      ]
    },
    {
      "cell_type": "code",
      "source": [
        "#FourCal2을 상속받고, 또 새로운 pow()을 추가함. 즉, FourCal2에서 상속받은 기능도 함께 사용 가능함\n",
        "\n",
        "class MoreFourCal(FourCal2):\n",
        "    def pow(self):\n",
        "        result = self.first ** self.second\n",
        "        return result\n",
        "        "
      ],
      "metadata": {
        "id": "BhU4fPsiKcK8"
      },
      "execution_count": 117,
      "outputs": []
    },
    {
      "cell_type": "code",
      "source": [
        "m=MoreFourCal(2,4)"
      ],
      "metadata": {
        "id": "VzN2ZMJqNBJ7"
      },
      "execution_count": 118,
      "outputs": []
    },
    {
      "cell_type": "code",
      "source": [
        "m.add()"
      ],
      "metadata": {
        "colab": {
          "base_uri": "https://localhost:8080/"
        },
        "id": "01LxKTM2NFY-",
        "outputId": "fcb1c4e8-2397-422c-eaa3-d8dda6cb1159"
      },
      "execution_count": 119,
      "outputs": [
        {
          "output_type": "execute_result",
          "data": {
            "text/plain": [
              "6"
            ]
          },
          "metadata": {},
          "execution_count": 119
        }
      ]
    },
    {
      "cell_type": "code",
      "source": [
        "m.pow()"
      ],
      "metadata": {
        "colab": {
          "base_uri": "https://localhost:8080/"
        },
        "id": "8SYvnkY9NH5z",
        "outputId": "5c1c53b9-87a6-488c-db52-82c0f9e4e1fc"
      },
      "execution_count": 120,
      "outputs": [
        {
          "output_type": "execute_result",
          "data": {
            "text/plain": [
              "16"
            ]
          },
          "metadata": {},
          "execution_count": 120
        }
      ]
    },
    {
      "cell_type": "code",
      "source": [
        "m.div()\n"
      ],
      "metadata": {
        "colab": {
          "base_uri": "https://localhost:8080/"
        },
        "id": "vdtYoIRdNJiy",
        "outputId": "b6304bc0-05de-4138-8fc9-2d64bdc4b4d7"
      },
      "execution_count": 121,
      "outputs": [
        {
          "output_type": "execute_result",
          "data": {
            "text/plain": [
              "0.5"
            ]
          },
          "metadata": {},
          "execution_count": 121
        }
      ]
    },
    {
      "cell_type": "code",
      "source": [
        "m=MoreFourCal(2,0)"
      ],
      "metadata": {
        "id": "YTVvtydwN3Qr"
      },
      "execution_count": 122,
      "outputs": []
    },
    {
      "cell_type": "code",
      "source": [
        "m.div()"
      ],
      "metadata": {
        "colab": {
          "base_uri": "https://localhost:8080/",
          "height": 284
        },
        "id": "Om-6cKBBN8gh",
        "outputId": "f8ef8445-827e-4ecc-a4ac-daaa72f3ded6"
      },
      "execution_count": 123,
      "outputs": [
        {
          "output_type": "error",
          "ename": "ZeroDivisionError",
          "evalue": "ignored",
          "traceback": [
            "\u001b[0;31m---------------------------------------------------------------------------\u001b[0m",
            "\u001b[0;31mZeroDivisionError\u001b[0m                         Traceback (most recent call last)",
            "\u001b[0;32m<ipython-input-123-08937a52128d>\u001b[0m in \u001b[0;36m<module>\u001b[0;34m()\u001b[0m\n\u001b[0;32m----> 1\u001b[0;31m \u001b[0mm\u001b[0m\u001b[0;34m.\u001b[0m\u001b[0mdiv\u001b[0m\u001b[0;34m(\u001b[0m\u001b[0;34m)\u001b[0m\u001b[0;34m\u001b[0m\u001b[0;34m\u001b[0m\u001b[0m\n\u001b[0m",
            "\u001b[0;32m<ipython-input-84-747e1a6c33ba>\u001b[0m in \u001b[0;36mdiv\u001b[0;34m(self)\u001b[0m\n\u001b[1;32m     15\u001b[0m         \u001b[0;32mreturn\u001b[0m \u001b[0mresult\u001b[0m\u001b[0;34m\u001b[0m\u001b[0;34m\u001b[0m\u001b[0m\n\u001b[1;32m     16\u001b[0m     \u001b[0;32mdef\u001b[0m \u001b[0mdiv\u001b[0m\u001b[0;34m(\u001b[0m\u001b[0mself\u001b[0m\u001b[0;34m)\u001b[0m\u001b[0;34m:\u001b[0m\u001b[0;34m\u001b[0m\u001b[0;34m\u001b[0m\u001b[0m\n\u001b[0;32m---> 17\u001b[0;31m         \u001b[0mresult\u001b[0m \u001b[0;34m=\u001b[0m \u001b[0mself\u001b[0m\u001b[0;34m.\u001b[0m\u001b[0mfirst\u001b[0m \u001b[0;34m/\u001b[0m \u001b[0mself\u001b[0m\u001b[0;34m.\u001b[0m\u001b[0msecond\u001b[0m\u001b[0;34m\u001b[0m\u001b[0;34m\u001b[0m\u001b[0m\n\u001b[0m\u001b[1;32m     18\u001b[0m         \u001b[0;32mreturn\u001b[0m \u001b[0mresult\u001b[0m\u001b[0;34m\u001b[0m\u001b[0;34m\u001b[0m\u001b[0m\n",
            "\u001b[0;31mZeroDivisionError\u001b[0m: division by zero"
          ]
        }
      ]
    },
    {
      "cell_type": "code",
      "source": [
        "# FourCal2를 상속받았으나, FourCal2에 있는 메서스 div()를 새롭게 작성. \n",
        "# 이렇게 부모 클래스에 있는 메서드를 동일한 이름으로 다시 만드는 것을 메서드 오버라이딩(method overriding) 이라고 함\n",
        "# 이때 오버라이딩 된 div()메서드가 부모클래스 대신 호출됨\n",
        "\n",
        "class SafeFourCal(FourCal2):\n",
        "    def div(self):\n",
        "        if self.second == 0:   # 나누는 값이 0인 경우 0을 리턴하도록 수정\n",
        "            return \"0 으로 나눌수 없습니다\"    # 반드시 int일 필요는 없음\n",
        "        else:\n",
        "            result = self.first / self.second\n",
        "            return result"
      ],
      "metadata": {
        "id": "ZYRh_Tk5N-S4"
      },
      "execution_count": 128,
      "outputs": []
    },
    {
      "cell_type": "code",
      "source": [
        "s=SafeFourCal(4,0)"
      ],
      "metadata": {
        "id": "JYHK8yCePMOq"
      },
      "execution_count": 129,
      "outputs": []
    },
    {
      "cell_type": "code",
      "source": [
        "s.div()"
      ],
      "metadata": {
        "colab": {
          "base_uri": "https://localhost:8080/",
          "height": 35
        },
        "id": "CVl0hPbPPRRS",
        "outputId": "506ad82d-ff91-4a1e-b8e1-112d4d0e4867"
      },
      "execution_count": 130,
      "outputs": [
        {
          "output_type": "execute_result",
          "data": {
            "text/plain": [
              "'0 으로 나눌수 없습니다'"
            ],
            "application/vnd.google.colaboratory.intrinsic+json": {
              "type": "string"
            }
          },
          "metadata": {},
          "execution_count": 130
        }
      ]
    },
    {
      "cell_type": "markdown",
      "source": [
        "### 클래스 변수"
      ],
      "metadata": {
        "id": "nZH_J0zJWXxH"
      }
    },
    {
      "cell_type": "code",
      "source": [
        "class Family:\n",
        "    lastname =  '김'"
      ],
      "metadata": {
        "id": "Vu9NubXbPSgT"
      },
      "execution_count": 131,
      "outputs": []
    },
    {
      "cell_type": "code",
      "source": [
        "print(Family.lastname)"
      ],
      "metadata": {
        "colab": {
          "base_uri": "https://localhost:8080/"
        },
        "id": "UjAjSuVhWenq",
        "outputId": "cce1d839-2a1b-4bd7-a251-3bb72025321f"
      },
      "execution_count": 132,
      "outputs": [
        {
          "output_type": "stream",
          "name": "stdout",
          "text": [
            "김\n"
          ]
        }
      ]
    },
    {
      "cell_type": "code",
      "source": [
        "a=Family()\n",
        "b=Family()\n",
        "print(a.lastname)"
      ],
      "metadata": {
        "colab": {
          "base_uri": "https://localhost:8080/"
        },
        "id": "UzebjJ3CWhkG",
        "outputId": "c5c65211-7c47-4a7b-9d8f-38955544cf59"
      },
      "execution_count": 133,
      "outputs": [
        {
          "output_type": "stream",
          "name": "stdout",
          "text": [
            "김\n"
          ]
        }
      ]
    },
    {
      "cell_type": "code",
      "source": [
        "print(b.lastname)"
      ],
      "metadata": {
        "colab": {
          "base_uri": "https://localhost:8080/"
        },
        "id": "yCYQN5ymYYdL",
        "outputId": "43b2af7d-846e-4ad4-90af-ab562b7f5f17"
      },
      "execution_count": 134,
      "outputs": [
        {
          "output_type": "stream",
          "name": "stdout",
          "text": [
            "김\n"
          ]
        }
      ]
    },
    {
      "cell_type": "code",
      "source": [
        "a.lastname = '박'"
      ],
      "metadata": {
        "id": "QA2kjjl7YbWB"
      },
      "execution_count": 135,
      "outputs": []
    },
    {
      "cell_type": "code",
      "source": [
        "b.lastname"
      ],
      "metadata": {
        "colab": {
          "base_uri": "https://localhost:8080/",
          "height": 35
        },
        "id": "wT54DfKKYd3a",
        "outputId": "7e241ffd-23d3-42f7-ca55-007ff32ce9a5"
      },
      "execution_count": 136,
      "outputs": [
        {
          "output_type": "execute_result",
          "data": {
            "text/plain": [
              "'김'"
            ],
            "application/vnd.google.colaboratory.intrinsic+json": {
              "type": "string"
            }
          },
          "metadata": {},
          "execution_count": 136
        }
      ]
    },
    {
      "cell_type": "code",
      "source": [
        "print(a.lastname)"
      ],
      "metadata": {
        "colab": {
          "base_uri": "https://localhost:8080/"
        },
        "id": "jo-xvZxAYgAu",
        "outputId": "e8e7f71f-5add-48a0-bac2-51b0b2b05e6b"
      },
      "execution_count": 137,
      "outputs": [
        {
          "output_type": "stream",
          "name": "stdout",
          "text": [
            "박\n"
          ]
        }
      ]
    },
    {
      "cell_type": "code",
      "source": [
        "Family.lastname = '조' # 클래스 변수 값 변경."
      ],
      "metadata": {
        "id": "Gks9fuCMYpFe"
      },
      "execution_count": 138,
      "outputs": []
    },
    {
      "cell_type": "code",
      "source": [
        "print(a.lastname)  # 위에서 a.lastname 을 '박'으로 변경하였으므로, Family.lastname을 바뀌어도 \n",
        "                   # 이미 객체변수사용되어 class 변수 값이 활용되지 않음"
      ],
      "metadata": {
        "colab": {
          "base_uri": "https://localhost:8080/"
        },
        "id": "ikx-pSuvYuEe",
        "outputId": "09b809e4-4b83-45b5-e0cf-db09c0745a16"
      },
      "execution_count": 139,
      "outputs": [
        {
          "output_type": "stream",
          "name": "stdout",
          "text": [
            "박\n"
          ]
        }
      ]
    },
    {
      "cell_type": "code",
      "source": [
        "print(b.lastname)"
      ],
      "metadata": {
        "colab": {
          "base_uri": "https://localhost:8080/"
        },
        "id": "GgCASHyHYwli",
        "outputId": "b4becd40-64dc-453d-be19-38b735cc1cb3"
      },
      "execution_count": 140,
      "outputs": [
        {
          "output_type": "stream",
          "name": "stdout",
          "text": [
            "조\n"
          ]
        }
      ]
    },
    {
      "cell_type": "code",
      "source": [
        ""
      ],
      "metadata": {
        "id": "bluZ2GBJYzUm"
      },
      "execution_count": null,
      "outputs": []
    }
  ]
}