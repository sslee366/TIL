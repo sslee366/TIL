{
 "cells": [
  {
   "cell_type": "code",
   "execution_count": 2,
   "id": "69c60995",
   "metadata": {},
   "outputs": [
    {
     "name": "stdout",
     "output_type": "stream",
     "text": [
      "['C:\\\\Users\\\\Serry\\\\anaconda3\\\\lib\\\\site-packages\\\\ipykernel_launcher.py', '-f', 'C:\\\\Users\\\\Serry\\\\AppData\\\\Roaming\\\\jupyter\\\\runtime\\\\kernel-ca7ab8cf-bdf8-46e7-9a42-2d9328c1abdd.json']\n"
     ]
    }
   ],
   "source": [
    "#argv_test.py\n",
    "import sys\n",
    "print(sys.argv)"
   ]
  },
  {
   "cell_type": "code",
   "execution_count": 3,
   "id": "194864f3",
   "metadata": {},
   "outputs": [],
   "source": [
    "#path_append.py\n",
    "import sys\n",
    "sys.path.append('C:/Users/Serry//Documents/code')"
   ]
  },
  {
   "cell_type": "code",
   "execution_count": 4,
   "id": "e3be13a3",
   "metadata": {},
   "outputs": [],
   "source": [
    "import pickle\n",
    "f= open('test.txt','wb')\n",
    "data={1:'python', 2: 'you need'}\n",
    "\n",
    "pickle.dump(data,f)\n",
    "f.close()"
   ]
  },
  {
   "cell_type": "code",
   "execution_count": 5,
   "id": "732ea533",
   "metadata": {},
   "outputs": [
    {
     "name": "stdout",
     "output_type": "stream",
     "text": [
      "{1: 'python', 2: 'you need'}\n"
     ]
    }
   ],
   "source": [
    "f=open('test.txt','rb')\n",
    "data=pickle.load(f)\n",
    "print(data)"
   ]
  },
  {
   "cell_type": "code",
   "execution_count": 6,
   "id": "62b30af0",
   "metadata": {},
   "outputs": [
    {
     "name": "stdout",
     "output_type": "stream",
     "text": [
      "environ({'ALLUSERSPROFILE': 'C:\\\\ProgramData', 'APPDATA': 'C:\\\\Users\\\\Serry\\\\AppData\\\\Roaming', 'COMMONPROGRAMFILES': 'C:\\\\Program Files\\\\Common Files', 'COMMONPROGRAMFILES(X86)': 'C:\\\\Program Files (x86)\\\\Common Files', 'COMMONPROGRAMW6432': 'C:\\\\Program Files\\\\Common Files', 'COMPUTERNAME': 'SERRYRED', 'COMSPEC': 'C:\\\\WINDOWS\\\\system32\\\\cmd.exe', 'DRIVERDATA': 'C:\\\\Windows\\\\System32\\\\Drivers\\\\DriverData', 'FPS_BROWSER_APP_PROFILE_STRING': 'Internet Explorer', 'FPS_BROWSER_USER_PROFILE_STRING': 'Default', 'FP_NO_HOST_CHECK': 'NO', 'HOMEDRIVE': 'C:', 'HOMEPATH': '\\\\Users\\\\Serry', 'LOCALAPPDATA': 'C:\\\\Users\\\\Serry\\\\AppData\\\\Local', 'LOGONSERVER': '\\\\\\\\SERRYRED', 'MOZ_PLUGIN_PATH': 'C:\\\\PROGRAM FILES (X86)\\\\FOXIT SOFTWARE\\\\FOXIT READER\\\\plugins\\\\', 'NUMBER_OF_PROCESSORS': '4', 'ONEDRIVE': 'C:\\\\Users\\\\Serry\\\\OneDrive', 'OS': 'Windows_NT', 'PATH': 'C:\\\\Users\\\\Serry\\\\anaconda3;C:\\\\Users\\\\Serry\\\\anaconda3\\\\Library\\\\mingw-w64\\\\bin;C:\\\\Users\\\\Serry\\\\anaconda3\\\\Library\\\\usr\\\\bin;C:\\\\Users\\\\Serry\\\\anaconda3\\\\Library\\\\bin;C:\\\\Users\\\\Serry\\\\anaconda3\\\\Scripts;C:\\\\Program Files (x86)\\\\Intel\\\\iCLS Client\\\\;C:\\\\Program Files\\\\Intel\\\\iCLS Client\\\\;C:\\\\WINDOWS\\\\system32;C:\\\\WINDOWS;C:\\\\WINDOWS\\\\System32\\\\Wbem;C:\\\\WINDOWS\\\\System32\\\\WindowsPowerShell\\\\v1.0\\\\;C:\\\\Program Files\\\\Samsung\\\\SamsungLink\\\\AllShare Framework DMS\\\\bin\\\\;C:\\\\Program Files (x86)\\\\Intel\\\\Intel(R) Management Engine Components\\\\DAL;C:\\\\Program Files\\\\Intel\\\\Intel(R) Management Engine Components\\\\DAL;C:\\\\Program Files (x86)\\\\Intel\\\\Intel(R) Management Engine Components\\\\IPT;C:\\\\Program Files\\\\Intel\\\\Intel(R) Management Engine Components\\\\IPT;C:\\\\WINDOWS\\\\System32\\\\OpenSSH\\\\;C:\\\\Users\\\\Serry\\\\AppData\\\\Local\\\\Microsoft\\\\WindowsApps;;C:\\\\Users\\\\Serry\\\\PyCharm Community Edition 2022.1.1\\\\bin;;C:\\\\Users\\\\Serry\\\\AppData\\\\Local\\\\Programs\\\\Microsoft VS Code\\\\bin', 'PATHEXT': '.COM;.EXE;.BAT;.CMD;.VBS;.VBE;.JS;.JSE;.WSF;.WSH;.MSC', 'PROCESSOR_ARCHITECTURE': 'AMD64', 'PROCESSOR_IDENTIFIER': 'Intel64 Family 6 Model 61 Stepping 4, GenuineIntel', 'PROCESSOR_LEVEL': '6', 'PROCESSOR_REVISION': '3d04', 'PROGRAMDATA': 'C:\\\\ProgramData', 'PROGRAMFILES': 'C:\\\\Program Files', 'PROGRAMFILES(X86)': 'C:\\\\Program Files (x86)', 'PROGRAMW6432': 'C:\\\\Program Files', 'PSMODULEPATH': 'C:\\\\WINDOWS\\\\system32\\\\WindowsPowerShell\\\\v1.0\\\\Modules\\\\', 'PUBLIC': 'C:\\\\Users\\\\Public', 'PYCHARM COMMUNITY EDITION': 'C:\\\\Users\\\\Serry\\\\PyCharm Community Edition 2022.1.1\\\\bin;', 'SESSIONNAME': 'Console', 'SYSTEMDRIVE': 'C:', 'SYSTEMROOT': 'C:\\\\WINDOWS', 'TEMP': 'C:\\\\Users\\\\Serry\\\\AppData\\\\Local\\\\Temp', 'TMP': 'C:\\\\Users\\\\Serry\\\\AppData\\\\Local\\\\Temp', 'USERDOMAIN': 'SERRYRED', 'USERDOMAIN_ROAMINGPROFILE': 'SERRYRED', 'USERNAME': 'Serry', 'USERPROFILE': 'C:\\\\Users\\\\Serry', 'WINDIR': 'C:\\\\WINDOWS', 'CONDA_PREFIX': 'C:\\\\Users\\\\Serry\\\\anaconda3', 'PYDEVD_USE_FRAME_EVAL': 'NO', 'JPY_INTERRUPT_EVENT': '3536', 'IPY_INTERRUPT_EVENT': '3536', 'JPY_PARENT_PID': '3504', 'TERM': 'xterm-color', 'CLICOLOR': '1', 'PAGER': 'cat', 'GIT_PAGER': 'cat', 'MPLBACKEND': 'module://matplotlib_inline.backend_inline'})\n"
     ]
    }
   ],
   "source": [
    "import os\n",
    "print(os.environ)"
   ]
  },
  {
   "cell_type": "code",
   "execution_count": 7,
   "id": "1c42443c",
   "metadata": {},
   "outputs": [
    {
     "name": "stdout",
     "output_type": "stream",
     "text": [
      "C:\\Users\\Serry\\anaconda3;C:\\Users\\Serry\\anaconda3\\Library\\mingw-w64\\bin;C:\\Users\\Serry\\anaconda3\\Library\\usr\\bin;C:\\Users\\Serry\\anaconda3\\Library\\bin;C:\\Users\\Serry\\anaconda3\\Scripts;C:\\Program Files (x86)\\Intel\\iCLS Client\\;C:\\Program Files\\Intel\\iCLS Client\\;C:\\WINDOWS\\system32;C:\\WINDOWS;C:\\WINDOWS\\System32\\Wbem;C:\\WINDOWS\\System32\\WindowsPowerShell\\v1.0\\;C:\\Program Files\\Samsung\\SamsungLink\\AllShare Framework DMS\\bin\\;C:\\Program Files (x86)\\Intel\\Intel(R) Management Engine Components\\DAL;C:\\Program Files\\Intel\\Intel(R) Management Engine Components\\DAL;C:\\Program Files (x86)\\Intel\\Intel(R) Management Engine Components\\IPT;C:\\Program Files\\Intel\\Intel(R) Management Engine Components\\IPT;C:\\WINDOWS\\System32\\OpenSSH\\;C:\\Users\\Serry\\AppData\\Local\\Microsoft\\WindowsApps;;C:\\Users\\Serry\\PyCharm Community Edition 2022.1.1\\bin;;C:\\Users\\Serry\\AppData\\Local\\Programs\\Microsoft VS Code\\bin\n"
     ]
    }
   ],
   "source": [
    "print(os.environ['PATH'])"
   ]
  },
  {
   "cell_type": "code",
   "execution_count": 8,
   "id": "a17deeba",
   "metadata": {},
   "outputs": [],
   "source": [
    "os.chdir('c:\\windows')"
   ]
  },
  {
   "cell_type": "code",
   "execution_count": 9,
   "id": "85feb44c",
   "metadata": {},
   "outputs": [
    {
     "data": {
      "text/plain": [
       "'c:\\\\windows'"
      ]
     },
     "execution_count": 9,
     "metadata": {},
     "output_type": "execute_result"
    }
   ],
   "source": [
    "os.getcwd()"
   ]
  },
  {
   "cell_type": "code",
   "execution_count": 10,
   "id": "516dcd05",
   "metadata": {},
   "outputs": [
    {
     "data": {
      "text/plain": [
       "0"
      ]
     },
     "execution_count": 10,
     "metadata": {},
     "output_type": "execute_result"
    }
   ],
   "source": [
    "os.system('dir')"
   ]
  },
  {
   "cell_type": "code",
   "execution_count": 11,
   "id": "31cc5601",
   "metadata": {},
   "outputs": [],
   "source": [
    "os.chdir('C:/Users/Serry//Documents/code')"
   ]
  },
  {
   "cell_type": "code",
   "execution_count": 12,
   "id": "ae034b86",
   "metadata": {},
   "outputs": [
    {
     "data": {
      "text/plain": [
       "'C:\\\\Users\\\\Serry\\\\Documents\\\\code'"
      ]
     },
     "execution_count": 12,
     "metadata": {},
     "output_type": "execute_result"
    }
   ],
   "source": [
    "os.getcwd()"
   ]
  },
  {
   "cell_type": "code",
   "execution_count": 13,
   "id": "8bacb6c3",
   "metadata": {},
   "outputs": [
    {
     "data": {
      "text/plain": [
       "0"
      ]
     },
     "execution_count": 13,
     "metadata": {},
     "output_type": "execute_result"
    }
   ],
   "source": [
    "os.system('dir')"
   ]
  },
  {
   "cell_type": "code",
   "execution_count": 14,
   "id": "f937747e",
   "metadata": {},
   "outputs": [],
   "source": [
    "f=os.popen('dir')"
   ]
  },
  {
   "cell_type": "code",
   "execution_count": 15,
   "id": "0bdc61c1",
   "metadata": {},
   "outputs": [
    {
     "name": "stdout",
     "output_type": "stream",
     "text": [
      " C 드라이브의 볼륨: SerryRed\n",
      " 볼륨 일련 번호: 8AFC-E8F2\n",
      "\n",
      " C:\\Users\\Serry\\Documents\\code 디렉터리\n",
      "\n",
      "2022-05-22  오후 08:09    <DIR>          .\n",
      "2022-05-22  오후 08:09    <DIR>          ..\n",
      "2022-05-22  오후 07:57    <DIR>          .ipynb_checkpoints\n",
      "2022-05-22  오후 07:26                92 argv_test.py\n",
      "2022-05-20  오전 10:20             1,275 call_mod1.ipynb\n",
      "2022-05-20  오전 10:21             1,283 call_mod1_2.ipynb\n",
      "2022-05-20  오전 10:23             1,390 call_mod1_3.ipynb\n",
      "2022-05-21  오후 05:12    <DIR>          game2\n",
      "2022-05-21  오후 05:12    <DIR>          math\n",
      "2022-05-20  오전 11:02               353 mod1.py\n",
      "2022-05-20  오전 11:28                63 modtest.py\n",
      "2022-05-20  오후 04:58            11,617 Multi_python_09_OO.ipynb\n",
      "2022-05-20  오후 04:56            13,146 Multi_python_09_객체지향프로그래밍(상속, 오버라이딩).ipynb\n",
      "2022-05-21  오후 05:12    <DIR>          mymod\n",
      "2022-05-22  오후 07:47               826 path_append.ipynb\n",
      "2022-05-22  오후 07:41               128 path_append.py\n",
      "2022-05-22  오후 08:09             1,227 pickle_test.ipynb\n",
      "2022-05-18  오전 06:58           580,399 seoul.csv\n",
      "2022-05-21  오후 06:05               128 spyder_sample1.py\n",
      "2022-05-19  오후 04:22                61 sys1.py\n",
      "2022-05-19  오후 04:27                88 sys2.py\n",
      "2022-05-21  오후 05:12    <DIR>          temp\n",
      "2022-05-22  오후 08:06                40 test.txt\n",
      "2022-05-21  오후 05:12    <DIR>          __pycache__\n",
      "2022-05-18  오전 07:41            11,615 히스토그램시각화_14_이수진_멀캠AI_11기.ipynb\n",
      "2022-05-18  오전 07:33             2,393 히스토그램시각화_응용.ipynb\n",
      "              18개 파일             626,124 바이트\n",
      "               8개 디렉터리  41,223,262,208 바이트 남음\n",
      "\n"
     ]
    }
   ],
   "source": [
    "print(f.read())"
   ]
  },
  {
   "cell_type": "code",
   "execution_count": 17,
   "id": "05a28938",
   "metadata": {},
   "outputs": [
    {
     "data": {
      "text/plain": [
       "'test2.txt'"
      ]
     },
     "execution_count": 17,
     "metadata": {},
     "output_type": "execute_result"
    }
   ],
   "source": [
    "import shutil\n",
    "shutil.copy('test.txt','test2.txt')"
   ]
  },
  {
   "cell_type": "code",
   "execution_count": 19,
   "id": "af3b62aa",
   "metadata": {},
   "outputs": [
    {
     "name": "stdout",
     "output_type": "stream",
     "text": [
      " C 드라이브의 볼륨: SerryRed\n",
      " 볼륨 일련 번호: 8AFC-E8F2\n",
      "\n",
      " C:\\Users\\Serry\\Documents\\code 디렉터리\n",
      "\n",
      "2022-05-22  오후 08:20    <DIR>          .\n",
      "2022-05-22  오후 08:20    <DIR>          ..\n",
      "2022-05-22  오후 07:57    <DIR>          .ipynb_checkpoints\n",
      "2022-05-22  오후 07:26                92 argv_test.py\n",
      "2022-05-20  오전 10:20             1,275 call_mod1.ipynb\n",
      "2022-05-20  오전 10:21             1,283 call_mod1_2.ipynb\n",
      "2022-05-20  오전 10:23             1,390 call_mod1_3.ipynb\n",
      "2022-05-21  오후 05:12    <DIR>          game2\n",
      "2022-05-21  오후 05:12    <DIR>          math\n",
      "2022-05-20  오전 11:02               353 mod1.py\n",
      "2022-05-20  오전 11:28                63 modtest.py\n",
      "2022-05-20  오후 04:58            11,617 Multi_python_09_OO.ipynb\n",
      "2022-05-20  오후 04:56            13,146 Multi_python_09_객체지향프로그래밍(상속, 오버라이딩).ipynb\n",
      "2022-05-21  오후 05:12    <DIR>          mymod\n",
      "2022-05-22  오후 07:47               826 path_append.ipynb\n",
      "2022-05-22  오후 07:41               128 path_append.py\n",
      "2022-05-22  오후 08:09             1,227 pickle_test.ipynb\n",
      "2022-05-18  오전 06:58           580,399 seoul.csv\n",
      "2022-05-21  오후 06:05               128 spyder_sample1.py\n",
      "2022-05-19  오후 04:22                61 sys1.py\n",
      "2022-05-19  오후 04:27                88 sys2.py\n",
      "2022-05-21  오후 05:12    <DIR>          temp\n",
      "2022-05-22  오후 08:06                40 test.txt\n",
      "2022-05-22  오후 08:20                40 test2.txt\n",
      "2022-05-21  오후 05:12    <DIR>          __pycache__\n",
      "2022-05-18  오전 07:41            11,615 히스토그램시각화_14_이수진_멀캠AI_11기.ipynb\n",
      "2022-05-18  오전 07:33             2,393 히스토그램시각화_응용.ipynb\n",
      "              19개 파일             626,164 바이트\n",
      "               8개 디렉터리  41,223,360,512 바이트 남음\n",
      "\n"
     ]
    }
   ],
   "source": [
    "f=os.popen('dir')\n",
    "print(f.read())"
   ]
  },
  {
   "cell_type": "code",
   "execution_count": 20,
   "id": "c96e39d7",
   "metadata": {},
   "outputs": [
    {
     "name": "stdout",
     "output_type": "stream",
     "text": [
      "{1: 'python', 2: 'you need'}\n"
     ]
    }
   ],
   "source": [
    "f=open('test2.txt','rb')\n",
    "data=pickle.load(f)\n",
    "print(data)"
   ]
  },
  {
   "cell_type": "code",
   "execution_count": 23,
   "id": "eeca7aeb",
   "metadata": {},
   "outputs": [
    {
     "data": {
      "text/plain": [
       "['C:/Users/Serry//Documents/code\\\\argv_test.py',\n",
       " 'C:/Users/Serry//Documents/code\\\\call_mod1.ipynb',\n",
       " 'C:/Users/Serry//Documents/code\\\\call_mod1_2.ipynb',\n",
       " 'C:/Users/Serry//Documents/code\\\\call_mod1_3.ipynb',\n",
       " 'C:/Users/Serry//Documents/code\\\\game2',\n",
       " 'C:/Users/Serry//Documents/code\\\\math',\n",
       " 'C:/Users/Serry//Documents/code\\\\mod1.py',\n",
       " 'C:/Users/Serry//Documents/code\\\\modtest.py',\n",
       " 'C:/Users/Serry//Documents/code\\\\Multi_python_09_OO.ipynb',\n",
       " 'C:/Users/Serry//Documents/code\\\\Multi_python_09_객체지향프로그래밍(상속, 오버라이딩).ipynb',\n",
       " 'C:/Users/Serry//Documents/code\\\\mymod',\n",
       " 'C:/Users/Serry//Documents/code\\\\path_append.ipynb',\n",
       " 'C:/Users/Serry//Documents/code\\\\path_append.py',\n",
       " 'C:/Users/Serry//Documents/code\\\\pickle_test.ipynb',\n",
       " 'C:/Users/Serry//Documents/code\\\\seoul.csv',\n",
       " 'C:/Users/Serry//Documents/code\\\\spyder_sample1.py',\n",
       " 'C:/Users/Serry//Documents/code\\\\sys1.py',\n",
       " 'C:/Users/Serry//Documents/code\\\\sys2.py',\n",
       " 'C:/Users/Serry//Documents/code\\\\temp',\n",
       " 'C:/Users/Serry//Documents/code\\\\test.txt',\n",
       " 'C:/Users/Serry//Documents/code\\\\test2.txt',\n",
       " 'C:/Users/Serry//Documents/code\\\\__pycache__',\n",
       " 'C:/Users/Serry//Documents/code\\\\히스토그램시각화_14_이수진_멀캠AI_11기.ipynb',\n",
       " 'C:/Users/Serry//Documents/code\\\\히스토그램시각화_응용.ipynb']"
      ]
     },
     "execution_count": 23,
     "metadata": {},
     "output_type": "execute_result"
    }
   ],
   "source": [
    "glob.glob('C:/Users/Serry//Documents/code/*')"
   ]
  },
  {
   "cell_type": "code",
   "execution_count": 24,
   "id": "d460716b",
   "metadata": {},
   "outputs": [
    {
     "name": "stdout",
     "output_type": "stream",
     "text": [
      "(4, 'C:\\\\Users\\\\Serry\\\\AppData\\\\Local\\\\Temp\\\\tmpdsbbu37l')\n"
     ]
    }
   ],
   "source": [
    "import tempfile\n",
    "filename = tempfile.mkstemp()\n",
    "print(filename)"
   ]
  },
  {
   "cell_type": "code",
   "execution_count": 25,
   "id": "59449852",
   "metadata": {},
   "outputs": [
    {
     "name": "stdout",
     "output_type": "stream",
     "text": [
      "<tempfile._TemporaryFileWrapper object at 0x0000023230C7ABE0>\n"
     ]
    }
   ],
   "source": [
    "import tempfile\n",
    "f=tempfile.TemporaryFile()\n",
    "print(f)\n",
    "f.close()"
   ]
  },
  {
   "cell_type": "code",
   "execution_count": 26,
   "id": "6f3d9121",
   "metadata": {},
   "outputs": [
    {
     "data": {
      "text/plain": [
       "1653218912.5717802"
      ]
     },
     "execution_count": 26,
     "metadata": {},
     "output_type": "execute_result"
    }
   ],
   "source": [
    "import time\n",
    "time.time()"
   ]
  },
  {
   "cell_type": "code",
   "execution_count": 27,
   "id": "bcdfbb22",
   "metadata": {},
   "outputs": [
    {
     "data": {
      "text/plain": [
       "time.struct_time(tm_year=2022, tm_mon=5, tm_mday=22, tm_hour=20, tm_min=28, tm_sec=52, tm_wday=6, tm_yday=142, tm_isdst=0)"
      ]
     },
     "execution_count": 27,
     "metadata": {},
     "output_type": "execute_result"
    }
   ],
   "source": [
    "time.localtime(time.time())"
   ]
  },
  {
   "cell_type": "code",
   "execution_count": 29,
   "id": "1bf3eca8",
   "metadata": {},
   "outputs": [
    {
     "data": {
      "text/plain": [
       "'Sun May 22 20:29:41 2022'"
      ]
     },
     "execution_count": 29,
     "metadata": {},
     "output_type": "execute_result"
    }
   ],
   "source": [
    "time.asctime(time.localtime(time.time()))"
   ]
  },
  {
   "cell_type": "code",
   "execution_count": 30,
   "id": "79f5a55f",
   "metadata": {},
   "outputs": [
    {
     "data": {
      "text/plain": [
       "'Sun May 22 20:30:22 2022'"
      ]
     },
     "execution_count": 30,
     "metadata": {},
     "output_type": "execute_result"
    }
   ],
   "source": [
    "time.ctime()"
   ]
  },
  {
   "cell_type": "code",
   "execution_count": 33,
   "id": "04011edd",
   "metadata": {},
   "outputs": [
    {
     "data": {
      "text/plain": [
       "'05/22/22'"
      ]
     },
     "execution_count": 33,
     "metadata": {},
     "output_type": "execute_result"
    }
   ],
   "source": [
    "time.strftime('%x', time.localtime(time.time()))"
   ]
  },
  {
   "cell_type": "code",
   "execution_count": 34,
   "id": "606579b1",
   "metadata": {},
   "outputs": [
    {
     "data": {
      "text/plain": [
       "'Sun May 22 20:32:23 2022'"
      ]
     },
     "execution_count": 34,
     "metadata": {},
     "output_type": "execute_result"
    }
   ],
   "source": [
    "time.strftime('%c', time.localtime(time.time()))"
   ]
  },
  {
   "cell_type": "code",
   "execution_count": 35,
   "id": "311708dc",
   "metadata": {},
   "outputs": [
    {
     "name": "stdout",
     "output_type": "stream",
     "text": [
      "0\n",
      "1\n",
      "2\n",
      "3\n",
      "4\n",
      "5\n",
      "6\n",
      "7\n",
      "8\n",
      "9\n"
     ]
    }
   ],
   "source": [
    "for i in range(10):\n",
    "    print(i)\n",
    "    time.sleep(1)"
   ]
  },
  {
   "cell_type": "code",
   "execution_count": 36,
   "id": "42e8d3f9",
   "metadata": {},
   "outputs": [
    {
     "name": "stdout",
     "output_type": "stream",
     "text": [
      "                                  2022\n",
      "\n",
      "      January                   February                   March\n",
      "Mo Tu We Th Fr Sa Su      Mo Tu We Th Fr Sa Su      Mo Tu We Th Fr Sa Su\n",
      "                1  2          1  2  3  4  5  6          1  2  3  4  5  6\n",
      " 3  4  5  6  7  8  9       7  8  9 10 11 12 13       7  8  9 10 11 12 13\n",
      "10 11 12 13 14 15 16      14 15 16 17 18 19 20      14 15 16 17 18 19 20\n",
      "17 18 19 20 21 22 23      21 22 23 24 25 26 27      21 22 23 24 25 26 27\n",
      "24 25 26 27 28 29 30      28                        28 29 30 31\n",
      "31\n",
      "\n",
      "       April                      May                       June\n",
      "Mo Tu We Th Fr Sa Su      Mo Tu We Th Fr Sa Su      Mo Tu We Th Fr Sa Su\n",
      "             1  2  3                         1             1  2  3  4  5\n",
      " 4  5  6  7  8  9 10       2  3  4  5  6  7  8       6  7  8  9 10 11 12\n",
      "11 12 13 14 15 16 17       9 10 11 12 13 14 15      13 14 15 16 17 18 19\n",
      "18 19 20 21 22 23 24      16 17 18 19 20 21 22      20 21 22 23 24 25 26\n",
      "25 26 27 28 29 30         23 24 25 26 27 28 29      27 28 29 30\n",
      "                          30 31\n",
      "\n",
      "        July                     August                  September\n",
      "Mo Tu We Th Fr Sa Su      Mo Tu We Th Fr Sa Su      Mo Tu We Th Fr Sa Su\n",
      "             1  2  3       1  2  3  4  5  6  7                1  2  3  4\n",
      " 4  5  6  7  8  9 10       8  9 10 11 12 13 14       5  6  7  8  9 10 11\n",
      "11 12 13 14 15 16 17      15 16 17 18 19 20 21      12 13 14 15 16 17 18\n",
      "18 19 20 21 22 23 24      22 23 24 25 26 27 28      19 20 21 22 23 24 25\n",
      "25 26 27 28 29 30 31      29 30 31                  26 27 28 29 30\n",
      "\n",
      "      October                   November                  December\n",
      "Mo Tu We Th Fr Sa Su      Mo Tu We Th Fr Sa Su      Mo Tu We Th Fr Sa Su\n",
      "                1  2          1  2  3  4  5  6                1  2  3  4\n",
      " 3  4  5  6  7  8  9       7  8  9 10 11 12 13       5  6  7  8  9 10 11\n",
      "10 11 12 13 14 15 16      14 15 16 17 18 19 20      12 13 14 15 16 17 18\n",
      "17 18 19 20 21 22 23      21 22 23 24 25 26 27      19 20 21 22 23 24 25\n",
      "24 25 26 27 28 29 30      28 29 30                  26 27 28 29 30 31\n",
      "31\n",
      "\n"
     ]
    }
   ],
   "source": [
    "import calendar\n",
    "print(calendar.calendar(2022))"
   ]
  },
  {
   "cell_type": "code",
   "execution_count": 37,
   "id": "e8e05e91",
   "metadata": {},
   "outputs": [
    {
     "name": "stdout",
     "output_type": "stream",
     "text": [
      "                                  2022\n",
      "\n",
      "      January                   February                   March\n",
      "Mo Tu We Th Fr Sa Su      Mo Tu We Th Fr Sa Su      Mo Tu We Th Fr Sa Su\n",
      "                1  2          1  2  3  4  5  6          1  2  3  4  5  6\n",
      " 3  4  5  6  7  8  9       7  8  9 10 11 12 13       7  8  9 10 11 12 13\n",
      "10 11 12 13 14 15 16      14 15 16 17 18 19 20      14 15 16 17 18 19 20\n",
      "17 18 19 20 21 22 23      21 22 23 24 25 26 27      21 22 23 24 25 26 27\n",
      "24 25 26 27 28 29 30      28                        28 29 30 31\n",
      "31\n",
      "\n",
      "       April                      May                       June\n",
      "Mo Tu We Th Fr Sa Su      Mo Tu We Th Fr Sa Su      Mo Tu We Th Fr Sa Su\n",
      "             1  2  3                         1             1  2  3  4  5\n",
      " 4  5  6  7  8  9 10       2  3  4  5  6  7  8       6  7  8  9 10 11 12\n",
      "11 12 13 14 15 16 17       9 10 11 12 13 14 15      13 14 15 16 17 18 19\n",
      "18 19 20 21 22 23 24      16 17 18 19 20 21 22      20 21 22 23 24 25 26\n",
      "25 26 27 28 29 30         23 24 25 26 27 28 29      27 28 29 30\n",
      "                          30 31\n",
      "\n",
      "        July                     August                  September\n",
      "Mo Tu We Th Fr Sa Su      Mo Tu We Th Fr Sa Su      Mo Tu We Th Fr Sa Su\n",
      "             1  2  3       1  2  3  4  5  6  7                1  2  3  4\n",
      " 4  5  6  7  8  9 10       8  9 10 11 12 13 14       5  6  7  8  9 10 11\n",
      "11 12 13 14 15 16 17      15 16 17 18 19 20 21      12 13 14 15 16 17 18\n",
      "18 19 20 21 22 23 24      22 23 24 25 26 27 28      19 20 21 22 23 24 25\n",
      "25 26 27 28 29 30 31      29 30 31                  26 27 28 29 30\n",
      "\n",
      "      October                   November                  December\n",
      "Mo Tu We Th Fr Sa Su      Mo Tu We Th Fr Sa Su      Mo Tu We Th Fr Sa Su\n",
      "                1  2          1  2  3  4  5  6                1  2  3  4\n",
      " 3  4  5  6  7  8  9       7  8  9 10 11 12 13       5  6  7  8  9 10 11\n",
      "10 11 12 13 14 15 16      14 15 16 17 18 19 20      12 13 14 15 16 17 18\n",
      "17 18 19 20 21 22 23      21 22 23 24 25 26 27      19 20 21 22 23 24 25\n",
      "24 25 26 27 28 29 30      28 29 30                  26 27 28 29 30 31\n",
      "31\n"
     ]
    }
   ],
   "source": [
    "calendar.prcal(2022)"
   ]
  },
  {
   "cell_type": "code",
   "execution_count": 38,
   "id": "3dd9528a",
   "metadata": {},
   "outputs": [
    {
     "name": "stdout",
     "output_type": "stream",
     "text": [
      "      May 2022\n",
      "Mo Tu We Th Fr Sa Su\n",
      "                   1\n",
      " 2  3  4  5  6  7  8\n",
      " 9 10 11 12 13 14 15\n",
      "16 17 18 19 20 21 22\n",
      "23 24 25 26 27 28 29\n",
      "30 31\n"
     ]
    }
   ],
   "source": [
    "calendar.prmonth(2022,5)"
   ]
  },
  {
   "cell_type": "code",
   "execution_count": 40,
   "id": "734a0b69",
   "metadata": {},
   "outputs": [
    {
     "data": {
      "text/plain": [
       "6"
      ]
     },
     "execution_count": 40,
     "metadata": {},
     "output_type": "execute_result"
    }
   ],
   "source": [
    "calendar.weekday(2022,5,22)"
   ]
  },
  {
   "cell_type": "code",
   "execution_count": 41,
   "id": "cd75f593",
   "metadata": {},
   "outputs": [
    {
     "data": {
      "text/plain": [
       "(6, 31)"
      ]
     },
     "execution_count": 41,
     "metadata": {},
     "output_type": "execute_result"
    }
   ],
   "source": [
    "calendar.monthrange(2022,5)"
   ]
  },
  {
   "cell_type": "code",
   "execution_count": 42,
   "id": "ba3162b4",
   "metadata": {},
   "outputs": [
    {
     "data": {
      "text/plain": [
       "0.43934171448926274"
      ]
     },
     "execution_count": 42,
     "metadata": {},
     "output_type": "execute_result"
    }
   ],
   "source": [
    "import random\n",
    "random.random()"
   ]
  },
  {
   "cell_type": "code",
   "execution_count": 43,
   "id": "9fd14704",
   "metadata": {},
   "outputs": [
    {
     "data": {
      "text/plain": [
       "18"
      ]
     },
     "execution_count": 43,
     "metadata": {},
     "output_type": "execute_result"
    }
   ],
   "source": [
    "random.randint(1,100)"
   ]
  },
  {
   "cell_type": "code",
   "execution_count": 44,
   "id": "acdc3d48",
   "metadata": {},
   "outputs": [
    {
     "name": "stdout",
     "output_type": "stream",
     "text": [
      "5\n",
      "1\n",
      "3\n",
      "2\n",
      "4\n"
     ]
    }
   ],
   "source": [
    "#random_pop.py\n",
    "import random\n",
    "def random_pop(data):\n",
    "    number = random.randint(0,len(data)-1)\n",
    "    return data.pop(number)\n",
    "\n",
    "if __name__ == \"__main__\":\n",
    "    data = [1,2,3,4,5]\n",
    "    while data:\n",
    "        print(random_pop(data))\n",
    "        "
   ]
  },
  {
   "cell_type": "code",
   "execution_count": 45,
   "id": "e241448d",
   "metadata": {},
   "outputs": [
    {
     "name": "stdout",
     "output_type": "stream",
     "text": [
      "5\n",
      "2\n",
      "3\n",
      "4\n",
      "1\n"
     ]
    }
   ],
   "source": [
    "import random\n",
    "def random_pop(data):\n",
    "    number = random.choice(data)\n",
    "    data.remove(number)\n",
    "    return number\n",
    "\n",
    "if __name__ == \"__main__\":\n",
    "    data = [1,2,3,4,5]\n",
    "    while data:\n",
    "        print(random_pop(data))"
   ]
  },
  {
   "cell_type": "code",
   "execution_count": 46,
   "id": "ea564ab0",
   "metadata": {},
   "outputs": [
    {
     "data": {
      "text/plain": [
       "[3, 5, 4, 2, 1]"
      ]
     },
     "execution_count": 46,
     "metadata": {},
     "output_type": "execute_result"
    }
   ],
   "source": [
    "import random\n",
    "data = [1,2,3,4,5]\n",
    "random.shuffle(data)\n",
    "data"
   ]
  },
  {
   "cell_type": "code",
   "execution_count": 58,
   "id": "4afd9cc4",
   "metadata": {},
   "outputs": [
    {
     "data": {
      "text/plain": [
       "[1, 2, 3, 4, 5, 6, 7, 8, 9]"
      ]
     },
     "execution_count": 58,
     "metadata": {},
     "output_type": "execute_result"
    }
   ],
   "source": [
    "data = list(range(1,10))\n",
    "data"
   ]
  },
  {
   "cell_type": "code",
   "execution_count": 59,
   "id": "48eddfa9",
   "metadata": {},
   "outputs": [],
   "source": [
    "data_2 = data.copy()\n",
    "random.shuffle(data_2)"
   ]
  },
  {
   "cell_type": "code",
   "execution_count": 60,
   "id": "be20f85d",
   "metadata": {},
   "outputs": [
    {
     "name": "stdout",
     "output_type": "stream",
     "text": [
      "[5, 6, 7, 3, 1, 8, 9, 2, 4]\n"
     ]
    }
   ],
   "source": [
    "print(data_2)"
   ]
  },
  {
   "cell_type": "code",
   "execution_count": 61,
   "id": "ef41d02b",
   "metadata": {},
   "outputs": [
    {
     "name": "stdout",
     "output_type": "stream",
     "text": [
      "[1, 2, 3, 4, 5, 6, 7, 8, 9]\n"
     ]
    }
   ],
   "source": [
    "print(data)"
   ]
  },
  {
   "cell_type": "code",
   "execution_count": 62,
   "id": "cf3ca518",
   "metadata": {},
   "outputs": [
    {
     "data": {
      "text/plain": [
       "True"
      ]
     },
     "execution_count": 62,
     "metadata": {},
     "output_type": "execute_result"
    }
   ],
   "source": [
    "import webbrowser\n",
    "webbrowser.open(\"http://google.com\")"
   ]
  },
  {
   "cell_type": "code",
   "execution_count": 63,
   "id": "6296c4fa",
   "metadata": {},
   "outputs": [
    {
     "data": {
      "text/plain": [
       "True"
      ]
     },
     "execution_count": 63,
     "metadata": {},
     "output_type": "execute_result"
    }
   ],
   "source": [
    "webbrowser.open_new(\"http://naver.com\")"
   ]
  },
  {
   "cell_type": "code",
   "execution_count": null,
   "id": "a01fa20a",
   "metadata": {},
   "outputs": [],
   "source": []
  }
 ],
 "metadata": {
  "kernelspec": {
   "display_name": "Python 3 (ipykernel)",
   "language": "python",
   "name": "python3"
  },
  "language_info": {
   "codemirror_mode": {
    "name": "ipython",
    "version": 3
   },
   "file_extension": ".py",
   "mimetype": "text/x-python",
   "name": "python",
   "nbconvert_exporter": "python",
   "pygments_lexer": "ipython3",
   "version": "3.9.12"
  }
 },
 "nbformat": 4,
 "nbformat_minor": 5
}
