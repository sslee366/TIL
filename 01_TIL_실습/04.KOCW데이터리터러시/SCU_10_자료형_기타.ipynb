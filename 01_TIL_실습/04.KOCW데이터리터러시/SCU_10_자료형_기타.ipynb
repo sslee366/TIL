{
 "cells": [
  {
   "cell_type": "code",
   "execution_count": 1,
   "id": "54003966",
   "metadata": {},
   "outputs": [],
   "source": [
    "from collections import Counter"
   ]
  },
  {
   "cell_type": "code",
   "execution_count": 2,
   "id": "b421fbf2",
   "metadata": {},
   "outputs": [],
   "source": [
    "a='a abc a ab abc a'"
   ]
  },
  {
   "cell_type": "code",
   "execution_count": 3,
   "id": "d606d5ca",
   "metadata": {},
   "outputs": [],
   "source": [
    "b=a.split()"
   ]
  },
  {
   "cell_type": "code",
   "execution_count": 4,
   "id": "5f681799",
   "metadata": {},
   "outputs": [
    {
     "data": {
      "text/plain": [
       "['a', 'abc', 'a', 'ab', 'abc', 'a']"
      ]
     },
     "execution_count": 4,
     "metadata": {},
     "output_type": "execute_result"
    }
   ],
   "source": [
    "b"
   ]
  },
  {
   "cell_type": "code",
   "execution_count": 5,
   "id": "0d290e9b",
   "metadata": {},
   "outputs": [],
   "source": [
    "c=Counter(b)"
   ]
  },
  {
   "cell_type": "code",
   "execution_count": 6,
   "id": "bc2b5bae",
   "metadata": {},
   "outputs": [
    {
     "data": {
      "text/plain": [
       "Counter({'a': 3, 'abc': 2, 'ab': 1})"
      ]
     },
     "execution_count": 6,
     "metadata": {},
     "output_type": "execute_result"
    }
   ],
   "source": [
    "c"
   ]
  },
  {
   "cell_type": "code",
   "execution_count": 7,
   "id": "729126ff",
   "metadata": {},
   "outputs": [
    {
     "data": {
      "text/plain": [
       "[('a', 3), ('abc', 2), ('ab', 1)]"
      ]
     },
     "execution_count": 7,
     "metadata": {},
     "output_type": "execute_result"
    }
   ],
   "source": [
    "c.most_common()"
   ]
  },
  {
   "cell_type": "code",
   "execution_count": 9,
   "id": "3c017449",
   "metadata": {},
   "outputs": [
    {
     "data": {
      "text/plain": [
       "[('a', 3)]"
      ]
     },
     "execution_count": 9,
     "metadata": {},
     "output_type": "execute_result"
    }
   ],
   "source": [
    "c.most_common(1)"
   ]
  },
  {
   "cell_type": "code",
   "execution_count": 10,
   "id": "d8888f06",
   "metadata": {},
   "outputs": [
    {
     "data": {
      "text/plain": [
       "[('a', 3), ('abc', 2)]"
      ]
     },
     "execution_count": 10,
     "metadata": {},
     "output_type": "execute_result"
    }
   ],
   "source": [
    "c.most_common(2)"
   ]
  },
  {
   "cell_type": "code",
   "execution_count": 11,
   "id": "b717ce97",
   "metadata": {},
   "outputs": [],
   "source": [
    "d=dict()"
   ]
  },
  {
   "cell_type": "code",
   "execution_count": 12,
   "id": "a06c62bb",
   "metadata": {},
   "outputs": [],
   "source": [
    "d=(c.most_common())"
   ]
  },
  {
   "cell_type": "code",
   "execution_count": 13,
   "id": "fc5b3a53",
   "metadata": {},
   "outputs": [
    {
     "data": {
      "text/plain": [
       "[('a', 3), ('abc', 2), ('ab', 1)]"
      ]
     },
     "execution_count": 13,
     "metadata": {},
     "output_type": "execute_result"
    }
   ],
   "source": [
    "d"
   ]
  },
  {
   "cell_type": "code",
   "execution_count": 15,
   "id": "a29a3580",
   "metadata": {},
   "outputs": [
    {
     "data": {
      "text/plain": [
       "list"
      ]
     },
     "execution_count": 15,
     "metadata": {},
     "output_type": "execute_result"
    }
   ],
   "source": [
    "type(d)"
   ]
  },
  {
   "cell_type": "code",
   "execution_count": 19,
   "id": "99ed5ae4",
   "metadata": {},
   "outputs": [],
   "source": [
    "d=dict(d)"
   ]
  },
  {
   "cell_type": "code",
   "execution_count": 20,
   "id": "4f331b43",
   "metadata": {},
   "outputs": [
    {
     "data": {
      "text/plain": [
       "{'a': 3, 'abc': 2, 'ab': 1}"
      ]
     },
     "execution_count": 20,
     "metadata": {},
     "output_type": "execute_result"
    }
   ],
   "source": [
    "d"
   ]
  },
  {
   "cell_type": "code",
   "execution_count": 16,
   "id": "519f2f03",
   "metadata": {},
   "outputs": [
    {
     "ename": "TypeError",
     "evalue": "unhashable type: 'list'",
     "output_type": "error",
     "traceback": [
      "\u001b[1;31m---------------------------------------------------------------------------\u001b[0m",
      "\u001b[1;31mTypeError\u001b[0m                                 Traceback (most recent call last)",
      "Input \u001b[1;32mIn [16]\u001b[0m, in \u001b[0;36m<cell line: 1>\u001b[1;34m()\u001b[0m\n\u001b[1;32m----> 1\u001b[0m e\u001b[38;5;241m=\u001b[39m{c\u001b[38;5;241m.\u001b[39mmost_common()}\n",
      "\u001b[1;31mTypeError\u001b[0m: unhashable type: 'list'"
     ]
    }
   ],
   "source": [
    "e={c.most_common()}"
   ]
  },
  {
   "cell_type": "code",
   "execution_count": 17,
   "id": "a089ec66",
   "metadata": {},
   "outputs": [],
   "source": [
    "e=dict(c.most_common())"
   ]
  },
  {
   "cell_type": "code",
   "execution_count": 18,
   "id": "263e8df3",
   "metadata": {},
   "outputs": [
    {
     "data": {
      "text/plain": [
       "{'a': 3, 'abc': 2, 'ab': 1}"
      ]
     },
     "execution_count": 18,
     "metadata": {},
     "output_type": "execute_result"
    }
   ],
   "source": [
    "e"
   ]
  },
  {
   "cell_type": "code",
   "execution_count": 21,
   "id": "79f92dc4",
   "metadata": {},
   "outputs": [
    {
     "data": {
      "text/plain": [
       "3"
      ]
     },
     "execution_count": 21,
     "metadata": {},
     "output_type": "execute_result"
    }
   ],
   "source": [
    "e['a']"
   ]
  },
  {
   "cell_type": "code",
   "execution_count": 22,
   "id": "0ed2841e",
   "metadata": {},
   "outputs": [
    {
     "data": {
      "text/plain": [
       "2"
      ]
     },
     "execution_count": 22,
     "metadata": {},
     "output_type": "execute_result"
    }
   ],
   "source": [
    "e['abc']"
   ]
  },
  {
   "cell_type": "code",
   "execution_count": 23,
   "id": "78219f99",
   "metadata": {},
   "outputs": [],
   "source": [
    "a=[10,20,30]"
   ]
  },
  {
   "cell_type": "code",
   "execution_count": 24,
   "id": "c8bf444e",
   "metadata": {},
   "outputs": [],
   "source": [
    "b=a.copy()"
   ]
  },
  {
   "cell_type": "code",
   "execution_count": 25,
   "id": "23c74aec",
   "metadata": {},
   "outputs": [
    {
     "data": {
      "text/plain": [
       "[10, 20, 30]"
      ]
     },
     "execution_count": 25,
     "metadata": {},
     "output_type": "execute_result"
    }
   ],
   "source": [
    "b"
   ]
  },
  {
   "cell_type": "code",
   "execution_count": 26,
   "id": "a2189961",
   "metadata": {},
   "outputs": [],
   "source": [
    "b[1]=200"
   ]
  },
  {
   "cell_type": "code",
   "execution_count": 27,
   "id": "de61d04e",
   "metadata": {},
   "outputs": [
    {
     "data": {
      "text/plain": [
       "[10, 20, 30]"
      ]
     },
     "execution_count": 27,
     "metadata": {},
     "output_type": "execute_result"
    }
   ],
   "source": [
    "a"
   ]
  },
  {
   "cell_type": "code",
   "execution_count": 28,
   "id": "7c391b47",
   "metadata": {},
   "outputs": [
    {
     "data": {
      "text/plain": [
       "[10, 200, 30]"
      ]
     },
     "execution_count": 28,
     "metadata": {},
     "output_type": "execute_result"
    }
   ],
   "source": [
    "b"
   ]
  },
  {
   "cell_type": "code",
   "execution_count": 29,
   "id": "393e4465",
   "metadata": {},
   "outputs": [],
   "source": [
    "import copy"
   ]
  },
  {
   "cell_type": "code",
   "execution_count": 30,
   "id": "412d5d4e",
   "metadata": {},
   "outputs": [],
   "source": [
    "c=b.copy()"
   ]
  },
  {
   "cell_type": "code",
   "execution_count": 31,
   "id": "b716b4c7",
   "metadata": {},
   "outputs": [
    {
     "data": {
      "text/plain": [
       "[10, 200, 30]"
      ]
     },
     "execution_count": 31,
     "metadata": {},
     "output_type": "execute_result"
    }
   ],
   "source": [
    "c"
   ]
  },
  {
   "cell_type": "code",
   "execution_count": 32,
   "id": "9b0a7745",
   "metadata": {},
   "outputs": [],
   "source": [
    "c = {1:100,2:200,3:300}"
   ]
  },
  {
   "cell_type": "code",
   "execution_count": 33,
   "id": "63a77dab",
   "metadata": {},
   "outputs": [],
   "source": [
    "d=c"
   ]
  },
  {
   "cell_type": "code",
   "execution_count": 34,
   "id": "29b1b035",
   "metadata": {},
   "outputs": [],
   "source": [
    "del c[1]"
   ]
  },
  {
   "cell_type": "code",
   "execution_count": 35,
   "id": "16c1fdc9",
   "metadata": {},
   "outputs": [
    {
     "data": {
      "text/plain": [
       "{2: 200, 3: 300}"
      ]
     },
     "execution_count": 35,
     "metadata": {},
     "output_type": "execute_result"
    }
   ],
   "source": [
    "c"
   ]
  },
  {
   "cell_type": "code",
   "execution_count": 36,
   "id": "cedebc55",
   "metadata": {},
   "outputs": [
    {
     "data": {
      "text/plain": [
       "{2: 200, 3: 300}"
      ]
     },
     "execution_count": 36,
     "metadata": {},
     "output_type": "execute_result"
    }
   ],
   "source": [
    "d"
   ]
  },
  {
   "cell_type": "code",
   "execution_count": 37,
   "id": "c50bd15e",
   "metadata": {},
   "outputs": [
    {
     "data": {
      "text/plain": [
       "True"
      ]
     },
     "execution_count": 37,
     "metadata": {},
     "output_type": "execute_result"
    }
   ],
   "source": [
    "c ==d "
   ]
  },
  {
   "cell_type": "code",
   "execution_count": 38,
   "id": "758c1d46",
   "metadata": {},
   "outputs": [],
   "source": [
    "c = {1:100,2:200,3:300}\n",
    "d= c.copy()"
   ]
  },
  {
   "cell_type": "code",
   "execution_count": 39,
   "id": "fa4c033c",
   "metadata": {},
   "outputs": [],
   "source": [
    "del c[1]"
   ]
  },
  {
   "cell_type": "code",
   "execution_count": 40,
   "id": "1222d550",
   "metadata": {},
   "outputs": [
    {
     "data": {
      "text/plain": [
       "{2: 200, 3: 300}"
      ]
     },
     "execution_count": 40,
     "metadata": {},
     "output_type": "execute_result"
    }
   ],
   "source": [
    "c"
   ]
  },
  {
   "cell_type": "code",
   "execution_count": 41,
   "id": "192a5d5e",
   "metadata": {},
   "outputs": [
    {
     "data": {
      "text/plain": [
       "{1: 100, 2: 200, 3: 300}"
      ]
     },
     "execution_count": 41,
     "metadata": {},
     "output_type": "execute_result"
    }
   ],
   "source": [
    "d"
   ]
  },
  {
   "cell_type": "code",
   "execution_count": 42,
   "id": "55ab0ec5",
   "metadata": {},
   "outputs": [],
   "source": [
    "e={1,3,5}"
   ]
  },
  {
   "cell_type": "code",
   "execution_count": 43,
   "id": "02411149",
   "metadata": {},
   "outputs": [],
   "source": [
    "f = e"
   ]
  },
  {
   "cell_type": "code",
   "execution_count": 44,
   "id": "1a2b1987",
   "metadata": {},
   "outputs": [],
   "source": [
    "e.remove(1)"
   ]
  },
  {
   "cell_type": "code",
   "execution_count": 45,
   "id": "9af8ffbe",
   "metadata": {},
   "outputs": [
    {
     "data": {
      "text/plain": [
       "{3, 5}"
      ]
     },
     "execution_count": 45,
     "metadata": {},
     "output_type": "execute_result"
    }
   ],
   "source": [
    "e"
   ]
  },
  {
   "cell_type": "code",
   "execution_count": 46,
   "id": "3a5da582",
   "metadata": {},
   "outputs": [
    {
     "data": {
      "text/plain": [
       "{3, 5}"
      ]
     },
     "execution_count": 46,
     "metadata": {},
     "output_type": "execute_result"
    }
   ],
   "source": [
    "f"
   ]
  },
  {
   "cell_type": "code",
   "execution_count": 47,
   "id": "4a69a0fd",
   "metadata": {},
   "outputs": [
    {
     "data": {
      "text/plain": [
       "True"
      ]
     },
     "execution_count": 47,
     "metadata": {},
     "output_type": "execute_result"
    }
   ],
   "source": [
    "e == f"
   ]
  },
  {
   "cell_type": "code",
   "execution_count": 48,
   "id": "0f04127f",
   "metadata": {},
   "outputs": [],
   "source": [
    "e={1,3,5}\n",
    "f=e.copy()"
   ]
  },
  {
   "cell_type": "code",
   "execution_count": 49,
   "id": "ceefa387",
   "metadata": {},
   "outputs": [],
   "source": [
    "e.remove(1)"
   ]
  },
  {
   "cell_type": "code",
   "execution_count": 50,
   "id": "c7cca1b4",
   "metadata": {},
   "outputs": [
    {
     "data": {
      "text/plain": [
       "{3, 5}"
      ]
     },
     "execution_count": 50,
     "metadata": {},
     "output_type": "execute_result"
    }
   ],
   "source": [
    "e"
   ]
  },
  {
   "cell_type": "code",
   "execution_count": 51,
   "id": "21229b6c",
   "metadata": {},
   "outputs": [
    {
     "data": {
      "text/plain": [
       "{1, 3, 5}"
      ]
     },
     "execution_count": 51,
     "metadata": {},
     "output_type": "execute_result"
    }
   ],
   "source": [
    "f"
   ]
  },
  {
   "cell_type": "code",
   "execution_count": 52,
   "id": "73216866",
   "metadata": {},
   "outputs": [
    {
     "data": {
      "text/plain": [
       "False"
      ]
     },
     "execution_count": 52,
     "metadata": {},
     "output_type": "execute_result"
    }
   ],
   "source": [
    "e==f"
   ]
  },
  {
   "cell_type": "code",
   "execution_count": 53,
   "id": "e2adf73f",
   "metadata": {},
   "outputs": [],
   "source": [
    "a='abcd'\n",
    "b=[1,2,3,4]"
   ]
  },
  {
   "cell_type": "code",
   "execution_count": 55,
   "id": "cbf90872",
   "metadata": {},
   "outputs": [
    {
     "name": "stdout",
     "output_type": "stream",
     "text": [
      "a\n",
      "b\n",
      "c\n",
      "d\n"
     ]
    }
   ],
   "source": [
    "for i in a:\n",
    "    print(i)"
   ]
  },
  {
   "cell_type": "code",
   "execution_count": 56,
   "id": "7817262f",
   "metadata": {},
   "outputs": [
    {
     "name": "stdout",
     "output_type": "stream",
     "text": [
      "1\n",
      "2\n",
      "3\n",
      "4\n"
     ]
    }
   ],
   "source": [
    "for j in b:\n",
    "    print(j)"
   ]
  },
  {
   "cell_type": "code",
   "execution_count": 57,
   "id": "3540aa32",
   "metadata": {},
   "outputs": [
    {
     "name": "stdout",
     "output_type": "stream",
     "text": [
      "a 1\n",
      "b 2\n",
      "c 3\n",
      "d 4\n"
     ]
    }
   ],
   "source": [
    "for x,y in zip(a,b):\n",
    "    print(x,y)"
   ]
  },
  {
   "cell_type": "code",
   "execution_count": 58,
   "id": "d4209a49",
   "metadata": {},
   "outputs": [],
   "source": [
    "ab = dict(zip(a,b))"
   ]
  },
  {
   "cell_type": "code",
   "execution_count": 59,
   "id": "f5dcc7e0",
   "metadata": {},
   "outputs": [
    {
     "data": {
      "text/plain": [
       "{'a': 1, 'b': 2, 'c': 3, 'd': 4}"
      ]
     },
     "execution_count": 59,
     "metadata": {},
     "output_type": "execute_result"
    }
   ],
   "source": [
    "ab"
   ]
  },
  {
   "cell_type": "code",
   "execution_count": 60,
   "id": "655462f1",
   "metadata": {},
   "outputs": [
    {
     "data": {
      "text/plain": [
       "dict_keys(['a', 'b', 'c', 'd'])"
      ]
     },
     "execution_count": 60,
     "metadata": {},
     "output_type": "execute_result"
    }
   ],
   "source": [
    "ab.keys()"
   ]
  },
  {
   "cell_type": "code",
   "execution_count": 61,
   "id": "704c678e",
   "metadata": {},
   "outputs": [
    {
     "data": {
      "text/plain": [
       "dict_values([1, 2, 3, 4])"
      ]
     },
     "execution_count": 61,
     "metadata": {},
     "output_type": "execute_result"
    }
   ],
   "source": [
    "ab.values()"
   ]
  },
  {
   "cell_type": "code",
   "execution_count": 62,
   "id": "b76a44a1",
   "metadata": {},
   "outputs": [
    {
     "data": {
      "text/plain": [
       "dict"
      ]
     },
     "execution_count": 62,
     "metadata": {},
     "output_type": "execute_result"
    }
   ],
   "source": [
    "type(ab)"
   ]
  },
  {
   "cell_type": "code",
   "execution_count": 63,
   "id": "61cf9e7e",
   "metadata": {},
   "outputs": [],
   "source": [
    "abc={'a': 1, 'b': 2, 'c': 3, 'd': 4}"
   ]
  },
  {
   "cell_type": "code",
   "execution_count": 64,
   "id": "5cd5c977",
   "metadata": {},
   "outputs": [
    {
     "data": {
      "text/plain": [
       "True"
      ]
     },
     "execution_count": 64,
     "metadata": {},
     "output_type": "execute_result"
    }
   ],
   "source": [
    "abc==ab"
   ]
  },
  {
   "cell_type": "code",
   "execution_count": 65,
   "id": "49ba5341",
   "metadata": {},
   "outputs": [
    {
     "data": {
      "text/plain": [
       "'abcd'"
      ]
     },
     "execution_count": 65,
     "metadata": {},
     "output_type": "execute_result"
    }
   ],
   "source": [
    "a"
   ]
  },
  {
   "cell_type": "code",
   "execution_count": 66,
   "id": "3e0f1bee",
   "metadata": {},
   "outputs": [
    {
     "data": {
      "text/plain": [
       "[1, 2, 3, 4]"
      ]
     },
     "execution_count": 66,
     "metadata": {},
     "output_type": "execute_result"
    }
   ],
   "source": [
    "b"
   ]
  },
  {
   "cell_type": "code",
   "execution_count": 67,
   "id": "452b8379",
   "metadata": {},
   "outputs": [
    {
     "data": {
      "text/plain": [
       "{2: 200, 3: 300}"
      ]
     },
     "execution_count": 67,
     "metadata": {},
     "output_type": "execute_result"
    }
   ],
   "source": [
    "c"
   ]
  },
  {
   "cell_type": "code",
   "execution_count": 68,
   "id": "8d767bae",
   "metadata": {},
   "outputs": [],
   "source": [
    "c=[10,20,30,40]"
   ]
  },
  {
   "cell_type": "code",
   "execution_count": 69,
   "id": "94b091bf",
   "metadata": {},
   "outputs": [
    {
     "name": "stdout",
     "output_type": "stream",
     "text": [
      "a 1 10\n",
      "b 2 20\n",
      "c 3 30\n",
      "d 4 40\n"
     ]
    }
   ],
   "source": [
    "for x,y,z in zip(a,b,c):\n",
    "    print(x,y,z)"
   ]
  },
  {
   "cell_type": "code",
   "execution_count": 70,
   "id": "a22b6edf",
   "metadata": {},
   "outputs": [
    {
     "name": "stdout",
     "output_type": "stream",
     "text": [
      "(0, 'a')\n",
      "(1, 'b')\n",
      "(2, 'c')\n",
      "(3, 'd')\n"
     ]
    }
   ],
   "source": [
    "for i in enumerate(a):\n",
    "    print(i)"
   ]
  },
  {
   "cell_type": "code",
   "execution_count": 71,
   "id": "afb75455",
   "metadata": {},
   "outputs": [
    {
     "name": "stdout",
     "output_type": "stream",
     "text": [
      "0 a\n",
      "1 b\n",
      "2 c\n",
      "3 d\n"
     ]
    }
   ],
   "source": [
    "for i, x in enumerate(a):\n",
    "    print(i,x)"
   ]
  },
  {
   "cell_type": "code",
   "execution_count": 72,
   "id": "3ae19dbd",
   "metadata": {},
   "outputs": [
    {
     "name": "stdout",
     "output_type": "stream",
     "text": [
      "10 a\n",
      "11 b\n",
      "12 c\n",
      "13 d\n"
     ]
    }
   ],
   "source": [
    "for i,x in enumerate(a,10):\n",
    "    print(i,x)"
   ]
  },
  {
   "cell_type": "code",
   "execution_count": 73,
   "id": "6d5a977e",
   "metadata": {},
   "outputs": [
    {
     "name": "stdout",
     "output_type": "stream",
     "text": [
      "(0, 'a')\n",
      "(1, 'b')\n",
      "(2, 'c')\n",
      "(3, 'd')\n"
     ]
    }
   ],
   "source": [
    "for i in enumerate(a):\n",
    "    print(i)"
   ]
  },
  {
   "cell_type": "code",
   "execution_count": 74,
   "id": "1a418885",
   "metadata": {},
   "outputs": [
    {
     "data": {
      "text/plain": [
       "tuple"
      ]
     },
     "execution_count": 74,
     "metadata": {},
     "output_type": "execute_result"
    }
   ],
   "source": [
    "type(i)"
   ]
  },
  {
   "cell_type": "code",
   "execution_count": 75,
   "id": "5454ab05",
   "metadata": {},
   "outputs": [
    {
     "data": {
      "text/plain": [
       "str"
      ]
     },
     "execution_count": 75,
     "metadata": {},
     "output_type": "execute_result"
    }
   ],
   "source": [
    "type(x)"
   ]
  },
  {
   "cell_type": "code",
   "execution_count": 76,
   "id": "42fa080e",
   "metadata": {},
   "outputs": [
    {
     "data": {
      "text/plain": [
       "{1: 'a', 2: 'b', 3: 'c', 4: 'd'}"
      ]
     },
     "execution_count": 76,
     "metadata": {},
     "output_type": "execute_result"
    }
   ],
   "source": [
    "d=dict(enumerate(a,1))\n",
    "d"
   ]
  },
  {
   "cell_type": "code",
   "execution_count": 77,
   "id": "9ef2dddf",
   "metadata": {},
   "outputs": [],
   "source": [
    "e=['홍길동','홍길순','아무개']"
   ]
  },
  {
   "cell_type": "code",
   "execution_count": 78,
   "id": "ef6b55b0",
   "metadata": {},
   "outputs": [
    {
     "name": "stdout",
     "output_type": "stream",
     "text": [
      "1 홍길동\n",
      "2 홍길순\n",
      "3 아무개\n"
     ]
    }
   ],
   "source": [
    "for i, x in enumerate(e,1):\n",
    "    print(i,x)"
   ]
  },
  {
   "cell_type": "code",
   "execution_count": 79,
   "id": "671e9769",
   "metadata": {},
   "outputs": [
    {
     "data": {
      "text/plain": [
       "{1: '홍길동', 2: '홍길순', 3: '아무개'}"
      ]
     },
     "execution_count": 79,
     "metadata": {},
     "output_type": "execute_result"
    }
   ],
   "source": [
    "f =dict(enumerate(e,1))\n",
    "f"
   ]
  },
  {
   "cell_type": "code",
   "execution_count": 80,
   "id": "6368e888",
   "metadata": {},
   "outputs": [
    {
     "data": {
      "text/plain": [
       "dict"
      ]
     },
     "execution_count": 80,
     "metadata": {},
     "output_type": "execute_result"
    }
   ],
   "source": [
    "type(f)"
   ]
  },
  {
   "cell_type": "code",
   "execution_count": 81,
   "id": "eae1f5b7",
   "metadata": {},
   "outputs": [],
   "source": [
    "g='빅데이터 머신러닝 인공지능'"
   ]
  },
  {
   "cell_type": "code",
   "execution_count": 83,
   "id": "b0642f6e",
   "metadata": {},
   "outputs": [],
   "source": [
    "h=dict(enumerate(g,1))"
   ]
  },
  {
   "cell_type": "code",
   "execution_count": 84,
   "id": "04afece3",
   "metadata": {},
   "outputs": [
    {
     "data": {
      "text/plain": [
       "{1: '빅',\n",
       " 2: '데',\n",
       " 3: '이',\n",
       " 4: '터',\n",
       " 5: ' ',\n",
       " 6: '머',\n",
       " 7: '신',\n",
       " 8: '러',\n",
       " 9: '닝',\n",
       " 10: ' ',\n",
       " 11: '인',\n",
       " 12: '공',\n",
       " 13: '지',\n",
       " 14: '능'}"
      ]
     },
     "execution_count": 84,
     "metadata": {},
     "output_type": "execute_result"
    }
   ],
   "source": [
    "h"
   ]
  },
  {
   "cell_type": "code",
   "execution_count": 86,
   "id": "3623f52f",
   "metadata": {},
   "outputs": [
    {
     "data": {
      "text/plain": [
       "'빅데이터 머신러닝 인공지능'"
      ]
     },
     "execution_count": 86,
     "metadata": {},
     "output_type": "execute_result"
    }
   ],
   "source": [
    "g"
   ]
  },
  {
   "cell_type": "code",
   "execution_count": 88,
   "id": "5dda9f54",
   "metadata": {},
   "outputs": [],
   "source": [
    "g=g.split()"
   ]
  },
  {
   "cell_type": "code",
   "execution_count": 89,
   "id": "040eac83",
   "metadata": {},
   "outputs": [
    {
     "data": {
      "text/plain": [
       "['빅데이터', '머신러닝', '인공지능']"
      ]
     },
     "execution_count": 89,
     "metadata": {},
     "output_type": "execute_result"
    }
   ],
   "source": [
    "g"
   ]
  },
  {
   "cell_type": "code",
   "execution_count": 94,
   "id": "3d261bd3",
   "metadata": {},
   "outputs": [
    {
     "data": {
      "text/plain": [
       "list"
      ]
     },
     "execution_count": 94,
     "metadata": {},
     "output_type": "execute_result"
    }
   ],
   "source": [
    "type(g)"
   ]
  },
  {
   "cell_type": "code",
   "execution_count": 95,
   "id": "41fe9f75",
   "metadata": {},
   "outputs": [],
   "source": [
    "h=dict(enumerate(g,1))"
   ]
  },
  {
   "cell_type": "code",
   "execution_count": 96,
   "id": "0f33e25c",
   "metadata": {},
   "outputs": [
    {
     "data": {
      "text/plain": [
       "{1: '빅데이터', 2: '머신러닝', 3: '인공지능'}"
      ]
     },
     "execution_count": 96,
     "metadata": {},
     "output_type": "execute_result"
    }
   ],
   "source": [
    "h"
   ]
  },
  {
   "cell_type": "code",
   "execution_count": 99,
   "id": "01c6efd5",
   "metadata": {},
   "outputs": [],
   "source": [
    "g='빅데이터 머신러닝 인공지능'"
   ]
  },
  {
   "cell_type": "code",
   "execution_count": 100,
   "id": "1b8d462d",
   "metadata": {},
   "outputs": [],
   "source": [
    "h2=dict(enumerate(g.split(),1))"
   ]
  },
  {
   "cell_type": "code",
   "execution_count": 101,
   "id": "b6dddacf",
   "metadata": {},
   "outputs": [
    {
     "data": {
      "text/plain": [
       "{1: '빅데이터', 2: '머신러닝', 3: '인공지능'}"
      ]
     },
     "execution_count": 101,
     "metadata": {},
     "output_type": "execute_result"
    }
   ],
   "source": [
    "h2"
   ]
  },
  {
   "cell_type": "code",
   "execution_count": null,
   "id": "1c70ed5e",
   "metadata": {},
   "outputs": [],
   "source": []
  }
 ],
 "metadata": {
  "kernelspec": {
   "display_name": "Python 3 (ipykernel)",
   "language": "python",
   "name": "python3"
  },
  "language_info": {
   "codemirror_mode": {
    "name": "ipython",
    "version": 3
   },
   "file_extension": ".py",
   "mimetype": "text/x-python",
   "name": "python",
   "nbconvert_exporter": "python",
   "pygments_lexer": "ipython3",
   "version": "3.9.12"
  }
 },
 "nbformat": 4,
 "nbformat_minor": 5
}
