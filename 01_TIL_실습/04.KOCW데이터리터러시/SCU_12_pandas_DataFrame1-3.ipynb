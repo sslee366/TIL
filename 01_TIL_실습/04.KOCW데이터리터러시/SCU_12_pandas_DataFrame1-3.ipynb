{
 "cells": [
  {
   "cell_type": "code",
   "execution_count": 1,
   "id": "e0967fad",
   "metadata": {},
   "outputs": [],
   "source": [
    "import pandas as pd"
   ]
  },
  {
   "cell_type": "code",
   "execution_count": 4,
   "id": "db89f84b",
   "metadata": {},
   "outputs": [],
   "source": [
    "a = {'a':[1,2,3], 'b':[1,3,5],'c':[2,4,6],'d':[3,6,9]}"
   ]
  },
  {
   "cell_type": "code",
   "execution_count": 5,
   "id": "8c310a5b",
   "metadata": {},
   "outputs": [
    {
     "data": {
      "text/plain": [
       "{'a': [1, 2, 3], 'b': [1, 3, 5], 'c': [2, 4, 6], 'd': [3, 6, 9]}"
      ]
     },
     "execution_count": 5,
     "metadata": {},
     "output_type": "execute_result"
    }
   ],
   "source": [
    "a"
   ]
  },
  {
   "cell_type": "code",
   "execution_count": 6,
   "id": "730d9e93",
   "metadata": {},
   "outputs": [],
   "source": [
    "df1 = pd.DataFrame(a)"
   ]
  },
  {
   "cell_type": "code",
   "execution_count": 7,
   "id": "4cc4d181",
   "metadata": {},
   "outputs": [
    {
     "data": {
      "text/html": [
       "<div>\n",
       "<style scoped>\n",
       "    .dataframe tbody tr th:only-of-type {\n",
       "        vertical-align: middle;\n",
       "    }\n",
       "\n",
       "    .dataframe tbody tr th {\n",
       "        vertical-align: top;\n",
       "    }\n",
       "\n",
       "    .dataframe thead th {\n",
       "        text-align: right;\n",
       "    }\n",
       "</style>\n",
       "<table border=\"1\" class=\"dataframe\">\n",
       "  <thead>\n",
       "    <tr style=\"text-align: right;\">\n",
       "      <th></th>\n",
       "      <th>a</th>\n",
       "      <th>b</th>\n",
       "      <th>c</th>\n",
       "      <th>d</th>\n",
       "    </tr>\n",
       "  </thead>\n",
       "  <tbody>\n",
       "    <tr>\n",
       "      <th>0</th>\n",
       "      <td>1</td>\n",
       "      <td>1</td>\n",
       "      <td>2</td>\n",
       "      <td>3</td>\n",
       "    </tr>\n",
       "    <tr>\n",
       "      <th>1</th>\n",
       "      <td>2</td>\n",
       "      <td>3</td>\n",
       "      <td>4</td>\n",
       "      <td>6</td>\n",
       "    </tr>\n",
       "    <tr>\n",
       "      <th>2</th>\n",
       "      <td>3</td>\n",
       "      <td>5</td>\n",
       "      <td>6</td>\n",
       "      <td>9</td>\n",
       "    </tr>\n",
       "  </tbody>\n",
       "</table>\n",
       "</div>"
      ],
      "text/plain": [
       "   a  b  c  d\n",
       "0  1  1  2  3\n",
       "1  2  3  4  6\n",
       "2  3  5  6  9"
      ]
     },
     "execution_count": 7,
     "metadata": {},
     "output_type": "execute_result"
    }
   ],
   "source": [
    "df1"
   ]
  },
  {
   "cell_type": "code",
   "execution_count": 8,
   "id": "fc41fbf5",
   "metadata": {},
   "outputs": [
    {
     "data": {
      "text/plain": [
       "pandas.core.frame.DataFrame"
      ]
     },
     "execution_count": 8,
     "metadata": {},
     "output_type": "execute_result"
    }
   ],
   "source": [
    "type(df1)"
   ]
  },
  {
   "cell_type": "code",
   "execution_count": 9,
   "id": "1e061181",
   "metadata": {},
   "outputs": [
    {
     "data": {
      "text/plain": [
       "(3, 4)"
      ]
     },
     "execution_count": 9,
     "metadata": {},
     "output_type": "execute_result"
    }
   ],
   "source": [
    "df1.shape"
   ]
  },
  {
   "cell_type": "code",
   "execution_count": 11,
   "id": "155ed8f2",
   "metadata": {},
   "outputs": [
    {
     "name": "stdout",
     "output_type": "stream",
     "text": [
      "<class 'pandas.core.frame.DataFrame'>\n",
      "RangeIndex: 3 entries, 0 to 2\n",
      "Data columns (total 4 columns):\n",
      " #   Column  Non-Null Count  Dtype\n",
      "---  ------  --------------  -----\n",
      " 0   a       3 non-null      int64\n",
      " 1   b       3 non-null      int64\n",
      " 2   c       3 non-null      int64\n",
      " 3   d       3 non-null      int64\n",
      "dtypes: int64(4)\n",
      "memory usage: 224.0 bytes\n"
     ]
    }
   ],
   "source": [
    "df1.info()"
   ]
  },
  {
   "cell_type": "code",
   "execution_count": 12,
   "id": "ef2be57d",
   "metadata": {},
   "outputs": [],
   "source": [
    "import numpy as np"
   ]
  },
  {
   "cell_type": "code",
   "execution_count": 13,
   "id": "40a874b9",
   "metadata": {},
   "outputs": [],
   "source": [
    "b = np.arange(12).reshape(3,4)"
   ]
  },
  {
   "cell_type": "code",
   "execution_count": 14,
   "id": "0f17629a",
   "metadata": {},
   "outputs": [
    {
     "data": {
      "text/plain": [
       "array([[ 0,  1,  2,  3],\n",
       "       [ 4,  5,  6,  7],\n",
       "       [ 8,  9, 10, 11]])"
      ]
     },
     "execution_count": 14,
     "metadata": {},
     "output_type": "execute_result"
    }
   ],
   "source": [
    "b"
   ]
  },
  {
   "cell_type": "code",
   "execution_count": 15,
   "id": "7f6901e9",
   "metadata": {},
   "outputs": [],
   "source": [
    "df2=pd.DataFrame(b)"
   ]
  },
  {
   "cell_type": "code",
   "execution_count": 16,
   "id": "258df151",
   "metadata": {},
   "outputs": [
    {
     "data": {
      "text/html": [
       "<div>\n",
       "<style scoped>\n",
       "    .dataframe tbody tr th:only-of-type {\n",
       "        vertical-align: middle;\n",
       "    }\n",
       "\n",
       "    .dataframe tbody tr th {\n",
       "        vertical-align: top;\n",
       "    }\n",
       "\n",
       "    .dataframe thead th {\n",
       "        text-align: right;\n",
       "    }\n",
       "</style>\n",
       "<table border=\"1\" class=\"dataframe\">\n",
       "  <thead>\n",
       "    <tr style=\"text-align: right;\">\n",
       "      <th></th>\n",
       "      <th>0</th>\n",
       "      <th>1</th>\n",
       "      <th>2</th>\n",
       "      <th>3</th>\n",
       "    </tr>\n",
       "  </thead>\n",
       "  <tbody>\n",
       "    <tr>\n",
       "      <th>0</th>\n",
       "      <td>0</td>\n",
       "      <td>1</td>\n",
       "      <td>2</td>\n",
       "      <td>3</td>\n",
       "    </tr>\n",
       "    <tr>\n",
       "      <th>1</th>\n",
       "      <td>4</td>\n",
       "      <td>5</td>\n",
       "      <td>6</td>\n",
       "      <td>7</td>\n",
       "    </tr>\n",
       "    <tr>\n",
       "      <th>2</th>\n",
       "      <td>8</td>\n",
       "      <td>9</td>\n",
       "      <td>10</td>\n",
       "      <td>11</td>\n",
       "    </tr>\n",
       "  </tbody>\n",
       "</table>\n",
       "</div>"
      ],
      "text/plain": [
       "   0  1   2   3\n",
       "0  0  1   2   3\n",
       "1  4  5   6   7\n",
       "2  8  9  10  11"
      ]
     },
     "execution_count": 16,
     "metadata": {},
     "output_type": "execute_result"
    }
   ],
   "source": [
    "df2"
   ]
  },
  {
   "cell_type": "code",
   "execution_count": 17,
   "id": "89fad21c",
   "metadata": {},
   "outputs": [
    {
     "name": "stdout",
     "output_type": "stream",
     "text": [
      "<class 'pandas.core.frame.DataFrame'>\n",
      "RangeIndex: 3 entries, 0 to 2\n",
      "Data columns (total 4 columns):\n",
      " #   Column  Non-Null Count  Dtype\n",
      "---  ------  --------------  -----\n",
      " 0   0       3 non-null      int32\n",
      " 1   1       3 non-null      int32\n",
      " 2   2       3 non-null      int32\n",
      " 3   3       3 non-null      int32\n",
      "dtypes: int32(4)\n",
      "memory usage: 176.0 bytes\n"
     ]
    }
   ],
   "source": [
    "df2.info()"
   ]
  },
  {
   "cell_type": "code",
   "execution_count": 19,
   "id": "14e17581",
   "metadata": {},
   "outputs": [
    {
     "data": {
      "text/plain": [
       "(3, 4)"
      ]
     },
     "execution_count": 19,
     "metadata": {},
     "output_type": "execute_result"
    }
   ],
   "source": [
    "df2.shape"
   ]
  },
  {
   "cell_type": "code",
   "execution_count": 20,
   "id": "31215935",
   "metadata": {},
   "outputs": [],
   "source": [
    "df = pd.DataFrame([[1,20,'서울'], [2,25,'대전']], \n",
    "                 index = ['홍길동','홍길순'],\n",
    "                 columns = ['순서','나이','지역'])"
   ]
  },
  {
   "cell_type": "code",
   "execution_count": 21,
   "id": "cd54e4c0",
   "metadata": {},
   "outputs": [
    {
     "data": {
      "text/html": [
       "<div>\n",
       "<style scoped>\n",
       "    .dataframe tbody tr th:only-of-type {\n",
       "        vertical-align: middle;\n",
       "    }\n",
       "\n",
       "    .dataframe tbody tr th {\n",
       "        vertical-align: top;\n",
       "    }\n",
       "\n",
       "    .dataframe thead th {\n",
       "        text-align: right;\n",
       "    }\n",
       "</style>\n",
       "<table border=\"1\" class=\"dataframe\">\n",
       "  <thead>\n",
       "    <tr style=\"text-align: right;\">\n",
       "      <th></th>\n",
       "      <th>순서</th>\n",
       "      <th>나이</th>\n",
       "      <th>지역</th>\n",
       "    </tr>\n",
       "  </thead>\n",
       "  <tbody>\n",
       "    <tr>\n",
       "      <th>홍길동</th>\n",
       "      <td>1</td>\n",
       "      <td>20</td>\n",
       "      <td>서울</td>\n",
       "    </tr>\n",
       "    <tr>\n",
       "      <th>홍길순</th>\n",
       "      <td>2</td>\n",
       "      <td>25</td>\n",
       "      <td>대전</td>\n",
       "    </tr>\n",
       "  </tbody>\n",
       "</table>\n",
       "</div>"
      ],
      "text/plain": [
       "     순서  나이  지역\n",
       "홍길동   1  20  서울\n",
       "홍길순   2  25  대전"
      ]
     },
     "execution_count": 21,
     "metadata": {},
     "output_type": "execute_result"
    }
   ],
   "source": [
    "df"
   ]
  },
  {
   "cell_type": "code",
   "execution_count": 22,
   "id": "6c9e3b18",
   "metadata": {},
   "outputs": [
    {
     "data": {
      "text/plain": [
       "pandas.core.frame.DataFrame"
      ]
     },
     "execution_count": 22,
     "metadata": {},
     "output_type": "execute_result"
    }
   ],
   "source": [
    "type(df)"
   ]
  },
  {
   "cell_type": "code",
   "execution_count": 23,
   "id": "23d53b31",
   "metadata": {},
   "outputs": [
    {
     "data": {
      "text/plain": [
       "(2, 3)"
      ]
     },
     "execution_count": 23,
     "metadata": {},
     "output_type": "execute_result"
    }
   ],
   "source": [
    "df.shape"
   ]
  },
  {
   "cell_type": "code",
   "execution_count": 24,
   "id": "f5bd04da",
   "metadata": {},
   "outputs": [
    {
     "name": "stdout",
     "output_type": "stream",
     "text": [
      "<class 'pandas.core.frame.DataFrame'>\n",
      "Index: 2 entries, 홍길동 to 홍길순\n",
      "Data columns (total 3 columns):\n",
      " #   Column  Non-Null Count  Dtype \n",
      "---  ------  --------------  ----- \n",
      " 0   순서      2 non-null      int64 \n",
      " 1   나이      2 non-null      int64 \n",
      " 2   지역      2 non-null      object\n",
      "dtypes: int64(2), object(1)\n",
      "memory usage: 64.0+ bytes\n"
     ]
    }
   ],
   "source": [
    "df.info()"
   ]
  },
  {
   "cell_type": "code",
   "execution_count": 25,
   "id": "b0c91b38",
   "metadata": {},
   "outputs": [
    {
     "data": {
      "text/plain": [
       "Index(['홍길동', '홍길순'], dtype='object')"
      ]
     },
     "execution_count": 25,
     "metadata": {},
     "output_type": "execute_result"
    }
   ],
   "source": [
    "df.index"
   ]
  },
  {
   "cell_type": "code",
   "execution_count": 26,
   "id": "98059659",
   "metadata": {},
   "outputs": [
    {
     "data": {
      "text/plain": [
       "array([[1, 20, '서울'],\n",
       "       [2, 25, '대전']], dtype=object)"
      ]
     },
     "execution_count": 26,
     "metadata": {},
     "output_type": "execute_result"
    }
   ],
   "source": [
    "df.values"
   ]
  },
  {
   "cell_type": "code",
   "execution_count": 27,
   "id": "1e1a021a",
   "metadata": {},
   "outputs": [
    {
     "data": {
      "text/plain": [
       "Index(['순서', '나이', '지역'], dtype='object')"
      ]
     },
     "execution_count": 27,
     "metadata": {},
     "output_type": "execute_result"
    }
   ],
   "source": [
    "df.columns"
   ]
  },
  {
   "cell_type": "code",
   "execution_count": 28,
   "id": "548654dd",
   "metadata": {},
   "outputs": [],
   "source": [
    "df.index = ['사람1','사람2']"
   ]
  },
  {
   "cell_type": "code",
   "execution_count": 30,
   "id": "37d782bb",
   "metadata": {},
   "outputs": [
    {
     "data": {
      "text/html": [
       "<div>\n",
       "<style scoped>\n",
       "    .dataframe tbody tr th:only-of-type {\n",
       "        vertical-align: middle;\n",
       "    }\n",
       "\n",
       "    .dataframe tbody tr th {\n",
       "        vertical-align: top;\n",
       "    }\n",
       "\n",
       "    .dataframe thead th {\n",
       "        text-align: right;\n",
       "    }\n",
       "</style>\n",
       "<table border=\"1\" class=\"dataframe\">\n",
       "  <thead>\n",
       "    <tr style=\"text-align: right;\">\n",
       "      <th></th>\n",
       "      <th>순서</th>\n",
       "      <th>나이</th>\n",
       "      <th>지역</th>\n",
       "    </tr>\n",
       "  </thead>\n",
       "  <tbody>\n",
       "    <tr>\n",
       "      <th>사람1</th>\n",
       "      <td>1</td>\n",
       "      <td>20</td>\n",
       "      <td>서울</td>\n",
       "    </tr>\n",
       "    <tr>\n",
       "      <th>사람2</th>\n",
       "      <td>2</td>\n",
       "      <td>25</td>\n",
       "      <td>대전</td>\n",
       "    </tr>\n",
       "  </tbody>\n",
       "</table>\n",
       "</div>"
      ],
      "text/plain": [
       "     순서  나이  지역\n",
       "사람1   1  20  서울\n",
       "사람2   2  25  대전"
      ]
     },
     "execution_count": 30,
     "metadata": {},
     "output_type": "execute_result"
    }
   ],
   "source": [
    "df"
   ]
  },
  {
   "cell_type": "code",
   "execution_count": 31,
   "id": "71059945",
   "metadata": {},
   "outputs": [],
   "source": [
    "df.columns = ['연번', '연령', '도시']"
   ]
  },
  {
   "cell_type": "code",
   "execution_count": 32,
   "id": "4bc0adb9",
   "metadata": {},
   "outputs": [
    {
     "data": {
      "text/html": [
       "<div>\n",
       "<style scoped>\n",
       "    .dataframe tbody tr th:only-of-type {\n",
       "        vertical-align: middle;\n",
       "    }\n",
       "\n",
       "    .dataframe tbody tr th {\n",
       "        vertical-align: top;\n",
       "    }\n",
       "\n",
       "    .dataframe thead th {\n",
       "        text-align: right;\n",
       "    }\n",
       "</style>\n",
       "<table border=\"1\" class=\"dataframe\">\n",
       "  <thead>\n",
       "    <tr style=\"text-align: right;\">\n",
       "      <th></th>\n",
       "      <th>연번</th>\n",
       "      <th>연령</th>\n",
       "      <th>도시</th>\n",
       "    </tr>\n",
       "  </thead>\n",
       "  <tbody>\n",
       "    <tr>\n",
       "      <th>사람1</th>\n",
       "      <td>1</td>\n",
       "      <td>20</td>\n",
       "      <td>서울</td>\n",
       "    </tr>\n",
       "    <tr>\n",
       "      <th>사람2</th>\n",
       "      <td>2</td>\n",
       "      <td>25</td>\n",
       "      <td>대전</td>\n",
       "    </tr>\n",
       "  </tbody>\n",
       "</table>\n",
       "</div>"
      ],
      "text/plain": [
       "     연번  연령  도시\n",
       "사람1   1  20  서울\n",
       "사람2   2  25  대전"
      ]
     },
     "execution_count": 32,
     "metadata": {},
     "output_type": "execute_result"
    }
   ],
   "source": [
    "df"
   ]
  },
  {
   "cell_type": "code",
   "execution_count": 33,
   "id": "a5c9f339",
   "metadata": {},
   "outputs": [],
   "source": [
    "df = df.rename(index = {'사람1':'홍길동'})"
   ]
  },
  {
   "cell_type": "code",
   "execution_count": 34,
   "id": "9ee822a9",
   "metadata": {},
   "outputs": [
    {
     "data": {
      "text/html": [
       "<div>\n",
       "<style scoped>\n",
       "    .dataframe tbody tr th:only-of-type {\n",
       "        vertical-align: middle;\n",
       "    }\n",
       "\n",
       "    .dataframe tbody tr th {\n",
       "        vertical-align: top;\n",
       "    }\n",
       "\n",
       "    .dataframe thead th {\n",
       "        text-align: right;\n",
       "    }\n",
       "</style>\n",
       "<table border=\"1\" class=\"dataframe\">\n",
       "  <thead>\n",
       "    <tr style=\"text-align: right;\">\n",
       "      <th></th>\n",
       "      <th>연번</th>\n",
       "      <th>연령</th>\n",
       "      <th>도시</th>\n",
       "    </tr>\n",
       "  </thead>\n",
       "  <tbody>\n",
       "    <tr>\n",
       "      <th>홍길동</th>\n",
       "      <td>1</td>\n",
       "      <td>20</td>\n",
       "      <td>서울</td>\n",
       "    </tr>\n",
       "    <tr>\n",
       "      <th>사람2</th>\n",
       "      <td>2</td>\n",
       "      <td>25</td>\n",
       "      <td>대전</td>\n",
       "    </tr>\n",
       "  </tbody>\n",
       "</table>\n",
       "</div>"
      ],
      "text/plain": [
       "     연번  연령  도시\n",
       "홍길동   1  20  서울\n",
       "사람2   2  25  대전"
      ]
     },
     "execution_count": 34,
     "metadata": {},
     "output_type": "execute_result"
    }
   ],
   "source": [
    "df"
   ]
  },
  {
   "cell_type": "code",
   "execution_count": 36,
   "id": "8fac738e",
   "metadata": {},
   "outputs": [],
   "source": [
    "df=df.rename(columns = {'연번':'순서', '연령':'나이'})"
   ]
  },
  {
   "cell_type": "code",
   "execution_count": 37,
   "id": "a9686317",
   "metadata": {},
   "outputs": [
    {
     "data": {
      "text/html": [
       "<div>\n",
       "<style scoped>\n",
       "    .dataframe tbody tr th:only-of-type {\n",
       "        vertical-align: middle;\n",
       "    }\n",
       "\n",
       "    .dataframe tbody tr th {\n",
       "        vertical-align: top;\n",
       "    }\n",
       "\n",
       "    .dataframe thead th {\n",
       "        text-align: right;\n",
       "    }\n",
       "</style>\n",
       "<table border=\"1\" class=\"dataframe\">\n",
       "  <thead>\n",
       "    <tr style=\"text-align: right;\">\n",
       "      <th></th>\n",
       "      <th>순서</th>\n",
       "      <th>나이</th>\n",
       "      <th>도시</th>\n",
       "    </tr>\n",
       "  </thead>\n",
       "  <tbody>\n",
       "    <tr>\n",
       "      <th>홍길동</th>\n",
       "      <td>1</td>\n",
       "      <td>20</td>\n",
       "      <td>서울</td>\n",
       "    </tr>\n",
       "    <tr>\n",
       "      <th>사람2</th>\n",
       "      <td>2</td>\n",
       "      <td>25</td>\n",
       "      <td>대전</td>\n",
       "    </tr>\n",
       "  </tbody>\n",
       "</table>\n",
       "</div>"
      ],
      "text/plain": [
       "     순서  나이  도시\n",
       "홍길동   1  20  서울\n",
       "사람2   2  25  대전"
      ]
     },
     "execution_count": 37,
     "metadata": {},
     "output_type": "execute_result"
    }
   ],
   "source": [
    "df"
   ]
  },
  {
   "cell_type": "code",
   "execution_count": 38,
   "id": "8db7f413",
   "metadata": {},
   "outputs": [],
   "source": [
    "df.loc['사람3']=[3,30,'부산']"
   ]
  },
  {
   "cell_type": "code",
   "execution_count": 39,
   "id": "f1b89938",
   "metadata": {},
   "outputs": [
    {
     "data": {
      "text/html": [
       "<div>\n",
       "<style scoped>\n",
       "    .dataframe tbody tr th:only-of-type {\n",
       "        vertical-align: middle;\n",
       "    }\n",
       "\n",
       "    .dataframe tbody tr th {\n",
       "        vertical-align: top;\n",
       "    }\n",
       "\n",
       "    .dataframe thead th {\n",
       "        text-align: right;\n",
       "    }\n",
       "</style>\n",
       "<table border=\"1\" class=\"dataframe\">\n",
       "  <thead>\n",
       "    <tr style=\"text-align: right;\">\n",
       "      <th></th>\n",
       "      <th>순서</th>\n",
       "      <th>나이</th>\n",
       "      <th>도시</th>\n",
       "    </tr>\n",
       "  </thead>\n",
       "  <tbody>\n",
       "    <tr>\n",
       "      <th>홍길동</th>\n",
       "      <td>1</td>\n",
       "      <td>20</td>\n",
       "      <td>서울</td>\n",
       "    </tr>\n",
       "    <tr>\n",
       "      <th>사람2</th>\n",
       "      <td>2</td>\n",
       "      <td>25</td>\n",
       "      <td>대전</td>\n",
       "    </tr>\n",
       "    <tr>\n",
       "      <th>사람3</th>\n",
       "      <td>3</td>\n",
       "      <td>30</td>\n",
       "      <td>부산</td>\n",
       "    </tr>\n",
       "  </tbody>\n",
       "</table>\n",
       "</div>"
      ],
      "text/plain": [
       "     순서  나이  도시\n",
       "홍길동   1  20  서울\n",
       "사람2   2  25  대전\n",
       "사람3   3  30  부산"
      ]
     },
     "execution_count": 39,
     "metadata": {},
     "output_type": "execute_result"
    }
   ],
   "source": [
    "df"
   ]
  },
  {
   "cell_type": "code",
   "execution_count": 40,
   "id": "a6c2488a",
   "metadata": {},
   "outputs": [],
   "source": [
    "df.loc['사람4'] = 0"
   ]
  },
  {
   "cell_type": "code",
   "execution_count": 41,
   "id": "2a9fe2c7",
   "metadata": {},
   "outputs": [
    {
     "data": {
      "text/html": [
       "<div>\n",
       "<style scoped>\n",
       "    .dataframe tbody tr th:only-of-type {\n",
       "        vertical-align: middle;\n",
       "    }\n",
       "\n",
       "    .dataframe tbody tr th {\n",
       "        vertical-align: top;\n",
       "    }\n",
       "\n",
       "    .dataframe thead th {\n",
       "        text-align: right;\n",
       "    }\n",
       "</style>\n",
       "<table border=\"1\" class=\"dataframe\">\n",
       "  <thead>\n",
       "    <tr style=\"text-align: right;\">\n",
       "      <th></th>\n",
       "      <th>순서</th>\n",
       "      <th>나이</th>\n",
       "      <th>도시</th>\n",
       "    </tr>\n",
       "  </thead>\n",
       "  <tbody>\n",
       "    <tr>\n",
       "      <th>홍길동</th>\n",
       "      <td>1</td>\n",
       "      <td>20</td>\n",
       "      <td>서울</td>\n",
       "    </tr>\n",
       "    <tr>\n",
       "      <th>사람2</th>\n",
       "      <td>2</td>\n",
       "      <td>25</td>\n",
       "      <td>대전</td>\n",
       "    </tr>\n",
       "    <tr>\n",
       "      <th>사람3</th>\n",
       "      <td>3</td>\n",
       "      <td>30</td>\n",
       "      <td>부산</td>\n",
       "    </tr>\n",
       "    <tr>\n",
       "      <th>사람4</th>\n",
       "      <td>0</td>\n",
       "      <td>0</td>\n",
       "      <td>0</td>\n",
       "    </tr>\n",
       "  </tbody>\n",
       "</table>\n",
       "</div>"
      ],
      "text/plain": [
       "     순서  나이  도시\n",
       "홍길동   1  20  서울\n",
       "사람2   2  25  대전\n",
       "사람3   3  30  부산\n",
       "사람4   0   0   0"
      ]
     },
     "execution_count": 41,
     "metadata": {},
     "output_type": "execute_result"
    }
   ],
   "source": [
    "df"
   ]
  },
  {
   "cell_type": "code",
   "execution_count": 42,
   "id": "f91e6b55",
   "metadata": {},
   "outputs": [],
   "source": [
    "df.loc['사람1'] = df.loc['홍길동']"
   ]
  },
  {
   "cell_type": "code",
   "execution_count": 43,
   "id": "f323f755",
   "metadata": {},
   "outputs": [
    {
     "data": {
      "text/html": [
       "<div>\n",
       "<style scoped>\n",
       "    .dataframe tbody tr th:only-of-type {\n",
       "        vertical-align: middle;\n",
       "    }\n",
       "\n",
       "    .dataframe tbody tr th {\n",
       "        vertical-align: top;\n",
       "    }\n",
       "\n",
       "    .dataframe thead th {\n",
       "        text-align: right;\n",
       "    }\n",
       "</style>\n",
       "<table border=\"1\" class=\"dataframe\">\n",
       "  <thead>\n",
       "    <tr style=\"text-align: right;\">\n",
       "      <th></th>\n",
       "      <th>순서</th>\n",
       "      <th>나이</th>\n",
       "      <th>도시</th>\n",
       "    </tr>\n",
       "  </thead>\n",
       "  <tbody>\n",
       "    <tr>\n",
       "      <th>홍길동</th>\n",
       "      <td>1</td>\n",
       "      <td>20</td>\n",
       "      <td>서울</td>\n",
       "    </tr>\n",
       "    <tr>\n",
       "      <th>사람2</th>\n",
       "      <td>2</td>\n",
       "      <td>25</td>\n",
       "      <td>대전</td>\n",
       "    </tr>\n",
       "    <tr>\n",
       "      <th>사람3</th>\n",
       "      <td>3</td>\n",
       "      <td>30</td>\n",
       "      <td>부산</td>\n",
       "    </tr>\n",
       "    <tr>\n",
       "      <th>사람4</th>\n",
       "      <td>0</td>\n",
       "      <td>0</td>\n",
       "      <td>0</td>\n",
       "    </tr>\n",
       "    <tr>\n",
       "      <th>사람1</th>\n",
       "      <td>1</td>\n",
       "      <td>20</td>\n",
       "      <td>서울</td>\n",
       "    </tr>\n",
       "  </tbody>\n",
       "</table>\n",
       "</div>"
      ],
      "text/plain": [
       "     순서  나이  도시\n",
       "홍길동   1  20  서울\n",
       "사람2   2  25  대전\n",
       "사람3   3  30  부산\n",
       "사람4   0   0   0\n",
       "사람1   1  20  서울"
      ]
     },
     "execution_count": 43,
     "metadata": {},
     "output_type": "execute_result"
    }
   ],
   "source": [
    "df"
   ]
  },
  {
   "cell_type": "code",
   "execution_count": 44,
   "id": "8539ea31",
   "metadata": {},
   "outputs": [],
   "source": [
    "df.loc[5]=0"
   ]
  },
  {
   "cell_type": "code",
   "execution_count": 45,
   "id": "96ee7167",
   "metadata": {},
   "outputs": [
    {
     "data": {
      "text/html": [
       "<div>\n",
       "<style scoped>\n",
       "    .dataframe tbody tr th:only-of-type {\n",
       "        vertical-align: middle;\n",
       "    }\n",
       "\n",
       "    .dataframe tbody tr th {\n",
       "        vertical-align: top;\n",
       "    }\n",
       "\n",
       "    .dataframe thead th {\n",
       "        text-align: right;\n",
       "    }\n",
       "</style>\n",
       "<table border=\"1\" class=\"dataframe\">\n",
       "  <thead>\n",
       "    <tr style=\"text-align: right;\">\n",
       "      <th></th>\n",
       "      <th>순서</th>\n",
       "      <th>나이</th>\n",
       "      <th>도시</th>\n",
       "    </tr>\n",
       "  </thead>\n",
       "  <tbody>\n",
       "    <tr>\n",
       "      <th>홍길동</th>\n",
       "      <td>1</td>\n",
       "      <td>20</td>\n",
       "      <td>서울</td>\n",
       "    </tr>\n",
       "    <tr>\n",
       "      <th>사람2</th>\n",
       "      <td>2</td>\n",
       "      <td>25</td>\n",
       "      <td>대전</td>\n",
       "    </tr>\n",
       "    <tr>\n",
       "      <th>사람3</th>\n",
       "      <td>3</td>\n",
       "      <td>30</td>\n",
       "      <td>부산</td>\n",
       "    </tr>\n",
       "    <tr>\n",
       "      <th>사람4</th>\n",
       "      <td>0</td>\n",
       "      <td>0</td>\n",
       "      <td>0</td>\n",
       "    </tr>\n",
       "    <tr>\n",
       "      <th>사람1</th>\n",
       "      <td>1</td>\n",
       "      <td>20</td>\n",
       "      <td>서울</td>\n",
       "    </tr>\n",
       "    <tr>\n",
       "      <th>5</th>\n",
       "      <td>0</td>\n",
       "      <td>0</td>\n",
       "      <td>0</td>\n",
       "    </tr>\n",
       "  </tbody>\n",
       "</table>\n",
       "</div>"
      ],
      "text/plain": [
       "     순서  나이  도시\n",
       "홍길동   1  20  서울\n",
       "사람2   2  25  대전\n",
       "사람3   3  30  부산\n",
       "사람4   0   0   0\n",
       "사람1   1  20  서울\n",
       "5     0   0   0"
      ]
     },
     "execution_count": 45,
     "metadata": {},
     "output_type": "execute_result"
    }
   ],
   "source": [
    "df"
   ]
  },
  {
   "cell_type": "code",
   "execution_count": 49,
   "id": "2dc4792e",
   "metadata": {},
   "outputs": [
    {
     "data": {
      "text/html": [
       "<div>\n",
       "<style scoped>\n",
       "    .dataframe tbody tr th:only-of-type {\n",
       "        vertical-align: middle;\n",
       "    }\n",
       "\n",
       "    .dataframe tbody tr th {\n",
       "        vertical-align: top;\n",
       "    }\n",
       "\n",
       "    .dataframe thead th {\n",
       "        text-align: right;\n",
       "    }\n",
       "</style>\n",
       "<table border=\"1\" class=\"dataframe\">\n",
       "  <thead>\n",
       "    <tr style=\"text-align: right;\">\n",
       "      <th></th>\n",
       "      <th>순서</th>\n",
       "      <th>나이</th>\n",
       "      <th>도시</th>\n",
       "    </tr>\n",
       "  </thead>\n",
       "  <tbody>\n",
       "    <tr>\n",
       "      <th>홍길동</th>\n",
       "      <td>1</td>\n",
       "      <td>20</td>\n",
       "      <td>서울</td>\n",
       "    </tr>\n",
       "    <tr>\n",
       "      <th>사람2</th>\n",
       "      <td>2</td>\n",
       "      <td>25</td>\n",
       "      <td>대전</td>\n",
       "    </tr>\n",
       "    <tr>\n",
       "      <th>사람3</th>\n",
       "      <td>3</td>\n",
       "      <td>30</td>\n",
       "      <td>부산</td>\n",
       "    </tr>\n",
       "    <tr>\n",
       "      <th>사람4</th>\n",
       "      <td>0</td>\n",
       "      <td>0</td>\n",
       "      <td>0</td>\n",
       "    </tr>\n",
       "    <tr>\n",
       "      <th>사람1</th>\n",
       "      <td>1</td>\n",
       "      <td>20</td>\n",
       "      <td>서울</td>\n",
       "    </tr>\n",
       "    <tr>\n",
       "      <th>5</th>\n",
       "      <td>0</td>\n",
       "      <td>0</td>\n",
       "      <td>0</td>\n",
       "    </tr>\n",
       "  </tbody>\n",
       "</table>\n",
       "</div>"
      ],
      "text/plain": [
       "     순서  나이  도시\n",
       "홍길동   1  20  서울\n",
       "사람2   2  25  대전\n",
       "사람3   3  30  부산\n",
       "사람4   0   0   0\n",
       "사람1   1  20  서울\n",
       "5     0   0   0"
      ]
     },
     "execution_count": 49,
     "metadata": {},
     "output_type": "execute_result"
    }
   ],
   "source": [
    "df"
   ]
  },
  {
   "cell_type": "code",
   "execution_count": 51,
   "id": "a84ebb96",
   "metadata": {},
   "outputs": [],
   "source": [
    "df['나이대']=['20대','20대','30대','0대','20대','0대']"
   ]
  },
  {
   "cell_type": "code",
   "execution_count": 52,
   "id": "898705a2",
   "metadata": {},
   "outputs": [
    {
     "data": {
      "text/html": [
       "<div>\n",
       "<style scoped>\n",
       "    .dataframe tbody tr th:only-of-type {\n",
       "        vertical-align: middle;\n",
       "    }\n",
       "\n",
       "    .dataframe tbody tr th {\n",
       "        vertical-align: top;\n",
       "    }\n",
       "\n",
       "    .dataframe thead th {\n",
       "        text-align: right;\n",
       "    }\n",
       "</style>\n",
       "<table border=\"1\" class=\"dataframe\">\n",
       "  <thead>\n",
       "    <tr style=\"text-align: right;\">\n",
       "      <th></th>\n",
       "      <th>순서</th>\n",
       "      <th>나이</th>\n",
       "      <th>도시</th>\n",
       "      <th>나이대</th>\n",
       "    </tr>\n",
       "  </thead>\n",
       "  <tbody>\n",
       "    <tr>\n",
       "      <th>홍길동</th>\n",
       "      <td>1</td>\n",
       "      <td>20</td>\n",
       "      <td>서울</td>\n",
       "      <td>20대</td>\n",
       "    </tr>\n",
       "    <tr>\n",
       "      <th>사람2</th>\n",
       "      <td>2</td>\n",
       "      <td>25</td>\n",
       "      <td>대전</td>\n",
       "      <td>20대</td>\n",
       "    </tr>\n",
       "    <tr>\n",
       "      <th>사람3</th>\n",
       "      <td>3</td>\n",
       "      <td>30</td>\n",
       "      <td>부산</td>\n",
       "      <td>30대</td>\n",
       "    </tr>\n",
       "    <tr>\n",
       "      <th>사람4</th>\n",
       "      <td>0</td>\n",
       "      <td>0</td>\n",
       "      <td>0</td>\n",
       "      <td>0대</td>\n",
       "    </tr>\n",
       "    <tr>\n",
       "      <th>사람1</th>\n",
       "      <td>1</td>\n",
       "      <td>20</td>\n",
       "      <td>서울</td>\n",
       "      <td>20대</td>\n",
       "    </tr>\n",
       "    <tr>\n",
       "      <th>5</th>\n",
       "      <td>0</td>\n",
       "      <td>0</td>\n",
       "      <td>0</td>\n",
       "      <td>0대</td>\n",
       "    </tr>\n",
       "  </tbody>\n",
       "</table>\n",
       "</div>"
      ],
      "text/plain": [
       "     순서  나이  도시  나이대\n",
       "홍길동   1  20  서울  20대\n",
       "사람2   2  25  대전  20대\n",
       "사람3   3  30  부산  30대\n",
       "사람4   0   0   0   0대\n",
       "사람1   1  20  서울  20대\n",
       "5     0   0   0   0대"
      ]
     },
     "execution_count": 52,
     "metadata": {},
     "output_type": "execute_result"
    }
   ],
   "source": [
    "df"
   ]
  },
  {
   "cell_type": "code",
   "execution_count": 53,
   "id": "8d8d2aa2",
   "metadata": {},
   "outputs": [],
   "source": [
    "df['직업'] = '학생'"
   ]
  },
  {
   "cell_type": "code",
   "execution_count": 54,
   "id": "588c3db7",
   "metadata": {},
   "outputs": [
    {
     "data": {
      "text/html": [
       "<div>\n",
       "<style scoped>\n",
       "    .dataframe tbody tr th:only-of-type {\n",
       "        vertical-align: middle;\n",
       "    }\n",
       "\n",
       "    .dataframe tbody tr th {\n",
       "        vertical-align: top;\n",
       "    }\n",
       "\n",
       "    .dataframe thead th {\n",
       "        text-align: right;\n",
       "    }\n",
       "</style>\n",
       "<table border=\"1\" class=\"dataframe\">\n",
       "  <thead>\n",
       "    <tr style=\"text-align: right;\">\n",
       "      <th></th>\n",
       "      <th>순서</th>\n",
       "      <th>나이</th>\n",
       "      <th>도시</th>\n",
       "      <th>나이대</th>\n",
       "      <th>직업</th>\n",
       "    </tr>\n",
       "  </thead>\n",
       "  <tbody>\n",
       "    <tr>\n",
       "      <th>홍길동</th>\n",
       "      <td>1</td>\n",
       "      <td>20</td>\n",
       "      <td>서울</td>\n",
       "      <td>20대</td>\n",
       "      <td>학생</td>\n",
       "    </tr>\n",
       "    <tr>\n",
       "      <th>사람2</th>\n",
       "      <td>2</td>\n",
       "      <td>25</td>\n",
       "      <td>대전</td>\n",
       "      <td>20대</td>\n",
       "      <td>학생</td>\n",
       "    </tr>\n",
       "    <tr>\n",
       "      <th>사람3</th>\n",
       "      <td>3</td>\n",
       "      <td>30</td>\n",
       "      <td>부산</td>\n",
       "      <td>30대</td>\n",
       "      <td>학생</td>\n",
       "    </tr>\n",
       "    <tr>\n",
       "      <th>사람4</th>\n",
       "      <td>0</td>\n",
       "      <td>0</td>\n",
       "      <td>0</td>\n",
       "      <td>0대</td>\n",
       "      <td>학생</td>\n",
       "    </tr>\n",
       "    <tr>\n",
       "      <th>사람1</th>\n",
       "      <td>1</td>\n",
       "      <td>20</td>\n",
       "      <td>서울</td>\n",
       "      <td>20대</td>\n",
       "      <td>학생</td>\n",
       "    </tr>\n",
       "    <tr>\n",
       "      <th>5</th>\n",
       "      <td>0</td>\n",
       "      <td>0</td>\n",
       "      <td>0</td>\n",
       "      <td>0대</td>\n",
       "      <td>학생</td>\n",
       "    </tr>\n",
       "  </tbody>\n",
       "</table>\n",
       "</div>"
      ],
      "text/plain": [
       "     순서  나이  도시  나이대  직업\n",
       "홍길동   1  20  서울  20대  학생\n",
       "사람2   2  25  대전  20대  학생\n",
       "사람3   3  30  부산  30대  학생\n",
       "사람4   0   0   0   0대  학생\n",
       "사람1   1  20  서울  20대  학생\n",
       "5     0   0   0   0대  학생"
      ]
     },
     "execution_count": 54,
     "metadata": {},
     "output_type": "execute_result"
    }
   ],
   "source": [
    "df"
   ]
  },
  {
   "cell_type": "code",
   "execution_count": 55,
   "id": "293bde95",
   "metadata": {},
   "outputs": [],
   "source": [
    "df.loc[5,'순서'] = 6"
   ]
  },
  {
   "cell_type": "code",
   "execution_count": 56,
   "id": "71f2baed",
   "metadata": {},
   "outputs": [
    {
     "data": {
      "text/html": [
       "<div>\n",
       "<style scoped>\n",
       "    .dataframe tbody tr th:only-of-type {\n",
       "        vertical-align: middle;\n",
       "    }\n",
       "\n",
       "    .dataframe tbody tr th {\n",
       "        vertical-align: top;\n",
       "    }\n",
       "\n",
       "    .dataframe thead th {\n",
       "        text-align: right;\n",
       "    }\n",
       "</style>\n",
       "<table border=\"1\" class=\"dataframe\">\n",
       "  <thead>\n",
       "    <tr style=\"text-align: right;\">\n",
       "      <th></th>\n",
       "      <th>순서</th>\n",
       "      <th>나이</th>\n",
       "      <th>도시</th>\n",
       "      <th>나이대</th>\n",
       "      <th>직업</th>\n",
       "    </tr>\n",
       "  </thead>\n",
       "  <tbody>\n",
       "    <tr>\n",
       "      <th>홍길동</th>\n",
       "      <td>1</td>\n",
       "      <td>20</td>\n",
       "      <td>서울</td>\n",
       "      <td>20대</td>\n",
       "      <td>학생</td>\n",
       "    </tr>\n",
       "    <tr>\n",
       "      <th>사람2</th>\n",
       "      <td>2</td>\n",
       "      <td>25</td>\n",
       "      <td>대전</td>\n",
       "      <td>20대</td>\n",
       "      <td>학생</td>\n",
       "    </tr>\n",
       "    <tr>\n",
       "      <th>사람3</th>\n",
       "      <td>3</td>\n",
       "      <td>30</td>\n",
       "      <td>부산</td>\n",
       "      <td>30대</td>\n",
       "      <td>학생</td>\n",
       "    </tr>\n",
       "    <tr>\n",
       "      <th>사람4</th>\n",
       "      <td>0</td>\n",
       "      <td>0</td>\n",
       "      <td>0</td>\n",
       "      <td>0대</td>\n",
       "      <td>학생</td>\n",
       "    </tr>\n",
       "    <tr>\n",
       "      <th>사람1</th>\n",
       "      <td>1</td>\n",
       "      <td>20</td>\n",
       "      <td>서울</td>\n",
       "      <td>20대</td>\n",
       "      <td>학생</td>\n",
       "    </tr>\n",
       "    <tr>\n",
       "      <th>5</th>\n",
       "      <td>6</td>\n",
       "      <td>0</td>\n",
       "      <td>0</td>\n",
       "      <td>0대</td>\n",
       "      <td>학생</td>\n",
       "    </tr>\n",
       "  </tbody>\n",
       "</table>\n",
       "</div>"
      ],
      "text/plain": [
       "     순서  나이  도시  나이대  직업\n",
       "홍길동   1  20  서울  20대  학생\n",
       "사람2   2  25  대전  20대  학생\n",
       "사람3   3  30  부산  30대  학생\n",
       "사람4   0   0   0   0대  학생\n",
       "사람1   1  20  서울  20대  학생\n",
       "5     6   0   0   0대  학생"
      ]
     },
     "execution_count": 56,
     "metadata": {},
     "output_type": "execute_result"
    }
   ],
   "source": [
    "df"
   ]
  },
  {
   "cell_type": "code",
   "execution_count": 59,
   "id": "3e486971",
   "metadata": {},
   "outputs": [
    {
     "data": {
      "text/html": [
       "<div>\n",
       "<style scoped>\n",
       "    .dataframe tbody tr th:only-of-type {\n",
       "        vertical-align: middle;\n",
       "    }\n",
       "\n",
       "    .dataframe tbody tr th {\n",
       "        vertical-align: top;\n",
       "    }\n",
       "\n",
       "    .dataframe thead th {\n",
       "        text-align: right;\n",
       "    }\n",
       "</style>\n",
       "<table border=\"1\" class=\"dataframe\">\n",
       "  <thead>\n",
       "    <tr style=\"text-align: right;\">\n",
       "      <th></th>\n",
       "      <th>순서</th>\n",
       "      <th>나이</th>\n",
       "      <th>도시</th>\n",
       "      <th>나이대</th>\n",
       "      <th>직업</th>\n",
       "    </tr>\n",
       "  </thead>\n",
       "  <tbody>\n",
       "    <tr>\n",
       "      <th>홍길동</th>\n",
       "      <td>1</td>\n",
       "      <td>20</td>\n",
       "      <td>서울</td>\n",
       "      <td>20대</td>\n",
       "      <td>학생</td>\n",
       "    </tr>\n",
       "    <tr>\n",
       "      <th>사람2</th>\n",
       "      <td>2</td>\n",
       "      <td>25</td>\n",
       "      <td>대전</td>\n",
       "      <td>20대</td>\n",
       "      <td>학생</td>\n",
       "    </tr>\n",
       "    <tr>\n",
       "      <th>사람3</th>\n",
       "      <td>3</td>\n",
       "      <td>30</td>\n",
       "      <td>부산</td>\n",
       "      <td>30대</td>\n",
       "      <td>학생</td>\n",
       "    </tr>\n",
       "    <tr>\n",
       "      <th>사람4</th>\n",
       "      <td>0</td>\n",
       "      <td>10</td>\n",
       "      <td>0</td>\n",
       "      <td>0대</td>\n",
       "      <td>학생</td>\n",
       "    </tr>\n",
       "    <tr>\n",
       "      <th>사람1</th>\n",
       "      <td>1</td>\n",
       "      <td>20</td>\n",
       "      <td>서울</td>\n",
       "      <td>20대</td>\n",
       "      <td>학생</td>\n",
       "    </tr>\n",
       "    <tr>\n",
       "      <th>5</th>\n",
       "      <td>6</td>\n",
       "      <td>0</td>\n",
       "      <td>0</td>\n",
       "      <td>0대</td>\n",
       "      <td>학생</td>\n",
       "    </tr>\n",
       "  </tbody>\n",
       "</table>\n",
       "</div>"
      ],
      "text/plain": [
       "     순서  나이  도시  나이대  직업\n",
       "홍길동   1  20  서울  20대  학생\n",
       "사람2   2  25  대전  20대  학생\n",
       "사람3   3  30  부산  30대  학생\n",
       "사람4   0  10   0   0대  학생\n",
       "사람1   1  20  서울  20대  학생\n",
       "5     6   0   0   0대  학생"
      ]
     },
     "execution_count": 59,
     "metadata": {},
     "output_type": "execute_result"
    }
   ],
   "source": [
    "df.iloc[3,1] = 10\n",
    "df"
   ]
  },
  {
   "cell_type": "code",
   "execution_count": 60,
   "id": "ab70c217",
   "metadata": {},
   "outputs": [],
   "source": [
    "df.loc['사람4',['도시','나이대']] = '광주','10대'"
   ]
  },
  {
   "cell_type": "code",
   "execution_count": 61,
   "id": "f6b897ef",
   "metadata": {},
   "outputs": [
    {
     "data": {
      "text/html": [
       "<div>\n",
       "<style scoped>\n",
       "    .dataframe tbody tr th:only-of-type {\n",
       "        vertical-align: middle;\n",
       "    }\n",
       "\n",
       "    .dataframe tbody tr th {\n",
       "        vertical-align: top;\n",
       "    }\n",
       "\n",
       "    .dataframe thead th {\n",
       "        text-align: right;\n",
       "    }\n",
       "</style>\n",
       "<table border=\"1\" class=\"dataframe\">\n",
       "  <thead>\n",
       "    <tr style=\"text-align: right;\">\n",
       "      <th></th>\n",
       "      <th>순서</th>\n",
       "      <th>나이</th>\n",
       "      <th>도시</th>\n",
       "      <th>나이대</th>\n",
       "      <th>직업</th>\n",
       "    </tr>\n",
       "  </thead>\n",
       "  <tbody>\n",
       "    <tr>\n",
       "      <th>홍길동</th>\n",
       "      <td>1</td>\n",
       "      <td>20</td>\n",
       "      <td>서울</td>\n",
       "      <td>20대</td>\n",
       "      <td>학생</td>\n",
       "    </tr>\n",
       "    <tr>\n",
       "      <th>사람2</th>\n",
       "      <td>2</td>\n",
       "      <td>25</td>\n",
       "      <td>대전</td>\n",
       "      <td>20대</td>\n",
       "      <td>학생</td>\n",
       "    </tr>\n",
       "    <tr>\n",
       "      <th>사람3</th>\n",
       "      <td>3</td>\n",
       "      <td>30</td>\n",
       "      <td>부산</td>\n",
       "      <td>30대</td>\n",
       "      <td>학생</td>\n",
       "    </tr>\n",
       "    <tr>\n",
       "      <th>사람4</th>\n",
       "      <td>0</td>\n",
       "      <td>10</td>\n",
       "      <td>광주</td>\n",
       "      <td>10대</td>\n",
       "      <td>학생</td>\n",
       "    </tr>\n",
       "    <tr>\n",
       "      <th>사람1</th>\n",
       "      <td>1</td>\n",
       "      <td>20</td>\n",
       "      <td>서울</td>\n",
       "      <td>20대</td>\n",
       "      <td>학생</td>\n",
       "    </tr>\n",
       "    <tr>\n",
       "      <th>5</th>\n",
       "      <td>6</td>\n",
       "      <td>0</td>\n",
       "      <td>0</td>\n",
       "      <td>0대</td>\n",
       "      <td>학생</td>\n",
       "    </tr>\n",
       "  </tbody>\n",
       "</table>\n",
       "</div>"
      ],
      "text/plain": [
       "     순서  나이  도시  나이대  직업\n",
       "홍길동   1  20  서울  20대  학생\n",
       "사람2   2  25  대전  20대  학생\n",
       "사람3   3  30  부산  30대  학생\n",
       "사람4   0  10  광주  10대  학생\n",
       "사람1   1  20  서울  20대  학생\n",
       "5     6   0   0   0대  학생"
      ]
     },
     "execution_count": 61,
     "metadata": {},
     "output_type": "execute_result"
    }
   ],
   "source": [
    "df"
   ]
  },
  {
   "cell_type": "code",
   "execution_count": 62,
   "id": "a9d16cde",
   "metadata": {},
   "outputs": [],
   "source": [
    "df.loc[5,['나이', '도시']] = [\"12\",'강릉']"
   ]
  },
  {
   "cell_type": "code",
   "execution_count": 63,
   "id": "dc716fab",
   "metadata": {},
   "outputs": [
    {
     "data": {
      "text/html": [
       "<div>\n",
       "<style scoped>\n",
       "    .dataframe tbody tr th:only-of-type {\n",
       "        vertical-align: middle;\n",
       "    }\n",
       "\n",
       "    .dataframe tbody tr th {\n",
       "        vertical-align: top;\n",
       "    }\n",
       "\n",
       "    .dataframe thead th {\n",
       "        text-align: right;\n",
       "    }\n",
       "</style>\n",
       "<table border=\"1\" class=\"dataframe\">\n",
       "  <thead>\n",
       "    <tr style=\"text-align: right;\">\n",
       "      <th></th>\n",
       "      <th>순서</th>\n",
       "      <th>나이</th>\n",
       "      <th>도시</th>\n",
       "      <th>나이대</th>\n",
       "      <th>직업</th>\n",
       "    </tr>\n",
       "  </thead>\n",
       "  <tbody>\n",
       "    <tr>\n",
       "      <th>홍길동</th>\n",
       "      <td>1</td>\n",
       "      <td>20</td>\n",
       "      <td>서울</td>\n",
       "      <td>20대</td>\n",
       "      <td>학생</td>\n",
       "    </tr>\n",
       "    <tr>\n",
       "      <th>사람2</th>\n",
       "      <td>2</td>\n",
       "      <td>25</td>\n",
       "      <td>대전</td>\n",
       "      <td>20대</td>\n",
       "      <td>학생</td>\n",
       "    </tr>\n",
       "    <tr>\n",
       "      <th>사람3</th>\n",
       "      <td>3</td>\n",
       "      <td>30</td>\n",
       "      <td>부산</td>\n",
       "      <td>30대</td>\n",
       "      <td>학생</td>\n",
       "    </tr>\n",
       "    <tr>\n",
       "      <th>사람4</th>\n",
       "      <td>0</td>\n",
       "      <td>10</td>\n",
       "      <td>광주</td>\n",
       "      <td>10대</td>\n",
       "      <td>학생</td>\n",
       "    </tr>\n",
       "    <tr>\n",
       "      <th>사람1</th>\n",
       "      <td>1</td>\n",
       "      <td>20</td>\n",
       "      <td>서울</td>\n",
       "      <td>20대</td>\n",
       "      <td>학생</td>\n",
       "    </tr>\n",
       "    <tr>\n",
       "      <th>5</th>\n",
       "      <td>6</td>\n",
       "      <td>12</td>\n",
       "      <td>강릉</td>\n",
       "      <td>0대</td>\n",
       "      <td>학생</td>\n",
       "    </tr>\n",
       "  </tbody>\n",
       "</table>\n",
       "</div>"
      ],
      "text/plain": [
       "     순서  나이  도시  나이대  직업\n",
       "홍길동   1  20  서울  20대  학생\n",
       "사람2   2  25  대전  20대  학생\n",
       "사람3   3  30  부산  30대  학생\n",
       "사람4   0  10  광주  10대  학생\n",
       "사람1   1  20  서울  20대  학생\n",
       "5     6  12  강릉   0대  학생"
      ]
     },
     "execution_count": 63,
     "metadata": {},
     "output_type": "execute_result"
    }
   ],
   "source": [
    "df"
   ]
  },
  {
   "cell_type": "code",
   "execution_count": 64,
   "id": "0f82f297",
   "metadata": {},
   "outputs": [],
   "source": [
    "df.loc[5] = df.loc['사람4']"
   ]
  },
  {
   "cell_type": "code",
   "execution_count": 65,
   "id": "a6361f24",
   "metadata": {},
   "outputs": [
    {
     "data": {
      "text/html": [
       "<div>\n",
       "<style scoped>\n",
       "    .dataframe tbody tr th:only-of-type {\n",
       "        vertical-align: middle;\n",
       "    }\n",
       "\n",
       "    .dataframe tbody tr th {\n",
       "        vertical-align: top;\n",
       "    }\n",
       "\n",
       "    .dataframe thead th {\n",
       "        text-align: right;\n",
       "    }\n",
       "</style>\n",
       "<table border=\"1\" class=\"dataframe\">\n",
       "  <thead>\n",
       "    <tr style=\"text-align: right;\">\n",
       "      <th></th>\n",
       "      <th>순서</th>\n",
       "      <th>나이</th>\n",
       "      <th>도시</th>\n",
       "      <th>나이대</th>\n",
       "      <th>직업</th>\n",
       "    </tr>\n",
       "  </thead>\n",
       "  <tbody>\n",
       "    <tr>\n",
       "      <th>홍길동</th>\n",
       "      <td>1</td>\n",
       "      <td>20</td>\n",
       "      <td>서울</td>\n",
       "      <td>20대</td>\n",
       "      <td>학생</td>\n",
       "    </tr>\n",
       "    <tr>\n",
       "      <th>사람2</th>\n",
       "      <td>2</td>\n",
       "      <td>25</td>\n",
       "      <td>대전</td>\n",
       "      <td>20대</td>\n",
       "      <td>학생</td>\n",
       "    </tr>\n",
       "    <tr>\n",
       "      <th>사람3</th>\n",
       "      <td>3</td>\n",
       "      <td>30</td>\n",
       "      <td>부산</td>\n",
       "      <td>30대</td>\n",
       "      <td>학생</td>\n",
       "    </tr>\n",
       "    <tr>\n",
       "      <th>사람4</th>\n",
       "      <td>0</td>\n",
       "      <td>10</td>\n",
       "      <td>광주</td>\n",
       "      <td>10대</td>\n",
       "      <td>학생</td>\n",
       "    </tr>\n",
       "    <tr>\n",
       "      <th>사람1</th>\n",
       "      <td>1</td>\n",
       "      <td>20</td>\n",
       "      <td>서울</td>\n",
       "      <td>20대</td>\n",
       "      <td>학생</td>\n",
       "    </tr>\n",
       "    <tr>\n",
       "      <th>5</th>\n",
       "      <td>0</td>\n",
       "      <td>10</td>\n",
       "      <td>광주</td>\n",
       "      <td>10대</td>\n",
       "      <td>학생</td>\n",
       "    </tr>\n",
       "  </tbody>\n",
       "</table>\n",
       "</div>"
      ],
      "text/plain": [
       "     순서  나이  도시  나이대  직업\n",
       "홍길동   1  20  서울  20대  학생\n",
       "사람2   2  25  대전  20대  학생\n",
       "사람3   3  30  부산  30대  학생\n",
       "사람4   0  10  광주  10대  학생\n",
       "사람1   1  20  서울  20대  학생\n",
       "5     0  10  광주  10대  학생"
      ]
     },
     "execution_count": 65,
     "metadata": {},
     "output_type": "execute_result"
    }
   ],
   "source": [
    "df"
   ]
  },
  {
   "cell_type": "code",
   "execution_count": 66,
   "id": "65e0f676",
   "metadata": {},
   "outputs": [
    {
     "data": {
      "text/html": [
       "<div>\n",
       "<style scoped>\n",
       "    .dataframe tbody tr th:only-of-type {\n",
       "        vertical-align: middle;\n",
       "    }\n",
       "\n",
       "    .dataframe tbody tr th {\n",
       "        vertical-align: top;\n",
       "    }\n",
       "\n",
       "    .dataframe thead th {\n",
       "        text-align: right;\n",
       "    }\n",
       "</style>\n",
       "<table border=\"1\" class=\"dataframe\">\n",
       "  <thead>\n",
       "    <tr style=\"text-align: right;\">\n",
       "      <th></th>\n",
       "      <th>순서</th>\n",
       "      <th>나이</th>\n",
       "      <th>도시</th>\n",
       "      <th>나이대</th>\n",
       "      <th>직업</th>\n",
       "    </tr>\n",
       "  </thead>\n",
       "  <tbody>\n",
       "    <tr>\n",
       "      <th>홍길동</th>\n",
       "      <td>1</td>\n",
       "      <td>20</td>\n",
       "      <td>서울</td>\n",
       "      <td>20대</td>\n",
       "      <td>학생</td>\n",
       "    </tr>\n",
       "    <tr>\n",
       "      <th>사람2</th>\n",
       "      <td>2</td>\n",
       "      <td>25</td>\n",
       "      <td>대전</td>\n",
       "      <td>20대</td>\n",
       "      <td>학생</td>\n",
       "    </tr>\n",
       "    <tr>\n",
       "      <th>사람3</th>\n",
       "      <td>3</td>\n",
       "      <td>30</td>\n",
       "      <td>부산</td>\n",
       "      <td>30대</td>\n",
       "      <td>학생</td>\n",
       "    </tr>\n",
       "    <tr>\n",
       "      <th>사람4</th>\n",
       "      <td>0</td>\n",
       "      <td>10</td>\n",
       "      <td>광주</td>\n",
       "      <td>10대</td>\n",
       "      <td>학생</td>\n",
       "    </tr>\n",
       "    <tr>\n",
       "      <th>사람1</th>\n",
       "      <td>1</td>\n",
       "      <td>20</td>\n",
       "      <td>서울</td>\n",
       "      <td>20대</td>\n",
       "      <td>학생</td>\n",
       "    </tr>\n",
       "    <tr>\n",
       "      <th>홍길순</th>\n",
       "      <td>0</td>\n",
       "      <td>10</td>\n",
       "      <td>광주</td>\n",
       "      <td>10대</td>\n",
       "      <td>학생</td>\n",
       "    </tr>\n",
       "  </tbody>\n",
       "</table>\n",
       "</div>"
      ],
      "text/plain": [
       "     순서  나이  도시  나이대  직업\n",
       "홍길동   1  20  서울  20대  학생\n",
       "사람2   2  25  대전  20대  학생\n",
       "사람3   3  30  부산  30대  학생\n",
       "사람4   0  10  광주  10대  학생\n",
       "사람1   1  20  서울  20대  학생\n",
       "홍길순   0  10  광주  10대  학생"
      ]
     },
     "execution_count": 66,
     "metadata": {},
     "output_type": "execute_result"
    }
   ],
   "source": [
    "df = df.rename(index={5:'홍길순'})\n",
    "df"
   ]
  },
  {
   "cell_type": "code",
   "execution_count": 67,
   "id": "39c3b37b",
   "metadata": {},
   "outputs": [
    {
     "data": {
      "text/html": [
       "<div>\n",
       "<style scoped>\n",
       "    .dataframe tbody tr th:only-of-type {\n",
       "        vertical-align: middle;\n",
       "    }\n",
       "\n",
       "    .dataframe tbody tr th {\n",
       "        vertical-align: top;\n",
       "    }\n",
       "\n",
       "    .dataframe thead th {\n",
       "        text-align: right;\n",
       "    }\n",
       "</style>\n",
       "<table border=\"1\" class=\"dataframe\">\n",
       "  <thead>\n",
       "    <tr style=\"text-align: right;\">\n",
       "      <th></th>\n",
       "      <th>순서</th>\n",
       "      <th>나이</th>\n",
       "      <th>도시</th>\n",
       "      <th>나이대</th>\n",
       "      <th>직업</th>\n",
       "    </tr>\n",
       "  </thead>\n",
       "  <tbody>\n",
       "    <tr>\n",
       "      <th>홍길동</th>\n",
       "      <td>1</td>\n",
       "      <td>20</td>\n",
       "      <td>서울</td>\n",
       "      <td>20대</td>\n",
       "      <td>학생</td>\n",
       "    </tr>\n",
       "    <tr>\n",
       "      <th>사람2</th>\n",
       "      <td>2</td>\n",
       "      <td>25</td>\n",
       "      <td>대전</td>\n",
       "      <td>20대</td>\n",
       "      <td>학생</td>\n",
       "    </tr>\n",
       "    <tr>\n",
       "      <th>사람3</th>\n",
       "      <td>3</td>\n",
       "      <td>30</td>\n",
       "      <td>부산</td>\n",
       "      <td>30대</td>\n",
       "      <td>학생</td>\n",
       "    </tr>\n",
       "    <tr>\n",
       "      <th>사람4</th>\n",
       "      <td>4</td>\n",
       "      <td>10</td>\n",
       "      <td>광주</td>\n",
       "      <td>10대</td>\n",
       "      <td>학생</td>\n",
       "    </tr>\n",
       "    <tr>\n",
       "      <th>사람1</th>\n",
       "      <td>1</td>\n",
       "      <td>20</td>\n",
       "      <td>서울</td>\n",
       "      <td>20대</td>\n",
       "      <td>학생</td>\n",
       "    </tr>\n",
       "    <tr>\n",
       "      <th>홍길순</th>\n",
       "      <td>0</td>\n",
       "      <td>10</td>\n",
       "      <td>광주</td>\n",
       "      <td>10대</td>\n",
       "      <td>학생</td>\n",
       "    </tr>\n",
       "  </tbody>\n",
       "</table>\n",
       "</div>"
      ],
      "text/plain": [
       "     순서  나이  도시  나이대  직업\n",
       "홍길동   1  20  서울  20대  학생\n",
       "사람2   2  25  대전  20대  학생\n",
       "사람3   3  30  부산  30대  학생\n",
       "사람4   4  10  광주  10대  학생\n",
       "사람1   1  20  서울  20대  학생\n",
       "홍길순   0  10  광주  10대  학생"
      ]
     },
     "execution_count": 67,
     "metadata": {},
     "output_type": "execute_result"
    }
   ],
   "source": [
    "df.iloc[3,0] = 4\n",
    "df"
   ]
  },
  {
   "cell_type": "code",
   "execution_count": 68,
   "id": "14428da5",
   "metadata": {},
   "outputs": [],
   "source": [
    "df.iloc[3,[1,3]]=40,'40대'"
   ]
  },
  {
   "cell_type": "code",
   "execution_count": 69,
   "id": "7e967e2a",
   "metadata": {},
   "outputs": [
    {
     "data": {
      "text/html": [
       "<div>\n",
       "<style scoped>\n",
       "    .dataframe tbody tr th:only-of-type {\n",
       "        vertical-align: middle;\n",
       "    }\n",
       "\n",
       "    .dataframe tbody tr th {\n",
       "        vertical-align: top;\n",
       "    }\n",
       "\n",
       "    .dataframe thead th {\n",
       "        text-align: right;\n",
       "    }\n",
       "</style>\n",
       "<table border=\"1\" class=\"dataframe\">\n",
       "  <thead>\n",
       "    <tr style=\"text-align: right;\">\n",
       "      <th></th>\n",
       "      <th>순서</th>\n",
       "      <th>나이</th>\n",
       "      <th>도시</th>\n",
       "      <th>나이대</th>\n",
       "      <th>직업</th>\n",
       "    </tr>\n",
       "  </thead>\n",
       "  <tbody>\n",
       "    <tr>\n",
       "      <th>홍길동</th>\n",
       "      <td>1</td>\n",
       "      <td>20</td>\n",
       "      <td>서울</td>\n",
       "      <td>20대</td>\n",
       "      <td>학생</td>\n",
       "    </tr>\n",
       "    <tr>\n",
       "      <th>사람2</th>\n",
       "      <td>2</td>\n",
       "      <td>25</td>\n",
       "      <td>대전</td>\n",
       "      <td>20대</td>\n",
       "      <td>학생</td>\n",
       "    </tr>\n",
       "    <tr>\n",
       "      <th>사람3</th>\n",
       "      <td>3</td>\n",
       "      <td>30</td>\n",
       "      <td>부산</td>\n",
       "      <td>30대</td>\n",
       "      <td>학생</td>\n",
       "    </tr>\n",
       "    <tr>\n",
       "      <th>사람4</th>\n",
       "      <td>4</td>\n",
       "      <td>40</td>\n",
       "      <td>광주</td>\n",
       "      <td>40대</td>\n",
       "      <td>학생</td>\n",
       "    </tr>\n",
       "    <tr>\n",
       "      <th>사람1</th>\n",
       "      <td>1</td>\n",
       "      <td>20</td>\n",
       "      <td>서울</td>\n",
       "      <td>20대</td>\n",
       "      <td>학생</td>\n",
       "    </tr>\n",
       "    <tr>\n",
       "      <th>홍길순</th>\n",
       "      <td>0</td>\n",
       "      <td>10</td>\n",
       "      <td>광주</td>\n",
       "      <td>10대</td>\n",
       "      <td>학생</td>\n",
       "    </tr>\n",
       "  </tbody>\n",
       "</table>\n",
       "</div>"
      ],
      "text/plain": [
       "     순서  나이  도시  나이대  직업\n",
       "홍길동   1  20  서울  20대  학생\n",
       "사람2   2  25  대전  20대  학생\n",
       "사람3   3  30  부산  30대  학생\n",
       "사람4   4  40  광주  40대  학생\n",
       "사람1   1  20  서울  20대  학생\n",
       "홍길순   0  10  광주  10대  학생"
      ]
     },
     "execution_count": 69,
     "metadata": {},
     "output_type": "execute_result"
    }
   ],
   "source": [
    "df"
   ]
  },
  {
   "cell_type": "code",
   "execution_count": 70,
   "id": "ba137937",
   "metadata": {},
   "outputs": [
    {
     "data": {
      "text/html": [
       "<div>\n",
       "<style scoped>\n",
       "    .dataframe tbody tr th:only-of-type {\n",
       "        vertical-align: middle;\n",
       "    }\n",
       "\n",
       "    .dataframe tbody tr th {\n",
       "        vertical-align: top;\n",
       "    }\n",
       "\n",
       "    .dataframe thead th {\n",
       "        text-align: right;\n",
       "    }\n",
       "</style>\n",
       "<table border=\"1\" class=\"dataframe\">\n",
       "  <thead>\n",
       "    <tr style=\"text-align: right;\">\n",
       "      <th></th>\n",
       "      <th>순서</th>\n",
       "      <th>나이</th>\n",
       "      <th>도시</th>\n",
       "      <th>나이대</th>\n",
       "      <th>직업</th>\n",
       "    </tr>\n",
       "  </thead>\n",
       "  <tbody>\n",
       "    <tr>\n",
       "      <th>홍길동</th>\n",
       "      <td>1</td>\n",
       "      <td>20</td>\n",
       "      <td>서울</td>\n",
       "      <td>20대</td>\n",
       "      <td>학생</td>\n",
       "    </tr>\n",
       "    <tr>\n",
       "      <th>사람2</th>\n",
       "      <td>2</td>\n",
       "      <td>25</td>\n",
       "      <td>대전</td>\n",
       "      <td>20대</td>\n",
       "      <td>학생</td>\n",
       "    </tr>\n",
       "    <tr>\n",
       "      <th>사람3</th>\n",
       "      <td>3</td>\n",
       "      <td>30</td>\n",
       "      <td>부산</td>\n",
       "      <td>30대</td>\n",
       "      <td>학생</td>\n",
       "    </tr>\n",
       "    <tr>\n",
       "      <th>사람4</th>\n",
       "      <td>4</td>\n",
       "      <td>40</td>\n",
       "      <td>광주</td>\n",
       "      <td>40대</td>\n",
       "      <td>학생</td>\n",
       "    </tr>\n",
       "    <tr>\n",
       "      <th>사람1</th>\n",
       "      <td>1</td>\n",
       "      <td>20</td>\n",
       "      <td>서울</td>\n",
       "      <td>20대</td>\n",
       "      <td>학생</td>\n",
       "    </tr>\n",
       "    <tr>\n",
       "      <th>홍길순</th>\n",
       "      <td>5</td>\n",
       "      <td>10</td>\n",
       "      <td>광주</td>\n",
       "      <td>10대</td>\n",
       "      <td>학생</td>\n",
       "    </tr>\n",
       "  </tbody>\n",
       "</table>\n",
       "</div>"
      ],
      "text/plain": [
       "     순서  나이  도시  나이대  직업\n",
       "홍길동   1  20  서울  20대  학생\n",
       "사람2   2  25  대전  20대  학생\n",
       "사람3   3  30  부산  30대  학생\n",
       "사람4   4  40  광주  40대  학생\n",
       "사람1   1  20  서울  20대  학생\n",
       "홍길순   5  10  광주  10대  학생"
      ]
     },
     "execution_count": 70,
     "metadata": {},
     "output_type": "execute_result"
    }
   ],
   "source": [
    "df.iloc[5,0]=5\n",
    "df"
   ]
  },
  {
   "cell_type": "code",
   "execution_count": 71,
   "id": "8bcc78fe",
   "metadata": {},
   "outputs": [
    {
     "data": {
      "text/html": [
       "<div>\n",
       "<style scoped>\n",
       "    .dataframe tbody tr th:only-of-type {\n",
       "        vertical-align: middle;\n",
       "    }\n",
       "\n",
       "    .dataframe tbody tr th {\n",
       "        vertical-align: top;\n",
       "    }\n",
       "\n",
       "    .dataframe thead th {\n",
       "        text-align: right;\n",
       "    }\n",
       "</style>\n",
       "<table border=\"1\" class=\"dataframe\">\n",
       "  <thead>\n",
       "    <tr style=\"text-align: right;\">\n",
       "      <th></th>\n",
       "      <th>No.</th>\n",
       "      <th>나이</th>\n",
       "      <th>도시</th>\n",
       "      <th>나이대</th>\n",
       "      <th>직업</th>\n",
       "    </tr>\n",
       "  </thead>\n",
       "  <tbody>\n",
       "    <tr>\n",
       "      <th>홍길동</th>\n",
       "      <td>1</td>\n",
       "      <td>20</td>\n",
       "      <td>서울</td>\n",
       "      <td>20대</td>\n",
       "      <td>학생</td>\n",
       "    </tr>\n",
       "    <tr>\n",
       "      <th>사람2</th>\n",
       "      <td>2</td>\n",
       "      <td>25</td>\n",
       "      <td>대전</td>\n",
       "      <td>20대</td>\n",
       "      <td>학생</td>\n",
       "    </tr>\n",
       "    <tr>\n",
       "      <th>사람3</th>\n",
       "      <td>3</td>\n",
       "      <td>30</td>\n",
       "      <td>부산</td>\n",
       "      <td>30대</td>\n",
       "      <td>학생</td>\n",
       "    </tr>\n",
       "    <tr>\n",
       "      <th>사람4</th>\n",
       "      <td>4</td>\n",
       "      <td>40</td>\n",
       "      <td>광주</td>\n",
       "      <td>40대</td>\n",
       "      <td>학생</td>\n",
       "    </tr>\n",
       "    <tr>\n",
       "      <th>사람1</th>\n",
       "      <td>1</td>\n",
       "      <td>20</td>\n",
       "      <td>서울</td>\n",
       "      <td>20대</td>\n",
       "      <td>학생</td>\n",
       "    </tr>\n",
       "    <tr>\n",
       "      <th>홍길순</th>\n",
       "      <td>5</td>\n",
       "      <td>10</td>\n",
       "      <td>광주</td>\n",
       "      <td>10대</td>\n",
       "      <td>학생</td>\n",
       "    </tr>\n",
       "  </tbody>\n",
       "</table>\n",
       "</div>"
      ],
      "text/plain": [
       "     No.  나이  도시  나이대  직업\n",
       "홍길동    1  20  서울  20대  학생\n",
       "사람2    2  25  대전  20대  학생\n",
       "사람3    3  30  부산  30대  학생\n",
       "사람4    4  40  광주  40대  학생\n",
       "사람1    1  20  서울  20대  학생\n",
       "홍길순    5  10  광주  10대  학생"
      ]
     },
     "execution_count": 71,
     "metadata": {},
     "output_type": "execute_result"
    }
   ],
   "source": [
    "df = df.rename(columns = {'순서': 'No.'})\n",
    "df"
   ]
  },
  {
   "cell_type": "code",
   "execution_count": 72,
   "id": "087864aa",
   "metadata": {},
   "outputs": [
    {
     "data": {
      "text/html": [
       "<div>\n",
       "<style scoped>\n",
       "    .dataframe tbody tr th:only-of-type {\n",
       "        vertical-align: middle;\n",
       "    }\n",
       "\n",
       "    .dataframe tbody tr th {\n",
       "        vertical-align: top;\n",
       "    }\n",
       "\n",
       "    .dataframe thead th {\n",
       "        text-align: right;\n",
       "    }\n",
       "</style>\n",
       "<table border=\"1\" class=\"dataframe\">\n",
       "  <thead>\n",
       "    <tr style=\"text-align: right;\">\n",
       "      <th></th>\n",
       "      <th>No.</th>\n",
       "      <th>나이</th>\n",
       "      <th>도시</th>\n",
       "      <th>나이대</th>\n",
       "      <th>직업</th>\n",
       "    </tr>\n",
       "  </thead>\n",
       "  <tbody>\n",
       "    <tr>\n",
       "      <th>홍길동</th>\n",
       "      <td>1</td>\n",
       "      <td>20</td>\n",
       "      <td>서울</td>\n",
       "      <td>20대</td>\n",
       "      <td>학생</td>\n",
       "    </tr>\n",
       "    <tr>\n",
       "      <th>사람2</th>\n",
       "      <td>2</td>\n",
       "      <td>25</td>\n",
       "      <td>대전</td>\n",
       "      <td>20대</td>\n",
       "      <td>학생</td>\n",
       "    </tr>\n",
       "    <tr>\n",
       "      <th>사람3</th>\n",
       "      <td>3</td>\n",
       "      <td>30</td>\n",
       "      <td>부산</td>\n",
       "      <td>30대</td>\n",
       "      <td>학생</td>\n",
       "    </tr>\n",
       "    <tr>\n",
       "      <th>사람4</th>\n",
       "      <td>4</td>\n",
       "      <td>40</td>\n",
       "      <td>광주</td>\n",
       "      <td>40대</td>\n",
       "      <td>학생</td>\n",
       "    </tr>\n",
       "    <tr>\n",
       "      <th>사람1</th>\n",
       "      <td>6</td>\n",
       "      <td>20</td>\n",
       "      <td>서울</td>\n",
       "      <td>20대</td>\n",
       "      <td>학생</td>\n",
       "    </tr>\n",
       "    <tr>\n",
       "      <th>홍길순</th>\n",
       "      <td>5</td>\n",
       "      <td>10</td>\n",
       "      <td>광주</td>\n",
       "      <td>10대</td>\n",
       "      <td>학생</td>\n",
       "    </tr>\n",
       "  </tbody>\n",
       "</table>\n",
       "</div>"
      ],
      "text/plain": [
       "     No.  나이  도시  나이대  직업\n",
       "홍길동    1  20  서울  20대  학생\n",
       "사람2    2  25  대전  20대  학생\n",
       "사람3    3  30  부산  30대  학생\n",
       "사람4    4  40  광주  40대  학생\n",
       "사람1    6  20  서울  20대  학생\n",
       "홍길순    5  10  광주  10대  학생"
      ]
     },
     "execution_count": 72,
     "metadata": {},
     "output_type": "execute_result"
    }
   ],
   "source": [
    "df.loc['사람1','No.'] = 6\n",
    "df"
   ]
  },
  {
   "cell_type": "code",
   "execution_count": 73,
   "id": "6cdc9a97",
   "metadata": {},
   "outputs": [
    {
     "data": {
      "text/html": [
       "<div>\n",
       "<style scoped>\n",
       "    .dataframe tbody tr th:only-of-type {\n",
       "        vertical-align: middle;\n",
       "    }\n",
       "\n",
       "    .dataframe tbody tr th {\n",
       "        vertical-align: top;\n",
       "    }\n",
       "\n",
       "    .dataframe thead th {\n",
       "        text-align: right;\n",
       "    }\n",
       "</style>\n",
       "<table border=\"1\" class=\"dataframe\">\n",
       "  <thead>\n",
       "    <tr style=\"text-align: right;\">\n",
       "      <th></th>\n",
       "      <th>No.</th>\n",
       "      <th>나이</th>\n",
       "      <th>도시</th>\n",
       "      <th>나이대</th>\n",
       "      <th>직업</th>\n",
       "    </tr>\n",
       "  </thead>\n",
       "  <tbody>\n",
       "    <tr>\n",
       "      <th>홍길동</th>\n",
       "      <td>1</td>\n",
       "      <td>20</td>\n",
       "      <td>서울</td>\n",
       "      <td>20대</td>\n",
       "      <td>학생</td>\n",
       "    </tr>\n",
       "    <tr>\n",
       "      <th>사람2</th>\n",
       "      <td>2</td>\n",
       "      <td>25</td>\n",
       "      <td>대전</td>\n",
       "      <td>20대</td>\n",
       "      <td>학생</td>\n",
       "    </tr>\n",
       "    <tr>\n",
       "      <th>사람3</th>\n",
       "      <td>3</td>\n",
       "      <td>30</td>\n",
       "      <td>부산</td>\n",
       "      <td>30대</td>\n",
       "      <td>학생</td>\n",
       "    </tr>\n",
       "    <tr>\n",
       "      <th>사람4</th>\n",
       "      <td>4</td>\n",
       "      <td>40</td>\n",
       "      <td>광주</td>\n",
       "      <td>40대</td>\n",
       "      <td>학생</td>\n",
       "    </tr>\n",
       "    <tr>\n",
       "      <th>사람1</th>\n",
       "      <td>6</td>\n",
       "      <td>20</td>\n",
       "      <td>서울</td>\n",
       "      <td>20대</td>\n",
       "      <td>학생</td>\n",
       "    </tr>\n",
       "    <tr>\n",
       "      <th>홍길순</th>\n",
       "      <td>5</td>\n",
       "      <td>50</td>\n",
       "      <td>광주</td>\n",
       "      <td>50대</td>\n",
       "      <td>학생</td>\n",
       "    </tr>\n",
       "  </tbody>\n",
       "</table>\n",
       "</div>"
      ],
      "text/plain": [
       "     No.  나이  도시  나이대  직업\n",
       "홍길동    1  20  서울  20대  학생\n",
       "사람2    2  25  대전  20대  학생\n",
       "사람3    3  30  부산  30대  학생\n",
       "사람4    4  40  광주  40대  학생\n",
       "사람1    6  20  서울  20대  학생\n",
       "홍길순    5  50  광주  50대  학생"
      ]
     },
     "execution_count": 73,
     "metadata": {},
     "output_type": "execute_result"
    }
   ],
   "source": [
    "df.iloc[5,[1,3]]=50,'50대'\n",
    "df"
   ]
  },
  {
   "cell_type": "code",
   "execution_count": 74,
   "id": "5c8908f2",
   "metadata": {},
   "outputs": [
    {
     "data": {
      "text/html": [
       "<div>\n",
       "<style scoped>\n",
       "    .dataframe tbody tr th:only-of-type {\n",
       "        vertical-align: middle;\n",
       "    }\n",
       "\n",
       "    .dataframe tbody tr th {\n",
       "        vertical-align: top;\n",
       "    }\n",
       "\n",
       "    .dataframe thead th {\n",
       "        text-align: right;\n",
       "    }\n",
       "</style>\n",
       "<table border=\"1\" class=\"dataframe\">\n",
       "  <thead>\n",
       "    <tr style=\"text-align: right;\">\n",
       "      <th></th>\n",
       "      <th>No.</th>\n",
       "      <th>나이</th>\n",
       "      <th>도시</th>\n",
       "      <th>나이대</th>\n",
       "      <th>직업</th>\n",
       "    </tr>\n",
       "  </thead>\n",
       "  <tbody>\n",
       "    <tr>\n",
       "      <th>홍길동</th>\n",
       "      <td>1</td>\n",
       "      <td>20</td>\n",
       "      <td>서울</td>\n",
       "      <td>20대</td>\n",
       "      <td>학생</td>\n",
       "    </tr>\n",
       "    <tr>\n",
       "      <th>사람2</th>\n",
       "      <td>2</td>\n",
       "      <td>25</td>\n",
       "      <td>대전</td>\n",
       "      <td>20대</td>\n",
       "      <td>학생</td>\n",
       "    </tr>\n",
       "    <tr>\n",
       "      <th>사람3</th>\n",
       "      <td>3</td>\n",
       "      <td>30</td>\n",
       "      <td>부산</td>\n",
       "      <td>30대</td>\n",
       "      <td>학생</td>\n",
       "    </tr>\n",
       "    <tr>\n",
       "      <th>사람1</th>\n",
       "      <td>6</td>\n",
       "      <td>20</td>\n",
       "      <td>서울</td>\n",
       "      <td>20대</td>\n",
       "      <td>학생</td>\n",
       "    </tr>\n",
       "    <tr>\n",
       "      <th>홍길순</th>\n",
       "      <td>5</td>\n",
       "      <td>50</td>\n",
       "      <td>광주</td>\n",
       "      <td>50대</td>\n",
       "      <td>학생</td>\n",
       "    </tr>\n",
       "  </tbody>\n",
       "</table>\n",
       "</div>"
      ],
      "text/plain": [
       "     No.  나이  도시  나이대  직업\n",
       "홍길동    1  20  서울  20대  학생\n",
       "사람2    2  25  대전  20대  학생\n",
       "사람3    3  30  부산  30대  학생\n",
       "사람1    6  20  서울  20대  학생\n",
       "홍길순    5  50  광주  50대  학생"
      ]
     },
     "execution_count": 74,
     "metadata": {},
     "output_type": "execute_result"
    }
   ],
   "source": [
    "df = df.drop('사람4', axis = 0)\n",
    "df"
   ]
  },
  {
   "cell_type": "code",
   "execution_count": 75,
   "id": "3b1fcba3",
   "metadata": {},
   "outputs": [
    {
     "data": {
      "text/html": [
       "<div>\n",
       "<style scoped>\n",
       "    .dataframe tbody tr th:only-of-type {\n",
       "        vertical-align: middle;\n",
       "    }\n",
       "\n",
       "    .dataframe tbody tr th {\n",
       "        vertical-align: top;\n",
       "    }\n",
       "\n",
       "    .dataframe thead th {\n",
       "        text-align: right;\n",
       "    }\n",
       "</style>\n",
       "<table border=\"1\" class=\"dataframe\">\n",
       "  <thead>\n",
       "    <tr style=\"text-align: right;\">\n",
       "      <th></th>\n",
       "      <th>No.</th>\n",
       "      <th>나이</th>\n",
       "      <th>도시</th>\n",
       "    </tr>\n",
       "  </thead>\n",
       "  <tbody>\n",
       "    <tr>\n",
       "      <th>홍길동</th>\n",
       "      <td>1</td>\n",
       "      <td>20</td>\n",
       "      <td>서울</td>\n",
       "    </tr>\n",
       "    <tr>\n",
       "      <th>사람2</th>\n",
       "      <td>2</td>\n",
       "      <td>25</td>\n",
       "      <td>대전</td>\n",
       "    </tr>\n",
       "    <tr>\n",
       "      <th>사람3</th>\n",
       "      <td>3</td>\n",
       "      <td>30</td>\n",
       "      <td>부산</td>\n",
       "    </tr>\n",
       "    <tr>\n",
       "      <th>사람1</th>\n",
       "      <td>6</td>\n",
       "      <td>20</td>\n",
       "      <td>서울</td>\n",
       "    </tr>\n",
       "    <tr>\n",
       "      <th>홍길순</th>\n",
       "      <td>5</td>\n",
       "      <td>50</td>\n",
       "      <td>광주</td>\n",
       "    </tr>\n",
       "  </tbody>\n",
       "</table>\n",
       "</div>"
      ],
      "text/plain": [
       "     No.  나이  도시\n",
       "홍길동    1  20  서울\n",
       "사람2    2  25  대전\n",
       "사람3    3  30  부산\n",
       "사람1    6  20  서울\n",
       "홍길순    5  50  광주"
      ]
     },
     "execution_count": 75,
     "metadata": {},
     "output_type": "execute_result"
    }
   ],
   "source": [
    "df=df.drop(['나이대','직업'],axis=1)\n",
    "df"
   ]
  },
  {
   "cell_type": "code",
   "execution_count": 76,
   "id": "6b946b61",
   "metadata": {},
   "outputs": [
    {
     "data": {
      "text/html": [
       "<div>\n",
       "<style scoped>\n",
       "    .dataframe tbody tr th:only-of-type {\n",
       "        vertical-align: middle;\n",
       "    }\n",
       "\n",
       "    .dataframe tbody tr th {\n",
       "        vertical-align: top;\n",
       "    }\n",
       "\n",
       "    .dataframe thead th {\n",
       "        text-align: right;\n",
       "    }\n",
       "</style>\n",
       "<table border=\"1\" class=\"dataframe\">\n",
       "  <thead>\n",
       "    <tr style=\"text-align: right;\">\n",
       "      <th></th>\n",
       "      <th>No.</th>\n",
       "      <th>나이</th>\n",
       "      <th>도시</th>\n",
       "    </tr>\n",
       "  </thead>\n",
       "  <tbody>\n",
       "    <tr>\n",
       "      <th>홍길동</th>\n",
       "      <td>1</td>\n",
       "      <td>20</td>\n",
       "      <td>서울</td>\n",
       "    </tr>\n",
       "    <tr>\n",
       "      <th>사람2</th>\n",
       "      <td>2</td>\n",
       "      <td>25</td>\n",
       "      <td>대전</td>\n",
       "    </tr>\n",
       "    <tr>\n",
       "      <th>사람3</th>\n",
       "      <td>3</td>\n",
       "      <td>30</td>\n",
       "      <td>부산</td>\n",
       "    </tr>\n",
       "    <tr>\n",
       "      <th>사람1</th>\n",
       "      <td>6</td>\n",
       "      <td>20</td>\n",
       "      <td>서울</td>\n",
       "    </tr>\n",
       "    <tr>\n",
       "      <th>홍길순</th>\n",
       "      <td>5</td>\n",
       "      <td>50</td>\n",
       "      <td>광주</td>\n",
       "    </tr>\n",
       "  </tbody>\n",
       "</table>\n",
       "</div>"
      ],
      "text/plain": [
       "     No.  나이  도시\n",
       "홍길동    1  20  서울\n",
       "사람2    2  25  대전\n",
       "사람3    3  30  부산\n",
       "사람1    6  20  서울\n",
       "홍길순    5  50  광주"
      ]
     },
     "execution_count": 76,
     "metadata": {},
     "output_type": "execute_result"
    }
   ],
   "source": [
    "df2 = df\n",
    "df2"
   ]
  },
  {
   "cell_type": "code",
   "execution_count": 77,
   "id": "ca05348a",
   "metadata": {},
   "outputs": [
    {
     "data": {
      "text/html": [
       "<div>\n",
       "<style scoped>\n",
       "    .dataframe tbody tr th:only-of-type {\n",
       "        vertical-align: middle;\n",
       "    }\n",
       "\n",
       "    .dataframe tbody tr th {\n",
       "        vertical-align: top;\n",
       "    }\n",
       "\n",
       "    .dataframe thead th {\n",
       "        text-align: right;\n",
       "    }\n",
       "</style>\n",
       "<table border=\"1\" class=\"dataframe\">\n",
       "  <thead>\n",
       "    <tr style=\"text-align: right;\">\n",
       "      <th></th>\n",
       "      <th>No.</th>\n",
       "      <th>나이</th>\n",
       "      <th>도시</th>\n",
       "      <th>No</th>\n",
       "    </tr>\n",
       "  </thead>\n",
       "  <tbody>\n",
       "    <tr>\n",
       "      <th>홍길동</th>\n",
       "      <td>1</td>\n",
       "      <td>20</td>\n",
       "      <td>서울</td>\n",
       "      <td>NaN</td>\n",
       "    </tr>\n",
       "    <tr>\n",
       "      <th>사람2</th>\n",
       "      <td>2</td>\n",
       "      <td>25</td>\n",
       "      <td>대전</td>\n",
       "      <td>NaN</td>\n",
       "    </tr>\n",
       "    <tr>\n",
       "      <th>사람3</th>\n",
       "      <td>3</td>\n",
       "      <td>30</td>\n",
       "      <td>부산</td>\n",
       "      <td>NaN</td>\n",
       "    </tr>\n",
       "    <tr>\n",
       "      <th>사람1</th>\n",
       "      <td>6</td>\n",
       "      <td>20</td>\n",
       "      <td>서울</td>\n",
       "      <td>4.0</td>\n",
       "    </tr>\n",
       "    <tr>\n",
       "      <th>홍길순</th>\n",
       "      <td>5</td>\n",
       "      <td>50</td>\n",
       "      <td>광주</td>\n",
       "      <td>NaN</td>\n",
       "    </tr>\n",
       "  </tbody>\n",
       "</table>\n",
       "</div>"
      ],
      "text/plain": [
       "     No.  나이  도시   No\n",
       "홍길동    1  20  서울  NaN\n",
       "사람2    2  25  대전  NaN\n",
       "사람3    3  30  부산  NaN\n",
       "사람1    6  20  서울  4.0\n",
       "홍길순    5  50  광주  NaN"
      ]
     },
     "execution_count": 77,
     "metadata": {},
     "output_type": "execute_result"
    }
   ],
   "source": [
    "df2.loc['사람1','No'] = 4\n",
    "df2"
   ]
  },
  {
   "cell_type": "code",
   "execution_count": 78,
   "id": "3b2e824c",
   "metadata": {},
   "outputs": [
    {
     "data": {
      "text/html": [
       "<div>\n",
       "<style scoped>\n",
       "    .dataframe tbody tr th:only-of-type {\n",
       "        vertical-align: middle;\n",
       "    }\n",
       "\n",
       "    .dataframe tbody tr th {\n",
       "        vertical-align: top;\n",
       "    }\n",
       "\n",
       "    .dataframe thead th {\n",
       "        text-align: right;\n",
       "    }\n",
       "</style>\n",
       "<table border=\"1\" class=\"dataframe\">\n",
       "  <thead>\n",
       "    <tr style=\"text-align: right;\">\n",
       "      <th></th>\n",
       "      <th>No.</th>\n",
       "      <th>나이</th>\n",
       "      <th>도시</th>\n",
       "      <th>No</th>\n",
       "    </tr>\n",
       "  </thead>\n",
       "  <tbody>\n",
       "    <tr>\n",
       "      <th>홍길동</th>\n",
       "      <td>1</td>\n",
       "      <td>20</td>\n",
       "      <td>서울</td>\n",
       "      <td>NaN</td>\n",
       "    </tr>\n",
       "    <tr>\n",
       "      <th>사람2</th>\n",
       "      <td>2</td>\n",
       "      <td>25</td>\n",
       "      <td>대전</td>\n",
       "      <td>NaN</td>\n",
       "    </tr>\n",
       "    <tr>\n",
       "      <th>사람3</th>\n",
       "      <td>3</td>\n",
       "      <td>30</td>\n",
       "      <td>부산</td>\n",
       "      <td>NaN</td>\n",
       "    </tr>\n",
       "    <tr>\n",
       "      <th>사람1</th>\n",
       "      <td>4</td>\n",
       "      <td>20</td>\n",
       "      <td>서울</td>\n",
       "      <td>4.0</td>\n",
       "    </tr>\n",
       "    <tr>\n",
       "      <th>홍길순</th>\n",
       "      <td>5</td>\n",
       "      <td>50</td>\n",
       "      <td>광주</td>\n",
       "      <td>NaN</td>\n",
       "    </tr>\n",
       "  </tbody>\n",
       "</table>\n",
       "</div>"
      ],
      "text/plain": [
       "     No.  나이  도시   No\n",
       "홍길동    1  20  서울  NaN\n",
       "사람2    2  25  대전  NaN\n",
       "사람3    3  30  부산  NaN\n",
       "사람1    4  20  서울  4.0\n",
       "홍길순    5  50  광주  NaN"
      ]
     },
     "execution_count": 78,
     "metadata": {},
     "output_type": "execute_result"
    }
   ],
   "source": [
    "df2.loc['사람1','No.'] = 4\n",
    "df2"
   ]
  },
  {
   "cell_type": "code",
   "execution_count": 80,
   "id": "e5e46b3d",
   "metadata": {},
   "outputs": [
    {
     "data": {
      "text/html": [
       "<div>\n",
       "<style scoped>\n",
       "    .dataframe tbody tr th:only-of-type {\n",
       "        vertical-align: middle;\n",
       "    }\n",
       "\n",
       "    .dataframe tbody tr th {\n",
       "        vertical-align: top;\n",
       "    }\n",
       "\n",
       "    .dataframe thead th {\n",
       "        text-align: right;\n",
       "    }\n",
       "</style>\n",
       "<table border=\"1\" class=\"dataframe\">\n",
       "  <thead>\n",
       "    <tr style=\"text-align: right;\">\n",
       "      <th></th>\n",
       "      <th>No.</th>\n",
       "      <th>나이</th>\n",
       "      <th>도시</th>\n",
       "    </tr>\n",
       "  </thead>\n",
       "  <tbody>\n",
       "    <tr>\n",
       "      <th>홍길동</th>\n",
       "      <td>1</td>\n",
       "      <td>20</td>\n",
       "      <td>서울</td>\n",
       "    </tr>\n",
       "    <tr>\n",
       "      <th>사람2</th>\n",
       "      <td>2</td>\n",
       "      <td>25</td>\n",
       "      <td>대전</td>\n",
       "    </tr>\n",
       "    <tr>\n",
       "      <th>사람3</th>\n",
       "      <td>3</td>\n",
       "      <td>30</td>\n",
       "      <td>부산</td>\n",
       "    </tr>\n",
       "    <tr>\n",
       "      <th>사람1</th>\n",
       "      <td>4</td>\n",
       "      <td>20</td>\n",
       "      <td>서울</td>\n",
       "    </tr>\n",
       "    <tr>\n",
       "      <th>홍길순</th>\n",
       "      <td>5</td>\n",
       "      <td>50</td>\n",
       "      <td>광주</td>\n",
       "    </tr>\n",
       "  </tbody>\n",
       "</table>\n",
       "</div>"
      ],
      "text/plain": [
       "     No.  나이  도시\n",
       "홍길동    1  20  서울\n",
       "사람2    2  25  대전\n",
       "사람3    3  30  부산\n",
       "사람1    4  20  서울\n",
       "홍길순    5  50  광주"
      ]
     },
     "execution_count": 80,
     "metadata": {},
     "output_type": "execute_result"
    }
   ],
   "source": [
    "df2=df2.drop('No', axis = 1)\n",
    "df2"
   ]
  },
  {
   "cell_type": "code",
   "execution_count": 85,
   "id": "190868cd",
   "metadata": {},
   "outputs": [
    {
     "data": {
      "text/html": [
       "<div>\n",
       "<style scoped>\n",
       "    .dataframe tbody tr th:only-of-type {\n",
       "        vertical-align: middle;\n",
       "    }\n",
       "\n",
       "    .dataframe tbody tr th {\n",
       "        vertical-align: top;\n",
       "    }\n",
       "\n",
       "    .dataframe thead th {\n",
       "        text-align: right;\n",
       "    }\n",
       "</style>\n",
       "<table border=\"1\" class=\"dataframe\">\n",
       "  <thead>\n",
       "    <tr style=\"text-align: right;\">\n",
       "      <th></th>\n",
       "      <th>No.</th>\n",
       "      <th>나이</th>\n",
       "      <th>도시</th>\n",
       "      <th>No</th>\n",
       "    </tr>\n",
       "  </thead>\n",
       "  <tbody>\n",
       "    <tr>\n",
       "      <th>홍길동</th>\n",
       "      <td>1</td>\n",
       "      <td>20</td>\n",
       "      <td>서울</td>\n",
       "      <td>NaN</td>\n",
       "    </tr>\n",
       "    <tr>\n",
       "      <th>사람2</th>\n",
       "      <td>2</td>\n",
       "      <td>25</td>\n",
       "      <td>대전</td>\n",
       "      <td>NaN</td>\n",
       "    </tr>\n",
       "    <tr>\n",
       "      <th>사람3</th>\n",
       "      <td>3</td>\n",
       "      <td>30</td>\n",
       "      <td>부산</td>\n",
       "      <td>NaN</td>\n",
       "    </tr>\n",
       "    <tr>\n",
       "      <th>사람1</th>\n",
       "      <td>4</td>\n",
       "      <td>20</td>\n",
       "      <td>서울</td>\n",
       "      <td>4.0</td>\n",
       "    </tr>\n",
       "    <tr>\n",
       "      <th>홍길순</th>\n",
       "      <td>5</td>\n",
       "      <td>50</td>\n",
       "      <td>광주</td>\n",
       "      <td>NaN</td>\n",
       "    </tr>\n",
       "  </tbody>\n",
       "</table>\n",
       "</div>"
      ],
      "text/plain": [
       "     No.  나이  도시   No\n",
       "홍길동    1  20  서울  NaN\n",
       "사람2    2  25  대전  NaN\n",
       "사람3    3  30  부산  NaN\n",
       "사람1    4  20  서울  4.0\n",
       "홍길순    5  50  광주  NaN"
      ]
     },
     "execution_count": 85,
     "metadata": {},
     "output_type": "execute_result"
    }
   ],
   "source": [
    "df"
   ]
  },
  {
   "cell_type": "code",
   "execution_count": 83,
   "id": "5be2e502",
   "metadata": {},
   "outputs": [],
   "source": [
    "df3=df2.copy()"
   ]
  },
  {
   "cell_type": "code",
   "execution_count": 84,
   "id": "26328f19",
   "metadata": {},
   "outputs": [
    {
     "data": {
      "text/html": [
       "<div>\n",
       "<style scoped>\n",
       "    .dataframe tbody tr th:only-of-type {\n",
       "        vertical-align: middle;\n",
       "    }\n",
       "\n",
       "    .dataframe tbody tr th {\n",
       "        vertical-align: top;\n",
       "    }\n",
       "\n",
       "    .dataframe thead th {\n",
       "        text-align: right;\n",
       "    }\n",
       "</style>\n",
       "<table border=\"1\" class=\"dataframe\">\n",
       "  <thead>\n",
       "    <tr style=\"text-align: right;\">\n",
       "      <th></th>\n",
       "      <th>No.</th>\n",
       "      <th>나이</th>\n",
       "      <th>도시</th>\n",
       "    </tr>\n",
       "  </thead>\n",
       "  <tbody>\n",
       "    <tr>\n",
       "      <th>홍길동</th>\n",
       "      <td>1</td>\n",
       "      <td>20</td>\n",
       "      <td>서울</td>\n",
       "    </tr>\n",
       "    <tr>\n",
       "      <th>사람2</th>\n",
       "      <td>2</td>\n",
       "      <td>25</td>\n",
       "      <td>대전</td>\n",
       "    </tr>\n",
       "    <tr>\n",
       "      <th>사람3</th>\n",
       "      <td>3</td>\n",
       "      <td>30</td>\n",
       "      <td>부산</td>\n",
       "    </tr>\n",
       "    <tr>\n",
       "      <th>사람1</th>\n",
       "      <td>4</td>\n",
       "      <td>20</td>\n",
       "      <td>서울</td>\n",
       "    </tr>\n",
       "    <tr>\n",
       "      <th>홍길순</th>\n",
       "      <td>5</td>\n",
       "      <td>50</td>\n",
       "      <td>광주</td>\n",
       "    </tr>\n",
       "  </tbody>\n",
       "</table>\n",
       "</div>"
      ],
      "text/plain": [
       "     No.  나이  도시\n",
       "홍길동    1  20  서울\n",
       "사람2    2  25  대전\n",
       "사람3    3  30  부산\n",
       "사람1    4  20  서울\n",
       "홍길순    5  50  광주"
      ]
     },
     "execution_count": 84,
     "metadata": {},
     "output_type": "execute_result"
    }
   ],
   "source": [
    "df3"
   ]
  },
  {
   "cell_type": "code",
   "execution_count": 86,
   "id": "aa48bdb2",
   "metadata": {},
   "outputs": [
    {
     "data": {
      "text/html": [
       "<div>\n",
       "<style scoped>\n",
       "    .dataframe tbody tr th:only-of-type {\n",
       "        vertical-align: middle;\n",
       "    }\n",
       "\n",
       "    .dataframe tbody tr th {\n",
       "        vertical-align: top;\n",
       "    }\n",
       "\n",
       "    .dataframe thead th {\n",
       "        text-align: right;\n",
       "    }\n",
       "</style>\n",
       "<table border=\"1\" class=\"dataframe\">\n",
       "  <thead>\n",
       "    <tr style=\"text-align: right;\">\n",
       "      <th></th>\n",
       "      <th>No.</th>\n",
       "      <th>나이</th>\n",
       "      <th>도시</th>\n",
       "    </tr>\n",
       "  </thead>\n",
       "  <tbody>\n",
       "    <tr>\n",
       "      <th>홍길동</th>\n",
       "      <td>1</td>\n",
       "      <td>20</td>\n",
       "      <td>서울</td>\n",
       "    </tr>\n",
       "    <tr>\n",
       "      <th>사람2</th>\n",
       "      <td>2</td>\n",
       "      <td>25</td>\n",
       "      <td>대전</td>\n",
       "    </tr>\n",
       "    <tr>\n",
       "      <th>사람3</th>\n",
       "      <td>3</td>\n",
       "      <td>30</td>\n",
       "      <td>부산</td>\n",
       "    </tr>\n",
       "    <tr>\n",
       "      <th>사람1</th>\n",
       "      <td>5</td>\n",
       "      <td>20</td>\n",
       "      <td>서울</td>\n",
       "    </tr>\n",
       "    <tr>\n",
       "      <th>홍길순</th>\n",
       "      <td>5</td>\n",
       "      <td>50</td>\n",
       "      <td>광주</td>\n",
       "    </tr>\n",
       "  </tbody>\n",
       "</table>\n",
       "</div>"
      ],
      "text/plain": [
       "     No.  나이  도시\n",
       "홍길동    1  20  서울\n",
       "사람2    2  25  대전\n",
       "사람3    3  30  부산\n",
       "사람1    5  20  서울\n",
       "홍길순    5  50  광주"
      ]
     },
     "execution_count": 86,
     "metadata": {},
     "output_type": "execute_result"
    }
   ],
   "source": [
    "df3.loc['사람1','No.']= 5\n",
    "df3"
   ]
  },
  {
   "cell_type": "code",
   "execution_count": 87,
   "id": "811e9a4c",
   "metadata": {},
   "outputs": [
    {
     "data": {
      "text/html": [
       "<div>\n",
       "<style scoped>\n",
       "    .dataframe tbody tr th:only-of-type {\n",
       "        vertical-align: middle;\n",
       "    }\n",
       "\n",
       "    .dataframe tbody tr th {\n",
       "        vertical-align: top;\n",
       "    }\n",
       "\n",
       "    .dataframe thead th {\n",
       "        text-align: right;\n",
       "    }\n",
       "</style>\n",
       "<table border=\"1\" class=\"dataframe\">\n",
       "  <thead>\n",
       "    <tr style=\"text-align: right;\">\n",
       "      <th></th>\n",
       "      <th>No.</th>\n",
       "      <th>나이</th>\n",
       "      <th>도시</th>\n",
       "      <th>No</th>\n",
       "    </tr>\n",
       "  </thead>\n",
       "  <tbody>\n",
       "    <tr>\n",
       "      <th>홍길동</th>\n",
       "      <td>1</td>\n",
       "      <td>20</td>\n",
       "      <td>서울</td>\n",
       "      <td>NaN</td>\n",
       "    </tr>\n",
       "    <tr>\n",
       "      <th>사람2</th>\n",
       "      <td>2</td>\n",
       "      <td>25</td>\n",
       "      <td>대전</td>\n",
       "      <td>NaN</td>\n",
       "    </tr>\n",
       "    <tr>\n",
       "      <th>사람3</th>\n",
       "      <td>3</td>\n",
       "      <td>30</td>\n",
       "      <td>부산</td>\n",
       "      <td>NaN</td>\n",
       "    </tr>\n",
       "    <tr>\n",
       "      <th>사람1</th>\n",
       "      <td>4</td>\n",
       "      <td>20</td>\n",
       "      <td>서울</td>\n",
       "      <td>4.0</td>\n",
       "    </tr>\n",
       "    <tr>\n",
       "      <th>홍길순</th>\n",
       "      <td>5</td>\n",
       "      <td>50</td>\n",
       "      <td>광주</td>\n",
       "      <td>NaN</td>\n",
       "    </tr>\n",
       "  </tbody>\n",
       "</table>\n",
       "</div>"
      ],
      "text/plain": [
       "     No.  나이  도시   No\n",
       "홍길동    1  20  서울  NaN\n",
       "사람2    2  25  대전  NaN\n",
       "사람3    3  30  부산  NaN\n",
       "사람1    4  20  서울  4.0\n",
       "홍길순    5  50  광주  NaN"
      ]
     },
     "execution_count": 87,
     "metadata": {},
     "output_type": "execute_result"
    }
   ],
   "source": [
    "df"
   ]
  },
  {
   "cell_type": "code",
   "execution_count": 88,
   "id": "2b6efec8",
   "metadata": {},
   "outputs": [
    {
     "data": {
      "text/plain": [
       "No.      1\n",
       "나이      20\n",
       "도시      서울\n",
       "No     NaN\n",
       "Name: 홍길동, dtype: object"
      ]
     },
     "execution_count": 88,
     "metadata": {},
     "output_type": "execute_result"
    }
   ],
   "source": [
    "hong = df.loc['홍길동']\n",
    "hong"
   ]
  },
  {
   "cell_type": "code",
   "execution_count": 90,
   "id": "d0c5a295",
   "metadata": {},
   "outputs": [
    {
     "data": {
      "text/html": [
       "<div>\n",
       "<style scoped>\n",
       "    .dataframe tbody tr th:only-of-type {\n",
       "        vertical-align: middle;\n",
       "    }\n",
       "\n",
       "    .dataframe tbody tr th {\n",
       "        vertical-align: top;\n",
       "    }\n",
       "\n",
       "    .dataframe thead th {\n",
       "        text-align: right;\n",
       "    }\n",
       "</style>\n",
       "<table border=\"1\" class=\"dataframe\">\n",
       "  <thead>\n",
       "    <tr style=\"text-align: right;\">\n",
       "      <th></th>\n",
       "      <th>순서</th>\n",
       "      <th>나이</th>\n",
       "      <th>도시</th>\n",
       "      <th>No</th>\n",
       "    </tr>\n",
       "  </thead>\n",
       "  <tbody>\n",
       "    <tr>\n",
       "      <th>홍길동</th>\n",
       "      <td>1</td>\n",
       "      <td>20</td>\n",
       "      <td>서울</td>\n",
       "      <td>NaN</td>\n",
       "    </tr>\n",
       "    <tr>\n",
       "      <th>사람2</th>\n",
       "      <td>2</td>\n",
       "      <td>25</td>\n",
       "      <td>대전</td>\n",
       "      <td>NaN</td>\n",
       "    </tr>\n",
       "    <tr>\n",
       "      <th>사람3</th>\n",
       "      <td>3</td>\n",
       "      <td>30</td>\n",
       "      <td>부산</td>\n",
       "      <td>NaN</td>\n",
       "    </tr>\n",
       "    <tr>\n",
       "      <th>사람1</th>\n",
       "      <td>4</td>\n",
       "      <td>20</td>\n",
       "      <td>서울</td>\n",
       "      <td>4.0</td>\n",
       "    </tr>\n",
       "    <tr>\n",
       "      <th>홍길순</th>\n",
       "      <td>5</td>\n",
       "      <td>50</td>\n",
       "      <td>광주</td>\n",
       "      <td>NaN</td>\n",
       "    </tr>\n",
       "  </tbody>\n",
       "</table>\n",
       "</div>"
      ],
      "text/plain": [
       "     순서  나이  도시   No\n",
       "홍길동   1  20  서울  NaN\n",
       "사람2   2  25  대전  NaN\n",
       "사람3   3  30  부산  NaN\n",
       "사람1   4  20  서울  4.0\n",
       "홍길순   5  50  광주  NaN"
      ]
     },
     "execution_count": 90,
     "metadata": {},
     "output_type": "execute_result"
    }
   ],
   "source": [
    "df = df.rename(columns = {'No.': '순서'})\n",
    "df"
   ]
  },
  {
   "cell_type": "code",
   "execution_count": 91,
   "id": "54178e17",
   "metadata": {},
   "outputs": [],
   "source": [
    "df = df.drop(['No'], axis=1)"
   ]
  },
  {
   "cell_type": "code",
   "execution_count": 92,
   "id": "2ceef617",
   "metadata": {},
   "outputs": [
    {
     "data": {
      "text/html": [
       "<div>\n",
       "<style scoped>\n",
       "    .dataframe tbody tr th:only-of-type {\n",
       "        vertical-align: middle;\n",
       "    }\n",
       "\n",
       "    .dataframe tbody tr th {\n",
       "        vertical-align: top;\n",
       "    }\n",
       "\n",
       "    .dataframe thead th {\n",
       "        text-align: right;\n",
       "    }\n",
       "</style>\n",
       "<table border=\"1\" class=\"dataframe\">\n",
       "  <thead>\n",
       "    <tr style=\"text-align: right;\">\n",
       "      <th></th>\n",
       "      <th>순서</th>\n",
       "      <th>나이</th>\n",
       "      <th>도시</th>\n",
       "    </tr>\n",
       "  </thead>\n",
       "  <tbody>\n",
       "    <tr>\n",
       "      <th>홍길동</th>\n",
       "      <td>1</td>\n",
       "      <td>20</td>\n",
       "      <td>서울</td>\n",
       "    </tr>\n",
       "    <tr>\n",
       "      <th>사람2</th>\n",
       "      <td>2</td>\n",
       "      <td>25</td>\n",
       "      <td>대전</td>\n",
       "    </tr>\n",
       "    <tr>\n",
       "      <th>사람3</th>\n",
       "      <td>3</td>\n",
       "      <td>30</td>\n",
       "      <td>부산</td>\n",
       "    </tr>\n",
       "    <tr>\n",
       "      <th>사람1</th>\n",
       "      <td>4</td>\n",
       "      <td>20</td>\n",
       "      <td>서울</td>\n",
       "    </tr>\n",
       "    <tr>\n",
       "      <th>홍길순</th>\n",
       "      <td>5</td>\n",
       "      <td>50</td>\n",
       "      <td>광주</td>\n",
       "    </tr>\n",
       "  </tbody>\n",
       "</table>\n",
       "</div>"
      ],
      "text/plain": [
       "     순서  나이  도시\n",
       "홍길동   1  20  서울\n",
       "사람2   2  25  대전\n",
       "사람3   3  30  부산\n",
       "사람1   4  20  서울\n",
       "홍길순   5  50  광주"
      ]
     },
     "execution_count": 92,
     "metadata": {},
     "output_type": "execute_result"
    }
   ],
   "source": [
    "df"
   ]
  },
  {
   "cell_type": "code",
   "execution_count": 93,
   "id": "1a0f5bb5",
   "metadata": {},
   "outputs": [
    {
     "data": {
      "text/plain": [
       "pandas.core.series.Series"
      ]
     },
     "execution_count": 93,
     "metadata": {},
     "output_type": "execute_result"
    }
   ],
   "source": [
    "type(hong)"
   ]
  },
  {
   "cell_type": "code",
   "execution_count": 94,
   "id": "15e6788d",
   "metadata": {},
   "outputs": [
    {
     "data": {
      "text/plain": [
       "(4,)"
      ]
     },
     "execution_count": 94,
     "metadata": {},
     "output_type": "execute_result"
    }
   ],
   "source": [
    "hong.shape"
   ]
  },
  {
   "cell_type": "code",
   "execution_count": 95,
   "id": "d53f6ec7",
   "metadata": {},
   "outputs": [
    {
     "data": {
      "text/plain": [
       "순서     1\n",
       "나이    20\n",
       "도시    서울\n",
       "Name: 홍길동, dtype: object"
      ]
     },
     "execution_count": 95,
     "metadata": {},
     "output_type": "execute_result"
    }
   ],
   "source": [
    "gil = df.iloc[0]\n",
    "gil"
   ]
  },
  {
   "cell_type": "code",
   "execution_count": 96,
   "id": "8307327e",
   "metadata": {},
   "outputs": [
    {
     "data": {
      "text/plain": [
       "pandas.core.series.Series"
      ]
     },
     "execution_count": 96,
     "metadata": {},
     "output_type": "execute_result"
    }
   ],
   "source": [
    "type(gil)"
   ]
  },
  {
   "cell_type": "code",
   "execution_count": 97,
   "id": "b58eccba",
   "metadata": {},
   "outputs": [
    {
     "data": {
      "text/plain": [
       "(3,)"
      ]
     },
     "execution_count": 97,
     "metadata": {},
     "output_type": "execute_result"
    }
   ],
   "source": [
    "gil.shape"
   ]
  },
  {
   "cell_type": "code",
   "execution_count": 98,
   "id": "fbea9f00",
   "metadata": {},
   "outputs": [
    {
     "data": {
      "text/html": [
       "<div>\n",
       "<style scoped>\n",
       "    .dataframe tbody tr th:only-of-type {\n",
       "        vertical-align: middle;\n",
       "    }\n",
       "\n",
       "    .dataframe tbody tr th {\n",
       "        vertical-align: top;\n",
       "    }\n",
       "\n",
       "    .dataframe thead th {\n",
       "        text-align: right;\n",
       "    }\n",
       "</style>\n",
       "<table border=\"1\" class=\"dataframe\">\n",
       "  <thead>\n",
       "    <tr style=\"text-align: right;\">\n",
       "      <th></th>\n",
       "      <th>순서</th>\n",
       "      <th>나이</th>\n",
       "      <th>도시</th>\n",
       "    </tr>\n",
       "  </thead>\n",
       "  <tbody>\n",
       "    <tr>\n",
       "      <th>홍길동</th>\n",
       "      <td>1</td>\n",
       "      <td>20</td>\n",
       "      <td>서울</td>\n",
       "    </tr>\n",
       "    <tr>\n",
       "      <th>사람1</th>\n",
       "      <td>4</td>\n",
       "      <td>20</td>\n",
       "      <td>서울</td>\n",
       "    </tr>\n",
       "  </tbody>\n",
       "</table>\n",
       "</div>"
      ],
      "text/plain": [
       "     순서  나이  도시\n",
       "홍길동   1  20  서울\n",
       "사람1   4  20  서울"
      ]
     },
     "execution_count": 98,
     "metadata": {},
     "output_type": "execute_result"
    }
   ],
   "source": [
    "df4 = df.loc[['홍길동','사람1']]\n",
    "df4"
   ]
  },
  {
   "cell_type": "code",
   "execution_count": 99,
   "id": "a8264884",
   "metadata": {},
   "outputs": [
    {
     "data": {
      "text/plain": [
       "pandas.core.frame.DataFrame"
      ]
     },
     "execution_count": 99,
     "metadata": {},
     "output_type": "execute_result"
    }
   ],
   "source": [
    "type(df4)"
   ]
  },
  {
   "cell_type": "code",
   "execution_count": 100,
   "id": "eca4435c",
   "metadata": {},
   "outputs": [],
   "source": [
    "df5 = df.iloc[[0,3]]"
   ]
  },
  {
   "cell_type": "code",
   "execution_count": 101,
   "id": "4ef712c1",
   "metadata": {},
   "outputs": [
    {
     "data": {
      "text/html": [
       "<div>\n",
       "<style scoped>\n",
       "    .dataframe tbody tr th:only-of-type {\n",
       "        vertical-align: middle;\n",
       "    }\n",
       "\n",
       "    .dataframe tbody tr th {\n",
       "        vertical-align: top;\n",
       "    }\n",
       "\n",
       "    .dataframe thead th {\n",
       "        text-align: right;\n",
       "    }\n",
       "</style>\n",
       "<table border=\"1\" class=\"dataframe\">\n",
       "  <thead>\n",
       "    <tr style=\"text-align: right;\">\n",
       "      <th></th>\n",
       "      <th>순서</th>\n",
       "      <th>나이</th>\n",
       "      <th>도시</th>\n",
       "    </tr>\n",
       "  </thead>\n",
       "  <tbody>\n",
       "    <tr>\n",
       "      <th>홍길동</th>\n",
       "      <td>1</td>\n",
       "      <td>20</td>\n",
       "      <td>서울</td>\n",
       "    </tr>\n",
       "    <tr>\n",
       "      <th>사람1</th>\n",
       "      <td>4</td>\n",
       "      <td>20</td>\n",
       "      <td>서울</td>\n",
       "    </tr>\n",
       "  </tbody>\n",
       "</table>\n",
       "</div>"
      ],
      "text/plain": [
       "     순서  나이  도시\n",
       "홍길동   1  20  서울\n",
       "사람1   4  20  서울"
      ]
     },
     "execution_count": 101,
     "metadata": {},
     "output_type": "execute_result"
    }
   ],
   "source": [
    "df5"
   ]
  },
  {
   "cell_type": "code",
   "execution_count": 102,
   "id": "fe75cdc9",
   "metadata": {},
   "outputs": [],
   "source": [
    "df6=df.loc['홍길동':'사람3']"
   ]
  },
  {
   "cell_type": "code",
   "execution_count": 103,
   "id": "ba803210",
   "metadata": {},
   "outputs": [
    {
     "data": {
      "text/html": [
       "<div>\n",
       "<style scoped>\n",
       "    .dataframe tbody tr th:only-of-type {\n",
       "        vertical-align: middle;\n",
       "    }\n",
       "\n",
       "    .dataframe tbody tr th {\n",
       "        vertical-align: top;\n",
       "    }\n",
       "\n",
       "    .dataframe thead th {\n",
       "        text-align: right;\n",
       "    }\n",
       "</style>\n",
       "<table border=\"1\" class=\"dataframe\">\n",
       "  <thead>\n",
       "    <tr style=\"text-align: right;\">\n",
       "      <th></th>\n",
       "      <th>순서</th>\n",
       "      <th>나이</th>\n",
       "      <th>도시</th>\n",
       "    </tr>\n",
       "  </thead>\n",
       "  <tbody>\n",
       "    <tr>\n",
       "      <th>홍길동</th>\n",
       "      <td>1</td>\n",
       "      <td>20</td>\n",
       "      <td>서울</td>\n",
       "    </tr>\n",
       "    <tr>\n",
       "      <th>사람2</th>\n",
       "      <td>2</td>\n",
       "      <td>25</td>\n",
       "      <td>대전</td>\n",
       "    </tr>\n",
       "    <tr>\n",
       "      <th>사람3</th>\n",
       "      <td>3</td>\n",
       "      <td>30</td>\n",
       "      <td>부산</td>\n",
       "    </tr>\n",
       "  </tbody>\n",
       "</table>\n",
       "</div>"
      ],
      "text/plain": [
       "     순서  나이  도시\n",
       "홍길동   1  20  서울\n",
       "사람2   2  25  대전\n",
       "사람3   3  30  부산"
      ]
     },
     "execution_count": 103,
     "metadata": {},
     "output_type": "execute_result"
    }
   ],
   "source": [
    "df6"
   ]
  },
  {
   "cell_type": "code",
   "execution_count": 104,
   "id": "4d145a6e",
   "metadata": {},
   "outputs": [],
   "source": [
    "df7=df.iloc[0:3]"
   ]
  },
  {
   "cell_type": "code",
   "execution_count": 105,
   "id": "56661134",
   "metadata": {},
   "outputs": [
    {
     "data": {
      "text/html": [
       "<div>\n",
       "<style scoped>\n",
       "    .dataframe tbody tr th:only-of-type {\n",
       "        vertical-align: middle;\n",
       "    }\n",
       "\n",
       "    .dataframe tbody tr th {\n",
       "        vertical-align: top;\n",
       "    }\n",
       "\n",
       "    .dataframe thead th {\n",
       "        text-align: right;\n",
       "    }\n",
       "</style>\n",
       "<table border=\"1\" class=\"dataframe\">\n",
       "  <thead>\n",
       "    <tr style=\"text-align: right;\">\n",
       "      <th></th>\n",
       "      <th>순서</th>\n",
       "      <th>나이</th>\n",
       "      <th>도시</th>\n",
       "    </tr>\n",
       "  </thead>\n",
       "  <tbody>\n",
       "    <tr>\n",
       "      <th>홍길동</th>\n",
       "      <td>1</td>\n",
       "      <td>20</td>\n",
       "      <td>서울</td>\n",
       "    </tr>\n",
       "    <tr>\n",
       "      <th>사람2</th>\n",
       "      <td>2</td>\n",
       "      <td>25</td>\n",
       "      <td>대전</td>\n",
       "    </tr>\n",
       "    <tr>\n",
       "      <th>사람3</th>\n",
       "      <td>3</td>\n",
       "      <td>30</td>\n",
       "      <td>부산</td>\n",
       "    </tr>\n",
       "  </tbody>\n",
       "</table>\n",
       "</div>"
      ],
      "text/plain": [
       "     순서  나이  도시\n",
       "홍길동   1  20  서울\n",
       "사람2   2  25  대전\n",
       "사람3   3  30  부산"
      ]
     },
     "execution_count": 105,
     "metadata": {},
     "output_type": "execute_result"
    }
   ],
   "source": [
    "df7"
   ]
  },
  {
   "cell_type": "code",
   "execution_count": 106,
   "id": "06727e1a",
   "metadata": {},
   "outputs": [
    {
     "data": {
      "text/html": [
       "<div>\n",
       "<style scoped>\n",
       "    .dataframe tbody tr th:only-of-type {\n",
       "        vertical-align: middle;\n",
       "    }\n",
       "\n",
       "    .dataframe tbody tr th {\n",
       "        vertical-align: top;\n",
       "    }\n",
       "\n",
       "    .dataframe thead th {\n",
       "        text-align: right;\n",
       "    }\n",
       "</style>\n",
       "<table border=\"1\" class=\"dataframe\">\n",
       "  <thead>\n",
       "    <tr style=\"text-align: right;\">\n",
       "      <th></th>\n",
       "      <th>순서</th>\n",
       "      <th>나이</th>\n",
       "      <th>도시</th>\n",
       "    </tr>\n",
       "  </thead>\n",
       "  <tbody>\n",
       "    <tr>\n",
       "      <th>홍길동</th>\n",
       "      <td>1</td>\n",
       "      <td>20</td>\n",
       "      <td>서울</td>\n",
       "    </tr>\n",
       "    <tr>\n",
       "      <th>사람2</th>\n",
       "      <td>2</td>\n",
       "      <td>25</td>\n",
       "      <td>대전</td>\n",
       "    </tr>\n",
       "    <tr>\n",
       "      <th>사람3</th>\n",
       "      <td>3</td>\n",
       "      <td>30</td>\n",
       "      <td>부산</td>\n",
       "    </tr>\n",
       "    <tr>\n",
       "      <th>사람1</th>\n",
       "      <td>4</td>\n",
       "      <td>20</td>\n",
       "      <td>서울</td>\n",
       "    </tr>\n",
       "    <tr>\n",
       "      <th>홍길순</th>\n",
       "      <td>5</td>\n",
       "      <td>50</td>\n",
       "      <td>광주</td>\n",
       "    </tr>\n",
       "  </tbody>\n",
       "</table>\n",
       "</div>"
      ],
      "text/plain": [
       "     순서  나이  도시\n",
       "홍길동   1  20  서울\n",
       "사람2   2  25  대전\n",
       "사람3   3  30  부산\n",
       "사람1   4  20  서울\n",
       "홍길순   5  50  광주"
      ]
     },
     "execution_count": 106,
     "metadata": {},
     "output_type": "execute_result"
    }
   ],
   "source": [
    "df"
   ]
  },
  {
   "cell_type": "code",
   "execution_count": 107,
   "id": "55d8403e",
   "metadata": {},
   "outputs": [],
   "source": [
    "df8 =df[['나이']]"
   ]
  },
  {
   "cell_type": "code",
   "execution_count": 109,
   "id": "b8f6b945",
   "metadata": {},
   "outputs": [
    {
     "data": {
      "text/html": [
       "<div>\n",
       "<style scoped>\n",
       "    .dataframe tbody tr th:only-of-type {\n",
       "        vertical-align: middle;\n",
       "    }\n",
       "\n",
       "    .dataframe tbody tr th {\n",
       "        vertical-align: top;\n",
       "    }\n",
       "\n",
       "    .dataframe thead th {\n",
       "        text-align: right;\n",
       "    }\n",
       "</style>\n",
       "<table border=\"1\" class=\"dataframe\">\n",
       "  <thead>\n",
       "    <tr style=\"text-align: right;\">\n",
       "      <th></th>\n",
       "      <th>나이</th>\n",
       "    </tr>\n",
       "  </thead>\n",
       "  <tbody>\n",
       "    <tr>\n",
       "      <th>홍길동</th>\n",
       "      <td>20</td>\n",
       "    </tr>\n",
       "    <tr>\n",
       "      <th>사람2</th>\n",
       "      <td>25</td>\n",
       "    </tr>\n",
       "    <tr>\n",
       "      <th>사람3</th>\n",
       "      <td>30</td>\n",
       "    </tr>\n",
       "    <tr>\n",
       "      <th>사람1</th>\n",
       "      <td>20</td>\n",
       "    </tr>\n",
       "    <tr>\n",
       "      <th>홍길순</th>\n",
       "      <td>50</td>\n",
       "    </tr>\n",
       "  </tbody>\n",
       "</table>\n",
       "</div>"
      ],
      "text/plain": [
       "     나이\n",
       "홍길동  20\n",
       "사람2  25\n",
       "사람3  30\n",
       "사람1  20\n",
       "홍길순  50"
      ]
     },
     "execution_count": 109,
     "metadata": {},
     "output_type": "execute_result"
    }
   ],
   "source": [
    "df8"
   ]
  },
  {
   "cell_type": "code",
   "execution_count": 110,
   "id": "613c81e1",
   "metadata": {},
   "outputs": [],
   "source": [
    "df9 =df['나이']"
   ]
  },
  {
   "cell_type": "code",
   "execution_count": 111,
   "id": "9bc926a8",
   "metadata": {},
   "outputs": [
    {
     "data": {
      "text/plain": [
       "홍길동    20\n",
       "사람2    25\n",
       "사람3    30\n",
       "사람1    20\n",
       "홍길순    50\n",
       "Name: 나이, dtype: object"
      ]
     },
     "execution_count": 111,
     "metadata": {},
     "output_type": "execute_result"
    }
   ],
   "source": [
    "df9"
   ]
  },
  {
   "cell_type": "code",
   "execution_count": 112,
   "id": "cdf9cf2c",
   "metadata": {},
   "outputs": [
    {
     "data": {
      "text/plain": [
       "pandas.core.frame.DataFrame"
      ]
     },
     "execution_count": 112,
     "metadata": {},
     "output_type": "execute_result"
    }
   ],
   "source": [
    "type(df8)"
   ]
  },
  {
   "cell_type": "code",
   "execution_count": 113,
   "id": "cd3f9932",
   "metadata": {},
   "outputs": [
    {
     "data": {
      "text/plain": [
       "pandas.core.series.Series"
      ]
     },
     "execution_count": 113,
     "metadata": {},
     "output_type": "execute_result"
    }
   ],
   "source": [
    "type(df9)"
   ]
  },
  {
   "cell_type": "code",
   "execution_count": 114,
   "id": "8979b30f",
   "metadata": {},
   "outputs": [],
   "source": [
    "df10=df[['나이','도시']]"
   ]
  },
  {
   "cell_type": "code",
   "execution_count": 116,
   "id": "532a6920",
   "metadata": {},
   "outputs": [
    {
     "data": {
      "text/html": [
       "<div>\n",
       "<style scoped>\n",
       "    .dataframe tbody tr th:only-of-type {\n",
       "        vertical-align: middle;\n",
       "    }\n",
       "\n",
       "    .dataframe tbody tr th {\n",
       "        vertical-align: top;\n",
       "    }\n",
       "\n",
       "    .dataframe thead th {\n",
       "        text-align: right;\n",
       "    }\n",
       "</style>\n",
       "<table border=\"1\" class=\"dataframe\">\n",
       "  <thead>\n",
       "    <tr style=\"text-align: right;\">\n",
       "      <th></th>\n",
       "      <th>나이</th>\n",
       "      <th>도시</th>\n",
       "    </tr>\n",
       "  </thead>\n",
       "  <tbody>\n",
       "    <tr>\n",
       "      <th>홍길동</th>\n",
       "      <td>20</td>\n",
       "      <td>서울</td>\n",
       "    </tr>\n",
       "    <tr>\n",
       "      <th>사람2</th>\n",
       "      <td>25</td>\n",
       "      <td>대전</td>\n",
       "    </tr>\n",
       "    <tr>\n",
       "      <th>사람3</th>\n",
       "      <td>30</td>\n",
       "      <td>부산</td>\n",
       "    </tr>\n",
       "    <tr>\n",
       "      <th>사람1</th>\n",
       "      <td>20</td>\n",
       "      <td>서울</td>\n",
       "    </tr>\n",
       "    <tr>\n",
       "      <th>홍길순</th>\n",
       "      <td>50</td>\n",
       "      <td>광주</td>\n",
       "    </tr>\n",
       "  </tbody>\n",
       "</table>\n",
       "</div>"
      ],
      "text/plain": [
       "     나이  도시\n",
       "홍길동  20  서울\n",
       "사람2  25  대전\n",
       "사람3  30  부산\n",
       "사람1  20  서울\n",
       "홍길순  50  광주"
      ]
     },
     "execution_count": 116,
     "metadata": {},
     "output_type": "execute_result"
    }
   ],
   "source": [
    "df10"
   ]
  },
  {
   "cell_type": "code",
   "execution_count": 118,
   "id": "66d1592b",
   "metadata": {},
   "outputs": [
    {
     "data": {
      "text/html": [
       "<div>\n",
       "<style scoped>\n",
       "    .dataframe tbody tr th:only-of-type {\n",
       "        vertical-align: middle;\n",
       "    }\n",
       "\n",
       "    .dataframe tbody tr th {\n",
       "        vertical-align: top;\n",
       "    }\n",
       "\n",
       "    .dataframe thead th {\n",
       "        text-align: right;\n",
       "    }\n",
       "</style>\n",
       "<table border=\"1\" class=\"dataframe\">\n",
       "  <thead>\n",
       "    <tr style=\"text-align: right;\">\n",
       "      <th></th>\n",
       "      <th>나이</th>\n",
       "      <th>도시</th>\n",
       "    </tr>\n",
       "  </thead>\n",
       "  <tbody>\n",
       "    <tr>\n",
       "      <th>홍길동</th>\n",
       "      <td>20</td>\n",
       "      <td>서울</td>\n",
       "    </tr>\n",
       "    <tr>\n",
       "      <th>사람1</th>\n",
       "      <td>20</td>\n",
       "      <td>서울</td>\n",
       "    </tr>\n",
       "  </tbody>\n",
       "</table>\n",
       "</div>"
      ],
      "text/plain": [
       "     나이  도시\n",
       "홍길동  20  서울\n",
       "사람1  20  서울"
      ]
     },
     "execution_count": 118,
     "metadata": {},
     "output_type": "execute_result"
    }
   ],
   "source": [
    "df11 = df.loc[['홍길동','사람1'],['나이', '도시']]\n",
    "df11"
   ]
  },
  {
   "cell_type": "code",
   "execution_count": 119,
   "id": "b0044ba9",
   "metadata": {},
   "outputs": [
    {
     "data": {
      "text/html": [
       "<div>\n",
       "<style scoped>\n",
       "    .dataframe tbody tr th:only-of-type {\n",
       "        vertical-align: middle;\n",
       "    }\n",
       "\n",
       "    .dataframe tbody tr th {\n",
       "        vertical-align: top;\n",
       "    }\n",
       "\n",
       "    .dataframe thead th {\n",
       "        text-align: right;\n",
       "    }\n",
       "</style>\n",
       "<table border=\"1\" class=\"dataframe\">\n",
       "  <thead>\n",
       "    <tr style=\"text-align: right;\">\n",
       "      <th></th>\n",
       "      <th>나이</th>\n",
       "      <th>도시</th>\n",
       "    </tr>\n",
       "  </thead>\n",
       "  <tbody>\n",
       "    <tr>\n",
       "      <th>홍길동</th>\n",
       "      <td>20</td>\n",
       "      <td>서울</td>\n",
       "    </tr>\n",
       "    <tr>\n",
       "      <th>사람1</th>\n",
       "      <td>20</td>\n",
       "      <td>서울</td>\n",
       "    </tr>\n",
       "  </tbody>\n",
       "</table>\n",
       "</div>"
      ],
      "text/plain": [
       "     나이  도시\n",
       "홍길동  20  서울\n",
       "사람1  20  서울"
      ]
     },
     "execution_count": 119,
     "metadata": {},
     "output_type": "execute_result"
    }
   ],
   "source": [
    "df12=df.iloc[[0,3],[1,2]]\n",
    "df12"
   ]
  },
  {
   "cell_type": "code",
   "execution_count": null,
   "id": "9cd547e7",
   "metadata": {},
   "outputs": [],
   "source": []
  }
 ],
 "metadata": {
  "kernelspec": {
   "display_name": "Python 3 (ipykernel)",
   "language": "python",
   "name": "python3"
  },
  "language_info": {
   "codemirror_mode": {
    "name": "ipython",
    "version": 3
   },
   "file_extension": ".py",
   "mimetype": "text/x-python",
   "name": "python",
   "nbconvert_exporter": "python",
   "pygments_lexer": "ipython3",
   "version": "3.9.12"
  }
 },
 "nbformat": 4,
 "nbformat_minor": 5
}
