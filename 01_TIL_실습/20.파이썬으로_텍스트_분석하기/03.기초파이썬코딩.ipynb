{
 "cells": [
  {
   "cell_type": "markdown",
   "id": "7d1f8036",
   "metadata": {},
   "source": [
    "##1. 파이썬의 입력과 출력"
   ]
  },
  {
   "cell_type": "code",
   "execution_count": 1,
   "id": "fce3946c",
   "metadata": {},
   "outputs": [
    {
     "name": "stdout",
     "output_type": "stream",
     "text": [
      "Hello world\n"
     ]
    }
   ],
   "source": [
    "print('Hello world')"
   ]
  },
  {
   "cell_type": "code",
   "execution_count": 2,
   "id": "305a417c",
   "metadata": {},
   "outputs": [
    {
     "name": "stdout",
     "output_type": "stream",
     "text": [
      "Python을 시작합니다.\n",
      "안녕하세요?\n"
     ]
    }
   ],
   "source": [
    "print('Python을 시작합니다.\\n안녕하세요?')"
   ]
  },
  {
   "cell_type": "code",
   "execution_count": 3,
   "id": "b18ba4e7",
   "metadata": {},
   "outputs": [
    {
     "name": "stdout",
     "output_type": "stream",
     "text": [
      "3.1415926545\n"
     ]
    }
   ],
   "source": [
    "pi=3.1415926545\n",
    "print(pi)"
   ]
  },
  {
   "cell_type": "code",
   "execution_count": 4,
   "id": "a9f51c09",
   "metadata": {},
   "outputs": [
    {
     "name": "stdout",
     "output_type": "stream",
     "text": [
      "안녕하세요\n"
     ]
    }
   ],
   "source": [
    "hello='안녕하세요'\n",
    "print(hello)"
   ]
  },
  {
   "cell_type": "code",
   "execution_count": 5,
   "id": "babbba9e",
   "metadata": {},
   "outputs": [
    {
     "name": "stdout",
     "output_type": "stream",
     "text": [
      "원주율이 3.1415926545이고, 근사치로는 3.14입니다.\n"
     ]
    }
   ],
   "source": [
    "pi=3.1415926545\n",
    "print('원주율이 {a}이고, 근사치로는 {b:.2f}입니다.'.format(a=pi, b=pi))"
   ]
  },
  {
   "cell_type": "code",
   "execution_count": 6,
   "id": "397f260a",
   "metadata": {},
   "outputs": [
    {
     "name": "stdout",
     "output_type": "stream",
     "text": [
      "학원 이름은 멀티캠퍼스입니다.\n"
     ]
    }
   ],
   "source": [
    "name='멀티캠퍼스'\n",
    "print('학원 이름은 {}입니다.'.format(name))"
   ]
  },
  {
   "cell_type": "markdown",
   "id": "46d2764c",
   "metadata": {},
   "source": [
    "## 2. 데이터의 유형과 처리"
   ]
  },
  {
   "cell_type": "code",
   "execution_count": 31,
   "id": "6a8f4646",
   "metadata": {},
   "outputs": [],
   "source": [
    "# 숫자"
   ]
  },
  {
   "cell_type": "code",
   "execution_count": 7,
   "id": "d91cdd1c",
   "metadata": {},
   "outputs": [
    {
     "data": {
      "text/plain": [
       "int"
      ]
     },
     "execution_count": 7,
     "metadata": {},
     "output_type": "execute_result"
    }
   ],
   "source": [
    "type(10)"
   ]
  },
  {
   "cell_type": "code",
   "execution_count": 8,
   "id": "70b8a3c3",
   "metadata": {},
   "outputs": [
    {
     "data": {
      "text/plain": [
       "float"
      ]
     },
     "execution_count": 8,
     "metadata": {},
     "output_type": "execute_result"
    }
   ],
   "source": [
    "type(3.14)"
   ]
  },
  {
   "cell_type": "code",
   "execution_count": 10,
   "id": "d92e874b",
   "metadata": {},
   "outputs": [
    {
     "data": {
      "text/plain": [
       "complex"
      ]
     },
     "execution_count": 10,
     "metadata": {},
     "output_type": "execute_result"
    }
   ],
   "source": [
    "type(7+5j)"
   ]
  },
  {
   "cell_type": "code",
   "execution_count": null,
   "id": "3545bad6",
   "metadata": {},
   "outputs": [],
   "source": [
    "# 문자열"
   ]
  },
  {
   "cell_type": "code",
   "execution_count": 11,
   "id": "7798e7f7",
   "metadata": {},
   "outputs": [
    {
     "name": "stdout",
     "output_type": "stream",
     "text": [
      "Lifeistooshort\n",
      "Life is too short\n"
     ]
    }
   ],
   "source": [
    "c3='Life'\n",
    "c4='is'\n",
    "c5='too'\n",
    "c6='short'\n",
    "c7=c3+c4+c5+c6\n",
    "c8=c3+' '+c4+' '+c5+' '+c6\n",
    "print(c7)\n",
    "print(c8)"
   ]
  },
  {
   "cell_type": "code",
   "execution_count": 14,
   "id": "e5be14af",
   "metadata": {},
   "outputs": [
    {
     "name": "stdout",
     "output_type": "stream",
     "text": [
      "H\n",
      "O\n",
      "하\n",
      "봅\n"
     ]
    }
   ],
   "source": [
    "c1='HELLO PYTHON'\n",
    "c2='안녕하세요 파이썬씨? 우리 잘 해봅시다'\n",
    "\n",
    "print(c1[0])\n",
    "print(c1[-2])\n",
    "print(c2[2])\n",
    "print(c2[-3])"
   ]
  },
  {
   "cell_type": "code",
   "execution_count": 15,
   "id": "272bd544",
   "metadata": {},
   "outputs": [
    {
     "name": "stdout",
     "output_type": "stream",
     "text": [
      "은\n",
      "파이썬\n",
      "어서와 파이\n",
      "도 처음이야\n"
     ]
    }
   ],
   "source": [
    "c2='어서와 파이썬은 처음이지? 나도 처음이야'\n",
    "\n",
    "print(c2[7])\n",
    "print(c2[4:7])\n",
    "print(c2[:6])\n",
    "print(c2[-6:])"
   ]
  },
  {
   "cell_type": "code",
   "execution_count": 16,
   "id": "8e1898b0",
   "metadata": {},
   "outputs": [
    {
     "name": "stdout",
     "output_type": "stream",
     "text": [
      "2\n",
      "4\n"
     ]
    }
   ],
   "source": [
    "print(c2.index('와'))\n",
    "print(c2.find('파'))"
   ]
  },
  {
   "cell_type": "code",
   "execution_count": 18,
   "id": "d9c57b90",
   "metadata": {},
   "outputs": [
    {
     "name": "stdout",
     "output_type": "stream",
     "text": [
      "hello python\n",
      "SHORT\n"
     ]
    }
   ],
   "source": [
    "c1='HELLO PYTHON'\n",
    "c6='short'\n",
    "\n",
    "print(c1.lower())\n",
    "print(c6.upper())"
   ]
  },
  {
   "cell_type": "code",
   "execution_count": 19,
   "id": "788332ab",
   "metadata": {},
   "outputs": [
    {
     "name": "stdout",
     "output_type": "stream",
     "text": [
      "HELLO \n",
      " HELLO\n",
      "HELLO\n"
     ]
    }
   ],
   "source": [
    "c9=' HELLO '\n",
    "print(c9.lstrip())\n",
    "print(c9.rstrip())\n",
    "print(c9.strip())"
   ]
  },
  {
   "cell_type": "code",
   "execution_count": 20,
   "id": "eefb0b64",
   "metadata": {},
   "outputs": [
    {
     "name": "stdout",
     "output_type": "stream",
     "text": [
      "['멀티', '캠퍼스']\n"
     ]
    }
   ],
   "source": [
    "c10='멀티:캠퍼스'\n",
    "print(c10.split(':'))"
   ]
  },
  {
   "cell_type": "code",
   "execution_count": null,
   "id": "eee06a51",
   "metadata": {},
   "outputs": [],
   "source": [
    "# 목록(list)과 튜플(tuple)"
   ]
  },
  {
   "cell_type": "code",
   "execution_count": 21,
   "id": "68e13a64",
   "metadata": {},
   "outputs": [
    {
     "name": "stdout",
     "output_type": "stream",
     "text": [
      "1\n",
      "6\n",
      "['Life', 'Python']\n",
      "Life\n"
     ]
    }
   ],
   "source": [
    "a1 = [1,2,3,4]\n",
    "a2 = ['Life','is','too','short']\n",
    "a3=[1,2,'Python']\n",
    "a4=[1,2,['Life','Python']]\n",
    "\n",
    "print(a1[0])\n",
    "print(a1[1]+a1[3])\n",
    "print(a4[-1])\n",
    "print(a4[-1][0])"
   ]
  },
  {
   "cell_type": "code",
   "execution_count": 22,
   "id": "e9b364ee",
   "metadata": {},
   "outputs": [
    {
     "name": "stdout",
     "output_type": "stream",
     "text": [
      "[1, 2, 3, 4, 4, 5, 6, 7]\n",
      "[1, 2, 3, 4, 1, 2, 3, 4, 1, 2, 3, 4]\n"
     ]
    }
   ],
   "source": [
    "a1 = [1,2,3,4]\n",
    "a2 = [4,5,6,7]\n",
    "print(a1+a2)\n",
    "print(a1*3)"
   ]
  },
  {
   "cell_type": "code",
   "execution_count": 24,
   "id": "824b3801",
   "metadata": {},
   "outputs": [
    {
     "name": "stdout",
     "output_type": "stream",
     "text": [
      "['a', 'b', 'c', 'd', 'e', 'f', 'g']\n"
     ]
    }
   ],
   "source": [
    "a7=['a','b','c','d','e','f']\n",
    "a7.append('g')\n",
    "print(a7)"
   ]
  },
  {
   "cell_type": "code",
   "execution_count": 25,
   "id": "6a9b1845",
   "metadata": {},
   "outputs": [
    {
     "name": "stdout",
     "output_type": "stream",
     "text": [
      "[1, 3, 9, 2, 4, 5, 7, 8, 10, 6]\n"
     ]
    }
   ],
   "source": [
    "a8=[1,3,2,4,5,7,8,10,6]\n",
    "a8.insert(2,9)\n",
    "print(a8)"
   ]
  },
  {
   "cell_type": "code",
   "execution_count": 26,
   "id": "5ce644cf",
   "metadata": {},
   "outputs": [
    {
     "name": "stdout",
     "output_type": "stream",
     "text": [
      "[1, 2, 3, 4, 5, 6, 7, 8, 9, 10]\n"
     ]
    }
   ],
   "source": [
    "a10=[1,2,3,4,5]\n",
    "a11=[6,7,8,9,10]\n",
    "a10.extend(a11)\n",
    "print(a10)"
   ]
  },
  {
   "cell_type": "code",
   "execution_count": 27,
   "id": "667dfb2a",
   "metadata": {},
   "outputs": [
    {
     "name": "stdout",
     "output_type": "stream",
     "text": [
      "[1, 2, 3, 4, 5, 6, 7, 8, 9, 10]\n"
     ]
    }
   ],
   "source": [
    "a10=[1,2,3,4,5]\n",
    "a11=[6,7,8,9,10]\n",
    "a10+=a11\n",
    "print(a10)"
   ]
  },
  {
   "cell_type": "code",
   "execution_count": 28,
   "id": "26d5ecbe",
   "metadata": {},
   "outputs": [
    {
     "name": "stdout",
     "output_type": "stream",
     "text": [
      "[1, 2, 4, 3, 5, 6, 7, 8]\n"
     ]
    }
   ],
   "source": [
    "a6=[1,2,4,3,5,7,7,8]\n",
    "a6[5] = 6\n",
    "print(a6)"
   ]
  },
  {
   "cell_type": "code",
   "execution_count": 29,
   "id": "af6abec0",
   "metadata": {},
   "outputs": [
    {
     "name": "stdout",
     "output_type": "stream",
     "text": [
      "[1, 2, 3, 4, 5, 7, 7, 8]\n"
     ]
    }
   ],
   "source": [
    "a6=[1,2,4,3,5,7,7,8]\n",
    "a6[2:4] = [3,4]\n",
    "print(a6)"
   ]
  },
  {
   "cell_type": "code",
   "execution_count": 30,
   "id": "2b3fddaf",
   "metadata": {},
   "outputs": [
    {
     "name": "stdout",
     "output_type": "stream",
     "text": [
      "[1, 2, 4, 3, 5, 7, 7]\n"
     ]
    }
   ],
   "source": [
    "a6=[1,2,4,3,5,7,7,8]\n",
    "del a6[7]\n",
    "print(a6)"
   ]
  },
  {
   "cell_type": "code",
   "execution_count": 34,
   "id": "d626e4e0",
   "metadata": {},
   "outputs": [
    {
     "name": "stdout",
     "output_type": "stream",
     "text": [
      "[1, 2, 4, 3, 5, 7, 7]\n",
      "[1, 2, 4, 3, 5, 7]\n"
     ]
    }
   ],
   "source": [
    "a6=[1,2,4,3,5,7,7,8]\n",
    "a6.pop(7)\n",
    "print(a6)\n",
    "a6.pop()\n",
    "print(a6)"
   ]
  },
  {
   "cell_type": "code",
   "execution_count": 35,
   "id": "0ad599e1",
   "metadata": {},
   "outputs": [
    {
     "name": "stdout",
     "output_type": "stream",
     "text": [
      "[1, 2, 3, 4, 5, 6, 7, 8, 10]\n"
     ]
    }
   ],
   "source": [
    "a8=[1,3,2,4,5,7,8,10,6]\n",
    "a8.sort()\n",
    "print(a8)"
   ]
  },
  {
   "cell_type": "code",
   "execution_count": 36,
   "id": "bc3fff1d",
   "metadata": {},
   "outputs": [
    {
     "name": "stdout",
     "output_type": "stream",
     "text": [
      "[10, 8, 7, 6, 5, 4, 3, 2, 1]\n"
     ]
    }
   ],
   "source": [
    "a8=[1,3,2,4,5,7,8,10,6]\n",
    "a8.sort(reverse=True)\n",
    "print(a8)"
   ]
  },
  {
   "cell_type": "code",
   "execution_count": 38,
   "id": "1fb7e8f0",
   "metadata": {},
   "outputs": [
    {
     "name": "stdout",
     "output_type": "stream",
     "text": [
      "[6, 10, 8, 7, 5, 4, 2, 3, 1]\n"
     ]
    }
   ],
   "source": [
    "a8=[1,3,2,4,5,7,8,10,6]\n",
    "a8.reverse()\n",
    "print(a8)"
   ]
  },
  {
   "cell_type": "code",
   "execution_count": 39,
   "id": "4e2904c4",
   "metadata": {},
   "outputs": [
    {
     "name": "stdout",
     "output_type": "stream",
     "text": [
      "<class 'tuple'>\n",
      "<class 'tuple'>\n",
      "<class 'list'>\n"
     ]
    }
   ],
   "source": [
    "t1=(1,2,3,4,5)\n",
    "t2=('a','b','c','d','e')\n",
    "a1=['a','b','c','d','e']\n",
    "\n",
    "print(type(t1))\n",
    "print(type(t2))\n",
    "print(type(a1))"
   ]
  },
  {
   "cell_type": "code",
   "execution_count": null,
   "id": "68d538c9",
   "metadata": {},
   "outputs": [],
   "source": [
    "# 사전(dictionary)"
   ]
  },
  {
   "cell_type": "code",
   "execution_count": 40,
   "id": "fd8fef2b",
   "metadata": {},
   "outputs": [
    {
     "name": "stdout",
     "output_type": "stream",
     "text": [
      "KIM\n"
     ]
    }
   ],
   "source": [
    "d1={'name':'KIM', 'birth':2003, 'height':175}\n",
    "print(d1['name'])"
   ]
  },
  {
   "cell_type": "code",
   "execution_count": 41,
   "id": "e1a905ac",
   "metadata": {},
   "outputs": [
    {
     "name": "stdout",
     "output_type": "stream",
     "text": [
      "{'name': 'KIM', 'birth': 2003, 'height': 175, 'weight': 60}\n"
     ]
    }
   ],
   "source": [
    "d1['weight']=60\n",
    "print(d1)"
   ]
  },
  {
   "cell_type": "code",
   "execution_count": 42,
   "id": "c2084f4d",
   "metadata": {},
   "outputs": [
    {
     "name": "stdout",
     "output_type": "stream",
     "text": [
      "{'name': 'KIM', 'birth': 2003, 'height': 180, 'weight': 60}\n"
     ]
    }
   ],
   "source": [
    "d1['height']=180\n",
    "print(d1)"
   ]
  },
  {
   "cell_type": "code",
   "execution_count": 43,
   "id": "f4763b15",
   "metadata": {},
   "outputs": [
    {
     "name": "stdout",
     "output_type": "stream",
     "text": [
      "{'birth': 2003, 'height': 180, 'weight': 60}\n"
     ]
    }
   ],
   "source": [
    "del d1['name']\n",
    "print(d1)"
   ]
  },
  {
   "cell_type": "code",
   "execution_count": 44,
   "id": "0e9c2144",
   "metadata": {},
   "outputs": [
    {
     "name": "stdout",
     "output_type": "stream",
     "text": [
      "['birth', 'height', 'weight']\n"
     ]
    }
   ],
   "source": [
    "d1key=list(d1.keys())\n",
    "print(d1key)"
   ]
  },
  {
   "cell_type": "code",
   "execution_count": 45,
   "id": "b0296dcf",
   "metadata": {},
   "outputs": [
    {
     "name": "stdout",
     "output_type": "stream",
     "text": [
      "[2003, 180, 60]\n"
     ]
    }
   ],
   "source": [
    "d1value=list(d1.values())\n",
    "print(d1value)"
   ]
  },
  {
   "cell_type": "code",
   "execution_count": 46,
   "id": "b9e6cd44",
   "metadata": {},
   "outputs": [
    {
     "name": "stdout",
     "output_type": "stream",
     "text": [
      "False\n",
      "True\n"
     ]
    }
   ],
   "source": [
    "print('number' in d1)\n",
    "print('weight' in d1)"
   ]
  },
  {
   "cell_type": "code",
   "execution_count": null,
   "id": "5a77c13f",
   "metadata": {},
   "outputs": [],
   "source": [
    "# 다차원 배열(ndarray)"
   ]
  },
  {
   "cell_type": "code",
   "execution_count": 47,
   "id": "d25e5fd0",
   "metadata": {},
   "outputs": [],
   "source": [
    "import numpy as np"
   ]
  },
  {
   "cell_type": "code",
   "execution_count": 48,
   "id": "4fc03039",
   "metadata": {},
   "outputs": [
    {
     "name": "stdout",
     "output_type": "stream",
     "text": [
      "[1 2 3 4]\n"
     ]
    }
   ],
   "source": [
    "v1=np.array([1,2,3,4])\n",
    "print(v1)"
   ]
  },
  {
   "cell_type": "code",
   "execution_count": 49,
   "id": "6c9d25fa",
   "metadata": {},
   "outputs": [
    {
     "name": "stdout",
     "output_type": "stream",
     "text": [
      "[0 1 2 3 4]\n"
     ]
    }
   ],
   "source": [
    "v1=np.arange(5)\n",
    "print(v1)"
   ]
  },
  {
   "cell_type": "code",
   "execution_count": 51,
   "id": "ee4056f2",
   "metadata": {},
   "outputs": [
    {
     "name": "stdout",
     "output_type": "stream",
     "text": [
      "[1 3 5 7 9]\n"
     ]
    }
   ],
   "source": [
    "v4=np.arange(1,10,2)\n",
    "print(v4)"
   ]
  },
  {
   "cell_type": "code",
   "execution_count": 52,
   "id": "dfe63803",
   "metadata": {},
   "outputs": [
    {
     "name": "stdout",
     "output_type": "stream",
     "text": [
      "[ 2  6 10 14 18]\n"
     ]
    }
   ],
   "source": [
    "v4=np.arange(1,10,2)*2\n",
    "print(v4)"
   ]
  },
  {
   "cell_type": "code",
   "execution_count": 54,
   "id": "b89645ae",
   "metadata": {},
   "outputs": [
    {
     "name": "stdout",
     "output_type": "stream",
     "text": [
      "[  1  27 125 343 729]\n"
     ]
    }
   ],
   "source": [
    "v5=np.arange(1,10,2)**3\n",
    "print(v5)"
   ]
  },
  {
   "cell_type": "code",
   "execution_count": 55,
   "id": "6a81bfd2",
   "metadata": {},
   "outputs": [
    {
     "name": "stdout",
     "output_type": "stream",
     "text": [
      "[3 5 7 9]\n"
     ]
    }
   ],
   "source": [
    "v2=np.arange(3,10,2, dtype=int)\n",
    "print(v2)"
   ]
  },
  {
   "cell_type": "code",
   "execution_count": 56,
   "id": "7940f08c",
   "metadata": {},
   "outputs": [
    {
     "name": "stdout",
     "output_type": "stream",
     "text": [
      "[3 5 7 9]\n"
     ]
    }
   ],
   "source": [
    "v2=np.arange(3,10,2)\n",
    "print(v2)"
   ]
  },
  {
   "cell_type": "code",
   "execution_count": 57,
   "id": "fe9d0a5d",
   "metadata": {},
   "outputs": [
    {
     "name": "stdout",
     "output_type": "stream",
     "text": [
      "[3.5 5.5 7.5 9.5]\n"
     ]
    }
   ],
   "source": [
    "v3=np.arange(3.5,10,2, dtype=float)\n",
    "print(v3)"
   ]
  },
  {
   "cell_type": "code",
   "execution_count": 58,
   "id": "3e80b0ba",
   "metadata": {},
   "outputs": [
    {
     "name": "stdout",
     "output_type": "stream",
     "text": [
      "[ 0  1  2  3  4  5  6  7  8  9 10 11]\n",
      "[[ 0  1  2  3  4  5]\n",
      " [ 6  7  8  9 10 11]]\n",
      "[[ 0  2  4  6  8 10]\n",
      " [ 1  3  5  7  9 11]]\n"
     ]
    }
   ],
   "source": [
    "v1=np.arange(12)\n",
    "v2=v1.reshape(2,6)\n",
    "v3=v1.reshape(2,6, order='F')\n",
    "print(v1)\n",
    "print(v2)\n",
    "print(v3)"
   ]
  },
  {
   "cell_type": "code",
   "execution_count": 60,
   "id": "d937eec2",
   "metadata": {},
   "outputs": [
    {
     "name": "stdout",
     "output_type": "stream",
     "text": [
      "[[1 2]\n",
      " [3 4]]\n"
     ]
    }
   ],
   "source": [
    "v1=np.arange(1,5).reshape(2,2)\n",
    "print(v1)"
   ]
  },
  {
   "cell_type": "code",
   "execution_count": 61,
   "id": "35f60cc7",
   "metadata": {},
   "outputs": [
    {
     "name": "stdout",
     "output_type": "stream",
     "text": [
      "[[ 1  4]\n",
      " [ 9 16]]\n"
     ]
    }
   ],
   "source": [
    "print(v1*v1)"
   ]
  },
  {
   "cell_type": "code",
   "execution_count": 62,
   "id": "3c9df573",
   "metadata": {},
   "outputs": [
    {
     "data": {
      "text/plain": [
       "array([[1, 2],\n",
       "       [3, 4]])"
      ]
     },
     "execution_count": 62,
     "metadata": {},
     "output_type": "execute_result"
    }
   ],
   "source": [
    "v1"
   ]
  },
  {
   "cell_type": "code",
   "execution_count": 63,
   "id": "ea41bcfc",
   "metadata": {},
   "outputs": [
    {
     "name": "stdout",
     "output_type": "stream",
     "text": [
      "[[ 7 10]\n",
      " [15 22]]\n"
     ]
    }
   ],
   "source": [
    "print(np.dot(v1,v1))"
   ]
  },
  {
   "cell_type": "code",
   "execution_count": 65,
   "id": "4e64f6f5",
   "metadata": {},
   "outputs": [
    {
     "name": "stdout",
     "output_type": "stream",
     "text": [
      "9.5\n",
      "1\n",
      "float64\n",
      "(2, 2)\n"
     ]
    }
   ],
   "source": [
    "v3=np.arange(3.5, 10.5, 2, dtype=float)\n",
    "v6=np.arange(1,5).reshape(2,2)\n",
    "\n",
    "print(np.amax(v3))\n",
    "print(np.amin(v6))\n",
    "print(v3.dtype)\n",
    "print(v6.shape)"
   ]
  },
  {
   "cell_type": "code",
   "execution_count": 67,
   "id": "1dc60f12",
   "metadata": {},
   "outputs": [
    {
     "name": "stdout",
     "output_type": "stream",
     "text": [
      "[[1 2]\n",
      " [3 4]]\n",
      "[[ 7 10]\n",
      " [15 22]]\n"
     ]
    }
   ],
   "source": [
    "m1=np.matrix([[1,2],[3,4]])\n",
    "print(m1)\n",
    "print(m1*m1)"
   ]
  },
  {
   "cell_type": "markdown",
   "id": "7d4d1714",
   "metadata": {},
   "source": [
    "## 3. 제어문"
   ]
  },
  {
   "cell_type": "code",
   "execution_count": null,
   "id": "821dad98",
   "metadata": {},
   "outputs": [],
   "source": [
    "# 조건문(if)"
   ]
  },
  {
   "cell_type": "code",
   "execution_count": 68,
   "id": "148f8fcf",
   "metadata": {},
   "outputs": [
    {
     "name": "stdout",
     "output_type": "stream",
     "text": [
      "자장면\n"
     ]
    }
   ],
   "source": [
    "금액=5000\n",
    "if 금액==5000:\n",
    "    print('자장면')"
   ]
  },
  {
   "cell_type": "code",
   "execution_count": 69,
   "id": "49f47785",
   "metadata": {},
   "outputs": [
    {
     "name": "stdout",
     "output_type": "stream",
     "text": [
      "짬뽕\n"
     ]
    }
   ],
   "source": [
    "금액=6000\n",
    "\n",
    "if 금액==5000:\n",
    "    print('자장면')\n",
    "if 10000 > 금액 > 5000:\n",
    "    print('짬뽕')"
   ]
  },
  {
   "cell_type": "code",
   "execution_count": 70,
   "id": "d7a2f604",
   "metadata": {},
   "outputs": [
    {
     "name": "stdout",
     "output_type": "stream",
     "text": [
      "짬뽕\n"
     ]
    }
   ],
   "source": [
    "if 금액==5000:\n",
    "    print('자장면')\n",
    "elif 10000 > 금액 > 5000:\n",
    "    print('짬뽕')"
   ]
  },
  {
   "cell_type": "code",
   "execution_count": 71,
   "id": "b58c8777",
   "metadata": {},
   "outputs": [
    {
     "name": "stdout",
     "output_type": "stream",
     "text": [
      "죄송해요\n"
     ]
    }
   ],
   "source": [
    "금액=4000\n",
    "\n",
    "if 금액==5000:\n",
    "    print('자장면')\n",
    "elif 10000 > 금액 > 5000:\n",
    "    print('짬뽕')\n",
    "else:\n",
    "    print('죄송해요')"
   ]
  },
  {
   "cell_type": "code",
   "execution_count": 72,
   "id": "8ea6e98f",
   "metadata": {},
   "outputs": [
    {
     "name": "stdout",
     "output_type": "stream",
     "text": [
      "자장면 이요.\n",
      "짬뽕 이요.\n"
     ]
    }
   ],
   "source": [
    "음식메뉴=['자장면','짬뽕']\n",
    "\n",
    "if '자장면' in 음식메뉴:\n",
    "    print('자장면 이요.')\n",
    "    \n",
    "if '짬뽕' in 음식메뉴:\n",
    "    print('짬뽕 이요.')\n",
    "else:\n",
    "    print('오늘 굶으세요')"
   ]
  },
  {
   "cell_type": "code",
   "execution_count": 73,
   "id": "766c51de",
   "metadata": {},
   "outputs": [
    {
     "name": "stdout",
     "output_type": "stream",
     "text": [
      "자장면 이요.\n"
     ]
    }
   ],
   "source": [
    "if '자장면' in 음식메뉴:\n",
    "    print('자장면 이요.')    \n",
    "elif '짬뽕' in 음식메뉴:\n",
    "    print('짬뽕 이요.')\n",
    "else:\n",
    "    print('오늘 굶으세요')"
   ]
  },
  {
   "cell_type": "code",
   "execution_count": 75,
   "id": "9f8f62be",
   "metadata": {},
   "outputs": [
    {
     "name": "stdout",
     "output_type": "stream",
     "text": [
      "['짬뽕']\n"
     ]
    }
   ],
   "source": [
    "del 음식메뉴[0]\n",
    "print(음식메뉴)"
   ]
  },
  {
   "cell_type": "code",
   "execution_count": 76,
   "id": "1727f13f",
   "metadata": {},
   "outputs": [
    {
     "name": "stdout",
     "output_type": "stream",
     "text": [
      "짬뽕 이요.\n"
     ]
    }
   ],
   "source": [
    "if '자장면' in 음식메뉴:\n",
    "    print('자장면 이요.')    \n",
    "elif '짬뽕' in 음식메뉴:\n",
    "    print('짬뽕 이요.')\n",
    "else:\n",
    "    print('오늘 굶으세요')"
   ]
  },
  {
   "cell_type": "code",
   "execution_count": 77,
   "id": "fb6d4583",
   "metadata": {},
   "outputs": [
    {
     "name": "stdout",
     "output_type": "stream",
     "text": [
      "[]\n"
     ]
    }
   ],
   "source": [
    "del 음식메뉴[0]\n",
    "print(음식메뉴)"
   ]
  },
  {
   "cell_type": "code",
   "execution_count": 78,
   "id": "f542a78f",
   "metadata": {},
   "outputs": [
    {
     "name": "stdout",
     "output_type": "stream",
     "text": [
      "오늘 굶으세요\n"
     ]
    }
   ],
   "source": [
    "if '자장면' in 음식메뉴:\n",
    "    print('자장면 이요.')    \n",
    "elif '짬뽕' in 음식메뉴:\n",
    "    print('짬뽕 이요.')\n",
    "else:\n",
    "    print('오늘 굶으세요')"
   ]
  },
  {
   "cell_type": "code",
   "execution_count": 81,
   "id": "8e9d3879",
   "metadata": {},
   "outputs": [
    {
     "name": "stdout",
     "output_type": "stream",
     "text": [
      "['군만두']\n"
     ]
    }
   ],
   "source": [
    "음식메뉴.append('군만두')\n",
    "print(음식메뉴)"
   ]
  },
  {
   "cell_type": "code",
   "execution_count": 82,
   "id": "bbe563e3",
   "metadata": {},
   "outputs": [
    {
     "name": "stdout",
     "output_type": "stream",
     "text": [
      "오늘 굶으세요\n"
     ]
    }
   ],
   "source": [
    "if '자장면' in 음식메뉴:\n",
    "    print('자장면 이요.')    \n",
    "elif '짬뽕' in 음식메뉴:\n",
    "    print('짬뽕 이요.')\n",
    "else:\n",
    "    print('오늘 굶으세요')"
   ]
  },
  {
   "cell_type": "code",
   "execution_count": 83,
   "id": "a15a3cad",
   "metadata": {},
   "outputs": [],
   "source": [
    "# 반복문(for)"
   ]
  },
  {
   "cell_type": "code",
   "execution_count": 84,
   "id": "aa3a7843",
   "metadata": {},
   "outputs": [
    {
     "name": "stdout",
     "output_type": "stream",
     "text": [
      "자장면\n",
      "짬뽕\n",
      "군만두\n"
     ]
    }
   ],
   "source": [
    "for i in ['자장면','짬뽕', '군만두']:\n",
    "    print(i)"
   ]
  },
  {
   "cell_type": "code",
   "execution_count": 85,
   "id": "5879ff54",
   "metadata": {},
   "outputs": [
    {
     "name": "stdout",
     "output_type": "stream",
     "text": [
      "자장면\n",
      "짬뽕\n",
      "군만두\n"
     ]
    }
   ],
   "source": [
    "음식메뉴 = ['자장면','짬뽕', '군만두']\n",
    "for i in 음식메뉴:\n",
    "    print(i)"
   ]
  },
  {
   "cell_type": "code",
   "execution_count": 86,
   "id": "24bb5485",
   "metadata": {},
   "outputs": [
    {
     "name": "stdout",
     "output_type": "stream",
     "text": [
      "2+1=2 2+2=4 2+3=6 2+4=8 \n",
      "3+1=3 3+2=6 3+3=9 3+4=12 \n",
      "4+1=4 4+2=8 4+3=12 4+4=16 \n",
      "5+1=5 5+2=10 5+3=15 5+4=20 \n"
     ]
    }
   ],
   "source": [
    "for i in range(2,6):\n",
    "    for j in range(1,5):\n",
    "        print('{}+{}={}'.format(i,j,i*j), end=' ')\n",
    "    print(\"\")"
   ]
  },
  {
   "cell_type": "code",
   "execution_count": 87,
   "id": "9c744405",
   "metadata": {},
   "outputs": [
    {
     "name": "stdout",
     "output_type": "stream",
     "text": [
      "짬뽕\n",
      "군만두\n",
      "탕수육\n",
      "팔보채\n"
     ]
    }
   ],
   "source": [
    "중국음식 = ['자장면','짬뽕', '군만두','탕수육','팔보채']\n",
    "for 메뉴 in 중국음식:\n",
    "    if '자장면' in 메뉴:\n",
    "        continue\n",
    "    print(메뉴)"
   ]
  },
  {
   "cell_type": "code",
   "execution_count": 88,
   "id": "2e25b10b",
   "metadata": {},
   "outputs": [
    {
     "name": "stdout",
     "output_type": "stream",
     "text": [
      "자장면\n",
      "짬뽕\n",
      "군만두\n",
      "탕수육\n",
      "팔보채\n"
     ]
    }
   ],
   "source": [
    "for 메뉴 in 중국음식:\n",
    "    if '자장면' in 메뉴:\n",
    "        pass\n",
    "    print(메뉴)"
   ]
  }
 ],
 "metadata": {
  "kernelspec": {
   "display_name": "Python 3 (ipykernel)",
   "language": "python",
   "name": "python3"
  },
  "language_info": {
   "codemirror_mode": {
    "name": "ipython",
    "version": 3
   },
   "file_extension": ".py",
   "mimetype": "text/x-python",
   "name": "python",
   "nbconvert_exporter": "python",
   "pygments_lexer": "ipython3",
   "version": "3.9.12"
  }
 },
 "nbformat": 4,
 "nbformat_minor": 5
}
