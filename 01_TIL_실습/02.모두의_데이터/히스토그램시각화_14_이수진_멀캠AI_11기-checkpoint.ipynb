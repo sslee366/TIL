{
 "cells": [
  {
   "cell_type": "code",
   "execution_count": null,
   "id": "0d0e98d3",
   "metadata": {},
   "outputs": [],
   "source": [
    "#멀캠11기 Report #2 22/5/8 \n",
    "#14. 이수진\n",
    "# 내 생애 동안 1월의 최저기온 & 8월의 최고기온을 히스토그램으로 시각화하기"
   ]
  },
  {
   "cell_type": "code",
   "execution_count": 1,
   "id": "419f68e5",
   "metadata": {},
   "outputs": [
    {
     "data": {
      "image/png": "[encoded data removed]",
      "text/plain": [
       "<Figure size 432x288 with 1 Axes>"
      ]
     },
     "metadata": {
      "needs_background": "light"
     },
     "output_type": "display_data"
    }
   ],
   "source": [
    "import csv\n",
    "import matplotlib.pyplot as plt\n",
    "\n",
    "f = open('seoul.csv','r', encoding='cp949')\n",
    "data = csv.reader(f)\n",
    "header = next(data)\n",
    "\n",
    "jan =  []\n",
    "aug = []\n",
    "cnt = 0\n",
    "\n",
    "for row in data:\n",
    "    month = row[0].split('-')[1]\n",
    "    if row[-1] != \"\":\n",
    "        if month == '01':\n",
    "            jan.append(float(row[-2]))   # 가장 추운날(최저기온)\n",
    "        if month  == '08':\n",
    "            aug.append(float(row[-1]))   # 가장 더운날(최고기온)\n",
    "\n",
    "plt.title('VIsualization of temp for my Life')\n",
    "plt.hist(jan, bins = 100, color = 'r', label = 'Jan')\n",
    "plt.hist(aug, bins = 100, color = 'b', label = 'Aug')\n",
    "plt.legend()\n",
    "plt.show()\n",
    "\n",
    "f.close()"
   ]
  },
  {
   "cell_type": "code",
   "execution_count": null,
   "id": "0e984cad",
   "metadata": {},
   "outputs": [],
   "source": []
  }
 ],
 "metadata": {
  "kernelspec": {
   "display_name": "Python 3 (ipykernel)",
   "language": "python",
   "name": "python3"
  },
  "language_info": {
   "codemirror_mode": {
    "name": "ipython",
    "version": 3
   },
   "file_extension": ".py",
   "mimetype": "text/x-python",
   "name": "python",
   "nbconvert_exporter": "python",
   "pygments_lexer": "ipython3",
   "version": "3.9.12"
  }
 },
 "nbformat": 4,
 "nbformat_minor": 5
}
